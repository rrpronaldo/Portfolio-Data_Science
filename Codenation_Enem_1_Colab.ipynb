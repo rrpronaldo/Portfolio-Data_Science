{
  "nbformat": 4,
  "nbformat_minor": 0,
  "metadata": {
    "colab": {
      "name": "Codenation_Enem_1.ipynb",
      "provenance": [],
      "collapsed_sections": []
    },
    "kernelspec": {
      "name": "python3",
      "display_name": "Python 3"
    }
  },
  "cells": [
    {
      "cell_type": "markdown",
      "metadata": {
        "id": "dqMWBTFBXfCg",
        "colab_type": "text"
      },
      "source": [
        "# Notas de matemática do ENEM 2016\n",
        "\n",
        "Business Problem: Este [desafio](https://www.codenation.dev/aceleradev/ds-online-1/challenge/enem-ps) faz parte do programa de aceleração da [Codenation](https://www.codenation.dev/). O objetivo é criar um modelo para prever a nota da prova de matemática de quem participou do ENEM 2016.\n",
        "\n",
        "Os datasets estão disponíveis na página do [desafio](https://www.codenation.dev/aceleradev/ds-online-1/challenge/enem-ps). Eu utilizei o Google Colab. Assim, fiz o upload dos arquivos no Drive e acessei via PyDrive, conforme as próximas células.\n"
      ]
    },
    {
      "cell_type": "code",
      "metadata": {
        "id": "vKUljnbTXdgn",
        "colab_type": "code",
        "colab": {
          "base_uri": "https://localhost:8080/",
          "height": 255
        },
        "outputId": "66dd34e4-e1b7-4364-f3a5-3d7dcab3b00f"
      },
      "source": [
        "!pip install PyDrive"
      ],
      "execution_count": 1,
      "outputs": [
        {
          "output_type": "stream",
          "text": [
            "Requirement already satisfied: PyDrive in /usr/local/lib/python3.6/dist-packages (1.3.1)\n",
            "Requirement already satisfied: oauth2client>=4.0.0 in /usr/local/lib/python3.6/dist-packages (from PyDrive) (4.1.3)\n",
            "Requirement already satisfied: PyYAML>=3.0 in /usr/local/lib/python3.6/dist-packages (from PyDrive) (3.13)\n",
            "Requirement already satisfied: google-api-python-client>=1.2 in /usr/local/lib/python3.6/dist-packages (from PyDrive) (1.7.12)\n",
            "Requirement already satisfied: httplib2>=0.9.1 in /usr/local/lib/python3.6/dist-packages (from oauth2client>=4.0.0->PyDrive) (0.17.2)\n",
            "Requirement already satisfied: pyasn1-modules>=0.0.5 in /usr/local/lib/python3.6/dist-packages (from oauth2client>=4.0.0->PyDrive) (0.2.8)\n",
            "Requirement already satisfied: pyasn1>=0.1.7 in /usr/local/lib/python3.6/dist-packages (from oauth2client>=4.0.0->PyDrive) (0.4.8)\n",
            "Requirement already satisfied: rsa>=3.1.4 in /usr/local/lib/python3.6/dist-packages (from oauth2client>=4.0.0->PyDrive) (4.0)\n",
            "Requirement already satisfied: six>=1.6.1 in /usr/local/lib/python3.6/dist-packages (from oauth2client>=4.0.0->PyDrive) (1.12.0)\n",
            "Requirement already satisfied: google-auth>=1.4.1 in /usr/local/lib/python3.6/dist-packages (from google-api-python-client>=1.2->PyDrive) (1.7.2)\n",
            "Requirement already satisfied: uritemplate<4dev,>=3.0.0 in /usr/local/lib/python3.6/dist-packages (from google-api-python-client>=1.2->PyDrive) (3.0.1)\n",
            "Requirement already satisfied: google-auth-httplib2>=0.0.3 in /usr/local/lib/python3.6/dist-packages (from google-api-python-client>=1.2->PyDrive) (0.0.3)\n",
            "Requirement already satisfied: cachetools<3.2,>=2.0.0 in /usr/local/lib/python3.6/dist-packages (from google-auth>=1.4.1->google-api-python-client>=1.2->PyDrive) (3.1.1)\n",
            "Requirement already satisfied: setuptools>=40.3.0 in /usr/local/lib/python3.6/dist-packages (from google-auth>=1.4.1->google-api-python-client>=1.2->PyDrive) (46.1.3)\n"
          ],
          "name": "stdout"
        }
      ]
    },
    {
      "cell_type": "code",
      "metadata": {
        "id": "seBvehqC0zek",
        "colab_type": "code",
        "colab": {}
      },
      "source": [
        "from pydrive.auth import GoogleAuth\n",
        "from pydrive.drive import GoogleDrive\n",
        "from google.colab import auth\n",
        "from oauth2client.client import GoogleCredentials"
      ],
      "execution_count": 0,
      "outputs": []
    },
    {
      "cell_type": "code",
      "metadata": {
        "id": "fj_10dAe02zt",
        "colab_type": "code",
        "colab": {}
      },
      "source": [
        "auth.authenticate_user()\n",
        "gauth = GoogleAuth()\n",
        "gauth.credentials = GoogleCredentials.get_application_default()\n",
        "drive = GoogleDrive(gauth)"
      ],
      "execution_count": 0,
      "outputs": []
    },
    {
      "cell_type": "code",
      "metadata": {
        "id": "iC4DE-QD0_v0",
        "colab_type": "code",
        "colab": {}
      },
      "source": [
        "downloaded = drive.CreateFile({'id':\"ABC\"})   # replace the id with id of file you want to access\n",
        "downloaded.GetContentFile('test.csv')"
      ],
      "execution_count": 0,
      "outputs": []
    },
    {
      "cell_type": "code",
      "metadata": {
        "id": "LI23HdX31Ns9",
        "colab_type": "code",
        "colab": {}
      },
      "source": [
        "downloaded = drive.CreateFile({'id':\"ABC\"})   # replace the id with id of file you want to access\n",
        "downloaded.GetContentFile('train.csv')"
      ],
      "execution_count": 0,
      "outputs": []
    },
    {
      "cell_type": "code",
      "metadata": {
        "id": "3JUuAip51RuF",
        "colab_type": "code",
        "outputId": "adebece1-cd74-4aa9-c253-75abdbea4c3f",
        "colab": {
          "base_uri": "https://localhost:8080/",
          "height": 51
        }
      },
      "source": [
        "import pandas as pd\n",
        "import numpy as np\n",
        "import seaborn as sns\n",
        "sns.set_style('darkgrid')\n",
        "import matplotlib.pyplot as plt\n",
        "%matplotlib inline\n",
        "\n",
        "pd.set_option('display.max_columns', None)\n",
        "pd.set_option('display.max_rows', None)"
      ],
      "execution_count": 6,
      "outputs": [
        {
          "output_type": "stream",
          "text": [
            "/usr/local/lib/python3.6/dist-packages/statsmodels/tools/_testing.py:19: FutureWarning: pandas.util.testing is deprecated. Use the functions in the public API at pandas.testing instead.\n",
            "  import pandas.util.testing as tm\n"
          ],
          "name": "stderr"
        }
      ]
    },
    {
      "cell_type": "code",
      "metadata": {
        "id": "iOJXnnkb1a6k",
        "colab_type": "code",
        "colab": {}
      },
      "source": [
        "train = pd.read_csv(\"train.csv\")\n",
        "test = pd.read_csv('test.csv')"
      ],
      "execution_count": 0,
      "outputs": []
    },
    {
      "cell_type": "code",
      "metadata": {
        "id": "esveficVZKgN",
        "colab_type": "code",
        "colab": {
          "base_uri": "https://localhost:8080/",
          "height": 34
        },
        "outputId": "47b91fd8-d2ff-4ac2-d782-d962ce9d48ec"
      },
      "source": [
        "print(train.shape, test.shape)"
      ],
      "execution_count": 8,
      "outputs": [
        {
          "output_type": "stream",
          "text": [
            "(13730, 167) (4576, 47)\n"
          ],
          "name": "stdout"
        }
      ]
    },
    {
      "cell_type": "markdown",
      "metadata": {
        "id": "_Q2qB1fAZAqi",
        "colab_type": "text"
      },
      "source": [
        "**Datasets**: O conjunto de treino possui dados de 13730 alunos com 167 variáveis para cada um deles. O conjunto de teste possui 47 variáveis e um total de 4576 alunos.\n",
        "\n",
        "## Análise de dados faltantes (Missing Values)\n",
        "\n",
        "Os dois conjuntos possuem muitos dados faltantes NaN. Como pode ver observado nas próximas células."
      ]
    },
    {
      "cell_type": "code",
      "metadata": {
        "id": "DnVj2U1uY7Uo",
        "colab_type": "code",
        "colab": {}
      },
      "source": [
        "#Função para verificar quais colunas possuem valores nulos\n",
        "def getMissing(data):\n",
        "  total = data.isnull().sum().sort_values(ascending=False)\n",
        "  percent = (data.isnull().sum() / data.isnull().count() * 100).sort_values(ascending=False)\n",
        "  missing_data = pd.concat([total, percent], axis=1, keys=['Total', 'Percent'])\n",
        "  missing_data.sort_values(by='Total', ascending=False, inplace=True)\n",
        "  print(missing_data[missing_data['Total'] > 0])"
      ],
      "execution_count": 0,
      "outputs": []
    },
    {
      "cell_type": "code",
      "metadata": {
        "id": "iFJQYBmeacNu",
        "colab_type": "code",
        "colab": {
          "base_uri": "https://localhost:8080/",
          "height": 782
        },
        "outputId": "a9f053e7-6ef1-4113-f5f5-bd3c1839a404"
      },
      "source": [
        "getMissing(train)"
      ],
      "execution_count": 10,
      "outputs": [
        {
          "output_type": "stream",
          "text": [
            "                             Total    Percent\n",
            "CO_UF_ENTIDADE_CERTIFICACAO  12092  88.069920\n",
            "SG_UF_ENTIDADE_CERTIFICACAO  12092  88.069920\n",
            "NO_ENTIDADE_CERTIFICACAO     12092  88.069920\n",
            "Q041                         10792  78.601602\n",
            "TP_SIT_FUNC_ESC               9448  68.812819\n",
            "TP_LOCALIZACAO_ESC            9448  68.812819\n",
            "TP_DEPENDENCIA_ADM_ESC        9448  68.812819\n",
            "CO_UF_ESC                     9448  68.812819\n",
            "NO_MUNICIPIO_ESC              9448  68.812819\n",
            "CO_ESCOLA                     9448  68.812819\n",
            "TP_ENSINO                     9448  68.812819\n",
            "SG_UF_ESC                     9448  68.812819\n",
            "CO_MUNICIPIO_ESC              9448  68.812819\n",
            "Q033                          7376  53.721777\n",
            "Q032                          7376  53.721777\n",
            "Q031                          7376  53.721777\n",
            "Q028                          7376  53.721777\n",
            "Q029                          7375  53.714494\n",
            "Q030                          7375  53.714494\n",
            "Q027                          7373  53.699927\n",
            "NU_NOTA_COMP3                 3597  26.198106\n",
            "TX_GABARITO_MT                3597  26.198106\n",
            "TX_RESPOSTAS_MT               3597  26.198106\n",
            "TP_STATUS_REDACAO             3597  26.198106\n",
            "NU_NOTA_COMP1                 3597  26.198106\n",
            "NU_NOTA_COMP2                 3597  26.198106\n",
            "TX_RESPOSTAS_LC               3597  26.198106\n",
            "NU_NOTA_MT                    3597  26.198106\n",
            "NU_NOTA_LC                    3597  26.198106\n",
            "NU_NOTA_COMP4                 3597  26.198106\n",
            "NU_NOTA_COMP5                 3597  26.198106\n",
            "NU_NOTA_REDACAO               3597  26.198106\n",
            "TX_GABARITO_LC                3597  26.198106\n",
            "TX_RESPOSTAS_CH               3389  24.683176\n",
            "TX_RESPOSTAS_CN               3389  24.683176\n",
            "TX_GABARITO_CN                3389  24.683176\n",
            "NU_NOTA_CH                    3389  24.683176\n",
            "NU_NOTA_CN                    3389  24.683176\n",
            "TX_GABARITO_CH                3389  24.683176\n",
            "CO_MUNICIPIO_NASCIMENTO        609   4.435543\n",
            "SG_UF_NASCIMENTO               609   4.435543\n",
            "CO_UF_NASCIMENTO               609   4.435543\n",
            "NO_MUNICIPIO_NASCIMENTO        609   4.435543\n",
            "TP_ESTADO_CIVIL                528   3.845594\n"
          ],
          "name": "stdout"
        }
      ]
    },
    {
      "cell_type": "code",
      "metadata": {
        "id": "ueSnRQRDaeDy",
        "colab_type": "code",
        "colab": {
          "base_uri": "https://localhost:8080/",
          "height": 255
        },
        "outputId": "38c33203-4c1b-4d63-a40f-91b5d13f6315"
      },
      "source": [
        "getMissing(test)"
      ],
      "execution_count": 11,
      "outputs": [
        {
          "output_type": "stream",
          "text": [
            "                        Total    Percent\n",
            "TP_ENSINO                3096  67.657343\n",
            "TP_DEPENDENCIA_ADM_ESC   3096  67.657343\n",
            "Q027                     2488  54.370629\n",
            "NU_NOTA_COMP2            1199  26.201923\n",
            "NU_NOTA_COMP5            1199  26.201923\n",
            "NU_NOTA_COMP3            1199  26.201923\n",
            "NU_NOTA_REDACAO          1199  26.201923\n",
            "NU_NOTA_COMP1            1199  26.201923\n",
            "NU_NOTA_LC               1199  26.201923\n",
            "NU_NOTA_COMP4            1199  26.201923\n",
            "TP_STATUS_REDACAO        1199  26.201923\n",
            "NU_NOTA_CH               1134  24.781469\n",
            "NU_NOTA_CN               1134  24.781469\n"
          ],
          "name": "stdout"
        }
      ]
    },
    {
      "cell_type": "markdown",
      "metadata": {
        "id": "uVE77yvFajqt",
        "colab_type": "text"
      },
      "source": [
        "Antes de prosseguir, as seguintes abreviações podem aparecer durante a análise:\n",
        "*   CN: Ciências da Natureza;\n",
        "*   CH: Ciências Humanas;\n",
        "*   LC: Linguagens e códigos;\n",
        "*   MT: Matemática.\n",
        "\n",
        "\n",
        "Em primeira análise, poderia seguir dois caminhos: excluir as linhas com dados faltantes ou inserir esses dados utilizando a média da variável ou moda, por exemplo. A experimentação com esses métodos funcionou razoavelmente, com uma pontuação aproximada de 76% no desafio da Codenation. \n",
        "\n",
        "O erro dessa abordagem foi não verificar porque esses dados estavam faltando, principalmente na variável target NU_NOTA_MT (nota de matemática).\n",
        "\n",
        "Ao analisar o dicionário de microdados, encontrei as variáveis de presença nas provas ('TP_PRESENCA_CN', 'TP_PRESENCA_CH', 'TP_PRESENCA_LC', 'TP_PRESENCA_MT'), e ficou facilmente verificado que os alunos que não compareceram (código 0) ou foram eliminados (código 2) na prova de matemática e linguagens e códigos estavam com notas NaN na variável NU_NOTA_MT. Isso explica que essas provas eram realizadas no mesmo dia e esses alunos deveriam ter as notas zeradas. \n",
        "\n",
        "Dessa forma, apesar dos primeiros métodos terem um score de 76%, as notas de muitos alunos estava completamente errada. Pois mesmo não comparecendo na prova, o modelo de Machine Learning atribuia alguma nota para eles. \n",
        "\n",
        "Então, nas próximas células verifico os alunos faltantes e faço uma limpeza nos dados NaN.\n",
        "\n"
      ]
    },
    {
      "cell_type": "code",
      "metadata": {
        "id": "nYQ7JmnE2Xxz",
        "colab_type": "code",
        "colab": {
          "base_uri": "https://localhost:8080/",
          "height": 142
        },
        "outputId": "9f8a1296-f813-4e79-8fd5-5ca310921079"
      },
      "source": [
        "#Verificar quem não fez a prova\n",
        "train[['TP_PRESENCA_LC', 'TP_PRESENCA_MT']].apply(pd.Series.value_counts)"
      ],
      "execution_count": 13,
      "outputs": [
        {
          "output_type": "execute_result",
          "data": {
            "text/html": [
              "<div>\n",
              "<style scoped>\n",
              "    .dataframe tbody tr th:only-of-type {\n",
              "        vertical-align: middle;\n",
              "    }\n",
              "\n",
              "    .dataframe tbody tr th {\n",
              "        vertical-align: top;\n",
              "    }\n",
              "\n",
              "    .dataframe thead th {\n",
              "        text-align: right;\n",
              "    }\n",
              "</style>\n",
              "<table border=\"1\" class=\"dataframe\">\n",
              "  <thead>\n",
              "    <tr style=\"text-align: right;\">\n",
              "      <th></th>\n",
              "      <th>TP_PRESENCA_LC</th>\n",
              "      <th>TP_PRESENCA_MT</th>\n",
              "    </tr>\n",
              "  </thead>\n",
              "  <tbody>\n",
              "    <tr>\n",
              "      <th>1</th>\n",
              "      <td>10133</td>\n",
              "      <td>10133</td>\n",
              "    </tr>\n",
              "    <tr>\n",
              "      <th>0</th>\n",
              "      <td>3592</td>\n",
              "      <td>3592</td>\n",
              "    </tr>\n",
              "    <tr>\n",
              "      <th>2</th>\n",
              "      <td>5</td>\n",
              "      <td>5</td>\n",
              "    </tr>\n",
              "  </tbody>\n",
              "</table>\n",
              "</div>"
            ],
            "text/plain": [
              "   TP_PRESENCA_LC  TP_PRESENCA_MT\n",
              "1           10133           10133\n",
              "0            3592            3592\n",
              "2               5               5"
            ]
          },
          "metadata": {
            "tags": []
          },
          "execution_count": 13
        }
      ]
    },
    {
      "cell_type": "markdown",
      "metadata": {
        "id": "EdEENCMGvA1Y",
        "colab_type": "text"
      },
      "source": [
        "Assim, alunos que terão notas zeradas (serão excluídos) em LC e MT:\n",
        "\n",
        "*   3592 não fizeram a prova LC e MT;\n",
        "*   5 foram desclassificados."
      ]
    },
    {
      "cell_type": "code",
      "metadata": {
        "id": "Ceh_rZct4b8K",
        "colab_type": "code",
        "colab": {}
      },
      "source": [
        "#Excluir alunos que não fizeram a prova MT ou foram desclassificados\n",
        "train = train.loc[train['TP_PRESENCA_MT'] == 1]"
      ],
      "execution_count": 0,
      "outputs": []
    },
    {
      "cell_type": "code",
      "metadata": {
        "id": "rysieNKl4EkK",
        "colab_type": "code",
        "colab": {
          "base_uri": "https://localhost:8080/",
          "height": 142
        },
        "outputId": "f9952a50-58af-4b82-daf0-82ab2d82067a"
      },
      "source": [
        "#Verificar quem não fez a prova\n",
        "train[['TP_PRESENCA_CN', 'TP_PRESENCA_CH', 'TP_PRESENCA_LC', 'TP_PRESENCA_MT']].apply(pd.Series.value_counts)"
      ],
      "execution_count": 15,
      "outputs": [
        {
          "output_type": "execute_result",
          "data": {
            "text/html": [
              "<div>\n",
              "<style scoped>\n",
              "    .dataframe tbody tr th:only-of-type {\n",
              "        vertical-align: middle;\n",
              "    }\n",
              "\n",
              "    .dataframe tbody tr th {\n",
              "        vertical-align: top;\n",
              "    }\n",
              "\n",
              "    .dataframe thead th {\n",
              "        text-align: right;\n",
              "    }\n",
              "</style>\n",
              "<table border=\"1\" class=\"dataframe\">\n",
              "  <thead>\n",
              "    <tr style=\"text-align: right;\">\n",
              "      <th></th>\n",
              "      <th>TP_PRESENCA_CN</th>\n",
              "      <th>TP_PRESENCA_CH</th>\n",
              "      <th>TP_PRESENCA_LC</th>\n",
              "      <th>TP_PRESENCA_MT</th>\n",
              "    </tr>\n",
              "  </thead>\n",
              "  <tbody>\n",
              "    <tr>\n",
              "      <th>0</th>\n",
              "      <td>32</td>\n",
              "      <td>32</td>\n",
              "      <td>NaN</td>\n",
              "      <td>NaN</td>\n",
              "    </tr>\n",
              "    <tr>\n",
              "      <th>1</th>\n",
              "      <td>10097</td>\n",
              "      <td>10097</td>\n",
              "      <td>10133.0</td>\n",
              "      <td>10133.0</td>\n",
              "    </tr>\n",
              "    <tr>\n",
              "      <th>2</th>\n",
              "      <td>4</td>\n",
              "      <td>4</td>\n",
              "      <td>NaN</td>\n",
              "      <td>NaN</td>\n",
              "    </tr>\n",
              "  </tbody>\n",
              "</table>\n",
              "</div>"
            ],
            "text/plain": [
              "   TP_PRESENCA_CN  TP_PRESENCA_CH  TP_PRESENCA_LC  TP_PRESENCA_MT\n",
              "0              32              32             NaN             NaN\n",
              "1           10097           10097         10133.0         10133.0\n",
              "2               4               4             NaN             NaN"
            ]
          },
          "metadata": {
            "tags": []
          },
          "execution_count": 15
        }
      ]
    },
    {
      "cell_type": "markdown",
      "metadata": {
        "id": "w-GvuDU24opJ",
        "colab_type": "text"
      },
      "source": [
        "\n",
        "\n",
        "*   32 alunos fizeram prova de MT e LC e não fizeram CN e CH;\n",
        "*   4 alunos foram desclassificados da prova CN e CH e não foram desclassificados da prova MT e LC.\n",
        "\n"
      ]
    },
    {
      "cell_type": "code",
      "metadata": {
        "id": "YNwa9ncN4FI_",
        "colab_type": "code",
        "colab": {}
      },
      "source": [
        "#Atribuir nota zero para os alunos que não compareceram ou foram desclassificados\n",
        "train['NU_NOTA_CN'].fillna(0, inplace=True)\n",
        "train['NU_NOTA_CH'].fillna(0, inplace=True)"
      ],
      "execution_count": 0,
      "outputs": []
    },
    {
      "cell_type": "markdown",
      "metadata": {
        "id": "Y38LdelLx7Hp",
        "colab_type": "text"
      },
      "source": [
        "As colunas dos conjuntos de treino e teste são diferentes. Com isso, vou manter apenas as colunas que existem em ambos os conjuntos."
      ]
    },
    {
      "cell_type": "code",
      "metadata": {
        "id": "TE1uo06mRoxf",
        "colab_type": "code",
        "colab": {}
      },
      "source": [
        "test_col = test.columns\n",
        "train_col = train.columns\n",
        "col_dif = list(set(train_col) - set(test_col))\n",
        "col_dif.remove('NU_NOTA_MT')"
      ],
      "execution_count": 0,
      "outputs": []
    },
    {
      "cell_type": "code",
      "metadata": {
        "id": "eXD9EuCMRtrM",
        "colab_type": "code",
        "colab": {}
      },
      "source": [
        "#Remover as colunas do conjunto de treino que não existem no conjunto de teste\n",
        "train.drop(col_dif, axis=1, inplace=True)"
      ],
      "execution_count": 0,
      "outputs": []
    },
    {
      "cell_type": "markdown",
      "metadata": {
        "id": "IrV3nsJS0JFs",
        "colab_type": "text"
      },
      "source": [
        "Ainda restaram algumas colunas com valores nulos. Como ultrapassam 50% dos dados, essas colunas serão removidas"
      ]
    },
    {
      "cell_type": "code",
      "metadata": {
        "id": "liHtynqYVx53",
        "colab_type": "code",
        "colab": {
          "base_uri": "https://localhost:8080/",
          "height": 85
        },
        "outputId": "3a54c389-321d-404e-91b3-f52dd01a6253"
      },
      "source": [
        "getMissing(train)"
      ],
      "execution_count": 23,
      "outputs": [
        {
          "output_type": "stream",
          "text": [
            "                        Total    Percent\n",
            "TP_DEPENDENCIA_ADM_ESC   6494  64.087634\n",
            "TP_ENSINO                6494  64.087634\n",
            "Q027                     6126  60.455936\n"
          ],
          "name": "stdout"
        }
      ]
    },
    {
      "cell_type": "code",
      "metadata": {
        "id": "rkCM5f-RxNy6",
        "colab_type": "code",
        "colab": {}
      },
      "source": [
        "#Deletar colunas com mais de 50% de nulos\n",
        "all_data_na = (train.isnull().sum() / len(train)) * 100\n",
        "train.drop(all_data_na[all_data_na > 50].index, axis=1, inplace=True)"
      ],
      "execution_count": 0,
      "outputs": []
    },
    {
      "cell_type": "code",
      "metadata": {
        "id": "DknNWLUCWAbc",
        "colab_type": "code",
        "colab": {
          "base_uri": "https://localhost:8080/",
          "height": 68
        },
        "outputId": "057335e1-1ddb-407f-c1d6-2e29cf8ae40b"
      },
      "source": [
        "getMissing(train)"
      ],
      "execution_count": 25,
      "outputs": [
        {
          "output_type": "stream",
          "text": [
            "Empty DataFrame\n",
            "Columns: [Total, Percent]\n",
            "Index: []\n"
          ],
          "name": "stdout"
        }
      ]
    },
    {
      "cell_type": "code",
      "metadata": {
        "id": "PfO-2AShPnc1",
        "colab_type": "code",
        "colab": {}
      },
      "source": [
        "#Deletar as mesmas colunas no conjunto de teste\n",
        "test.drop(all_data_na[all_data_na > 50].index, axis=1, inplace=True)"
      ],
      "execution_count": 0,
      "outputs": []
    },
    {
      "cell_type": "code",
      "metadata": {
        "id": "7ydA9860SVhF",
        "colab_type": "code",
        "colab": {
          "base_uri": "https://localhost:8080/",
          "height": 34
        },
        "outputId": "a6420526-d4be-4c59-a87e-15945e6c638b"
      },
      "source": [
        "print(train.shape, test.shape)"
      ],
      "execution_count": 27,
      "outputs": [
        {
          "output_type": "stream",
          "text": [
            "(10133, 45) (4576, 44)\n"
          ],
          "name": "stdout"
        }
      ]
    },
    {
      "cell_type": "code",
      "metadata": {
        "id": "JASDcRFlPH7G",
        "colab_type": "code",
        "colab": {}
      },
      "source": [
        ""
      ],
      "execution_count": 0,
      "outputs": []
    },
    {
      "cell_type": "markdown",
      "metadata": {
        "id": "kzwDzIEUP_e1",
        "colab_type": "text"
      },
      "source": [
        "## Análise de Dados Faltantes (Missing Values) - Conjunto de teste\n",
        "\n",
        "Aqui seguirei a mesma ideia do conjunto de treino. Verificar quem faltou a prova e atribuir nota 0. "
      ]
    },
    {
      "cell_type": "code",
      "metadata": {
        "id": "T2iDbCfRVmKW",
        "colab_type": "code",
        "colab": {
          "base_uri": "https://localhost:8080/",
          "height": 204
        },
        "outputId": "52a7403a-da33-482d-e65c-5a00ce1198c6"
      },
      "source": [
        "getMissing(test)"
      ],
      "execution_count": 28,
      "outputs": [
        {
          "output_type": "stream",
          "text": [
            "                   Total    Percent\n",
            "TP_STATUS_REDACAO   1199  26.201923\n",
            "NU_NOTA_LC          1199  26.201923\n",
            "NU_NOTA_COMP1       1199  26.201923\n",
            "NU_NOTA_COMP2       1199  26.201923\n",
            "NU_NOTA_COMP3       1199  26.201923\n",
            "NU_NOTA_COMP5       1199  26.201923\n",
            "NU_NOTA_COMP4       1199  26.201923\n",
            "NU_NOTA_REDACAO     1199  26.201923\n",
            "NU_NOTA_CN          1134  24.781469\n",
            "NU_NOTA_CH          1134  24.781469\n"
          ],
          "name": "stdout"
        }
      ]
    },
    {
      "cell_type": "code",
      "metadata": {
        "id": "S0Q3Rp3AxN1u",
        "colab_type": "code",
        "colab": {
          "base_uri": "https://localhost:8080/",
          "height": 111
        },
        "outputId": "5e9b734e-c961-4c2e-9748-b951ee509fea"
      },
      "source": [
        "#Verificar quem não fez a prova\n",
        "test[['TP_PRESENCA_CN', 'TP_PRESENCA_CH']].apply(pd.Series.value_counts)"
      ],
      "execution_count": 29,
      "outputs": [
        {
          "output_type": "execute_result",
          "data": {
            "text/html": [
              "<div>\n",
              "<style scoped>\n",
              "    .dataframe tbody tr th:only-of-type {\n",
              "        vertical-align: middle;\n",
              "    }\n",
              "\n",
              "    .dataframe tbody tr th {\n",
              "        vertical-align: top;\n",
              "    }\n",
              "\n",
              "    .dataframe thead th {\n",
              "        text-align: right;\n",
              "    }\n",
              "</style>\n",
              "<table border=\"1\" class=\"dataframe\">\n",
              "  <thead>\n",
              "    <tr style=\"text-align: right;\">\n",
              "      <th></th>\n",
              "      <th>TP_PRESENCA_CN</th>\n",
              "      <th>TP_PRESENCA_CH</th>\n",
              "    </tr>\n",
              "  </thead>\n",
              "  <tbody>\n",
              "    <tr>\n",
              "      <th>1</th>\n",
              "      <td>3442</td>\n",
              "      <td>3442</td>\n",
              "    </tr>\n",
              "    <tr>\n",
              "      <th>0</th>\n",
              "      <td>1134</td>\n",
              "      <td>1134</td>\n",
              "    </tr>\n",
              "  </tbody>\n",
              "</table>\n",
              "</div>"
            ],
            "text/plain": [
              "   TP_PRESENCA_CN  TP_PRESENCA_CH\n",
              "1            3442            3442\n",
              "0            1134            1134"
            ]
          },
          "metadata": {
            "tags": []
          },
          "execution_count": 29
        }
      ]
    },
    {
      "cell_type": "markdown",
      "metadata": {
        "id": "zSItM7IlTqS3",
        "colab_type": "text"
      },
      "source": [
        "\n",
        "\n",
        "*   1134 alunos do conjunto de teste não fizeram as provas CN e CH, esses alunos terão notas zeradas.\n",
        "\n"
      ]
    },
    {
      "cell_type": "code",
      "metadata": {
        "id": "oxEzBZuCS2jX",
        "colab_type": "code",
        "colab": {}
      },
      "source": [
        "test['NU_NOTA_CN'].fillna(0, inplace=True)\n",
        "test['NU_NOTA_CH'].fillna(0, inplace=True)"
      ],
      "execution_count": 0,
      "outputs": []
    },
    {
      "cell_type": "code",
      "metadata": {
        "id": "C5-cmQF6S25c",
        "colab_type": "code",
        "colab": {
          "base_uri": "https://localhost:8080/",
          "height": 85
        },
        "outputId": "ecae39ef-5e48-40cb-881d-62a6f488030d"
      },
      "source": [
        "test['TP_PRESENCA_LC'].value_counts()"
      ],
      "execution_count": 31,
      "outputs": [
        {
          "output_type": "execute_result",
          "data": {
            "text/plain": [
              "1    3377\n",
              "0    1195\n",
              "2       4\n",
              "Name: TP_PRESENCA_LC, dtype: int64"
            ]
          },
          "metadata": {
            "tags": []
          },
          "execution_count": 31
        }
      ]
    },
    {
      "cell_type": "markdown",
      "metadata": {
        "id": "hxvq4I7cU3II",
        "colab_type": "text"
      },
      "source": [
        "\n",
        "\n",
        "*   1195 não fizeram a prova e 4 foram eliminados da prova de LC. Logo foram também eliminados da prova de redação e MT. Assim, todos esses alunos terão notas zeradas em MT e LC e Redação.\n",
        "\n"
      ]
    },
    {
      "cell_type": "code",
      "metadata": {
        "id": "MLOfRGEBQooT",
        "colab_type": "code",
        "colab": {}
      },
      "source": [
        "test.fillna(0, inplace=True)"
      ],
      "execution_count": 0,
      "outputs": []
    },
    {
      "cell_type": "code",
      "metadata": {
        "id": "sQ0oe0TzWTKf",
        "colab_type": "code",
        "colab": {
          "base_uri": "https://localhost:8080/",
          "height": 68
        },
        "outputId": "36ec9f72-624b-4e5c-f8e2-589ca89e0c4d"
      },
      "source": [
        "getMissing(test)"
      ],
      "execution_count": 33,
      "outputs": [
        {
          "output_type": "stream",
          "text": [
            "Empty DataFrame\n",
            "Columns: [Total, Percent]\n",
            "Index: []\n"
          ],
          "name": "stdout"
        }
      ]
    },
    {
      "cell_type": "markdown",
      "metadata": {
        "id": "5DAB0to8WYIG",
        "colab_type": "text"
      },
      "source": [
        "### Análise exploratória dos dados\n",
        "\n",
        "A partir de agora nossos datasets não possuem mais dados nulos e posso começar a verificar as ligações entre os dados e o que mais impacta a nota de matemática. "
      ]
    },
    {
      "cell_type": "code",
      "metadata": {
        "id": "GDPYSPOBWdWU",
        "colab_type": "code",
        "colab": {
          "base_uri": "https://localhost:8080/",
          "height": 224
        },
        "outputId": "e6bc64cf-8ca5-47e5-c902-57b1c97f3f5f"
      },
      "source": [
        "train.head()"
      ],
      "execution_count": 34,
      "outputs": [
        {
          "output_type": "execute_result",
          "data": {
            "text/html": [
              "<div>\n",
              "<style scoped>\n",
              "    .dataframe tbody tr th:only-of-type {\n",
              "        vertical-align: middle;\n",
              "    }\n",
              "\n",
              "    .dataframe tbody tr th {\n",
              "        vertical-align: top;\n",
              "    }\n",
              "\n",
              "    .dataframe thead th {\n",
              "        text-align: right;\n",
              "    }\n",
              "</style>\n",
              "<table border=\"1\" class=\"dataframe\">\n",
              "  <thead>\n",
              "    <tr style=\"text-align: right;\">\n",
              "      <th></th>\n",
              "      <th>NU_INSCRICAO</th>\n",
              "      <th>CO_UF_RESIDENCIA</th>\n",
              "      <th>SG_UF_RESIDENCIA</th>\n",
              "      <th>NU_IDADE</th>\n",
              "      <th>TP_SEXO</th>\n",
              "      <th>TP_COR_RACA</th>\n",
              "      <th>TP_NACIONALIDADE</th>\n",
              "      <th>TP_ST_CONCLUSAO</th>\n",
              "      <th>TP_ANO_CONCLUIU</th>\n",
              "      <th>TP_ESCOLA</th>\n",
              "      <th>IN_TREINEIRO</th>\n",
              "      <th>IN_BAIXA_VISAO</th>\n",
              "      <th>IN_CEGUEIRA</th>\n",
              "      <th>IN_SURDEZ</th>\n",
              "      <th>IN_DISLEXIA</th>\n",
              "      <th>IN_DISCALCULIA</th>\n",
              "      <th>IN_SABATISTA</th>\n",
              "      <th>IN_GESTANTE</th>\n",
              "      <th>IN_IDOSO</th>\n",
              "      <th>TP_PRESENCA_CN</th>\n",
              "      <th>TP_PRESENCA_CH</th>\n",
              "      <th>TP_PRESENCA_LC</th>\n",
              "      <th>CO_PROVA_CN</th>\n",
              "      <th>CO_PROVA_CH</th>\n",
              "      <th>CO_PROVA_LC</th>\n",
              "      <th>CO_PROVA_MT</th>\n",
              "      <th>NU_NOTA_CN</th>\n",
              "      <th>NU_NOTA_CH</th>\n",
              "      <th>NU_NOTA_LC</th>\n",
              "      <th>NU_NOTA_MT</th>\n",
              "      <th>TP_LINGUA</th>\n",
              "      <th>TP_STATUS_REDACAO</th>\n",
              "      <th>NU_NOTA_COMP1</th>\n",
              "      <th>NU_NOTA_COMP2</th>\n",
              "      <th>NU_NOTA_COMP3</th>\n",
              "      <th>NU_NOTA_COMP4</th>\n",
              "      <th>NU_NOTA_COMP5</th>\n",
              "      <th>NU_NOTA_REDACAO</th>\n",
              "      <th>Q001</th>\n",
              "      <th>Q002</th>\n",
              "      <th>Q006</th>\n",
              "      <th>Q024</th>\n",
              "      <th>Q025</th>\n",
              "      <th>Q026</th>\n",
              "      <th>Q047</th>\n",
              "    </tr>\n",
              "  </thead>\n",
              "  <tbody>\n",
              "    <tr>\n",
              "      <th>0</th>\n",
              "      <td>ed50e8aaa58e7a806c337585efee9ca41f1eb1ad</td>\n",
              "      <td>43</td>\n",
              "      <td>RS</td>\n",
              "      <td>24</td>\n",
              "      <td>M</td>\n",
              "      <td>1</td>\n",
              "      <td>1</td>\n",
              "      <td>1</td>\n",
              "      <td>4</td>\n",
              "      <td>1</td>\n",
              "      <td>0</td>\n",
              "      <td>0</td>\n",
              "      <td>0</td>\n",
              "      <td>0</td>\n",
              "      <td>0</td>\n",
              "      <td>0</td>\n",
              "      <td>0</td>\n",
              "      <td>0</td>\n",
              "      <td>0</td>\n",
              "      <td>1</td>\n",
              "      <td>1</td>\n",
              "      <td>1</td>\n",
              "      <td>16f84b7b3d2aeaff7d2f01297e6b3d0e25c77bb2</td>\n",
              "      <td>9cd70f1b922e02bd33453b3f607f5a644fb9b1b8</td>\n",
              "      <td>01af53cd161a420fff1767129c10de560cc264dd</td>\n",
              "      <td>97caab1e1533dba217deb7ef41490f52e459ab01</td>\n",
              "      <td>436.3</td>\n",
              "      <td>495.4</td>\n",
              "      <td>581.2</td>\n",
              "      <td>399.4</td>\n",
              "      <td>1</td>\n",
              "      <td>1.0</td>\n",
              "      <td>120.0</td>\n",
              "      <td>120.0</td>\n",
              "      <td>120.0</td>\n",
              "      <td>80.0</td>\n",
              "      <td>80.0</td>\n",
              "      <td>520.0</td>\n",
              "      <td>D</td>\n",
              "      <td>D</td>\n",
              "      <td>C</td>\n",
              "      <td>A</td>\n",
              "      <td>A</td>\n",
              "      <td>C</td>\n",
              "      <td>A</td>\n",
              "    </tr>\n",
              "    <tr>\n",
              "      <th>1</th>\n",
              "      <td>2c3acac4b33ec2b195d77e7c04a2d75727fad723</td>\n",
              "      <td>23</td>\n",
              "      <td>CE</td>\n",
              "      <td>17</td>\n",
              "      <td>F</td>\n",
              "      <td>3</td>\n",
              "      <td>1</td>\n",
              "      <td>2</td>\n",
              "      <td>0</td>\n",
              "      <td>2</td>\n",
              "      <td>0</td>\n",
              "      <td>0</td>\n",
              "      <td>0</td>\n",
              "      <td>0</td>\n",
              "      <td>0</td>\n",
              "      <td>0</td>\n",
              "      <td>0</td>\n",
              "      <td>0</td>\n",
              "      <td>0</td>\n",
              "      <td>1</td>\n",
              "      <td>1</td>\n",
              "      <td>1</td>\n",
              "      <td>b9b06ce8c319a3df2158ea3d0aef0f7d3eecaed7</td>\n",
              "      <td>909237ab0d84688e10c0470e2997348aff585273</td>\n",
              "      <td>01af53cd161a420fff1767129c10de560cc264dd</td>\n",
              "      <td>97caab1e1533dba217deb7ef41490f52e459ab01</td>\n",
              "      <td>474.5</td>\n",
              "      <td>544.1</td>\n",
              "      <td>599.0</td>\n",
              "      <td>459.8</td>\n",
              "      <td>1</td>\n",
              "      <td>1.0</td>\n",
              "      <td>140.0</td>\n",
              "      <td>120.0</td>\n",
              "      <td>120.0</td>\n",
              "      <td>120.0</td>\n",
              "      <td>80.0</td>\n",
              "      <td>580.0</td>\n",
              "      <td>A</td>\n",
              "      <td>A</td>\n",
              "      <td>B</td>\n",
              "      <td>A</td>\n",
              "      <td>A</td>\n",
              "      <td>A</td>\n",
              "      <td>A</td>\n",
              "    </tr>\n",
              "    <tr>\n",
              "      <th>5</th>\n",
              "      <td>a37c99ec251d4f6e8ddbeabadf1c87fdbfddc4d1</td>\n",
              "      <td>29</td>\n",
              "      <td>BA</td>\n",
              "      <td>18</td>\n",
              "      <td>F</td>\n",
              "      <td>1</td>\n",
              "      <td>1</td>\n",
              "      <td>1</td>\n",
              "      <td>1</td>\n",
              "      <td>1</td>\n",
              "      <td>0</td>\n",
              "      <td>0</td>\n",
              "      <td>0</td>\n",
              "      <td>0</td>\n",
              "      <td>0</td>\n",
              "      <td>0</td>\n",
              "      <td>0</td>\n",
              "      <td>0</td>\n",
              "      <td>0</td>\n",
              "      <td>1</td>\n",
              "      <td>1</td>\n",
              "      <td>1</td>\n",
              "      <td>c8328ebc6f3238e06076c481bc1b82b8301e7a3f</td>\n",
              "      <td>f48d390ab6a2428e659c37fb8a9d00afde621889</td>\n",
              "      <td>01abbb7f1a90505385f44eec9905f82ca2a42cfd</td>\n",
              "      <td>81d0ee00ef42a7c23eb04496458c03d4c5b9c31a</td>\n",
              "      <td>439.7</td>\n",
              "      <td>583.2</td>\n",
              "      <td>410.9</td>\n",
              "      <td>364.5</td>\n",
              "      <td>0</td>\n",
              "      <td>1.0</td>\n",
              "      <td>120.0</td>\n",
              "      <td>120.0</td>\n",
              "      <td>120.0</td>\n",
              "      <td>160.0</td>\n",
              "      <td>100.0</td>\n",
              "      <td>620.0</td>\n",
              "      <td>E</td>\n",
              "      <td>E</td>\n",
              "      <td>C</td>\n",
              "      <td>B</td>\n",
              "      <td>B</td>\n",
              "      <td>A</td>\n",
              "      <td>A</td>\n",
              "    </tr>\n",
              "    <tr>\n",
              "      <th>6</th>\n",
              "      <td>63b4e128e9ffe8ab27f5d093db1976ef4f353e0a</td>\n",
              "      <td>51</td>\n",
              "      <td>MT</td>\n",
              "      <td>18</td>\n",
              "      <td>F</td>\n",
              "      <td>3</td>\n",
              "      <td>1</td>\n",
              "      <td>2</td>\n",
              "      <td>0</td>\n",
              "      <td>2</td>\n",
              "      <td>0</td>\n",
              "      <td>0</td>\n",
              "      <td>0</td>\n",
              "      <td>0</td>\n",
              "      <td>0</td>\n",
              "      <td>0</td>\n",
              "      <td>0</td>\n",
              "      <td>0</td>\n",
              "      <td>0</td>\n",
              "      <td>1</td>\n",
              "      <td>1</td>\n",
              "      <td>1</td>\n",
              "      <td>66b1dad288e13be0992bae01e81f71eca1c6e8a6</td>\n",
              "      <td>942ab3dc020af4cf53740b6b07e9dd7060b24164</td>\n",
              "      <td>5aebe5cad7fabc1545ac7fba07a4e6177f98483c</td>\n",
              "      <td>767a32545304ed293242d528f54d4edb1369f910</td>\n",
              "      <td>420.1</td>\n",
              "      <td>604.2</td>\n",
              "      <td>484.5</td>\n",
              "      <td>529.2</td>\n",
              "      <td>0</td>\n",
              "      <td>1.0</td>\n",
              "      <td>100.0</td>\n",
              "      <td>120.0</td>\n",
              "      <td>120.0</td>\n",
              "      <td>120.0</td>\n",
              "      <td>100.0</td>\n",
              "      <td>560.0</td>\n",
              "      <td>E</td>\n",
              "      <td>D</td>\n",
              "      <td>C</td>\n",
              "      <td>B</td>\n",
              "      <td>B</td>\n",
              "      <td>C</td>\n",
              "      <td>A</td>\n",
              "    </tr>\n",
              "    <tr>\n",
              "      <th>7</th>\n",
              "      <td>2eb189d4912f64b19d1967e8e84b6141aba18770</td>\n",
              "      <td>43</td>\n",
              "      <td>RS</td>\n",
              "      <td>18</td>\n",
              "      <td>F</td>\n",
              "      <td>1</td>\n",
              "      <td>1</td>\n",
              "      <td>1</td>\n",
              "      <td>1</td>\n",
              "      <td>1</td>\n",
              "      <td>0</td>\n",
              "      <td>0</td>\n",
              "      <td>0</td>\n",
              "      <td>0</td>\n",
              "      <td>0</td>\n",
              "      <td>0</td>\n",
              "      <td>0</td>\n",
              "      <td>0</td>\n",
              "      <td>0</td>\n",
              "      <td>1</td>\n",
              "      <td>1</td>\n",
              "      <td>1</td>\n",
              "      <td>b9b06ce8c319a3df2158ea3d0aef0f7d3eecaed7</td>\n",
              "      <td>909237ab0d84688e10c0470e2997348aff585273</td>\n",
              "      <td>72f80e4b3150c627c7ffc93cfe0fa13a9989b610</td>\n",
              "      <td>577f8968d95046f5eb5cc158608e12fa9ba34c85</td>\n",
              "      <td>619.6</td>\n",
              "      <td>625.8</td>\n",
              "      <td>611.2</td>\n",
              "      <td>566.7</td>\n",
              "      <td>0</td>\n",
              "      <td>1.0</td>\n",
              "      <td>140.0</td>\n",
              "      <td>120.0</td>\n",
              "      <td>120.0</td>\n",
              "      <td>120.0</td>\n",
              "      <td>120.0</td>\n",
              "      <td>620.0</td>\n",
              "      <td>G</td>\n",
              "      <td>F</td>\n",
              "      <td>L</td>\n",
              "      <td>B</td>\n",
              "      <td>B</td>\n",
              "      <td>A</td>\n",
              "      <td>D</td>\n",
              "    </tr>\n",
              "  </tbody>\n",
              "</table>\n",
              "</div>"
            ],
            "text/plain": [
              "                               NU_INSCRICAO  CO_UF_RESIDENCIA  \\\n",
              "0  ed50e8aaa58e7a806c337585efee9ca41f1eb1ad                43   \n",
              "1  2c3acac4b33ec2b195d77e7c04a2d75727fad723                23   \n",
              "5  a37c99ec251d4f6e8ddbeabadf1c87fdbfddc4d1                29   \n",
              "6  63b4e128e9ffe8ab27f5d093db1976ef4f353e0a                51   \n",
              "7  2eb189d4912f64b19d1967e8e84b6141aba18770                43   \n",
              "\n",
              "  SG_UF_RESIDENCIA  NU_IDADE TP_SEXO  TP_COR_RACA  TP_NACIONALIDADE  \\\n",
              "0               RS        24       M            1                 1   \n",
              "1               CE        17       F            3                 1   \n",
              "5               BA        18       F            1                 1   \n",
              "6               MT        18       F            3                 1   \n",
              "7               RS        18       F            1                 1   \n",
              "\n",
              "   TP_ST_CONCLUSAO  TP_ANO_CONCLUIU  TP_ESCOLA  IN_TREINEIRO  IN_BAIXA_VISAO  \\\n",
              "0                1                4          1             0               0   \n",
              "1                2                0          2             0               0   \n",
              "5                1                1          1             0               0   \n",
              "6                2                0          2             0               0   \n",
              "7                1                1          1             0               0   \n",
              "\n",
              "   IN_CEGUEIRA  IN_SURDEZ  IN_DISLEXIA  IN_DISCALCULIA  IN_SABATISTA  \\\n",
              "0            0          0            0               0             0   \n",
              "1            0          0            0               0             0   \n",
              "5            0          0            0               0             0   \n",
              "6            0          0            0               0             0   \n",
              "7            0          0            0               0             0   \n",
              "\n",
              "   IN_GESTANTE  IN_IDOSO  TP_PRESENCA_CN  TP_PRESENCA_CH  TP_PRESENCA_LC  \\\n",
              "0            0         0               1               1               1   \n",
              "1            0         0               1               1               1   \n",
              "5            0         0               1               1               1   \n",
              "6            0         0               1               1               1   \n",
              "7            0         0               1               1               1   \n",
              "\n",
              "                                CO_PROVA_CN  \\\n",
              "0  16f84b7b3d2aeaff7d2f01297e6b3d0e25c77bb2   \n",
              "1  b9b06ce8c319a3df2158ea3d0aef0f7d3eecaed7   \n",
              "5  c8328ebc6f3238e06076c481bc1b82b8301e7a3f   \n",
              "6  66b1dad288e13be0992bae01e81f71eca1c6e8a6   \n",
              "7  b9b06ce8c319a3df2158ea3d0aef0f7d3eecaed7   \n",
              "\n",
              "                                CO_PROVA_CH  \\\n",
              "0  9cd70f1b922e02bd33453b3f607f5a644fb9b1b8   \n",
              "1  909237ab0d84688e10c0470e2997348aff585273   \n",
              "5  f48d390ab6a2428e659c37fb8a9d00afde621889   \n",
              "6  942ab3dc020af4cf53740b6b07e9dd7060b24164   \n",
              "7  909237ab0d84688e10c0470e2997348aff585273   \n",
              "\n",
              "                                CO_PROVA_LC  \\\n",
              "0  01af53cd161a420fff1767129c10de560cc264dd   \n",
              "1  01af53cd161a420fff1767129c10de560cc264dd   \n",
              "5  01abbb7f1a90505385f44eec9905f82ca2a42cfd   \n",
              "6  5aebe5cad7fabc1545ac7fba07a4e6177f98483c   \n",
              "7  72f80e4b3150c627c7ffc93cfe0fa13a9989b610   \n",
              "\n",
              "                                CO_PROVA_MT  NU_NOTA_CN  NU_NOTA_CH  \\\n",
              "0  97caab1e1533dba217deb7ef41490f52e459ab01       436.3       495.4   \n",
              "1  97caab1e1533dba217deb7ef41490f52e459ab01       474.5       544.1   \n",
              "5  81d0ee00ef42a7c23eb04496458c03d4c5b9c31a       439.7       583.2   \n",
              "6  767a32545304ed293242d528f54d4edb1369f910       420.1       604.2   \n",
              "7  577f8968d95046f5eb5cc158608e12fa9ba34c85       619.6       625.8   \n",
              "\n",
              "   NU_NOTA_LC  NU_NOTA_MT  TP_LINGUA  TP_STATUS_REDACAO  NU_NOTA_COMP1  \\\n",
              "0       581.2       399.4          1                1.0          120.0   \n",
              "1       599.0       459.8          1                1.0          140.0   \n",
              "5       410.9       364.5          0                1.0          120.0   \n",
              "6       484.5       529.2          0                1.0          100.0   \n",
              "7       611.2       566.7          0                1.0          140.0   \n",
              "\n",
              "   NU_NOTA_COMP2  NU_NOTA_COMP3  NU_NOTA_COMP4  NU_NOTA_COMP5  \\\n",
              "0          120.0          120.0           80.0           80.0   \n",
              "1          120.0          120.0          120.0           80.0   \n",
              "5          120.0          120.0          160.0          100.0   \n",
              "6          120.0          120.0          120.0          100.0   \n",
              "7          120.0          120.0          120.0          120.0   \n",
              "\n",
              "   NU_NOTA_REDACAO Q001 Q002 Q006 Q024 Q025 Q026 Q047  \n",
              "0            520.0    D    D    C    A    A    C    A  \n",
              "1            580.0    A    A    B    A    A    A    A  \n",
              "5            620.0    E    E    C    B    B    A    A  \n",
              "6            560.0    E    D    C    B    B    C    A  \n",
              "7            620.0    G    F    L    B    B    A    D  "
            ]
          },
          "metadata": {
            "tags": []
          },
          "execution_count": 34
        }
      ]
    },
    {
      "cell_type": "markdown",
      "metadata": {
        "id": "PbSrp9fS3CBM",
        "colab_type": "text"
      },
      "source": [
        "Eu testei todas as correlações entre as variáveis e a nota de matemática. As principais correlações entre as variáveis categóricas foram as colunas 'TP_ESCOLA', 'CO_PROVA_MT', 'Q001',\t'Q002',\t'Q006',\t'Q024',\t'Q025',\t'Q026',\t'Q047'. Isso é verificado com um BoxPlot, conforme o próximo gráfico. "
      ]
    },
    {
      "cell_type": "code",
      "metadata": {
        "id": "w_IStsaIrOv0",
        "colab_type": "code",
        "colab": {
          "base_uri": "https://localhost:8080/",
          "height": 351
        },
        "outputId": "7d4063b1-5afb-45d7-c7f0-f5c9b8f04a92"
      },
      "source": [
        "plt.figure(figsize=(10, 5))\n",
        "sns.boxplot(train['Q047'], train['NU_NOTA_MT'], palette=\"Dark2_r\")"
      ],
      "execution_count": 41,
      "outputs": [
        {
          "output_type": "execute_result",
          "data": {
            "text/plain": [
              "<matplotlib.axes._subplots.AxesSubplot at 0x7f7d221df2b0>"
            ]
          },
          "metadata": {
            "tags": []
          },
          "execution_count": 41
        },
        {
          "output_type": "display_data",
          "data": {
            "image/png": "[encoded data removed]",
            "text/plain": [
              "<Figure size 720x360 with 1 Axes>"
            ]
          },
          "metadata": {
            "tags": [],
            "needs_background": "light"
          }
        }
      ]
    },
    {
      "cell_type": "markdown",
      "metadata": {
        "id": "MFThVIWG4WMk",
        "colab_type": "text"
      },
      "source": [
        "Para as variáveis contínuas utilizo um HeatMap para verificar a correlação com a nota de matemática. As variáveis com melhor correlação são 'NU_NOTA_CN',\t'NU_NOTA_CH',\t'NU_NOTA_LC',\t'NU_NOTA_REDACAO'. "
      ]
    },
    {
      "cell_type": "code",
      "metadata": {
        "id": "XpuD1yR14Tvk",
        "colab_type": "code",
        "colab": {
          "base_uri": "https://localhost:8080/",
          "height": 342
        },
        "outputId": "03f575e9-a9e9-4078-cde3-070465cab226"
      },
      "source": [
        "corr_num_Var = train[['NU_NOTA_CN',\t'NU_NOTA_CH',\t'NU_NOTA_LC',\t'NU_NOTA_REDACAO', 'NU_NOTA_MT']].corr().abs()['NU_NOTA_MT'].sort_values( ascending=False)\n",
        "plt.figure(figsize=(10,5))\n",
        "sns.heatmap(train[corr_num_Var.index].corr().abs(), linecolor='white', annot=True, cmap='viridis')"
      ],
      "execution_count": 48,
      "outputs": [
        {
          "output_type": "execute_result",
          "data": {
            "text/plain": [
              "<matplotlib.axes._subplots.AxesSubplot at 0x7f7d1ccc3be0>"
            ]
          },
          "metadata": {
            "tags": []
          },
          "execution_count": 48
        },
        {
          "output_type": "display_data",
          "data": {
            "image/png": "[encoded data removed]",
            "text/plain": [
              "<Figure size 720x360 with 2 Axes>"
            ]
          },
          "metadata": {
            "tags": [],
            "needs_background": "light"
          }
        }
      ]
    },
    {
      "cell_type": "code",
      "metadata": {
        "id": "3-35joK2rO9c",
        "colab_type": "code",
        "colab": {}
      },
      "source": [
        "#Selecionando as melhores variáveis\n",
        "features = ['TP_ESCOLA', 'CO_PROVA_MT',\n",
        "            'NU_NOTA_CN',\t'NU_NOTA_CH',\t'NU_NOTA_LC',\t'NU_NOTA_REDACAO',\n",
        "            'Q001',\t'Q002',\t'Q006',\t'Q024',\t'Q025',\t'Q026',\t'Q047']\n",
        "features_dummies = ['TP_ESCOLA', 'CO_PROVA_MT', 'Q001',\t'Q002',\t'Q006',\t'Q024',\t'Q025',\t'Q026',\t'Q047']"
      ],
      "execution_count": 0,
      "outputs": []
    },
    {
      "cell_type": "markdown",
      "metadata": {
        "id": "oNXpjkX9Aiv2",
        "colab_type": "text"
      },
      "source": [
        "Nesse ponto, os conjuntos de dados são reduzidos para apenas as variáveis com melhor correlação com a nota de matemática. "
      ]
    },
    {
      "cell_type": "code",
      "metadata": {
        "id": "bar61B4uY-En",
        "colab_type": "code",
        "colab": {}
      },
      "source": [
        "y_train = train['NU_NOTA_MT']\n",
        "train = train[features]\n",
        "test = test[features]"
      ],
      "execution_count": 0,
      "outputs": []
    },
    {
      "cell_type": "code",
      "metadata": {
        "id": "mrAEAtIdZbXV",
        "colab_type": "code",
        "colab": {
          "base_uri": "https://localhost:8080/",
          "height": 34
        },
        "outputId": "d3189ac6-b833-407f-d6ae-a53d791497f3"
      },
      "source": [
        "print(train.shape, test.shape)"
      ],
      "execution_count": 51,
      "outputs": [
        {
          "output_type": "stream",
          "text": [
            "(10133, 13) (4576, 13)\n"
          ],
          "name": "stdout"
        }
      ]
    },
    {
      "cell_type": "markdown",
      "metadata": {
        "id": "zBdDhJNu5ynl",
        "colab_type": "text"
      },
      "source": [
        "Concatenando os dois conjuntos para aplicar a transformação Dummies das variáveis categóricas e Standard Scaler nas variáveis contínuas."
      ]
    },
    {
      "cell_type": "code",
      "metadata": {
        "id": "IwQ_lK4mZrTD",
        "colab_type": "code",
        "colab": {
          "base_uri": "https://localhost:8080/",
          "height": 34
        },
        "outputId": "7cc34399-64ea-4209-c8e3-26bc1b37ee86"
      },
      "source": [
        "data = pd.concat([train, test], axis=0, ignore_index=True)\n",
        "data.shape"
      ],
      "execution_count": 52,
      "outputs": [
        {
          "output_type": "execute_result",
          "data": {
            "text/plain": [
              "(14709, 13)"
            ]
          },
          "metadata": {
            "tags": []
          },
          "execution_count": 52
        }
      ]
    },
    {
      "cell_type": "code",
      "metadata": {
        "id": "Vp9v70gsrPAE",
        "colab_type": "code",
        "colab": {}
      },
      "source": [
        "data = pd.get_dummies(data, columns=features_dummies, drop_first=True)"
      ],
      "execution_count": 0,
      "outputs": []
    },
    {
      "cell_type": "code",
      "metadata": {
        "id": "Z5EeY9v7Z0iB",
        "colab_type": "code",
        "colab": {
          "base_uri": "https://localhost:8080/",
          "height": 34
        },
        "outputId": "24bce60e-ae4f-4da7-9de6-f4091238015b"
      },
      "source": [
        "data.shape"
      ],
      "execution_count": 54,
      "outputs": [
        {
          "output_type": "execute_result",
          "data": {
            "text/plain": [
              "(14709, 56)"
            ]
          },
          "metadata": {
            "tags": []
          },
          "execution_count": 54
        }
      ]
    },
    {
      "cell_type": "code",
      "metadata": {
        "id": "Jt-oVS4HrPCy",
        "colab_type": "code",
        "colab": {}
      },
      "source": [
        "featuresNum = ['NU_NOTA_CN',\t'NU_NOTA_CH',\t'NU_NOTA_LC',\t'NU_NOTA_REDACAO',]\n",
        "\n",
        "from sklearn import preprocessing\n",
        "\n",
        "#min_max_scaler = preprocessing.MinMaxScaler()\n",
        "#min_max_scaler_y = preprocessing.MinMaxScaler()\n",
        "\n",
        "#StandardScaler transformation\n",
        "standardScaler = preprocessing.StandardScaler()\n",
        "data[featuresNum] = standardScaler.fit_transform(data[featuresNum])\n",
        "\n",
        "#data[featuresNum] = min_max_scaler.fit_transform(data[featuresNum])"
      ],
      "execution_count": 0,
      "outputs": []
    },
    {
      "cell_type": "code",
      "metadata": {
        "id": "7o2cZpWBaHla",
        "colab_type": "code",
        "colab": {}
      },
      "source": [
        "#Separando novamente os conjuntos\n",
        "train = data.head(train.shape[0])\n",
        "\n",
        "test = data.tail(test.shape[0])"
      ],
      "execution_count": 0,
      "outputs": []
    },
    {
      "cell_type": "code",
      "metadata": {
        "id": "52b0P-ydrPKo",
        "colab_type": "code",
        "colab": {}
      },
      "source": [
        "from sklearn.model_selection import train_test_split\n",
        "from xgboost import XGBRegressor\n",
        "from sklearn.metrics import mean_squared_error, r2_score\n",
        "\n",
        "#Criando os conjuntos de treino e test para o modelo de regressão\n",
        "XX_train, XX_test, yy_train, yy_test = train_test_split(train, y_train, test_size=0.23, random_state=42)"
      ],
      "execution_count": 0,
      "outputs": []
    },
    {
      "cell_type": "markdown",
      "metadata": {
        "id": "PgAbAP6EAwBX",
        "colab_type": "text"
      },
      "source": [
        "## Modelagem\n",
        "\n",
        "Utilizei um modelo de regressão XGBRegressor com parâmetros normais. Isso já é suficiente para um bom desempenho. "
      ]
    },
    {
      "cell_type": "code",
      "metadata": {
        "id": "jCvgs8YXakGo",
        "colab_type": "code",
        "colab": {
          "base_uri": "https://localhost:8080/",
          "height": 51
        },
        "outputId": "026d6ec4-7ab4-454b-e237-136df6821aaf"
      },
      "source": [
        "xgb_model = XGBRegressor()\n",
        "\n",
        "xgb_model.fit(XX_train, yy_train, verbose=False)\n",
        "y_pred_xgb = xgb_model.predict(XX_test)\n",
        "\n",
        "np.sqrt(mean_squared_error(yy_test, y_pred_xgb))"
      ],
      "execution_count": 58,
      "outputs": [
        {
          "output_type": "stream",
          "text": [
            "[23:24:57] WARNING: /workspace/src/objective/regression_obj.cu:152: reg:linear is now deprecated in favor of reg:squarederror.\n"
          ],
          "name": "stdout"
        },
        {
          "output_type": "execute_result",
          "data": {
            "text/plain": [
              "74.17787456396435"
            ]
          },
          "metadata": {
            "tags": []
          },
          "execution_count": 58
        }
      ]
    },
    {
      "cell_type": "code",
      "metadata": {
        "id": "Hjp3itcZrPWc",
        "colab_type": "code",
        "colab": {}
      },
      "source": [
        ""
      ],
      "execution_count": 0,
      "outputs": []
    },
    {
      "cell_type": "code",
      "metadata": {
        "id": "nzdX9wUjrPZf",
        "colab_type": "code",
        "colab": {}
      },
      "source": [
        "#Criando um dataframe para submissão\n",
        "subm = pd.read_csv('test.csv')\n",
        "\n",
        "#Fazendo as previsões para o conjunto de test\n",
        "subm['NU_NOTA_MT'] = xgb_model.predict(test)"
      ],
      "execution_count": 0,
      "outputs": []
    },
    {
      "cell_type": "code",
      "metadata": {
        "id": "oUme16P7viDK",
        "colab_type": "code",
        "colab": {}
      },
      "source": [
        "#Como o modelo calculou alguma nota para quem não fez a prova, nesse ponto esses alunos terão as notas zeradas. \n",
        "for index, row in subm.iterrows():\n",
        "  if( row['TP_PRESENCA_LC'] == 0):\n",
        "    subm.loc[index, 'NU_NOTA_MT'] = 0\n",
        "  elif(row['TP_PRESENCA_LC'] == 2):\n",
        "    subm.loc[index, 'NU_NOTA_MT'] = 0\n"
      ],
      "execution_count": 0,
      "outputs": []
    },
    {
      "cell_type": "code",
      "metadata": {
        "id": "BO64bs6bvE1Q",
        "colab_type": "code",
        "colab": {}
      },
      "source": [
        "#Separando apenas o número de inscrição e a nota para submeter o desafio\n",
        "subm = subm[['NU_INSCRICAO','NU_NOTA_MT']]"
      ],
      "execution_count": 0,
      "outputs": []
    },
    {
      "cell_type": "code",
      "metadata": {
        "id": "r4uNMmELJ17B",
        "colab_type": "code",
        "colab": {
          "base_uri": "https://localhost:8080/",
          "height": 204
        },
        "outputId": "78f25ef2-c6e2-4e7f-ecf3-628dd4a9f87d"
      },
      "source": [
        "subm.head()"
      ],
      "execution_count": 62,
      "outputs": [
        {
          "output_type": "execute_result",
          "data": {
            "text/html": [
              "<div>\n",
              "<style scoped>\n",
              "    .dataframe tbody tr th:only-of-type {\n",
              "        vertical-align: middle;\n",
              "    }\n",
              "\n",
              "    .dataframe tbody tr th {\n",
              "        vertical-align: top;\n",
              "    }\n",
              "\n",
              "    .dataframe thead th {\n",
              "        text-align: right;\n",
              "    }\n",
              "</style>\n",
              "<table border=\"1\" class=\"dataframe\">\n",
              "  <thead>\n",
              "    <tr style=\"text-align: right;\">\n",
              "      <th></th>\n",
              "      <th>NU_INSCRICAO</th>\n",
              "      <th>NU_NOTA_MT</th>\n",
              "    </tr>\n",
              "  </thead>\n",
              "  <tbody>\n",
              "    <tr>\n",
              "      <th>0</th>\n",
              "      <td>73ff9fcc02f0a99919906c942c2e1a1042cdcf98</td>\n",
              "      <td>435.399017</td>\n",
              "    </tr>\n",
              "    <tr>\n",
              "      <th>1</th>\n",
              "      <td>71a95f9f1b91a82c65ad94abbdf9f54e6066f968</td>\n",
              "      <td>444.962402</td>\n",
              "    </tr>\n",
              "    <tr>\n",
              "      <th>2</th>\n",
              "      <td>b38a03232f43b11c9d0788abaf060f7366053b6d</td>\n",
              "      <td>579.441650</td>\n",
              "    </tr>\n",
              "    <tr>\n",
              "      <th>3</th>\n",
              "      <td>70b682d9a3636be23f6120fa9d6b164eb3c6002d</td>\n",
              "      <td>0.000000</td>\n",
              "    </tr>\n",
              "    <tr>\n",
              "      <th>4</th>\n",
              "      <td>715494628a50142ce8cb17191cfe6d0f3cae0934</td>\n",
              "      <td>562.778564</td>\n",
              "    </tr>\n",
              "  </tbody>\n",
              "</table>\n",
              "</div>"
            ],
            "text/plain": [
              "                               NU_INSCRICAO  NU_NOTA_MT\n",
              "0  73ff9fcc02f0a99919906c942c2e1a1042cdcf98  435.399017\n",
              "1  71a95f9f1b91a82c65ad94abbdf9f54e6066f968  444.962402\n",
              "2  b38a03232f43b11c9d0788abaf060f7366053b6d  579.441650\n",
              "3  70b682d9a3636be23f6120fa9d6b164eb3c6002d    0.000000\n",
              "4  715494628a50142ce8cb17191cfe6d0f3cae0934  562.778564"
            ]
          },
          "metadata": {
            "tags": []
          },
          "execution_count": 62
        }
      ]
    },
    {
      "cell_type": "code",
      "metadata": {
        "id": "PbzLzkmPJ3fv",
        "colab_type": "code",
        "colab": {}
      },
      "source": [
        "subm.to_csv(\"submission_colab.csv\", index=False)"
      ],
      "execution_count": 0,
      "outputs": []
    },
    {
      "cell_type": "code",
      "metadata": {
        "id": "KDBsTuoAKJcV",
        "colab_type": "code",
        "colab": {}
      },
      "source": [
        "#Fazendo download do arquivo de resposta\n",
        "from google.colab import files\n",
        "\n",
        "os.chdir(r'/content')\n",
        "\n",
        "files.download('submission_colab.csv')"
      ],
      "execution_count": 0,
      "outputs": []
    },
    {
      "cell_type": "code",
      "metadata": {
        "id": "xc4ylOuLKOl3",
        "colab_type": "code",
        "colab": {}
      },
      "source": [
        ""
      ],
      "execution_count": 0,
      "outputs": []
    },
    {
      "cell_type": "markdown",
      "metadata": {
        "id": "6vX3G_jR61wN",
        "colab_type": "text"
      },
      "source": [
        "## Conclusão\n",
        "\n",
        "Então, esse modelo de Machine Learning atingiu uma pontuação de 93,71% no [desafio da Codenation](https://www.codenation.dev/aceleradev/ds-online-1/challenge/enem-ps). Pode parecer uma contrução trivial, mas se não for verificado o motivo de dados NaN na variável target, o modelo não terá uma acertividade próxima do real. \n",
        "\n",
        "O que aprendemos com ele? Não podemos ignorar nenhum dado sem análise, pois até em dados nulos podemos ter a resposta para o que estamos procurando. "
      ]
    }
  ]
}