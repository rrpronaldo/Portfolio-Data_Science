{
  "nbformat": 4,
  "nbformat_minor": 0,
  "metadata": {
    "kernelspec": {
      "name": "python3",
      "display_name": "Python 3"
    },
    "language_info": {
      "pygments_lexer": "ipython3",
      "nbconvert_exporter": "python",
      "version": "3.6.4",
      "file_extension": ".py",
      "codemirror_mode": {
        "name": "ipython",
        "version": 3
      },
      "name": "python",
      "mimetype": "text/x-python"
    },
    "colab": {
      "name": "Mercado Livre Vs 1.ipynb",
      "provenance": [],
      "collapsed_sections": [],
      "machine_shape": "hm"
    },
    "accelerator": "GPU"
  },
  "cells": [
    {
      "cell_type": "markdown",
      "metadata": {
        "_uuid": "3899989b-de8c-44fd-895a-315807250870",
        "_cell_guid": "94f63819-9b6a-4edf-9bb7-6730b4196082",
        "trusted": true,
        "id": "2MnyezABsIrd",
        "colab_type": "text"
      },
      "source": [
        "### About [Mercado Livre](https://www.mercadolivre.com.br/)\n",
        "\n",
        "  Mercado Livre is one of the largest market place and fintech in Latin America. A pioneering e-commerce company based on a platform where users buy, sell, advertise, ship, finance and pay for products and services over the Internet.\n",
        "\n",
        "### Business Problem - [The Challenge](https://ml-challenge.mercadolibre.com/)\n",
        "\n",
        "  In MercadoLivre there are millions of products and services publications. Having structured data describing each is a key factor in providing the best customer experience, facilitating product research and discovery, improving recommendations, providing comprehensive technical data sheets, packet size estimates, and more.\n",
        "  This is why it is vital to ensure that each publication is properly classified (whether it is a cell phone, a refrigerator, a television, etc.). However, given the variety of products and the thousands of categories available, choosing the right category can be a hard task.\n",
        "\n",
        "### The project\n",
        "  The project consists of classifying the product according to the category, this from the ad title which is provide by the advertiser or seller.\n",
        "  "
      ]
    },
    {
      "cell_type": "markdown",
      "metadata": {
        "id": "BFRz9pJ6bEZu",
        "colab_type": "text"
      },
      "source": [
        "###Datasets\n",
        "  The training archive corresponds to 20 million publications, containing four columns with the following information:\n",
        "  - **Title**: The title of the publication;\n",
        "  - **Language**: The title language can be Portuguese and Spanish;\n",
        "  - **Label quality**: Can be realiable or unreliable. The reliable lines were reviewed by the Mercado Livre team. Lines marked as unreliable have not been reviewed, which means that the category was chosen by the seller and therefore a higher labeling error rate should be expected.\n",
        "  - **Category (variable target)**: The category of the publication. The set of categories is for both languages.\n",
        "\n",
        "  The test file has 246955 publications with the title, language, and id columns, which reference the publication after submission to the challenge portal.\n"
      ]
    },
    {
      "cell_type": "markdown",
      "metadata": {
        "id": "76jHUy3CiDiH",
        "colab_type": "text"
      },
      "source": [
        "### Preprocessing\n",
        "\n",
        "The first step is to analyze the dataset data. Check the variety of product descriptions and how the categories are distributed.\n",
        "\n",
        "I will follow a few steps as analysis, data preprocessing, model training, evaluate and predicting results for test dataset.\n",
        "\n",
        "Great! Let's get started create some functions for this. "
      ]
    },
    {
      "cell_type": "markdown",
      "metadata": {
        "id": "nE7m4lNac0l8",
        "colab_type": "text"
      },
      "source": [
        "First install and import a lot of librarys."
      ]
    },
    {
      "cell_type": "code",
      "metadata": {
        "id": "7WRrZ9wvK97H",
        "colab_type": "code",
        "outputId": "cf0780eb-eb70-40b8-f024-4922b98ead7f",
        "colab": {
          "base_uri": "https://localhost:8080/",
          "height": 629
        }
      },
      "source": [
        "!pip install tensorflow-gpu==2.0.0-alpha0\n",
        "!pip install ipython-autotime\n",
        "\n",
        "%load_ext autotime"
      ],
      "execution_count": 2,
      "outputs": [
        {
          "output_type": "stream",
          "text": [
            "Collecting tensorflow-gpu==2.0.0-alpha0\n",
            "\u001b[?25l  Downloading https://files.pythonhosted.org/packages/1a/66/32cffad095253219d53f6b6c2a436637bbe45ac4e7be0244557210dc3918/tensorflow_gpu-2.0.0a0-cp36-cp36m-manylinux1_x86_64.whl (332.1MB)\n",
            "\u001b[K     |████████████████████████████████| 332.1MB 13kB/s \n",
            "\u001b[?25hRequirement already satisfied: absl-py>=0.7.0 in /usr/local/lib/python3.6/dist-packages (from tensorflow-gpu==2.0.0-alpha0) (0.9.0)\n",
            "Requirement already satisfied: google-pasta>=0.1.2 in /usr/local/lib/python3.6/dist-packages (from tensorflow-gpu==2.0.0-alpha0) (0.1.8)\n",
            "Requirement already satisfied: gast>=0.2.0 in /usr/local/lib/python3.6/dist-packages (from tensorflow-gpu==2.0.0-alpha0) (0.2.2)\n",
            "Requirement already satisfied: keras-applications>=1.0.6 in /usr/local/lib/python3.6/dist-packages (from tensorflow-gpu==2.0.0-alpha0) (1.0.8)\n",
            "Requirement already satisfied: wheel>=0.26 in /usr/local/lib/python3.6/dist-packages (from tensorflow-gpu==2.0.0-alpha0) (0.33.6)\n",
            "Requirement already satisfied: grpcio>=1.8.6 in /usr/local/lib/python3.6/dist-packages (from tensorflow-gpu==2.0.0-alpha0) (1.15.0)\n",
            "Requirement already satisfied: protobuf>=3.6.1 in /usr/local/lib/python3.6/dist-packages (from tensorflow-gpu==2.0.0-alpha0) (3.10.0)\n",
            "Collecting tb-nightly<1.14.0a20190302,>=1.14.0a20190301\n",
            "\u001b[?25l  Downloading https://files.pythonhosted.org/packages/a9/51/aa1d756644bf4624c03844115e4ac4058eff77acd786b26315f051a4b195/tb_nightly-1.14.0a20190301-py3-none-any.whl (3.0MB)\n",
            "\u001b[K     |████████████████████████████████| 3.0MB 62.1MB/s \n",
            "\u001b[?25hRequirement already satisfied: keras-preprocessing>=1.0.5 in /usr/local/lib/python3.6/dist-packages (from tensorflow-gpu==2.0.0-alpha0) (1.1.0)\n",
            "Requirement already satisfied: numpy<2.0,>=1.14.5 in /usr/local/lib/python3.6/dist-packages (from tensorflow-gpu==2.0.0-alpha0) (1.17.5)\n",
            "Requirement already satisfied: astor>=0.6.0 in /usr/local/lib/python3.6/dist-packages (from tensorflow-gpu==2.0.0-alpha0) (0.8.1)\n",
            "Requirement already satisfied: six>=1.10.0 in /usr/local/lib/python3.6/dist-packages (from tensorflow-gpu==2.0.0-alpha0) (1.12.0)\n",
            "Requirement already satisfied: termcolor>=1.1.0 in /usr/local/lib/python3.6/dist-packages (from tensorflow-gpu==2.0.0-alpha0) (1.1.0)\n",
            "Collecting tf-estimator-nightly<1.14.0.dev2019030116,>=1.14.0.dev2019030115\n",
            "\u001b[?25l  Downloading https://files.pythonhosted.org/packages/13/82/f16063b4eed210dc2ab057930ac1da4fbe1e91b7b051a6c8370b401e6ae7/tf_estimator_nightly-1.14.0.dev2019030115-py2.py3-none-any.whl (411kB)\n",
            "\u001b[K     |████████████████████████████████| 419kB 45.6MB/s \n",
            "\u001b[?25hRequirement already satisfied: h5py in /usr/local/lib/python3.6/dist-packages (from keras-applications>=1.0.6->tensorflow-gpu==2.0.0-alpha0) (2.8.0)\n",
            "Requirement already satisfied: setuptools in /usr/local/lib/python3.6/dist-packages (from protobuf>=3.6.1->tensorflow-gpu==2.0.0-alpha0) (42.0.2)\n",
            "Requirement already satisfied: markdown>=2.6.8 in /usr/local/lib/python3.6/dist-packages (from tb-nightly<1.14.0a20190302,>=1.14.0a20190301->tensorflow-gpu==2.0.0-alpha0) (3.1.1)\n",
            "Requirement already satisfied: werkzeug>=0.11.15 in /usr/local/lib/python3.6/dist-packages (from tb-nightly<1.14.0a20190302,>=1.14.0a20190301->tensorflow-gpu==2.0.0-alpha0) (0.16.0)\n",
            "Installing collected packages: tb-nightly, tf-estimator-nightly, tensorflow-gpu\n",
            "Successfully installed tb-nightly-1.14.0a20190301 tensorflow-gpu-2.0.0a0 tf-estimator-nightly-1.14.0.dev2019030115\n",
            "Collecting ipython-autotime\n",
            "  Downloading https://files.pythonhosted.org/packages/e6/f9/0626bbdb322e3a078d968e87e3b01341e7890544de891d0cb613641220e6/ipython-autotime-0.1.tar.bz2\n",
            "Building wheels for collected packages: ipython-autotime\n",
            "  Building wheel for ipython-autotime (setup.py) ... \u001b[?25l\u001b[?25hdone\n",
            "  Created wheel for ipython-autotime: filename=ipython_autotime-0.1-cp36-none-any.whl size=1832 sha256=d4901e8818a3e8b911e8d9bfe4a7f584974c5dcbbd66a1c3f3e2db388905e6f8\n",
            "  Stored in directory: /root/.cache/pip/wheels/d2/df/81/2db1e54bc91002cec40334629bc39cfa86dff540b304ebcd6e\n",
            "Successfully built ipython-autotime\n",
            "Installing collected packages: ipython-autotime\n",
            "Successfully installed ipython-autotime-0.1\n"
          ],
          "name": "stdout"
        }
      ]
    },
    {
      "cell_type": "code",
      "metadata": {
        "_uuid": "8988e0f5-4195-48d8-92c6-c6a9a7b4dc10",
        "_cell_guid": "a7368d5c-03dd-40c0-91a7-2b99f3c6b601",
        "trusted": true,
        "id": "sUUw6pQKsIrf",
        "colab_type": "code",
        "outputId": "a2556d1f-364b-47ae-ec65-10bc8247170e",
        "colab": {
          "base_uri": "https://localhost:8080/",
          "height": 119
        }
      },
      "source": [
        "import numpy as np\n",
        "import pandas as pd\n",
        "%matplotlib inline\n",
        "import matplotlib.pyplot as plt\n",
        "import seaborn as sns\n",
        "\n",
        "import warnings\n",
        "warnings.filterwarnings('ignore')\n",
        "\n",
        "import os\n",
        "import psutil\n",
        "\n",
        "import tensorflow as tf\n",
        "\n",
        "from keras.utils.np_utils import to_categorical\n",
        "from sklearn.model_selection import train_test_split\n",
        "from sklearn.feature_extraction.text import TfidfVectorizer\n",
        "\n",
        "import re\n",
        "import random\n",
        "import string\n",
        "\n",
        "import nltk\n",
        "nltk.download('stopwords')\n",
        "from nltk.corpus import stopwords\n",
        "\n",
        "nltk.download('rslp')\n",
        "#Word Stemmer\n",
        "from nltk.stem import RSLPStemmer\n",
        "from nltk.stem.snowball import SnowballStemmer"
      ],
      "execution_count": 3,
      "outputs": [
        {
          "output_type": "stream",
          "text": [
            "Using TensorFlow backend.\n"
          ],
          "name": "stderr"
        },
        {
          "output_type": "stream",
          "text": [
            "[nltk_data] Downloading package stopwords to /root/nltk_data...\n",
            "[nltk_data]   Unzipping corpora/stopwords.zip.\n",
            "[nltk_data] Downloading package rslp to /root/nltk_data...\n",
            "[nltk_data]   Unzipping stemmers/rslp.zip.\n",
            "time: 3.09 s\n"
          ],
          "name": "stdout"
        }
      ]
    },
    {
      "cell_type": "code",
      "metadata": {
        "id": "nydt7WjzsY90",
        "colab_type": "code",
        "outputId": "d486a119-caa6-42ea-ae49-962a5f7f18da",
        "colab": {
          "base_uri": "https://localhost:8080/",
          "height": 119
        }
      },
      "source": [
        "#For remove accents\n",
        "!pip install unidecode\n",
        "import unidecode"
      ],
      "execution_count": 4,
      "outputs": [
        {
          "output_type": "stream",
          "text": [
            "Collecting unidecode\n",
            "\u001b[?25l  Downloading https://files.pythonhosted.org/packages/d0/42/d9edfed04228bacea2d824904cae367ee9efd05e6cce7ceaaedd0b0ad964/Unidecode-1.1.1-py2.py3-none-any.whl (238kB)\n",
            "\r\u001b[K     |█▍                              | 10kB 31.1MB/s eta 0:00:01\r\u001b[K     |██▊                             | 20kB 1.7MB/s eta 0:00:01\r\u001b[K     |████▏                           | 30kB 2.6MB/s eta 0:00:01\r\u001b[K     |█████▌                          | 40kB 1.7MB/s eta 0:00:01\r\u001b[K     |██████▉                         | 51kB 2.1MB/s eta 0:00:01\r\u001b[K     |████████▎                       | 61kB 2.5MB/s eta 0:00:01\r\u001b[K     |█████████▋                      | 71kB 2.9MB/s eta 0:00:01\r\u001b[K     |███████████                     | 81kB 3.3MB/s eta 0:00:01\r\u001b[K     |████████████▍                   | 92kB 2.5MB/s eta 0:00:01\r\u001b[K     |█████████████▊                  | 102kB 2.8MB/s eta 0:00:01\r\u001b[K     |███████████████▏                | 112kB 2.8MB/s eta 0:00:01\r\u001b[K     |████████████████▌               | 122kB 2.8MB/s eta 0:00:01\r\u001b[K     |█████████████████▉              | 133kB 2.8MB/s eta 0:00:01\r\u001b[K     |███████████████████▎            | 143kB 2.8MB/s eta 0:00:01\r\u001b[K     |████████████████████▋           | 153kB 2.8MB/s eta 0:00:01\r\u001b[K     |██████████████████████          | 163kB 2.8MB/s eta 0:00:01\r\u001b[K     |███████████████████████▍        | 174kB 2.8MB/s eta 0:00:01\r\u001b[K     |████████████████████████▊       | 184kB 2.8MB/s eta 0:00:01\r\u001b[K     |██████████████████████████▏     | 194kB 2.8MB/s eta 0:00:01\r\u001b[K     |███████████████████████████▌    | 204kB 2.8MB/s eta 0:00:01\r\u001b[K     |████████████████████████████▉   | 215kB 2.8MB/s eta 0:00:01\r\u001b[K     |██████████████████████████████▎ | 225kB 2.8MB/s eta 0:00:01\r\u001b[K     |███████████████████████████████▋| 235kB 2.8MB/s eta 0:00:01\r\u001b[K     |████████████████████████████████| 245kB 2.8MB/s \n",
            "\u001b[?25hInstalling collected packages: unidecode\n",
            "Successfully installed unidecode-1.1.1\n",
            "time: 5.02 s\n"
          ],
          "name": "stdout"
        }
      ]
    },
    {
      "cell_type": "markdown",
      "metadata": {
        "id": "H1ePhkXQdGIz",
        "colab_type": "text"
      },
      "source": [
        "Download datasets from Oficial Page"
      ]
    },
    {
      "cell_type": "code",
      "metadata": {
        "id": "EDJyYcbwsulI",
        "colab_type": "code",
        "outputId": "abc5897d-62af-4df3-8ec9-1bdd45dbd693",
        "colab": {
          "base_uri": "https://localhost:8080/",
          "height": 34
        }
      },
      "source": [
        "from urllib.request import urlretrieve\n",
        "def download(url, file):\n",
        "  if not os.path.isfile(file):\n",
        "    print(\"Download file ... \"+ file + \"...\")\n",
        "    urlretrieve(url,file)\n",
        "    print(\"Download completed . . .\")"
      ],
      "execution_count": 5,
      "outputs": [
        {
          "output_type": "stream",
          "text": [
            "time: 2.74 ms\n"
          ],
          "name": "stdout"
        }
      ]
    },
    {
      "cell_type": "code",
      "metadata": {
        "id": "SZmXPfgpsx8q",
        "colab_type": "code",
        "outputId": "62671021-586f-4ff7-8113-157b231cf3bc",
        "colab": {
          "base_uri": "https://localhost:8080/",
          "height": 153
        }
      },
      "source": [
        "download('https://meli-data-challenge.s3.amazonaws.com/train.csv.gz', 'train.csv.gz')\n",
        "download('https://meli-data-challenge.s3.amazonaws.com/test.csv', 'test.csv')\n",
        "download('https://meli-data-challenge.s3.amazonaws.com/sample_submission.csv', 'sample_submission.csv')\n",
        "print('Files downloaded . . .')"
      ],
      "execution_count": 6,
      "outputs": [
        {
          "output_type": "stream",
          "text": [
            "Download file ... train.csv.gz...\n",
            "Download completed . . .\n",
            "Download file ... test.csv...\n",
            "Download completed . . .\n",
            "Download file ... sample_submission.csv...\n",
            "Download completed . . .\n",
            "Files downloaded . . .\n",
            "time: 59.3 s\n"
          ],
          "name": "stdout"
        }
      ]
    },
    {
      "cell_type": "markdown",
      "metadata": {
        "_uuid": "b10c9e44-ba98-4a9e-b2d1-b0fdbb5b1d10",
        "_cell_guid": "cc34ec37-3975-49e9-9034-645657d88e77",
        "trusted": true,
        "id": "LAHsFcs3sIro",
        "colab_type": "text"
      },
      "source": [
        "**Read Datasets**: Reading files and converting column title to lower case."
      ]
    },
    {
      "cell_type": "code",
      "metadata": {
        "_uuid": "0fb3d394-bc89-42c3-9128-13de5d8df9bf",
        "_cell_guid": "1887594d-b90e-449f-801c-690067015dd5",
        "trusted": true,
        "id": "mLPPCtTRsIrp",
        "colab_type": "code",
        "outputId": "1720d331-0e8c-4e90-d7f6-d98369bdd855",
        "colab": {
          "base_uri": "https://localhost:8080/",
          "height": 34
        }
      },
      "source": [
        "train = pd.read_csv(\"train.csv.gz\")\n",
        "test = pd.read_csv(\"test.csv\")\n",
        "#sample_sub = pd.read_csv(\"sample_submission.csv\")\n",
        "\n",
        "#Convert column title to lower case in both datasets\n",
        "#df_train.title.str.lower()\n",
        "train['title'] = train[\"title\"].map(lambda x: x.lower())\n",
        "\n",
        "test['title'] = test[\"title\"].map(lambda x: x.lower())"
      ],
      "execution_count": 7,
      "outputs": [
        {
          "output_type": "stream",
          "text": [
            "time: 46.3 s\n"
          ],
          "name": "stdout"
        }
      ]
    },
    {
      "cell_type": "code",
      "metadata": {
        "_uuid": "ac80bf0c-9d3c-424b-8aa4-c8247310047c",
        "_cell_guid": "1bffef2a-7a60-4eb1-9edc-5863cc291a90",
        "trusted": true,
        "id": "0e9kWjh7sIrs",
        "colab_type": "code",
        "outputId": "861778d5-7a88-48be-946c-fb9d386a04aa",
        "colab": {
          "base_uri": "https://localhost:8080/",
          "height": 34
        }
      },
      "source": [
        "train.shape"
      ],
      "execution_count": 8,
      "outputs": [
        {
          "output_type": "execute_result",
          "data": {
            "text/plain": [
              "(20000000, 4)"
            ]
          },
          "metadata": {
            "tags": []
          },
          "execution_count": 8
        },
        {
          "output_type": "stream",
          "text": [
            "time: 10.9 ms\n"
          ],
          "name": "stdout"
        }
      ]
    },
    {
      "cell_type": "code",
      "metadata": {
        "id": "ESSGvfaf4aCz",
        "colab_type": "code",
        "outputId": "9199ecfe-91ad-4e91-8635-a2cf85341a50",
        "colab": {
          "base_uri": "https://localhost:8080/",
          "height": 221
        }
      },
      "source": [
        "train.head()"
      ],
      "execution_count": 9,
      "outputs": [
        {
          "output_type": "execute_result",
          "data": {
            "text/html": [
              "<div>\n",
              "<style scoped>\n",
              "    .dataframe tbody tr th:only-of-type {\n",
              "        vertical-align: middle;\n",
              "    }\n",
              "\n",
              "    .dataframe tbody tr th {\n",
              "        vertical-align: top;\n",
              "    }\n",
              "\n",
              "    .dataframe thead th {\n",
              "        text-align: right;\n",
              "    }\n",
              "</style>\n",
              "<table border=\"1\" class=\"dataframe\">\n",
              "  <thead>\n",
              "    <tr style=\"text-align: right;\">\n",
              "      <th></th>\n",
              "      <th>title</th>\n",
              "      <th>label_quality</th>\n",
              "      <th>language</th>\n",
              "      <th>category</th>\n",
              "    </tr>\n",
              "  </thead>\n",
              "  <tbody>\n",
              "    <tr>\n",
              "      <th>0</th>\n",
              "      <td>hidrolavadora lavor one 120 bar 1700w  bomba a...</td>\n",
              "      <td>unreliable</td>\n",
              "      <td>spanish</td>\n",
              "      <td>ELECTRIC_PRESSURE_WASHERS</td>\n",
              "    </tr>\n",
              "    <tr>\n",
              "      <th>1</th>\n",
              "      <td>placa de sonido - behringer umc22</td>\n",
              "      <td>unreliable</td>\n",
              "      <td>spanish</td>\n",
              "      <td>SOUND_CARDS</td>\n",
              "    </tr>\n",
              "    <tr>\n",
              "      <th>2</th>\n",
              "      <td>maquina de lavar electrolux 12 kilos</td>\n",
              "      <td>unreliable</td>\n",
              "      <td>portuguese</td>\n",
              "      <td>WASHING_MACHINES</td>\n",
              "    </tr>\n",
              "    <tr>\n",
              "      <th>3</th>\n",
              "      <td>par disco de freio diant vent gol 8v 08/ frema...</td>\n",
              "      <td>unreliable</td>\n",
              "      <td>portuguese</td>\n",
              "      <td>VEHICLE_BRAKE_DISCS</td>\n",
              "    </tr>\n",
              "    <tr>\n",
              "      <th>4</th>\n",
              "      <td>flashes led pestañas luminoso falso pestañas p...</td>\n",
              "      <td>unreliable</td>\n",
              "      <td>spanish</td>\n",
              "      <td>FALSE_EYELASHES</td>\n",
              "    </tr>\n",
              "  </tbody>\n",
              "</table>\n",
              "</div>"
            ],
            "text/plain": [
              "                                               title  ...                   category\n",
              "0  hidrolavadora lavor one 120 bar 1700w  bomba a...  ...  ELECTRIC_PRESSURE_WASHERS\n",
              "1                  placa de sonido - behringer umc22  ...                SOUND_CARDS\n",
              "2               maquina de lavar electrolux 12 kilos  ...           WASHING_MACHINES\n",
              "3  par disco de freio diant vent gol 8v 08/ frema...  ...        VEHICLE_BRAKE_DISCS\n",
              "4  flashes led pestañas luminoso falso pestañas p...  ...            FALSE_EYELASHES\n",
              "\n",
              "[5 rows x 4 columns]"
            ]
          },
          "metadata": {
            "tags": []
          },
          "execution_count": 9
        },
        {
          "output_type": "stream",
          "text": [
            "time: 21 ms\n"
          ],
          "name": "stdout"
        }
      ]
    },
    {
      "cell_type": "code",
      "metadata": {
        "id": "_vdV3oOHKbHu",
        "colab_type": "code",
        "outputId": "aeecbaf0-0090-4b25-ba8e-ea4f97bab00a",
        "colab": {
          "base_uri": "https://localhost:8080/",
          "height": 34
        }
      },
      "source": [
        "test.shape"
      ],
      "execution_count": 10,
      "outputs": [
        {
          "output_type": "execute_result",
          "data": {
            "text/plain": [
              "(246955, 3)"
            ]
          },
          "metadata": {
            "tags": []
          },
          "execution_count": 10
        },
        {
          "output_type": "stream",
          "text": [
            "time: 3.37 ms\n"
          ],
          "name": "stdout"
        }
      ]
    },
    {
      "cell_type": "code",
      "metadata": {
        "id": "rRpCbzvv4dQP",
        "colab_type": "code",
        "outputId": "7f332a31-e5cd-4d6c-cc1f-178e0b1a56b6",
        "colab": {
          "base_uri": "https://localhost:8080/",
          "height": 221
        }
      },
      "source": [
        "test.head()"
      ],
      "execution_count": 10,
      "outputs": [
        {
          "output_type": "execute_result",
          "data": {
            "text/html": [
              "<div>\n",
              "<style scoped>\n",
              "    .dataframe tbody tr th:only-of-type {\n",
              "        vertical-align: middle;\n",
              "    }\n",
              "\n",
              "    .dataframe tbody tr th {\n",
              "        vertical-align: top;\n",
              "    }\n",
              "\n",
              "    .dataframe thead th {\n",
              "        text-align: right;\n",
              "    }\n",
              "</style>\n",
              "<table border=\"1\" class=\"dataframe\">\n",
              "  <thead>\n",
              "    <tr style=\"text-align: right;\">\n",
              "      <th></th>\n",
              "      <th>id</th>\n",
              "      <th>title</th>\n",
              "      <th>language</th>\n",
              "    </tr>\n",
              "  </thead>\n",
              "  <tbody>\n",
              "    <tr>\n",
              "      <th>0</th>\n",
              "      <td>0</td>\n",
              "      <td>kit maternidade bolsa-mala baby/bebe vinho men...</td>\n",
              "      <td>portuguese</td>\n",
              "    </tr>\n",
              "    <tr>\n",
              "      <th>1</th>\n",
              "      <td>1</td>\n",
              "      <td>trocador de fraldas fisher price feminino rosa...</td>\n",
              "      <td>portuguese</td>\n",
              "    </tr>\n",
              "    <tr>\n",
              "      <th>2</th>\n",
              "      <td>2</td>\n",
              "      <td>motor ventoinha - fiat idea / palio 1.8 - a 04...</td>\n",
              "      <td>portuguese</td>\n",
              "    </tr>\n",
              "    <tr>\n",
              "      <th>3</th>\n",
              "      <td>3</td>\n",
              "      <td>amortecedor mola batente d dir new civic 14 - ...</td>\n",
              "      <td>portuguese</td>\n",
              "    </tr>\n",
              "    <tr>\n",
              "      <th>4</th>\n",
              "      <td>4</td>\n",
              "      <td>cadeirinha de carro bebê princesa princess 9 a...</td>\n",
              "      <td>portuguese</td>\n",
              "    </tr>\n",
              "  </tbody>\n",
              "</table>\n",
              "</div>"
            ],
            "text/plain": [
              "   id                                              title    language\n",
              "0   0  kit maternidade bolsa-mala baby/bebe vinho men...  portuguese\n",
              "1   1  trocador de fraldas fisher price feminino rosa...  portuguese\n",
              "2   2  motor ventoinha - fiat idea / palio 1.8 - a 04...  portuguese\n",
              "3   3  amortecedor mola batente d dir new civic 14 - ...  portuguese\n",
              "4   4  cadeirinha de carro bebê princesa princess 9 a...  portuguese"
            ]
          },
          "metadata": {
            "tags": []
          },
          "execution_count": 10
        },
        {
          "output_type": "stream",
          "text": [
            "time: 15 ms\n"
          ],
          "name": "stdout"
        }
      ]
    },
    {
      "cell_type": "markdown",
      "metadata": {
        "_uuid": "3e8b62ab-ddcf-4f60-9ff6-aa973cae0090",
        "_cell_guid": "b6b05175-66b7-46be-8c54-62d683fc9565",
        "trusted": true,
        "id": "p4zSJ73osIsA",
        "colab_type": "text"
      },
      "source": [
        "### Data Modeling\n",
        "\n",
        "I created a chart as follows, with the distribution of title sizes. The result was Gaussian distribution with sizes from 1 to 15. This was not very useful as I already had in mind that the title with until to 5 words contains enough information to properly classify the publication. This is because publication has words with generic characteristics, shipping and quantity information, and others, that are applicable to any category and can confuse the classification model.\n",
        "\n"
      ]
    },
    {
      "cell_type": "code",
      "metadata": {
        "id": "eCHh6BWPBqZ0",
        "colab_type": "code",
        "outputId": "b9be1555-d7b8-43c8-e34d-5ae1e521f28f",
        "colab": {
          "base_uri": "https://localhost:8080/",
          "height": 368
        }
      },
      "source": [
        "wordsCount = train.head(5000)['title'].apply(lambda li: len(li.split()))\n",
        "\n",
        "fig, ax = plt.subplots(figsize=(10,5))\n",
        "sns.distplot(wordsCount)\n",
        "plt.xlabel('Count of Words')"
      ],
      "execution_count": 11,
      "outputs": [
        {
          "output_type": "execute_result",
          "data": {
            "text/plain": [
              "Text(0.5, 0, 'Count of Words')"
            ]
          },
          "metadata": {
            "tags": []
          },
          "execution_count": 11
        },
        {
          "output_type": "display_data",
          "data": {
            "image/png": "[encoded data removed]",
            "text/plain": [
              "<Figure size 720x360 with 1 Axes>"
            ]
          },
          "metadata": {
            "tags": []
          }
        },
        {
          "output_type": "stream",
          "text": [
            "time: 359 ms\n"
          ],
          "name": "stdout"
        }
      ]
    },
    {
      "cell_type": "markdown",
      "metadata": {
        "id": "V7c1-rELBj4l",
        "colab_type": "text"
      },
      "source": [
        "### Function Remove StopWords and Ponctuation\n",
        "\n",
        "  Well! From that insight, I created that function that handles each word that makes up the title, to avoid duplicate words of the same meaning, and removal of those that are not useful for classification. Some key terms that recur in products from various categories like \"free shipping\", adjectives and colors, as well as words containing digits, punctuation and Stop Words have been excluded.\n",
        "\n",
        "  In this process some techniques (Word Stemmer and Lemmatization with the NLTK and Spacy libraries) were used to maintain only the main core of the ad title, but not all techniques showed significant improvement in model performance, so the lines are commented. This decrease in performance was caused by the loss of important information."
      ]
    },
    {
      "cell_type": "code",
      "metadata": {
        "_uuid": "91d4aaee-8012-4209-943e-c234ed8084bd",
        "_cell_guid": "cd255421-cb64-4cf6-85c0-0a511b55b1ad",
        "trusted": true,
        "id": "a7T1eVVNsIsB",
        "colab_type": "code",
        "outputId": "195a4bc1-6d9c-404d-a3ac-7cded65d66f2",
        "colab": {
          "base_uri": "https://localhost:8080/",
          "height": 34
        }
      },
      "source": [
        "#Word Stemmer\n",
        "#portugueseStemmer = SnowballStemmer(\"portuguese\")\n",
        "#stemmer = RSLPStemmer()\n",
        "\n",
        "#Remove Ponctuation and Numbers\n",
        "removeChar = string.punctuation\n",
        "\n",
        "notUseful = ['kit', 'frete', 'envio', 'gratis', 'pronta', 'entrega', 'nova', \n",
        "             'usado', 'usada','novo', 'original', 'cm', 'mm', 'promocao', \n",
        "             'combo', 'kg', 'nuevo', 'cm', 'mini', 'oferta', 'litros', 'negro',\n",
        "             'set', 'par', 'promocao', 'pack', 'kg', 'completo', 'profissional',\n",
        "             'black', 'grande', 'nuevo', 'nueva', 'tipo', 'ml', 'metros', \n",
        "             'universal', 'bivolt', 'new', 'pcs', 'completa', 'red', 'ano', \n",
        "             'ii', 'branco', 'branca', 'preto', 'preta', 'azul', 'vermelho', 'cinza', \n",
        "             'vermelha', 'rosa', 'verde', 'amarelo', 'unidades', 'digital', 'color',\n",
        "             'modelo', 'portatil', 'top', 'marca', 'alta', 'lote', ]\n",
        "\n",
        "stopWordsData = stopwords.words('spanish') + stopwords.words('portuguese') + list(string.ascii_lowercase) + notUseful\n",
        "\n",
        "\n",
        "def removeStopLine(line):\n",
        "    #Remove accents\n",
        "    text = unidecode.unidecode(line)\n",
        "    #Replace \",./-\" for espace\n",
        "    text = text.translate(str.maketrans(',./-', '    '))\n",
        "    #Remove ponctuation\n",
        "    text = text.translate(str.maketrans('', '', removeChar))\n",
        "    listWords = text.split()\n",
        "    #listWords = nlp(text)\n",
        "\n",
        "    #Remove StopWords and Numbers\n",
        "    #text = [portugueseStemmer.stem(word) for word in listWords if (word not in stopWordsData and not(word.isdigit()))]\n",
        "    #text = [word.lemma_ for word in listWords if (word.lemma_ not in stopWordsData and not(re.search('\\d+', word.lemma_)))]\n",
        "    text = [word for word in listWords if (word not in stopWordsData and not(re.search('\\d+', word)))]\n",
        "    text = ' '.join(text)\n",
        "    return text"
      ],
      "execution_count": 11,
      "outputs": [
        {
          "output_type": "stream",
          "text": [
            "time: 18.6 ms\n"
          ],
          "name": "stdout"
        }
      ]
    },
    {
      "cell_type": "markdown",
      "metadata": {
        "id": "joa65FMgsm7O",
        "colab_type": "text"
      },
      "source": [
        "After removal StopWords, I checked if title column has been empty to insert a data to fill registry."
      ]
    },
    {
      "cell_type": "code",
      "metadata": {
        "id": "mHA8KpwJslwO",
        "colab_type": "code",
        "outputId": "8e4353d0-bad0-4ba3-ea97-41b8f504a49e",
        "colab": {
          "base_uri": "https://localhost:8080/",
          "height": 34
        }
      },
      "source": [
        "#Drop row if length title is zero\n",
        "def indexesZeroTrain(data):\n",
        "    indexes = data[data['title_nopunc'].apply(len) == 0].index\n",
        "    print(len(indexes))\n",
        "    data.drop(indexes, inplace=True)\n",
        "    #print(data['title'][indexes])\n",
        "    #data['title_nopunc'][indexes] = 'nothing'\n",
        "    return data\n",
        "\n",
        "#Set to 'nothing' title if length is zero\n",
        "def indexesZeroTest(data):\n",
        "    indexes = data[data['title_nopunc'].apply(len) == 0].index\n",
        "    print(len(indexes))\n",
        "    data['title'][indexes] = 'nothing'\n",
        "    data['title_nopunc'][indexes] = 'nothing'\n",
        "    return data"
      ],
      "execution_count": 12,
      "outputs": [
        {
          "output_type": "stream",
          "text": [
            "time: 7.29 ms\n"
          ],
          "name": "stdout"
        }
      ]
    },
    {
      "cell_type": "markdown",
      "metadata": {
        "id": "yQd_nUorYJP0",
        "colab_type": "text"
      },
      "source": [
        "### Resize Dataset by defined size\n",
        "\n",
        "   - Because the training set is so large, I create a new DataFrame using Sklearn train_test_split with the Stratify parameter to maintain the proportion of categories in the training data."
      ]
    },
    {
      "cell_type": "code",
      "metadata": {
        "id": "6Yl--2UKX8ty",
        "colab_type": "code",
        "outputId": "db1a52d8-477d-4cf1-a7aa-14cd54899cc9",
        "colab": {
          "base_uri": "https://localhost:8080/",
          "height": 34
        }
      },
      "source": [
        "newSize = 500000 / train.shape[0]\n",
        "_, X_train = train_test_split(train, test_size=newSize, random_state=101, stratify=train.category)"
      ],
      "execution_count": 0,
      "outputs": [
        {
          "output_type": "stream",
          "text": [
            "time: 1min 9s\n"
          ],
          "name": "stdout"
        }
      ]
    },
    {
      "cell_type": "markdown",
      "metadata": {
        "id": "TXByTULOr38F",
        "colab_type": "text"
      },
      "source": [
        "### Train - Remove StopWords\n",
        "\n",
        "Here, I just apply function for remove StopWords"
      ]
    },
    {
      "cell_type": "code",
      "metadata": {
        "id": "dWAuFoTNZHmI",
        "colab_type": "code",
        "outputId": "b7168e6d-14c8-41a7-8296-506950640b03",
        "colab": {
          "base_uri": "https://localhost:8080/",
          "height": 51
        }
      },
      "source": [
        "X_train['title_nopunc'] = X_train['title'].apply(removeStopLine)\n",
        "\n",
        "X_train = indexesZeroTrain(X_train)"
      ],
      "execution_count": 0,
      "outputs": [
        {
          "output_type": "stream",
          "text": [
            "238\n",
            "time: 36.1 s\n"
          ],
          "name": "stdout"
        }
      ]
    },
    {
      "cell_type": "code",
      "metadata": {
        "id": "oFZzum7UsJKB",
        "colab_type": "code",
        "outputId": "b0f3776a-b2c6-4b72-c438-1a162f19d79b",
        "colab": {
          "base_uri": "https://localhost:8080/",
          "height": 221
        }
      },
      "source": [
        "X_train.head()"
      ],
      "execution_count": 0,
      "outputs": [
        {
          "output_type": "execute_result",
          "data": {
            "text/html": [
              "<div>\n",
              "<style scoped>\n",
              "    .dataframe tbody tr th:only-of-type {\n",
              "        vertical-align: middle;\n",
              "    }\n",
              "\n",
              "    .dataframe tbody tr th {\n",
              "        vertical-align: top;\n",
              "    }\n",
              "\n",
              "    .dataframe thead th {\n",
              "        text-align: right;\n",
              "    }\n",
              "</style>\n",
              "<table border=\"1\" class=\"dataframe\">\n",
              "  <thead>\n",
              "    <tr style=\"text-align: right;\">\n",
              "      <th></th>\n",
              "      <th>title</th>\n",
              "      <th>label_quality</th>\n",
              "      <th>language</th>\n",
              "      <th>category</th>\n",
              "      <th>title_nopunc</th>\n",
              "    </tr>\n",
              "  </thead>\n",
              "  <tbody>\n",
              "    <tr>\n",
              "      <th>12377057</th>\n",
              "      <td>funko ricochete, hanna barbera, na embalagem</td>\n",
              "      <td>reliable</td>\n",
              "      <td>portuguese</td>\n",
              "      <td>ACTION_FIGURES</td>\n",
              "      <td>funko ricochete hanna barbera embalagem</td>\n",
              "    </tr>\n",
              "    <tr>\n",
              "      <th>8227516</th>\n",
              "      <td>kit telecomunicação,aero 500 24v+ regulador +2...</td>\n",
              "      <td>unreliable</td>\n",
              "      <td>portuguese</td>\n",
              "      <td>SOLAR_PANELS</td>\n",
              "      <td>telecomunicacao aero regulador placa solar</td>\n",
              "    </tr>\n",
              "    <tr>\n",
              "      <th>4015565</th>\n",
              "      <td>posicionador cinto segurança rosa prisma 2014</td>\n",
              "      <td>unreliable</td>\n",
              "      <td>portuguese</td>\n",
              "      <td>SEAT_BELTS</td>\n",
              "      <td>posicionador cinto seguranca prisma</td>\n",
              "    </tr>\n",
              "    <tr>\n",
              "      <th>3801007</th>\n",
              "      <td>stereo sony xplod cdx-g1200u</td>\n",
              "      <td>unreliable</td>\n",
              "      <td>spanish</td>\n",
              "      <td>CAR_STEREOS</td>\n",
              "      <td>stereo sony xplod cdx</td>\n",
              "    </tr>\n",
              "    <tr>\n",
              "      <th>17591695</th>\n",
              "      <td>mesa de centro na cor rosa</td>\n",
              "      <td>unreliable</td>\n",
              "      <td>portuguese</td>\n",
              "      <td>COFFEE_TABLES</td>\n",
              "      <td>mesa centro cor</td>\n",
              "    </tr>\n",
              "  </tbody>\n",
              "</table>\n",
              "</div>"
            ],
            "text/plain": [
              "                                                      title  ...                                title_nopunc\n",
              "12377057       funko ricochete, hanna barbera, na embalagem  ...     funko ricochete hanna barbera embalagem\n",
              "8227516   kit telecomunicação,aero 500 24v+ regulador +2...  ...  telecomunicacao aero regulador placa solar\n",
              "4015565       posicionador cinto segurança rosa prisma 2014  ...         posicionador cinto seguranca prisma\n",
              "3801007                        stereo sony xplod cdx-g1200u  ...                       stereo sony xplod cdx\n",
              "17591695                         mesa de centro na cor rosa  ...                             mesa centro cor\n",
              "\n",
              "[5 rows x 5 columns]"
            ]
          },
          "metadata": {
            "tags": []
          },
          "execution_count": 18
        },
        {
          "output_type": "stream",
          "text": [
            "time: 1.06 s\n"
          ],
          "name": "stdout"
        }
      ]
    },
    {
      "cell_type": "markdown",
      "metadata": {
        "_uuid": "344e12b3-7caf-4a60-93eb-ae4bff716f08",
        "_cell_guid": "66530e95-cf7e-49e6-94d9-ec2ccced5cf5",
        "trusted": true,
        "id": "XJLkz3mosIuo",
        "colab_type": "text"
      },
      "source": [
        "### Category Feature Scaling\n",
        "\n",
        "The target column data are objects. Then using the Keras to_categorical library, I create a dictionary of the categories and convert it to a binary matrix, which will be used by the classifier."
      ]
    },
    {
      "cell_type": "code",
      "metadata": {
        "_uuid": "96b9f37a-0b13-4c65-ac87-0f8d7b294a79",
        "_cell_guid": "71507ce0-7539-4852-8a89-06595acfff10",
        "trusted": true,
        "id": "rolY0wInsIuq",
        "colab_type": "code",
        "outputId": "85763706-38e6-4614-da15-771b3b5413fc",
        "colab": {
          "base_uri": "https://localhost:8080/",
          "height": 51
        }
      },
      "source": [
        "target_names = X_train['category'].unique()\n",
        "target_dict = {n:i for i, n in enumerate(target_names)}\n",
        "\n",
        "y_train = pd.get_dummies(X_train['category'].map(target_dict))\n",
        "\n",
        "print(\"Target dataset have a size: {} \".format(y_train.shape,))"
      ],
      "execution_count": 0,
      "outputs": [
        {
          "output_type": "stream",
          "text": [
            "Target dataset have a size: (500000, 1588) \n",
            "time: 399 ms\n"
          ],
          "name": "stdout"
        }
      ]
    },
    {
      "cell_type": "code",
      "metadata": {
        "id": "DVxsG6kg9olP",
        "colab_type": "code",
        "colab": {}
      },
      "source": [
        ""
      ],
      "execution_count": 0,
      "outputs": []
    },
    {
      "cell_type": "markdown",
      "metadata": {
        "colab_type": "text",
        "id": "IhBKvBTnX26H"
      },
      "source": [
        "### Test - Remove StopWords\n",
        "\n",
        "It-s the same process applied to StopWords removal training data. Also removes the id column to help in concatenating dataframes."
      ]
    },
    {
      "cell_type": "code",
      "metadata": {
        "colab_type": "code",
        "id": "a7D79JAOX2LV",
        "outputId": "1c5df03b-bb9e-4314-90b1-ca8acb678b71",
        "colab": {
          "base_uri": "https://localhost:8080/",
          "height": 51
        }
      },
      "source": [
        "test[\"title_nopunc\"] = test['title'].apply(removeStopLine)\n",
        "\n",
        "test = indexesZeroTest(test)\n",
        "\n",
        "test.drop('id', axis=1, inplace=True)"
      ],
      "execution_count": 0,
      "outputs": [
        {
          "output_type": "stream",
          "text": [
            "29\n",
            "time: 15.3 s\n"
          ],
          "name": "stdout"
        }
      ]
    },
    {
      "cell_type": "code",
      "metadata": {
        "colab_type": "code",
        "id": "y778urPvX1kz",
        "outputId": "15c4564f-8a1e-4386-9064-05f8ae77680f",
        "colab": {
          "base_uri": "https://localhost:8080/",
          "height": 221
        }
      },
      "source": [
        "test.head()"
      ],
      "execution_count": 0,
      "outputs": [
        {
          "output_type": "execute_result",
          "data": {
            "text/html": [
              "<div>\n",
              "<style scoped>\n",
              "    .dataframe tbody tr th:only-of-type {\n",
              "        vertical-align: middle;\n",
              "    }\n",
              "\n",
              "    .dataframe tbody tr th {\n",
              "        vertical-align: top;\n",
              "    }\n",
              "\n",
              "    .dataframe thead th {\n",
              "        text-align: right;\n",
              "    }\n",
              "</style>\n",
              "<table border=\"1\" class=\"dataframe\">\n",
              "  <thead>\n",
              "    <tr style=\"text-align: right;\">\n",
              "      <th></th>\n",
              "      <th>title</th>\n",
              "      <th>language</th>\n",
              "      <th>title_nopunc</th>\n",
              "    </tr>\n",
              "  </thead>\n",
              "  <tbody>\n",
              "    <tr>\n",
              "      <th>0</th>\n",
              "      <td>kit maternidade bolsa-mala baby/bebe vinho men...</td>\n",
              "      <td>portuguese</td>\n",
              "      <td>maternidade bolsa mala baby bebe vinho menina</td>\n",
              "    </tr>\n",
              "    <tr>\n",
              "      <th>1</th>\n",
              "      <td>trocador de fraldas fisher price feminino rosa...</td>\n",
              "      <td>portuguese</td>\n",
              "      <td>trocador fraldas fisher price feminino</td>\n",
              "    </tr>\n",
              "    <tr>\n",
              "      <th>2</th>\n",
              "      <td>motor ventoinha - fiat idea / palio 1.8 - a 04...</td>\n",
              "      <td>portuguese</td>\n",
              "      <td>motor ventoinha fiat idea palio</td>\n",
              "    </tr>\n",
              "    <tr>\n",
              "      <th>3</th>\n",
              "      <td>amortecedor mola batente d dir new civic 14 - ...</td>\n",
              "      <td>portuguese</td>\n",
              "      <td>amortecedor mola batente dir civic</td>\n",
              "    </tr>\n",
              "    <tr>\n",
              "      <th>4</th>\n",
              "      <td>cadeirinha de carro bebê princesa princess 9 a...</td>\n",
              "      <td>portuguese</td>\n",
              "      <td>cadeirinha carro bebe princesa princess kgs</td>\n",
              "    </tr>\n",
              "  </tbody>\n",
              "</table>\n",
              "</div>"
            ],
            "text/plain": [
              "                                               title  ...                                   title_nopunc\n",
              "0  kit maternidade bolsa-mala baby/bebe vinho men...  ...  maternidade bolsa mala baby bebe vinho menina\n",
              "1  trocador de fraldas fisher price feminino rosa...  ...         trocador fraldas fisher price feminino\n",
              "2  motor ventoinha - fiat idea / palio 1.8 - a 04...  ...                motor ventoinha fiat idea palio\n",
              "3  amortecedor mola batente d dir new civic 14 - ...  ...             amortecedor mola batente dir civic\n",
              "4  cadeirinha de carro bebê princesa princess 9 a...  ...    cadeirinha carro bebe princesa princess kgs\n",
              "\n",
              "[5 rows x 3 columns]"
            ]
          },
          "metadata": {
            "tags": []
          },
          "execution_count": 19
        },
        {
          "output_type": "stream",
          "text": [
            "time: 11.9 ms\n"
          ],
          "name": "stdout"
        }
      ]
    },
    {
      "cell_type": "code",
      "metadata": {
        "id": "FsOVGOg9ZNSD",
        "colab_type": "code",
        "colab": {}
      },
      "source": [
        ""
      ],
      "execution_count": 0,
      "outputs": []
    },
    {
      "cell_type": "markdown",
      "metadata": {
        "id": "5JKAGWUryGGt",
        "colab_type": "text"
      },
      "source": [
        "### Function Plot Learning Curves\n",
        "\n",
        "Used to verified bias and variance of model, and identified overfitting or underfitting."
      ]
    },
    {
      "cell_type": "code",
      "metadata": {
        "id": "xQ88jfuByIfn",
        "colab_type": "code",
        "outputId": "8281a057-40c1-43d2-e034-f7358fd7d248",
        "colab": {
          "base_uri": "https://localhost:8080/",
          "height": 34
        }
      },
      "source": [
        "def plotLearningCurves(history):\n",
        "    # list all data in history\n",
        "    keys = list(history.history.keys())\n",
        "    # summarize history for accuracy\n",
        "    plt.figure(figsize=(10,5))\n",
        "    plt.subplot(1, 2, 1)\n",
        "    plt.plot(history.history[keys[1]])\n",
        "    plt.plot(history.history[keys[3]])\n",
        "    plt.title('model accuracy')\n",
        "    plt.ylabel('accuracy')\n",
        "    plt.xlabel('epoch')\n",
        "    plt.legend(['train', 'test'], loc='upper left')\n",
        "   \n",
        "    \n",
        "    # summarize history for loss\n",
        "    plt.subplot(1, 2, 2)\n",
        "    plt.plot(history.history[keys[0]])\n",
        "    plt.plot(history.history[keys[2]])\n",
        "    plt.title('model loss')\n",
        "    plt.ylabel('loss')\n",
        "    plt.xlabel('epoch')\n",
        "    plt.legend(['train', 'test'], loc='upper left')\n",
        "    \n",
        "    plt.tight_layout()\n",
        "    \n",
        "    plt.show()"
      ],
      "execution_count": 0,
      "outputs": [
        {
          "output_type": "stream",
          "text": [
            "time: 8.15 ms\n"
          ],
          "name": "stdout"
        }
      ]
    },
    {
      "cell_type": "code",
      "metadata": {
        "id": "a-FH8tUlwuWN",
        "colab_type": "code",
        "colab": {}
      },
      "source": [
        ""
      ],
      "execution_count": 0,
      "outputs": []
    },
    {
      "cell_type": "markdown",
      "metadata": {
        "id": "9PBG_u0Pfggu",
        "colab_type": "text"
      },
      "source": [
        "### Vectorizer"
      ]
    },
    {
      "cell_type": "code",
      "metadata": {
        "id": "yIO7g9KyZNd7",
        "colab_type": "code",
        "colab": {}
      },
      "source": [
        ""
      ],
      "execution_count": 0,
      "outputs": []
    },
    {
      "cell_type": "markdown",
      "metadata": {
        "_uuid": "8393a5a5-31f7-42f6-93eb-16dc4ab8d9c5",
        "_cell_guid": "b180c154-feac-435e-91f4-639e5c13cc3f",
        "trusted": true,
        "id": "wy0Oha-tsItG",
        "colab_type": "text"
      },
      "source": [
        "#### TfIDF\n",
        "\n",
        "  - As seguintes funções retornam uma matriz de recursos TF-IDF a partir do Dataframe"
      ]
    },
    {
      "cell_type": "code",
      "metadata": {
        "id": "cYTrp3HVNV0E",
        "colab_type": "code",
        "outputId": "c4422d60-717c-4674-dcee-9c1dc09ea4f2",
        "colab": {
          "base_uri": "https://localhost:8080/",
          "height": 34
        }
      },
      "source": [
        "from sklearn.feature_extraction.text import TfidfVectorizer\n",
        "\n",
        "def get_tfidf(features):\n",
        "  print(\"Creating TF-IDF matrix . . .\")\n",
        "  \n",
        "  vectorizer = TfidfVectorizer(max_features=features)\n",
        "  return vectorizer.fit_transform(X_train['title_nopunc'])"
      ],
      "execution_count": 13,
      "outputs": [
        {
          "output_type": "stream",
          "text": [
            "time: 5.53 ms\n"
          ],
          "name": "stdout"
        }
      ]
    },
    {
      "cell_type": "code",
      "metadata": {
        "id": "pDKrSJTFufuD",
        "colab_type": "code",
        "outputId": "cc7c6e81-76bb-468b-815b-3b3ed15aacc9",
        "colab": {
          "base_uri": "https://localhost:8080/",
          "height": 34
        }
      },
      "source": [
        "def create_model_1(units, features, categories):\n",
        "  print(\"Creating Deep Model . . .\")\n",
        "\n",
        "  model = tf.keras.models.Sequential()\n",
        "  model.add(tf.keras.layers.Dense(units=units, input_dim=features, activation='relu'))\n",
        "  model.add(tf.keras.layers.Dense(categories, activation='softmax'))\n",
        "  model.compile(loss='categorical_crossentropy', optimizer='adam', metrics=['acc'])\n",
        "\n",
        "  return model"
      ],
      "execution_count": 0,
      "outputs": [
        {
          "output_type": "stream",
          "text": [
            "time: 4.35 ms\n"
          ],
          "name": "stdout"
        }
      ]
    },
    {
      "cell_type": "code",
      "metadata": {
        "id": "s8c-s7Is88LE",
        "colab_type": "code",
        "outputId": "84829cdd-873a-40a9-8def-4f86c2ba200a",
        "colab": {
          "base_uri": "https://localhost:8080/",
          "height": 34
        }
      },
      "source": [
        "vocabularies = [10000, 15000, 20000, 25000, 30000, 35000, 40000, 45000, 50000]"
      ],
      "execution_count": 0,
      "outputs": [
        {
          "output_type": "stream",
          "text": [
            "time: 916 µs\n"
          ],
          "name": "stdout"
        }
      ]
    },
    {
      "cell_type": "code",
      "metadata": {
        "id": "NFQ7XorC88VF",
        "colab_type": "code",
        "outputId": "006b8765-c6d8-4787-f7e0-ee4a02f3f958",
        "colab": {
          "base_uri": "https://localhost:8080/",
          "height": 646
        }
      },
      "source": [
        "scores = list(vocabularies)\n",
        "scoresLoss = list(vocabularies)\n",
        "for i, v in enumerate(vocabularies):\n",
        "  XX_train_Tfidf, XX_test_Tfidf, yy_train_Tfidf, yy_test_Tfidf = train_test_split(get_tfidf(v), y_train, test_size=0.18, random_state=101)\n",
        "\n",
        "  model_tfidf = create_model_1( 256, XX_train_Tfidf.shape[1], yy_train_Tfidf.shape[1])\n",
        "\n",
        "  print(\"Train model with :\", v, \"/n\")\n",
        "  historyTfidf1 = model_tfidf.fit(XX_train_Tfidf, \n",
        "                                  yy_train_Tfidf, \n",
        "                                  epochs=3, \n",
        "                                  verbose=0,\n",
        "                                  validation_data=(XX_test_Tfidf, yy_test_Tfidf)\n",
        "                                )\n",
        "  scoresLoss[i] ,scores[i] = model_tfidf.evaluate(XX_test_Tfidf, yy_test_Tfidf)"
      ],
      "execution_count": 0,
      "outputs": [
        {
          "output_type": "stream",
          "text": [
            "Creating TF-IDF matrix . . .\n",
            "Creating Deep Model . . .\n",
            "Train model with : 10000\n",
            "17993/17993 [==============================] - 4s 218us/sample - loss: 1.3667 - acc: 0.7443\n",
            "Creating TF-IDF matrix . . .\n",
            "Creating Deep Model . . .\n",
            "Train model with : 15000\n",
            "17993/17993 [==============================] - 4s 223us/sample - loss: 1.3830 - acc: 0.7412\n",
            "Creating TF-IDF matrix . . .\n",
            "Creating Deep Model . . .\n",
            "Train model with : 20000\n",
            "17993/17993 [==============================] - 4s 219us/sample - loss: 1.3740 - acc: 0.7401\n",
            "Creating TF-IDF matrix . . .\n",
            "Creating Deep Model . . .\n",
            "Train model with : 25000\n",
            "17993/17993 [==============================] - 4s 219us/sample - loss: 1.3671 - acc: 0.7462\n",
            "Creating TF-IDF matrix . . .\n",
            "Creating Deep Model . . .\n",
            "Train model with : 30000\n",
            "17993/17993 [==============================] - 4s 219us/sample - loss: 1.3721 - acc: 0.7437\n",
            "Creating TF-IDF matrix . . .\n",
            "Creating Deep Model . . .\n",
            "Train model with : 35000\n",
            "17993/17993 [==============================] - 4s 234us/sample - loss: 1.3687 - acc: 0.7440\n",
            "Creating TF-IDF matrix . . .\n",
            "Creating Deep Model . . .\n",
            "Train model with : 40000\n",
            "17993/17993 [==============================] - 4s 212us/sample - loss: 1.3710 - acc: 0.7444\n",
            "Creating TF-IDF matrix . . .\n",
            "Creating Deep Model . . .\n",
            "Train model with : 45000\n",
            "17993/17993 [==============================] - 4s 214us/sample - loss: 1.3669 - acc: 0.7417\n",
            "Creating TF-IDF matrix . . .\n",
            "Creating Deep Model . . .\n",
            "Train model with : 50000\n",
            "17993/17993 [==============================] - 4s 211us/sample - loss: 1.3720 - acc: 0.7431\n",
            "time: 12min 22s\n"
          ],
          "name": "stdout"
        }
      ]
    },
    {
      "cell_type": "code",
      "metadata": {
        "id": "YCOTsQQI-wwu",
        "colab_type": "code",
        "outputId": "fa9f3066-dd71-47b4-e080-48d27bacae83",
        "colab": {
          "base_uri": "https://localhost:8080/",
          "height": 386
        }
      },
      "source": [
        "#Plot Accuracy\n",
        "plt.figure(figsize=(10,5))\n",
        "plt.subplot(1, 2, 1)\n",
        "plt.plot(vocabularies, scores)\n",
        "plt.title('Model Accuracy')\n",
        "plt.ylabel('Accuracy')\n",
        "plt.xlabel('Size Vocabulary')\n",
        "\n",
        "#Plot Loss\n",
        "plt.subplot(1, 2, 2)\n",
        "plt.plot(vocabularies, scoresLoss)\n",
        "plt.title('Model Loss')\n",
        "plt.ylabel('Loss')\n",
        "plt.xlabel('Size Vocabulary')\n",
        "\n",
        "plt.tight_layout()\n",
        "\n",
        "plt.show()"
      ],
      "execution_count": 0,
      "outputs": [
        {
          "output_type": "display_data",
          "data": {
            "image/png": "[encoded data removed]",
            "text/plain": [
              "<Figure size 720x360 with 2 Axes>"
            ]
          },
          "metadata": {
            "tags": []
          }
        },
        {
          "output_type": "stream",
          "text": [
            "time: 379 ms\n"
          ],
          "name": "stdout"
        }
      ]
    },
    {
      "cell_type": "code",
      "metadata": {
        "id": "gpe6RiQkmMi2",
        "colab_type": "code",
        "colab": {}
      },
      "source": [
        ""
      ],
      "execution_count": 0,
      "outputs": []
    },
    {
      "cell_type": "code",
      "metadata": {
        "id": "aMChvwFGzvv1",
        "colab_type": "code",
        "outputId": "0a2cb886-931c-4507-f4e0-4e452e64b7a4",
        "colab": {
          "base_uri": "https://localhost:8080/",
          "height": 34
        }
      },
      "source": [
        "units = [128, 256, 512, 1024, 2048, 4096, 6144, 8192]"
      ],
      "execution_count": 0,
      "outputs": [
        {
          "output_type": "stream",
          "text": [
            "time: 1.1 ms\n"
          ],
          "name": "stdout"
        }
      ]
    },
    {
      "cell_type": "code",
      "metadata": {
        "id": "5bsqmjCF0WGr",
        "colab_type": "code",
        "outputId": "e08e3c23-4e0c-4f44-eb83-c9e85b026683",
        "colab": {
          "base_uri": "https://localhost:8080/",
          "height": 459
        }
      },
      "source": [
        "scores = list(units)\n",
        "scoresLoss = list(units)\n",
        "\n",
        "XX_train_Tfidf, XX_test_Tfidf, yy_train_Tfidf, yy_test_Tfidf = train_test_split(get_tfidf(25000), y_train, test_size=0.18, random_state=101)\n",
        "\n",
        "for i, unit in enumerate(units):\n",
        "  \n",
        "\n",
        "  model_tfidf = create_model_1( unit, XX_train_Tfidf.shape[1], yy_train_Tfidf.shape[1])\n",
        "\n",
        "  print(\"Train model with :\", unit, \"units\")\n",
        "  history_tfidf_1 = model_tfidf.fit(XX_train_Tfidf, \n",
        "                                  yy_train_Tfidf, \n",
        "                                  epochs=3, \n",
        "                                  verbose=0,\n",
        "                                  validation_data=(XX_test_Tfidf, yy_test_Tfidf)\n",
        "                                )\n",
        "  \n",
        "  scoresLoss[i] ,scores[i] = model_tfidf.evaluate(XX_test_Tfidf, yy_test_Tfidf)"
      ],
      "execution_count": 0,
      "outputs": [
        {
          "output_type": "stream",
          "text": [
            "Creating TF-IDF matrix . . .\n",
            "Creating Deep Model . . .\n",
            "Train model with : 128 units /n\n",
            "17993/17993 [==============================] - 3s 182us/sample - loss: 1.5621 - acc: 0.7275\n",
            "Creating Deep Model . . .\n",
            "Train model with : 256 units /n\n",
            "17993/17993 [==============================] - 4s 199us/sample - loss: 1.3699 - acc: 0.7446\n",
            "Creating Deep Model . . .\n",
            "Train model with : 512 units /n\n",
            "17993/17993 [==============================] - 4s 210us/sample - loss: 1.3334 - acc: 0.7427\n",
            "Creating Deep Model . . .\n",
            "Train model with : 1024 units /n\n",
            "17993/17993 [==============================] - 4s 213us/sample - loss: 1.3550 - acc: 0.7389\n",
            "Creating Deep Model . . .\n",
            "Train model with : 2048 units /n\n",
            "17993/17993 [==============================] - 4s 217us/sample - loss: 1.4238 - acc: 0.7345\n",
            "Creating Deep Model . . .\n",
            "Train model with : 4096 units /n\n",
            "17993/17993 [==============================] - 4s 242us/sample - loss: 1.4638 - acc: 0.7360\n",
            "Creating Deep Model . . .\n",
            "Train model with : 6144 units /n\n",
            "17993/17993 [==============================] - 5s 280us/sample - loss: 1.5390 - acc: 0.7295\n",
            "Creating Deep Model . . .\n",
            "Train model with : 8192 units /n\n",
            "17993/17993 [==============================] - 5s 295us/sample - loss: 1.5273 - acc: 0.7316\n",
            "time: 21min 36s\n"
          ],
          "name": "stdout"
        }
      ]
    },
    {
      "cell_type": "code",
      "metadata": {
        "id": "MNHSOGg6Wmoc",
        "colab_type": "code",
        "outputId": "137f0006-517b-4f93-ffd2-97f67f227bf7",
        "colab": {
          "base_uri": "https://localhost:8080/",
          "height": 367
        }
      },
      "source": [
        "import matplotlib.ticker as ticker\n",
        "\n",
        "#Plot Accuracy\n",
        "plt.figure(figsize=(18,5))\n",
        "\n",
        "graf = plt.subplot(1, 2, 1)\n",
        "graf.plot(units, scores)\n",
        "\n",
        "for xy in zip(units, scores):\n",
        "    graf.annotate('%s' % xy[0], xy=xy, textcoords='data')\n",
        "\n",
        "graf.set_xscale('log')\n",
        "graf.minorticks_off()\n",
        "graf.xaxis.set_major_locator(ticker.NullLocator())\n",
        "\n",
        "graf.set_title('Model Accuracy')\n",
        "graf.set_ylabel('Accuracy')\n",
        "graf.set_xlabel('Units')\n",
        "\n",
        "#Plot Loss\n",
        "graf_loss = plt.subplot(1, 2, 2)\n",
        "graf_loss.plot(units, scoresLoss)\n",
        "\n",
        "for xy in zip(units, scoresLoss):\n",
        "    graf_loss.annotate('%s' % xy[0], xy=xy, textcoords='data')\n",
        "\n",
        "graf_loss.set_xscale('log')\n",
        "graf_loss.minorticks_off()\n",
        "graf_loss.xaxis.set_major_locator(ticker.NullLocator())\n",
        "\n",
        "graf_loss.set_title('Model Loss')\n",
        "graf_loss.set_ylabel('Loss')\n",
        "graf_loss.set_xlabel('Units')\n"
      ],
      "execution_count": 0,
      "outputs": [
        {
          "output_type": "execute_result",
          "data": {
            "text/plain": [
              "Text(0.5, 0, 'Units')"
            ]
          },
          "metadata": {
            "tags": []
          },
          "execution_count": 90
        },
        {
          "output_type": "display_data",
          "data": {
            "image/png": "[encoded data removed]",
            "text/plain": [
              "<Figure size 1296x360 with 2 Axes>"
            ]
          },
          "metadata": {
            "tags": []
          }
        },
        {
          "output_type": "stream",
          "text": [
            "time: 322 ms\n"
          ],
          "name": "stdout"
        }
      ]
    },
    {
      "cell_type": "code",
      "metadata": {
        "id": "P6s3Z6p6WGfS",
        "colab_type": "code",
        "outputId": "bfad399b-9e1f-48e0-d134-a91723fee098",
        "colab": {
          "base_uri": "https://localhost:8080/",
          "height": 34
        }
      },
      "source": [
        ""
      ],
      "execution_count": 0,
      "outputs": [
        {
          "output_type": "execute_result",
          "data": {
            "text/plain": [
              "8192"
            ]
          },
          "metadata": {
            "tags": []
          },
          "execution_count": 86
        },
        {
          "output_type": "stream",
          "text": [
            "time: 2.64 ms\n"
          ],
          "name": "stdout"
        }
      ]
    },
    {
      "cell_type": "code",
      "metadata": {
        "id": "hyhBZG141sr8",
        "colab_type": "code",
        "outputId": "9f61ef75-0ff0-409e-feae-f41e9ceb9b31",
        "colab": {
          "base_uri": "https://localhost:8080/",
          "height": 255
        }
      },
      "source": [
        "XX_train_Tfidf, XX_test_Tfidf, yy_train_Tfidf, yy_test_Tfidf = train_test_split(get_tfidf(25000), y_train, test_size=0.18, random_state=101)\n",
        "\n",
        "model_tfidf = create_model_1( 256, XX_train_Tfidf.shape[1], yy_train_Tfidf.shape[1])\n",
        "\n",
        "historyTfidf1 = model_tfidf.fit(XX_train_Tfidf, \n",
        "                                yy_train_Tfidf, \n",
        "                                epochs=5, \n",
        "                                verbose=1,\n",
        "                                validation_data=(XX_test_Tfidf, yy_test_Tfidf)\n",
        "                              )"
      ],
      "execution_count": 0,
      "outputs": [
        {
          "output_type": "stream",
          "text": [
            "Creating TF-IDF matrix . . .\n",
            "Creating Deep Model . . .\n",
            "Train on 81963 samples, validate on 17993 samples\n",
            "Epoch 1/5\n",
            "81963/81963 [==============================] - 26s 315us/sample - loss: 4.9275 - acc: 0.3319 - val_loss: 2.4742 - val_acc: 0.6204\n",
            "Epoch 2/5\n",
            "81963/81963 [==============================] - 26s 318us/sample - loss: 1.4291 - acc: 0.7629 - val_loss: 1.5686 - val_acc: 0.7204\n",
            "Epoch 3/5\n",
            "81963/81963 [==============================] - 26s 315us/sample - loss: 0.6111 - acc: 0.8852 - val_loss: 1.3755 - val_acc: 0.7462\n",
            "Epoch 4/5\n",
            "81963/81963 [==============================] - 26s 312us/sample - loss: 0.2713 - acc: 0.9469 - val_loss: 1.3468 - val_acc: 0.7425\n",
            "Epoch 5/5\n",
            "81963/81963 [==============================] - 26s 313us/sample - loss: 0.1267 - acc: 0.9738 - val_loss: 1.3533 - val_acc: 0.7425\n",
            "time: 2min 10s\n"
          ],
          "name": "stdout"
        }
      ]
    },
    {
      "cell_type": "code",
      "metadata": {
        "id": "uFfjYD-Ouya_",
        "colab_type": "code",
        "outputId": "b10d362c-af6e-4ba3-c463-088397231b8e",
        "colab": {
          "base_uri": "https://localhost:8080/",
          "height": 386
        }
      },
      "source": [
        "plotLearningCurves(historyTfidf1)"
      ],
      "execution_count": 0,
      "outputs": [
        {
          "output_type": "display_data",
          "data": {
            "image/png": "[encoded data removed]",
            "text/plain": [
              "<Figure size 720x360 with 2 Axes>"
            ]
          },
          "metadata": {
            "tags": []
          }
        },
        {
          "output_type": "stream",
          "text": [
            "time: 434 ms\n"
          ],
          "name": "stdout"
        }
      ]
    },
    {
      "cell_type": "code",
      "metadata": {
        "id": "xxFN7Kr5ufGL",
        "colab_type": "code",
        "colab": {}
      },
      "source": [
        ""
      ],
      "execution_count": 0,
      "outputs": []
    },
    {
      "cell_type": "code",
      "metadata": {
        "id": "e2rqYxYZkvF-",
        "colab_type": "code",
        "outputId": "cfdad089-4484-4a7d-fa74-11e62096be2e",
        "colab": {
          "base_uri": "https://localhost:8080/",
          "height": 255
        }
      },
      "source": [
        "XX_train_Tfidf, XX_test_Tfidf, yy_train_Tfidf, yy_test_Tfidf = train_test_split(get_tfidf(25000), y_train, test_size=0.18, random_state=101)\n",
        "\n",
        "model_tfidf = create_model_1( 256, XX_train_Tfidf.shape[1], yy_train_Tfidf.shape[1])\n",
        "\n",
        "history_Tfidf_2 = model_tfidf.fit(XX_train_Tfidf, \n",
        "                                yy_train_Tfidf, \n",
        "                                epochs=5, \n",
        "                                verbose=1,\n",
        "                                batch_size=32,\n",
        "                                validation_data=(XX_test_Tfidf, yy_test_Tfidf)\n",
        "                              )"
      ],
      "execution_count": 0,
      "outputs": [
        {
          "output_type": "stream",
          "text": [
            "Creating TF-IDF matrix . . .\n",
            "Creating Deep Model . . .\n",
            "Train on 81963 samples, validate on 17993 samples\n",
            "Epoch 1/5\n",
            "81963/81963 [==============================] - 25s 311us/sample - loss: 4.8902 - acc: 0.3439 - val_loss: 2.4636 - val_acc: 0.6226\n",
            "Epoch 2/5\n",
            "81963/81963 [==============================] - 25s 308us/sample - loss: 1.4121 - acc: 0.7630 - val_loss: 1.5664 - val_acc: 0.7221\n",
            "Epoch 3/5\n",
            "81963/81963 [==============================] - 25s 306us/sample - loss: 0.5976 - acc: 0.8893 - val_loss: 1.3723 - val_acc: 0.7428\n",
            "Epoch 4/5\n",
            "81963/81963 [==============================] - 26s 314us/sample - loss: 0.2678 - acc: 0.9475 - val_loss: 1.3475 - val_acc: 0.7437\n",
            "Epoch 5/5\n",
            "81963/81963 [==============================] - 27s 332us/sample - loss: 0.1251 - acc: 0.9747 - val_loss: 1.3618 - val_acc: 0.7442\n",
            "time: 2min 9s\n"
          ],
          "name": "stdout"
        }
      ]
    },
    {
      "cell_type": "code",
      "metadata": {
        "id": "8esoVkequewO",
        "colab_type": "code",
        "outputId": "bb5388a5-06c4-4920-8137-d1b79ee87306",
        "colab": {
          "base_uri": "https://localhost:8080/",
          "height": 386
        }
      },
      "source": [
        "plotLearningCurves(history_Tfidf_2)"
      ],
      "execution_count": 0,
      "outputs": [
        {
          "output_type": "display_data",
          "data": {
            "image/png": "[encoded data removed]",
            "text/plain": [
              "<Figure size 720x360 with 2 Axes>"
            ]
          },
          "metadata": {
            "tags": []
          }
        },
        {
          "output_type": "stream",
          "text": [
            "time: 400 ms\n"
          ],
          "name": "stdout"
        }
      ]
    },
    {
      "cell_type": "markdown",
      "metadata": {
        "id": "VdVR69KSkq2L",
        "colab_type": "text"
      },
      "source": [
        "Model "
      ]
    },
    {
      "cell_type": "code",
      "metadata": {
        "id": "Jn_oIkqoUuAd",
        "colab_type": "code",
        "outputId": "fe3c54ef-bf50-47bf-c7c4-1864fd3e6325",
        "colab": {
          "base_uri": "https://localhost:8080/",
          "height": 170
        }
      },
      "source": [
        "XX_train_Tfidf, XX_test_Tfidf, yy_train_Tfidf, yy_test_Tfidf = train_test_split(get_tfidf(25000), y_train, test_size=0.18, random_state=101)\n",
        "\n",
        "model = tf.keras.models.Sequential()\n",
        "model.add(tf.keras.layers.Dense(units=256, activation='relu', input_shape=(XX_train_Tfidf.shape[1], )))\n",
        "model.add(tf.keras.layers.Dense(units=y_train.shape[1], activation='softmax'))\n",
        "\n",
        "model.compile(optimizer ='adam', loss='categorical_crossentropy', metrics=['categorical_accuracy'])\n",
        "\n",
        "history_Tfidf_cat = model.fit(XX_train_Tfidf, \n",
        "                         yy_train_Tfidf, \n",
        "                         epochs=3, \n",
        "                         verbose=1,\n",
        "                         validation_data=(XX_test_Tfidf, yy_test_Tfidf)\n",
        "                         )"
      ],
      "execution_count": 0,
      "outputs": [
        {
          "output_type": "stream",
          "text": [
            "Creating TF-IDF matrix . . .\n",
            "Train on 81963 samples, validate on 17993 samples\n",
            "Epoch 1/3\n",
            "81963/81963 [==============================] - 17s 205us/sample - loss: 4.8552 - categorical_accuracy: 0.3437 - val_loss: 2.3969 - val_categorical_accuracy: 0.6314\n",
            "Epoch 2/3\n",
            "81963/81963 [==============================] - 16s 201us/sample - loss: 1.4328 - categorical_accuracy: 0.7550 - val_loss: 1.5375 - val_categorical_accuracy: 0.7244\n",
            "Epoch 3/3\n",
            "81963/81963 [==============================] - 16s 201us/sample - loss: 0.6788 - categorical_accuracy: 0.8674 - val_loss: 1.3577 - val_categorical_accuracy: 0.7408\n",
            "time: 50.8 s\n"
          ],
          "name": "stdout"
        }
      ]
    },
    {
      "cell_type": "code",
      "metadata": {
        "id": "b8UE8qDrVYfs",
        "colab_type": "code",
        "outputId": "f2992bef-0073-4760-fa84-ca2885aaa616",
        "colab": {
          "base_uri": "https://localhost:8080/",
          "height": 386
        }
      },
      "source": [
        "plotLearningCurves(history_Tfidf_cat)"
      ],
      "execution_count": 0,
      "outputs": [
        {
          "output_type": "display_data",
          "data": {
            "image/png": "[encoded data removed]",
            "text/plain": [
              "<Figure size 720x360 with 2 Axes>"
            ]
          },
          "metadata": {
            "tags": []
          }
        },
        {
          "output_type": "stream",
          "text": [
            "time: 396 ms\n"
          ],
          "name": "stdout"
        }
      ]
    },
    {
      "cell_type": "code",
      "metadata": {
        "id": "8k6-RXhmVYqb",
        "colab_type": "code",
        "colab": {}
      },
      "source": [
        ""
      ],
      "execution_count": 0,
      "outputs": []
    },
    {
      "cell_type": "markdown",
      "metadata": {
        "id": "j_6Ys7nqr92g",
        "colab_type": "text"
      },
      "source": [
        "OK! \n",
        "\n",
        "After these tests we can set same hyperparameters:\n",
        "  - Size of vocabulary of 25000\n",
        "  - One Dense layer with 256 units\n",
        "  - Three epochs is enought\n",
        "\n",
        "Now ..."
      ]
    },
    {
      "cell_type": "code",
      "metadata": {
        "id": "z99TG5wFVwfq",
        "colab_type": "code",
        "colab": {}
      },
      "source": [
        ""
      ],
      "execution_count": 0,
      "outputs": []
    },
    {
      "cell_type": "markdown",
      "metadata": {
        "id": "UKJZj4iWw3N3",
        "colab_type": "text"
      },
      "source": [
        "#### KBest\n",
        "\n",
        "..."
      ]
    },
    {
      "cell_type": "code",
      "metadata": {
        "id": "Oif-uMgVZXZv",
        "colab_type": "code",
        "outputId": "04d7c903-0ed8-4ba7-f9bd-9a9421b4828d",
        "colab": {
          "base_uri": "https://localhost:8080/",
          "height": 34
        }
      },
      "source": [
        "from sklearn.feature_extraction.text import CountVectorizer\n",
        "from sklearn.feature_selection import SelectKBest, chi2\n",
        "\n",
        "vectorizer = CountVectorizer()\n",
        "X_train_count = vectorizer.fit_transform(X_train.title_nopunc.astype(str))\n",
        "X_train_count.shape\n",
        "\n",
        "kbest = SelectKBest(score_func = chi2, k = 25000)\n",
        "kbest.fit(X_train_count, y_train)"
      ],
      "execution_count": 0,
      "outputs": [
        {
          "output_type": "execute_result",
          "data": {
            "text/plain": [
              "SelectKBest(k=25000, score_func=<function chi2 at 0x7ff1dc95e8c8>)"
            ]
          },
          "metadata": {
            "tags": []
          },
          "execution_count": 36
        },
        {
          "output_type": "stream",
          "text": [
            "time: 22.2 s\n"
          ],
          "name": "stdout"
        }
      ]
    },
    {
      "cell_type": "code",
      "metadata": {
        "id": "gpnZTd0mZNn8",
        "colab_type": "code",
        "outputId": "062c91f0-67c3-4a9c-cfce-b2ca416860ce",
        "colab": {
          "base_uri": "https://localhost:8080/",
          "height": 51
        }
      },
      "source": [
        "X_train_KBest = kbest.transform(X_train_count)\n",
        "print(X_train_KBest.shape)"
      ],
      "execution_count": 0,
      "outputs": [
        {
          "output_type": "stream",
          "text": [
            "(99956, 25000)\n",
            "time: 13.7 ms\n"
          ],
          "name": "stdout"
        }
      ]
    },
    {
      "cell_type": "code",
      "metadata": {
        "id": "HK-_FhpoCP7X",
        "colab_type": "code",
        "outputId": "86d2b2c2-8b29-400d-aa33-ed1fdebd5b39",
        "colab": {
          "base_uri": "https://localhost:8080/",
          "height": 34
        }
      },
      "source": [
        "XX_train_KBest, XX_test_KBest, yy_train_KBest, yy_test_KBest = train_test_split(X_train_KBest, y_train, test_size=0.18, random_state=101)"
      ],
      "execution_count": 0,
      "outputs": [
        {
          "output_type": "stream",
          "text": [
            "time: 154 ms\n"
          ],
          "name": "stdout"
        }
      ]
    },
    {
      "cell_type": "code",
      "metadata": {
        "id": "XVbxGTPYZNxj",
        "colab_type": "code",
        "outputId": "108b670b-1daf-420c-a984-e91efe61e853",
        "colab": {
          "base_uri": "https://localhost:8080/",
          "height": 153
        }
      },
      "source": [
        "model = tf.keras.models.Sequential()\n",
        "model.add(tf.keras.layers.Dense(units=256, activation='relu', input_shape=(X_train_KBest.shape[1], )))\n",
        "model.add(tf.keras.layers.Dense(units=y_train.shape[1], activation='softmax'))\n",
        "\n",
        "model.compile(optimizer ='adam', loss='categorical_crossentropy', metrics=['acc'])\n",
        "\n",
        "historyKBest = model.fit(XX_train_KBest, \n",
        "                         yy_train_KBest, \n",
        "                         epochs=3, \n",
        "                         verbose=1,\n",
        "                         validation_data=(XX_test_KBest, yy_test_KBest)\n",
        "                         )"
      ],
      "execution_count": 0,
      "outputs": [
        {
          "output_type": "stream",
          "text": [
            "Train on 81963 samples, validate on 17993 samples\n",
            "Epoch 1/3\n",
            "81963/81963 [==============================] - 18s 216us/sample - loss: 3.9038 - acc: 0.4536 - val_loss: 1.8658 - val_acc: 0.6858\n",
            "Epoch 2/3\n",
            "81963/81963 [==============================] - 18s 218us/sample - loss: 1.0852 - acc: 0.7943 - val_loss: 1.4245 - val_acc: 0.7354\n",
            "Epoch 3/3\n",
            "81963/81963 [==============================] - 18s 222us/sample - loss: 0.5042 - acc: 0.8940 - val_loss: 1.3711 - val_acc: 0.7423\n",
            "time: 54.1 s\n"
          ],
          "name": "stdout"
        }
      ]
    },
    {
      "cell_type": "code",
      "metadata": {
        "id": "EY2odYYFbSi4",
        "colab_type": "code",
        "outputId": "165ea80c-056c-4996-e6f7-5a370f984db2",
        "colab": {
          "base_uri": "https://localhost:8080/",
          "height": 386
        }
      },
      "source": [
        "plotLearningCurves(historyKBest)"
      ],
      "execution_count": 0,
      "outputs": [
        {
          "output_type": "display_data",
          "data": {
            "image/png": "[encoded data removed]",
            "text/plain": [
              "<Figure size 720x360 with 2 Axes>"
            ]
          },
          "metadata": {
            "tags": []
          }
        },
        {
          "output_type": "stream",
          "text": [
            "time: 395 ms\n"
          ],
          "name": "stdout"
        }
      ]
    },
    {
      "cell_type": "code",
      "metadata": {
        "id": "re4NayBLa_38",
        "colab_type": "code",
        "colab": {}
      },
      "source": [
        ""
      ],
      "execution_count": 0,
      "outputs": []
    },
    {
      "cell_type": "markdown",
      "metadata": {
        "id": "_0-P5gwEg3gX",
        "colab_type": "text"
      },
      "source": [
        "#### TF-IDF N-Gram"
      ]
    },
    {
      "cell_type": "code",
      "metadata": {
        "_uuid": "2532b500-df6b-4a82-a52e-f14b166bc06c",
        "_cell_guid": "57dd006b-5da6-4121-9573-4abeae190d61",
        "trusted": true,
        "id": "rU2wOGEhsItP",
        "colab_type": "code",
        "outputId": "821df79f-02ba-4550-fd6f-f4036ecfeaf4",
        "colab": {
          "base_uri": "https://localhost:8080/",
          "height": 34
        }
      },
      "source": [
        "vectorizer_nGram = TfidfVectorizer(ngram_range=(1,2), analyzer='word', max_features=25000) # You can still specify n-grams here.\n",
        "X_train_nGram = vectorizer_nGram.fit_transform(X_train['title_nopunc'].tolist())"
      ],
      "execution_count": 0,
      "outputs": [
        {
          "output_type": "stream",
          "text": [
            "time: 2.14 s\n"
          ],
          "name": "stdout"
        }
      ]
    },
    {
      "cell_type": "code",
      "metadata": {
        "id": "je6051aKbM9P",
        "colab_type": "code",
        "outputId": "dcb82389-826f-4c4b-e140-72d32d420433",
        "colab": {
          "base_uri": "https://localhost:8080/",
          "height": 34
        }
      },
      "source": [
        "XX_train_nGram, XX_test_nGram, yy_train_nGram, yy_test_nGram = train_test_split(X_train_nGram, y_train, test_size=0.18, random_state=101)"
      ],
      "execution_count": 0,
      "outputs": [
        {
          "output_type": "stream",
          "text": [
            "time: 175 ms\n"
          ],
          "name": "stdout"
        }
      ]
    },
    {
      "cell_type": "code",
      "metadata": {
        "id": "KiywUWrhbWTd",
        "colab_type": "code",
        "outputId": "4fbbfc88-3f25-4234-d590-2eb26de90d8f",
        "colab": {
          "base_uri": "https://localhost:8080/",
          "height": 153
        }
      },
      "source": [
        "model = tf.keras.models.Sequential()\n",
        "model.add(tf.keras.layers.Dense(units=256, activation='relu', input_shape=(XX_train_nGram.shape[1], )))\n",
        "model.add(tf.keras.layers.Dense(units=y_train.shape[1], activation='softmax'))\n",
        "\n",
        "model.compile(optimizer ='adam', loss='categorical_crossentropy', metrics=['acc'])\n",
        "\n",
        "historynGram = model.fit(XX_train_nGram, \n",
        "                         yy_train_nGram, \n",
        "                         epochs=3, \n",
        "                         verbose=1,\n",
        "                         validation_data=(XX_test_nGram, yy_test_nGram)\n",
        "                         )"
      ],
      "execution_count": 0,
      "outputs": [
        {
          "output_type": "stream",
          "text": [
            "Train on 81963 samples, validate on 17993 samples\n",
            "Epoch 1/3\n",
            "81963/81963 [==============================] - 17s 207us/sample - loss: 4.7517 - acc: 0.3687 - val_loss: 2.3204 - val_acc: 0.6454\n",
            "Epoch 2/3\n",
            "81963/81963 [==============================] - 17s 202us/sample - loss: 1.4146 - acc: 0.7574 - val_loss: 1.5471 - val_acc: 0.7224\n",
            "Epoch 3/3\n",
            "81963/81963 [==============================] - 17s 213us/sample - loss: 0.7114 - acc: 0.8589 - val_loss: 1.4162 - val_acc: 0.7345\n",
            "time: 51.4 s\n"
          ],
          "name": "stdout"
        }
      ]
    },
    {
      "cell_type": "code",
      "metadata": {
        "id": "ehCBGQUfbNRX",
        "colab_type": "code",
        "colab": {}
      },
      "source": [
        ""
      ],
      "execution_count": 0,
      "outputs": []
    },
    {
      "cell_type": "code",
      "metadata": {
        "id": "_ck64eFZYFBU",
        "colab_type": "code",
        "outputId": "851cfa98-d102-48b0-cbdd-18bea3cc789b",
        "colab": {
          "base_uri": "https://localhost:8080/",
          "height": 34
        }
      },
      "source": [
        "frequencies = sum(X_train_nGram).toarray()[0]\n",
        "x = pd.DataFrame(frequencies, index=vectorizer_nGram.get_feature_names(), columns=['frequency'])\n",
        "x.sort_values(by=['frequency'], ascending=False, inplace=True)\n"
      ],
      "execution_count": 0,
      "outputs": [
        {
          "output_type": "stream",
          "text": [
            "time: 1min 52s\n"
          ],
          "name": "stdout"
        }
      ]
    },
    {
      "cell_type": "code",
      "metadata": {
        "_uuid": "6feabea8-1b80-4a08-803f-559e769a0ca2",
        "_cell_guid": "d71e6346-f98c-427c-8fe9-a7fc813e9ac1",
        "trusted": true,
        "id": "5RbkmDATsIt1",
        "colab_type": "code",
        "colab": {}
      },
      "source": [
        ""
      ],
      "execution_count": 0,
      "outputs": []
    },
    {
      "cell_type": "markdown",
      "metadata": {
        "id": "dFlqYq7uyx3u",
        "colab_type": "text"
      },
      "source": [
        "### Word Embeeding\n",
        "\n",
        "  - A sequência a seguir concatena os dataframes de treino e test a fim de que o algoritmo de treinamento esteva familiarizado com o conteúdo do dataset de test. \n",
        "  - Define o tamanho do vocabulário com as palavras mais importantes, classificadas pelo Keras Tokenizer\n",
        "  - Verifica se alguma linha ficou vazia e adiciona o title tratado para não perder aquele registro."
      ]
    },
    {
      "cell_type": "code",
      "metadata": {
        "id": "FeuWGLP6hYWo",
        "colab_type": "code",
        "outputId": "85f9d7fa-a171-470a-8fa0-96ee58a22d4c",
        "colab": {
          "base_uri": "https://localhost:8080/",
          "height": 34
        }
      },
      "source": [
        "from keras.preprocessing.text import Tokenizer\n",
        "from keras.preprocessing.sequence import pad_sequences\n",
        "\n",
        "from tensorflow.keras.models import Sequential\n",
        "from tensorflow.keras.layers import Dense, Embedding, Dropout, Conv1D, MaxPooling1D, Activation, LSTM"
      ],
      "execution_count": 0,
      "outputs": [
        {
          "output_type": "stream",
          "text": [
            "time: 1.55 ms\n"
          ],
          "name": "stdout"
        }
      ]
    },
    {
      "cell_type": "code",
      "metadata": {
        "id": "Gb_ptixpeXbZ",
        "colab_type": "code",
        "outputId": "615d7927-fa05-44d7-9837-4b5a9b8d0f88",
        "colab": {
          "base_uri": "https://localhost:8080/",
          "height": 85
        }
      },
      "source": [
        "max_features = 25000\n",
        "maxlen = 10\n",
        "\n",
        "tokenizer = Tokenizer(num_words=max_features)\n",
        "tokenizer.fit_on_texts(X_train['title_nopunc'])\n",
        "\n",
        "X_train_Emb = tokenizer.texts_to_sequences(X_train['title_nopunc'])\n",
        "\n",
        "print('Loading data...')\n",
        "print(len(X_train_Emb), 'train sequences')\n",
        "\n",
        "X_train_Emb = pad_sequences(X_train_Emb, maxlen=maxlen)\n",
        "print('X_train shape:', X_train_Emb.shape)"
      ],
      "execution_count": 0,
      "outputs": [
        {
          "output_type": "stream",
          "text": [
            "Loading data...\n",
            "99956 train sequences\n",
            "X_train shape: (99956, 10)\n",
            "time: 2.74 s\n"
          ],
          "name": "stdout"
        }
      ]
    },
    {
      "cell_type": "code",
      "metadata": {
        "id": "UYbpq511eQQO",
        "colab_type": "code",
        "outputId": "0140e9e4-4c7f-44ed-9776-1e643e751593",
        "colab": {
          "base_uri": "https://localhost:8080/",
          "height": 34
        }
      },
      "source": [
        "XX_train_Emb, XX_test_Emb, yy_train_Emb, yy_test_Emb = train_test_split(X_train_Emb, y_train, test_size=0.18, random_state=101)"
      ],
      "execution_count": 0,
      "outputs": [
        {
          "output_type": "stream",
          "text": [
            "time: 159 ms\n"
          ],
          "name": "stdout"
        }
      ]
    },
    {
      "cell_type": "markdown",
      "metadata": {
        "id": "fv7TdtluxXL_",
        "colab_type": "text"
      },
      "source": [
        "#### Model Just Embedding\n",
        "\n",
        "100k Accuracy: 0.9947 Val_accuracy: 0.7161\n",
        "\n",
        "819629/819629 [==============================] - 1562s 2ms/sample - loss: 0.7554 - accuracy: 0.8371 - val_loss: 0.9443 - val_accuracy: 0.8152"
      ]
    },
    {
      "cell_type": "code",
      "metadata": {
        "id": "WwNwWNW0n0mc",
        "colab_type": "code",
        "outputId": "8de18f37-4f60-4799-846f-7d3157c3de14",
        "colab": {
          "base_uri": "https://localhost:8080/",
          "height": 306
        }
      },
      "source": [
        "print('Build model...')\n",
        "\n",
        "category_size = y_train.shape[1]\n",
        "\n",
        "model = Sequential()\n",
        "model.add(Embedding(max_features, 256))\n",
        "model.add(LSTM(256, dropout=0.2, recurrent_dropout=0.2))\n",
        "model.add(Dense(category_size, activation='softmax'))\n",
        "\n",
        "model.compile(optimizer='adam',\n",
        "                loss='categorical_crossentropy',\n",
        "                metrics=['accuracy'])\n",
        "\n",
        "print('Train...')\n",
        "historyEmb2 = model.fit(XX_train_Emb, \n",
        "                        yy_train_Emb,\n",
        "                        batch_size=32,\n",
        "                        epochs=3,\n",
        "                        validation_data=(XX_test_Emb, yy_test_Emb)\n",
        "                        )\n",
        "\n",
        "#Model Evaluate\n",
        "score, acc = model.evaluate(XX_test_Emb, yy_test_Emb, batch_size=32)\n",
        "print('Test score:', score)\n",
        "print('Test accuracy:', acc)"
      ],
      "execution_count": 0,
      "outputs": [
        {
          "output_type": "stream",
          "text": [
            "Build model...\n",
            "WARNING:tensorflow:<tensorflow.python.keras.layers.recurrent.UnifiedLSTM object at 0x7ff1ec0b3668>: Note that this layer is not optimized for performance. Please use tf.keras.layers.CuDNNLSTM for better performance on GPU.\n",
            "WARNING:tensorflow:From /usr/local/lib/python3.6/dist-packages/tensorflow/python/keras/backend.py:4081: calling dropout (from tensorflow.python.ops.nn_ops) with keep_prob is deprecated and will be removed in a future version.\n",
            "Instructions for updating:\n",
            "Please use `rate` instead of `keep_prob`. Rate should be set to `rate = 1 - keep_prob`.\n",
            "Train...\n",
            "Train on 81963 samples, validate on 17993 samples\n",
            "Epoch 1/3\n",
            "81963/81963 [==============================] - 123s 1ms/sample - loss: 5.1365 - accuracy: 0.1882 - val_loss: 2.7891 - val_accuracy: 0.5219\n",
            "Epoch 2/3\n",
            "81963/81963 [==============================] - 121s 1ms/sample - loss: 1.9784 - accuracy: 0.6355 - val_loss: 1.8711 - val_accuracy: 0.6737\n",
            "Epoch 3/3\n",
            "81963/81963 [==============================] - 125s 2ms/sample - loss: 1.1177 - accuracy: 0.7713 - val_loss: 1.7388 - val_accuracy: 0.6990\n",
            "17993/17993 [==============================] - 3s 170us/sample - loss: 1.7388 - accuracy: 0.6990\n",
            "Test score: 1.738840732620575\n",
            "Test accuracy: 0.69904965\n",
            "time: 6min 13s\n"
          ],
          "name": "stdout"
        }
      ]
    },
    {
      "cell_type": "code",
      "metadata": {
        "id": "i1TvXQY4qWKA",
        "colab_type": "code",
        "outputId": "d4e3904f-a5dd-4ff1-9b71-c19319b81945",
        "colab": {
          "base_uri": "https://localhost:8080/",
          "height": 386
        }
      },
      "source": [
        "plotLearningCurves(historyEmb2)"
      ],
      "execution_count": 0,
      "outputs": [
        {
          "output_type": "display_data",
          "data": {
            "image/png": "[encoded data removed]",
            "text/plain": [
              "<Figure size 720x360 with 2 Axes>"
            ]
          },
          "metadata": {
            "tags": []
          }
        },
        {
          "output_type": "stream",
          "text": [
            "time: 414 ms\n"
          ],
          "name": "stdout"
        }
      ]
    },
    {
      "cell_type": "markdown",
      "metadata": {
        "id": "8t5GRKifxKfh",
        "colab_type": "text"
      },
      "source": [
        "#### Model with Convolution Neural Network"
      ]
    },
    {
      "cell_type": "code",
      "metadata": {
        "id": "8jaVEW7zeQ3Y",
        "colab_type": "code",
        "outputId": "7edf86c4-07b2-49e2-b67c-56ed0d148943",
        "colab": {
          "base_uri": "https://localhost:8080/",
          "height": 357
        }
      },
      "source": [
        "embedding_size = 32\n",
        "\n",
        "# Convolution\n",
        "kernel_size = 3\n",
        "filters = 64\n",
        "\n",
        "print('Build model...')\n",
        "\n",
        "model = Sequential()\n",
        "model.add(Embedding(max_features, embedding_size, input_length=maxlen))\n",
        "model.add(Dropout(0.2))\n",
        "model.add(Conv1D(filters,\n",
        "                 kernel_size,\n",
        "                 padding='valid',\n",
        "                 activation='relu',\n",
        "                 strides=1))\n",
        "model.add(MaxPooling1D())\n",
        "model.add(LSTM(1024))\n",
        "model.add(Dense(y_train.shape[1]))\n",
        "model.add(Activation('softmax'))\n",
        "\n",
        "model.compile(loss='categorical_crossentropy', optimizer='adam', metrics=['acc'])\n",
        "\n",
        "print('Train...')\n",
        "historyEmb = model.fit(XX_train_Emb, \n",
        "                       yy_train_Emb,\n",
        "                       batch_size=32,\n",
        "                       epochs=6,\n",
        "                       validation_data=(XX_test_Emb, yy_test_Emb)\n",
        "                       )\n",
        "\n",
        "#Model Evaluate\n",
        "score, acc = model.evaluate(XX_test_Emb, yy_test_Emb, batch_size=32)\n",
        "print('Test score:', score)\n",
        "print('Test accuracy:', acc)"
      ],
      "execution_count": 0,
      "outputs": [
        {
          "output_type": "stream",
          "text": [
            "Build model...\n",
            "WARNING:tensorflow:<tensorflow.python.keras.layers.recurrent.UnifiedLSTM object at 0x7ff1f9d14550>: Note that this layer is not optimized for performance. Please use tf.keras.layers.CuDNNLSTM for better performance on GPU.\n",
            "Train...\n",
            "Train on 81963 samples, validate on 17993 samples\n",
            "Epoch 1/6\n",
            "81963/81963 [==============================] - 18s 225us/sample - loss: 6.0652 - acc: 0.0509 - val_loss: 4.3768 - val_acc: 0.2192\n",
            "Epoch 2/6\n",
            "81963/81963 [==============================] - 18s 220us/sample - loss: 3.4531 - acc: 0.3451 - val_loss: 2.8001 - val_acc: 0.4964\n",
            "Epoch 3/6\n",
            "81963/81963 [==============================] - 18s 221us/sample - loss: 2.2351 - acc: 0.5448 - val_loss: 2.3857 - val_acc: 0.5674\n",
            "Epoch 4/6\n",
            "81963/81963 [==============================] - 18s 221us/sample - loss: 1.6432 - acc: 0.6413 - val_loss: 2.2260 - val_acc: 0.6164\n",
            "Epoch 5/6\n",
            "81963/81963 [==============================] - 18s 219us/sample - loss: 1.2682 - acc: 0.7084 - val_loss: 2.1911 - val_acc: 0.6267\n",
            "Epoch 6/6\n",
            "81963/81963 [==============================] - 18s 221us/sample - loss: 0.9925 - acc: 0.7592 - val_loss: 2.2155 - val_acc: 0.6386\n",
            "17993/17993 [==============================] - 2s 89us/sample - loss: 2.2155 - acc: 0.6386\n",
            "Test score: 2.215527768331975\n",
            "Test accuracy: 0.6385817\n",
            "time: 1min 52s\n"
          ],
          "name": "stdout"
        }
      ]
    },
    {
      "cell_type": "code",
      "metadata": {
        "id": "dIZ6eEhmk88l",
        "colab_type": "code",
        "outputId": "a77587d0-2893-4a99-9298-cd35bc09bf96",
        "colab": {
          "base_uri": "https://localhost:8080/",
          "height": 386
        }
      },
      "source": [
        "plotLearningCurves(historyEmb)"
      ],
      "execution_count": 0,
      "outputs": [
        {
          "output_type": "display_data",
          "data": {
            "image/png": "[encoded data removed]",
            "text/plain": [
              "<Figure size 720x360 with 2 Axes>"
            ]
          },
          "metadata": {
            "tags": []
          }
        },
        {
          "output_type": "stream",
          "text": [
            "time: 371 ms\n"
          ],
          "name": "stdout"
        }
      ]
    },
    {
      "cell_type": "code",
      "metadata": {
        "_uuid": "ce046da7-e705-40ec-856e-974601ec8d06",
        "_cell_guid": "781911b6-f429-485f-a5d5-eac7bafd7041",
        "trusted": true,
        "id": "QgshQw99sIrk",
        "colab_type": "code",
        "outputId": "171509bb-2e4a-409c-8a95-5296ec453e80",
        "colab": {
          "base_uri": "https://localhost:8080/",
          "height": 34
        }
      },
      "source": [
        ""
      ],
      "execution_count": 0,
      "outputs": [
        {
          "output_type": "stream",
          "text": [
            "time: 12.5 ms\n"
          ],
          "name": "stdout"
        }
      ]
    },
    {
      "cell_type": "markdown",
      "metadata": {
        "id": "n4iowKvwXilF",
        "colab_type": "text"
      },
      "source": [
        "### KFold Method\n"
      ]
    },
    {
      "cell_type": "markdown",
      "metadata": {
        "id": "vw1oY6cikkUd",
        "colab_type": "text"
      },
      "source": [
        "In this approach, I split dataset in folds and I training model with all folds adding the predict to a DataFrame of results.\n",
        "\n",
        "The procedure, for the training part, may be described as follows:\n",
        "\n",
        "\n",
        "1. Split the total training set into folds(here **train** and .**val (validation)** )\n",
        "\n",
        "2. Iterate in all Folds and train the model (**train**)\n",
        "\n",
        "3. Predict results this Fold on the second part (**val**)\n",
        "\n",
        "4. With the predictions from 3 I add to DataFrame results.\n",
        "\n",
        "The first three steps are done iteratively . If we take for example a 5-fold stacking , we first split the training data into 5 folds. Then we will do 5 iterations. In each iteration,  I train deep model on 4 folds and predict on the remaining fold (holdout fold). \n",
        "\n",
        "So, we will be sure, after 5 iterations , that the entire data is used to get out-of-folds predictions.\n",
        "\n",
        "For the prediction part , in DataFrame with results I apply np.argmax to extract the maximum column value and convert on category results.\n",
        "\n",
        "The following image explains this approach."
      ]
    },
    {
      "cell_type": "markdown",
      "metadata": {
        "id": "PndcdXNkfPXC",
        "colab_type": "text"
      },
      "source": [
        "![Faron](http://i.imgur.com/QBuDOjs.jpg)\n",
        "\n",
        "(Image taken from [Faron](https://www.kaggle.com/getting-started/18153#post103381))"
      ]
    },
    {
      "cell_type": "code",
      "metadata": {
        "id": "JkBQWEUyjoll",
        "colab_type": "code",
        "outputId": "de0b9dab-07e9-4aba-c825-9517aa50208a",
        "colab": {
          "base_uri": "https://localhost:8080/",
          "height": 34
        }
      },
      "source": [
        "from sklearn.model_selection import StratifiedKFold\n",
        "from sklearn.model_selection import KFold\n",
        "from sklearn.metrics import accuracy_score\n",
        "\n",
        "def make_model(x_size, y_size):\n",
        "  model = tf.keras.models.Sequential()\n",
        "  model.add(tf.keras.layers.Dense(units=256, activation='relu', input_shape=(x_size, )))\n",
        "  model.add(tf.keras.layers.Dense(units=y_size, activation='softmax'))\n",
        "\n",
        "  model.compile(optimizer ='adam', loss='categorical_crossentropy', metrics=['categorical_accuracy'])\n",
        "\n",
        "  return model"
      ],
      "execution_count": 0,
      "outputs": [
        {
          "output_type": "stream",
          "text": [
            "time: 6.15 ms\n"
          ],
          "name": "stdout"
        }
      ]
    },
    {
      "cell_type": "code",
      "metadata": {
        "id": "HrwHXB7V1grl",
        "colab_type": "code",
        "outputId": "fa02d634-7322-42e3-e85c-a3bf13e4cc47",
        "colab": {
          "base_uri": "https://localhost:8080/",
          "height": 51
        }
      },
      "source": [
        "X = get_tfidf(25000)\n",
        "folds = list(KFold(n_splits=4, random_state=101, shuffle=False).split(X))\n",
        "#folds = list(StratifiedKFold(n_splits=4).split(X, y_train))\n",
        "\n",
        "y_pred = np.zeros((X.shape[0], y_train.shape[1]))"
      ],
      "execution_count": 0,
      "outputs": [
        {
          "output_type": "stream",
          "text": [
            "Creating TF-IDF matrix . . .\n",
            "time: 7.11 s\n"
          ],
          "name": "stdout"
        }
      ]
    },
    {
      "cell_type": "code",
      "metadata": {
        "id": "8YC1tviWjowz",
        "colab_type": "code",
        "outputId": "e55dc395-6405-435e-9601-782986a1d5d5",
        "colab": {
          "base_uri": "https://localhost:8080/",
          "height": 374
        }
      },
      "source": [
        "for i, (train_idx, val_idx) in  enumerate(folds):\n",
        "    print(f\"Fold {i+1}\")\n",
        "    model = make_model(X.shape[1], y_train.shape[1])\n",
        "    print(\"Train Model . . .\")\n",
        "    model.fit(X[train_idx],\n",
        "              y_train[train_idx],\n",
        "              epochs=3, \n",
        "              verbose=0,\n",
        "              validation_data=(X[val_idx], y_train[val_idx])\n",
        "              )\n",
        "\n",
        "    pred_val = model.predict(X[val_idx])\n",
        "    score = accuracy_score(np.argmax(pred_val, axis=1), np.argmax(y_train[val_idx], axis=1))\n",
        "    y_pred[val_idx] += pred_val\n",
        "    \n",
        "    print(f'Scored {score:.3f} on validation data \\n \\n')\n"
      ],
      "execution_count": 0,
      "outputs": [
        {
          "output_type": "stream",
          "text": [
            "Fold 1\n",
            "Train Model . . .\n",
            "Scored 0.798 on validation data \n",
            " \n",
            "\n",
            "Fold 2\n",
            "Train Model . . .\n",
            "Scored 0.800 on validation data \n",
            " \n",
            "\n",
            "Fold 3\n",
            "Train Model . . .\n",
            "Scored 0.798 on validation data \n",
            " \n",
            "\n",
            "Fold 4\n",
            "Train Model . . .\n",
            "Scored 0.798 on validation data \n",
            " \n",
            "\n",
            "time: 26min 40s\n"
          ],
          "name": "stdout"
        }
      ]
    },
    {
      "cell_type": "code",
      "metadata": {
        "id": "vRjoYa_6ytM7",
        "colab_type": "code",
        "outputId": "ebc63863-126c-41cb-d04a-0c2c652c41eb",
        "colab": {
          "base_uri": "https://localhost:8080/",
          "height": 68
        }
      },
      "source": [
        "final_score = accuracy_score(np.argmax(y_pred, axis=1), np.argmax(y_train, axis=1))\n",
        "print(f'Scored final {final_score:.3f} \\n')"
      ],
      "execution_count": 0,
      "outputs": [
        {
          "output_type": "stream",
          "text": [
            "Scored final 0.799 \n",
            "\n",
            "time: 1.77 s\n"
          ],
          "name": "stdout"
        }
      ]
    },
    {
      "cell_type": "code",
      "metadata": {
        "id": "zIq-0S6gytVi",
        "colab_type": "code",
        "colab": {}
      },
      "source": [
        ""
      ],
      "execution_count": 0,
      "outputs": []
    },
    {
      "cell_type": "markdown",
      "metadata": {
        "_uuid": "625472d9-7da0-4481-a6a1-470e9a8460be",
        "_cell_guid": "1cb452ab-8ca1-4d4b-a038-904fed7f4f63",
        "trusted": true,
        "id": "l-fFodFIsIvC",
        "colab_type": "text"
      },
      "source": [
        "## Training Model\n",
        "\n",
        "After training and refining the model with several hyperparameters I will train the model with the best approach, considering execution time, computational resource and accuracy.\n",
        "\n",
        "Well, I will do the following steps:\n",
        "\n",
        "1. Split Train Dataset with a percentage of the total;\n",
        "2. I remove StopWords and other useless information from the Training and Test Dataset;\n",
        "3. Mapping target variable with pd.get_dummies;\n",
        "4. Concatenate train and test to create a vocabulary that contains words from both;\n",
        "5. I divide data into train and test;\n",
        "6. Finally, I train the neural model."
      ]
    },
    {
      "cell_type": "code",
      "metadata": {
        "id": "0jeiq8nwaXtJ",
        "colab_type": "code",
        "outputId": "de7b90d1-ca98-4986-ee65-4f63bb9fc0db",
        "colab": {
          "base_uri": "https://localhost:8080/",
          "height": 51
        }
      },
      "source": [
        "print(psutil.virtual_memory())"
      ],
      "execution_count": 14,
      "outputs": [
        {
          "output_type": "stream",
          "text": [
            "svmem(total=27395407872, available=23205855232, percent=15.3, used=5157085184, free=13785411584, active=3880927232, inactive=9156321280, buffers=98680832, cached=8354230272, shared=921600, slab=385548288)\n",
            "time: 1.29 ms\n"
          ],
          "name": "stdout"
        }
      ]
    },
    {
      "cell_type": "code",
      "metadata": {
        "id": "q-kt9Hs0mnrI",
        "colab_type": "code",
        "outputId": "b79629b9-c3eb-42df-b726-d837c40323f2",
        "colab": {
          "base_uri": "https://localhost:8080/",
          "height": 34
        }
      },
      "source": [
        "newSize = 2000000 / train.shape[0]\n",
        "_, X_train = train_test_split(train, test_size=newSize, random_state=101, stratify=train.category)"
      ],
      "execution_count": 15,
      "outputs": [
        {
          "output_type": "stream",
          "text": [
            "time: 1min 8s\n"
          ],
          "name": "stdout"
        }
      ]
    },
    {
      "cell_type": "code",
      "metadata": {
        "id": "xMh89p_0mn_M",
        "colab_type": "code",
        "outputId": "fa450b67-9c71-41de-d55e-9c2717b15e30",
        "colab": {
          "base_uri": "https://localhost:8080/",
          "height": 51
        }
      },
      "source": [
        "X_train['title_nopunc'] = X_train['title'].apply(removeStopLine)\n",
        "\n",
        "X_train = indexesZeroTrain(X_train)"
      ],
      "execution_count": 0,
      "outputs": [
        {
          "output_type": "stream",
          "text": [
            "2209\n",
            "time: 5min 13s\n"
          ],
          "name": "stdout"
        }
      ]
    },
    {
      "cell_type": "code",
      "metadata": {
        "id": "Q4cZSpFEbv-R",
        "colab_type": "code",
        "colab": {}
      },
      "source": [
        "test[\"title_nopunc\"] = test['title'].apply(removeStopLine)\n",
        "\n",
        "test = indexesZeroTest(test)"
      ],
      "execution_count": 0,
      "outputs": []
    },
    {
      "cell_type": "code",
      "metadata": {
        "id": "lAzjOshsbwCp",
        "colab_type": "code",
        "outputId": "d2afb3cb-8eb3-46dd-f330-3d57d6dc4c00",
        "colab": {
          "base_uri": "https://localhost:8080/",
          "height": 51
        }
      },
      "source": [
        "test.drop('id', axis=1, inplace=True)"
      ],
      "execution_count": 0,
      "outputs": [
        {
          "output_type": "stream",
          "text": [
            "29\n",
            "time: 15.5 s\n"
          ],
          "name": "stdout"
        }
      ]
    },
    {
      "cell_type": "code",
      "metadata": {
        "id": "bzXLs6lz86QF",
        "colab_type": "code",
        "outputId": "8d153452-be21-44a4-a00a-85a62a9cda72",
        "colab": {
          "base_uri": "https://localhost:8080/",
          "height": 34
        }
      },
      "source": [
        "target_names = X_train['category'].unique()\n",
        "target_dict = {n:i for i, n in enumerate(target_names)}\n",
        "\n",
        "y_train = pd.get_dummies(X_train['category'].map(target_dict))"
      ],
      "execution_count": 16,
      "outputs": [
        {
          "output_type": "stream",
          "text": [
            "time: 1.46 s\n"
          ],
          "name": "stdout"
        }
      ]
    },
    {
      "cell_type": "code",
      "metadata": {
        "id": "Lh3cOgKw_O0G",
        "colab_type": "code",
        "outputId": "27638dc4-50b7-4833-f6dd-cf5c066d32d7",
        "colab": {
          "base_uri": "https://localhost:8080/",
          "height": 51
        }
      },
      "source": [
        "print(psutil.virtual_memory())"
      ],
      "execution_count": 17,
      "outputs": [
        {
          "output_type": "stream",
          "text": [
            "svmem(total=27395407872, available=19989671936, percent=27.0, used=8342962176, free=10598182912, active=7092076544, inactive=9127010304, buffers=98861056, cached=8355401728, shared=921600, slab=385630208)\n",
            "time: 1.49 ms\n"
          ],
          "name": "stdout"
        }
      ]
    },
    {
      "cell_type": "code",
      "metadata": {
        "id": "jV-HBjTna80_",
        "colab_type": "code",
        "colab": {}
      },
      "source": [
        ""
      ],
      "execution_count": 0,
      "outputs": []
    },
    {
      "cell_type": "code",
      "metadata": {
        "id": "ZoAkRr1aa89h",
        "colab_type": "code",
        "outputId": "f76e1b73-d7e4-4220-fc50-75cf5125680f",
        "colab": {
          "base_uri": "https://localhost:8080/",
          "height": 34
        }
      },
      "source": [
        "size_train = X_train.shape[0]\n",
        "size_test = test.shape[0]\n",
        "\n",
        "X_train = X_train.append(test)"
      ],
      "execution_count": 18,
      "outputs": [
        {
          "output_type": "stream",
          "text": [
            "time: 592 ms\n"
          ],
          "name": "stdout"
        }
      ]
    },
    {
      "cell_type": "code",
      "metadata": {
        "id": "lmFGJzZ0b37O",
        "colab_type": "code",
        "outputId": "d869ad00-de3d-43ad-f3f6-6469c2081614",
        "colab": {
          "base_uri": "https://localhost:8080/",
          "height": 34
        }
      },
      "source": [
        "vectorizer = TfidfVectorizer(max_features=25000)\n",
        "#X_train = vectorizer.fit_transform(X_train['title_nopunc'])\n",
        "X_train = vectorizer.fit_transform(X_train['title'])"
      ],
      "execution_count": 19,
      "outputs": [
        {
          "output_type": "stream",
          "text": [
            "time: 21.5 s\n"
          ],
          "name": "stdout"
        }
      ]
    },
    {
      "cell_type": "code",
      "metadata": {
        "id": "iKKwmr8lccDS",
        "colab_type": "code",
        "outputId": "8ee3dc0e-921e-45e3-a592-3922563badcd",
        "colab": {
          "base_uri": "https://localhost:8080/",
          "height": 34
        }
      },
      "source": [
        "X_test = X_train[-size_test:]\n",
        "X_train = X_train[:size_train]"
      ],
      "execution_count": 20,
      "outputs": [
        {
          "output_type": "stream",
          "text": [
            "time: 185 ms\n"
          ],
          "name": "stdout"
        }
      ]
    },
    {
      "cell_type": "code",
      "metadata": {
        "id": "GbopNzLRa9Eo",
        "colab_type": "code",
        "colab": {}
      },
      "source": [
        ""
      ],
      "execution_count": 0,
      "outputs": []
    },
    {
      "cell_type": "code",
      "metadata": {
        "id": "cSEaPCvrnALx",
        "colab_type": "code",
        "outputId": "af06af28-6812-49ad-ac72-78f53a1b4e7d",
        "colab": {
          "base_uri": "https://localhost:8080/",
          "height": 34
        }
      },
      "source": [
        "XX_train_Tfidf, XX_test_Tfidf, yy_train_Tfidf, yy_test_Tfidf = train_test_split(X_train, y_train, test_size=0.18, random_state=101)"
      ],
      "execution_count": 21,
      "outputs": [
        {
          "output_type": "stream",
          "text": [
            "time: 3.3 s\n"
          ],
          "name": "stdout"
        }
      ]
    },
    {
      "cell_type": "code",
      "metadata": {
        "id": "PLbzxydO4TJL",
        "colab_type": "code",
        "outputId": "60600f20-1900-4da7-a164-0f6917954ba9",
        "colab": {
          "base_uri": "https://localhost:8080/",
          "height": 51
        }
      },
      "source": [
        "print(psutil.virtual_memory())"
      ],
      "execution_count": 22,
      "outputs": [
        {
          "output_type": "stream",
          "text": [
            "svmem(total=27395407872, available=17319006208, percent=36.8, used=13905412096, free=5033357312, active=9751580672, inactive=12020924416, buffers=99090432, cached=8357548032, shared=921600, slab=385683456)\n",
            "time: 2.07 ms\n"
          ],
          "name": "stdout"
        }
      ]
    },
    {
      "cell_type": "code",
      "metadata": {
        "id": "TYJVfCpecnQW",
        "colab_type": "code",
        "outputId": "1b33caef-f925-4794-bbc0-f4e5e08a8d7d",
        "colab": {
          "base_uri": "https://localhost:8080/",
          "height": 34
        }
      },
      "source": [
        "#alldfs = [var for var in dir() if isinstance(eval(var), pd.core.frame.DataFrame)]\n",
        "#print(alldfs)"
      ],
      "execution_count": 23,
      "outputs": [
        {
          "output_type": "stream",
          "text": [
            "time: 3.4 ms\n"
          ],
          "name": "stdout"
        }
      ]
    },
    {
      "cell_type": "code",
      "metadata": {
        "id": "W5kqhex3dSGE",
        "colab_type": "code",
        "colab": {}
      },
      "source": [
        ""
      ],
      "execution_count": 0,
      "outputs": []
    },
    {
      "cell_type": "code",
      "metadata": {
        "id": "ITOOqb-AqQJX",
        "colab_type": "code",
        "outputId": "c7fd338d-8099-489c-ba19-b940efe2318c",
        "colab": {
          "base_uri": "https://localhost:8080/",
          "height": 153
        }
      },
      "source": [
        "model = tf.keras.models.Sequential()\n",
        "model.add(tf.keras.layers.Dense(units=256, activation='relu', input_shape=(XX_train_Tfidf.shape[1], )))\n",
        "model.add(tf.keras.layers.Dense(units=y_train.shape[1], activation='softmax'))\n",
        "\n",
        "model.compile(optimizer ='adam', loss='categorical_crossentropy', metrics=['acc'])\n",
        "\n",
        "history_Tfidf_cat = model.fit(XX_train_Tfidf, \n",
        "                         yy_train_Tfidf, \n",
        "                         epochs=3, \n",
        "                         verbose=1,\n",
        "                         validation_data=(XX_test_Tfidf, yy_test_Tfidf)\n",
        "                         )"
      ],
      "execution_count": 24,
      "outputs": [
        {
          "output_type": "stream",
          "text": [
            "Train on 1640000 samples, validate on 360000 samples\n",
            "Epoch 1/3\n",
            "1640000/1640000 [==============================] - 398s 243us/sample - loss: 1.1802 - acc: 0.7787 - val_loss: 0.8376 - val_acc: 0.8254\n",
            "Epoch 2/3\n",
            "1640000/1640000 [==============================] - 383s 234us/sample - loss: 0.6698 - acc: 0.8549 - val_loss: 0.8803 - val_acc: 0.8292\n",
            "Epoch 3/3\n",
            "1640000/1640000 [==============================] - 388s 237us/sample - loss: 0.5453 - acc: 0.8811 - val_loss: 0.9863 - val_acc: 0.8257\n",
            "time: 19min 30s\n"
          ],
          "name": "stdout"
        }
      ]
    },
    {
      "cell_type": "code",
      "metadata": {
        "id": "-uGkmUr2NZFL",
        "colab_type": "code",
        "colab": {}
      },
      "source": [
        ""
      ],
      "execution_count": 0,
      "outputs": []
    },
    {
      "cell_type": "markdown",
      "metadata": {
        "_uuid": "3a6e1ff1-a6e9-4d09-88a7-bb909cf2fe56",
        "_cell_guid": "ae1a56a2-93e3-4e98-bc56-ae4aefb9d9f7",
        "trusted": true,
        "id": "B5MDx-jYsIvl",
        "colab_type": "text"
      },
      "source": [
        "### Making Results\n",
        "\n",
        "OK! There is little left!\n",
        "\n",
        "Now it's time to predict some categories.\n",
        "\n",
        "This is simple:\n",
        "1. The model predict classes;\n",
        "2. Mapping this results codes in real categories;\n",
        "3. Insert the column category with results in **test** Dataset;\n",
        "4. Create csv file;\n",
        "5. Download file and submit on challenge portal. "
      ]
    },
    {
      "cell_type": "code",
      "metadata": {
        "_uuid": "2912df4b-d8cd-4bcc-bd1e-3fdf52f175e4",
        "_cell_guid": "88c0953e-486d-40d2-8294-d633fa6b1b28",
        "trusted": true,
        "id": "M5h7a8xgsIvs",
        "colab_type": "code",
        "outputId": "704a2fca-5796-4720-f853-a42f491ea6b7",
        "colab": {
          "base_uri": "https://localhost:8080/",
          "height": 34
        }
      },
      "source": [
        "result = model.predict_classes(X_test)"
      ],
      "execution_count": 25,
      "outputs": [
        {
          "output_type": "stream",
          "text": [
            "time: 24.1 s\n"
          ],
          "name": "stdout"
        }
      ]
    },
    {
      "cell_type": "code",
      "metadata": {
        "_uuid": "62674013-cbca-4f64-a88f-b433f022e4d8",
        "_cell_guid": "0826731c-1526-498b-9d52-4229281df218",
        "trusted": true,
        "id": "PyQyiGvPsIvu",
        "colab_type": "code",
        "outputId": "66413f4b-8996-49ee-b348-a13189b0706b",
        "colab": {
          "base_uri": "https://localhost:8080/",
          "height": 34
        }
      },
      "source": [
        "test['category'] = result"
      ],
      "execution_count": 26,
      "outputs": [
        {
          "output_type": "stream",
          "text": [
            "time: 2.35 ms\n"
          ],
          "name": "stdout"
        }
      ]
    },
    {
      "cell_type": "code",
      "metadata": {
        "_uuid": "1cacbfb1-4f70-4434-94c5-c2d1828bc8c2",
        "_cell_guid": "ddf56cef-d5e2-42e4-ae22-974f9516c166",
        "trusted": true,
        "id": "7D7tFPQXsIvw",
        "colab_type": "code",
        "outputId": "3435c6ff-b9d0-4801-a457-d09bc13f656c",
        "colab": {
          "base_uri": "https://localhost:8080/",
          "height": 34
        }
      },
      "source": [
        "target_dict_inv = dict(map(reversed, target_dict.items()))\n",
        "test['category'] = test['category'].map(target_dict_inv)"
      ],
      "execution_count": 27,
      "outputs": [
        {
          "output_type": "stream",
          "text": [
            "time: 20 ms\n"
          ],
          "name": "stdout"
        }
      ]
    },
    {
      "cell_type": "code",
      "metadata": {
        "id": "iHFFPWgestEv",
        "colab_type": "code",
        "colab": {
          "base_uri": "https://localhost:8080/",
          "height": 221
        },
        "outputId": "7bb4ec4a-edc6-4110-ce59-309a18965f5b"
      },
      "source": [
        "submission = test[['category']]\n",
        "submission['id'] = submission.index\n",
        "submission1 = submission[['id','category']]\n",
        "submission1.head()"
      ],
      "execution_count": 28,
      "outputs": [
        {
          "output_type": "execute_result",
          "data": {
            "text/html": [
              "<div>\n",
              "<style scoped>\n",
              "    .dataframe tbody tr th:only-of-type {\n",
              "        vertical-align: middle;\n",
              "    }\n",
              "\n",
              "    .dataframe tbody tr th {\n",
              "        vertical-align: top;\n",
              "    }\n",
              "\n",
              "    .dataframe thead th {\n",
              "        text-align: right;\n",
              "    }\n",
              "</style>\n",
              "<table border=\"1\" class=\"dataframe\">\n",
              "  <thead>\n",
              "    <tr style=\"text-align: right;\">\n",
              "      <th></th>\n",
              "      <th>id</th>\n",
              "      <th>category</th>\n",
              "    </tr>\n",
              "  </thead>\n",
              "  <tbody>\n",
              "    <tr>\n",
              "      <th>0</th>\n",
              "      <td>0</td>\n",
              "      <td>DIAPER_BAGS</td>\n",
              "    </tr>\n",
              "    <tr>\n",
              "      <th>1</th>\n",
              "      <td>1</td>\n",
              "      <td>BABY_DIAPERS</td>\n",
              "    </tr>\n",
              "    <tr>\n",
              "      <th>2</th>\n",
              "      <td>2</td>\n",
              "      <td>ENGINE_COOLING_FAN_MOTORS</td>\n",
              "    </tr>\n",
              "    <tr>\n",
              "      <th>3</th>\n",
              "      <td>3</td>\n",
              "      <td>AUTOMOTIVE_SHOCK_ABSORBER_BUMP_STOPS</td>\n",
              "    </tr>\n",
              "    <tr>\n",
              "      <th>4</th>\n",
              "      <td>4</td>\n",
              "      <td>BABY_CAR_SEATS</td>\n",
              "    </tr>\n",
              "  </tbody>\n",
              "</table>\n",
              "</div>"
            ],
            "text/plain": [
              "   id                              category\n",
              "0   0                           DIAPER_BAGS\n",
              "1   1                          BABY_DIAPERS\n",
              "2   2             ENGINE_COOLING_FAN_MOTORS\n",
              "3   3  AUTOMOTIVE_SHOCK_ABSORBER_BUMP_STOPS\n",
              "4   4                        BABY_CAR_SEATS"
            ]
          },
          "metadata": {
            "tags": []
          },
          "execution_count": 28
        },
        {
          "output_type": "stream",
          "text": [
            "time: 756 ms\n"
          ],
          "name": "stdout"
        }
      ]
    },
    {
      "cell_type": "code",
      "metadata": {
        "_uuid": "b79d2202-ea4c-4290-9574-78fa90c99006",
        "_cell_guid": "f64b9f79-6ee7-43ba-b43a-88342e2c048a",
        "trusted": true,
        "id": "O5ZK4rT6sIwI",
        "colab_type": "code",
        "outputId": "1e7f98e1-41cf-4388-aff9-7dd8527132b7",
        "colab": {
          "base_uri": "https://localhost:8080/",
          "height": 34
        }
      },
      "source": [
        "submission1.to_csv('submission.csv', index=False)"
      ],
      "execution_count": 29,
      "outputs": [
        {
          "output_type": "stream",
          "text": [
            "time: 635 ms\n"
          ],
          "name": "stdout"
        }
      ]
    },
    {
      "cell_type": "code",
      "metadata": {
        "id": "9t6h-qgJuFfu",
        "colab_type": "code",
        "outputId": "9017fa47-4b9c-4250-c9ba-b6cb5324991f",
        "colab": {
          "base_uri": "https://localhost:8080/",
          "height": 34
        }
      },
      "source": [
        "#for dirname, _, filenames in os.walk('/content'):\n",
        "#    for filename in filenames:\n",
        "#        print(os.path.join(dirname, filename))"
      ],
      "execution_count": 30,
      "outputs": [
        {
          "output_type": "stream",
          "text": [
            "time: 561 µs\n"
          ],
          "name": "stdout"
        }
      ]
    },
    {
      "cell_type": "code",
      "metadata": {
        "id": "utK8nzFquSTW",
        "colab_type": "code",
        "outputId": "91c1bcd7-d87a-4007-a2a8-d7b88b4f0cee",
        "colab": {
          "base_uri": "https://localhost:8080/",
          "height": 34
        }
      },
      "source": [
        "from google.colab import files\n",
        "\n",
        "os.chdir(r'/content')\n",
        "\n",
        "files.download('submission.csv')"
      ],
      "execution_count": 31,
      "outputs": [
        {
          "output_type": "stream",
          "text": [
            "time: 29.3 s\n"
          ],
          "name": "stdout"
        }
      ]
    },
    {
      "cell_type": "code",
      "metadata": {
        "id": "GHkVk5QS8caE",
        "colab_type": "code",
        "colab": {}
      },
      "source": [
        ""
      ],
      "execution_count": 0,
      "outputs": []
    },
    {
      "cell_type": "markdown",
      "metadata": {
        "id": "bH6HRClzuBtk",
        "colab_type": "text"
      },
      "source": [
        "### Conclusion"
      ]
    },
    {
      "cell_type": "markdown",
      "metadata": {
        "id": "2TchUS3Eo8Fi",
        "colab_type": "text"
      },
      "source": [
        "What was the result?\n",
        "\n",
        "    In the challenge portal the model scored an accuracy of:\n",
        "    0.8318"
      ]
    },
    {
      "cell_type": "markdown",
      "metadata": {
        "id": "5wHL2T7XuVOA",
        "colab_type": "text"
      },
      "source": [
        "Anyway, the project was a little extensive, as there are many tests with different algorithms and parameters. What can I conclude:\n",
        "\n",
        "1. A neural network with many units and layers is not always better than a simple network (start small);\n",
        "2. The process of removing stopwords (cleaning the data) did not make a big difference in the final result, as the test with the cleaning results in an accuracy of 0.8318 and without cleaning in 0.8303. Work thrown away? No, you need to learn from that.\n",
        "3. What can still be done? The accuracy is still not spectacular, I need to check where the classification errors are, how I can solve them and still make the model simpler and more accurate.\n",
        "4. How? Adding more data to the model to try to solve the overffiting problem, try the KFold model if Colab has enough memory and modify the vocabulary as the data increase.\n",
        "\n",
        "Finally, the business problem can be solved with data science with good accuracy and make the classification, search and recommendation of products much better.\n",
        "\n",
        "If this notebook was useful or there are any suggestions I would appreciate any feedback."
      ]
    }
  ]
}