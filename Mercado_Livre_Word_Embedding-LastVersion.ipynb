{
  "nbformat": 4,
  "nbformat_minor": 0,
  "metadata": {
    "kernelspec": {
      "name": "python3",
      "display_name": "Python 3"
    },
    "language_info": {
      "pygments_lexer": "ipython3",
      "nbconvert_exporter": "python",
      "version": "3.6.4",
      "file_extension": ".py",
      "codemirror_mode": {
        "name": "ipython",
        "version": 3
      },
      "name": "python",
      "mimetype": "text/x-python"
    },
    "colab": {
      "name": "Mercado Livre Word Embedding.ipynb",
      "provenance": [],
      "collapsed_sections": [
        "TqJ4B2YWsIrj",
        "joa65FMgsm7O",
        "0tUpG8v6sIr7",
        "p4zSJ73osIsA",
        "LAHsFcs3sIro",
        "jNIPxMa3rxRa",
        "TXByTULOr38F",
        "rr7m9oxcytAK",
        "Ow23JwRDsIr1",
        "5KaHcPJ3sIt7",
        "sIaLU3uHsIs3",
        "wy0Oha-tsItG",
        "M_HRnHTvsIua",
        "XJLkz3mosIuo",
        "HfakOUKqWrgr",
        "QHXjOZOTsIuu",
        "LYDGD1gRsIu0",
        "l-fFodFIsIvC",
        "JyMtta8EsIvc"
      ]
    },
    "accelerator": "GPU"
  },
  "cells": [
    {
      "cell_type": "markdown",
      "metadata": {
        "_uuid": "3899989b-de8c-44fd-895a-315807250870",
        "_cell_guid": "94f63819-9b6a-4edf-9bb7-6730b4196082",
        "trusted": true,
        "id": "2MnyezABsIrd",
        "colab_type": "text"
      },
      "source": [
        "### Library"
      ]
    },
    {
      "cell_type": "code",
      "metadata": {
        "_uuid": "8988e0f5-4195-48d8-92c6-c6a9a7b4dc10",
        "_cell_guid": "a7368d5c-03dd-40c0-91a7-2b99f3c6b601",
        "trusted": true,
        "id": "sUUw6pQKsIrf",
        "colab_type": "code",
        "outputId": "471884ba-f7b0-442e-ac6b-e7c72ceaba77",
        "colab": {
          "base_uri": "https://localhost:8080/",
          "height": 34
        }
      },
      "source": [
        "import numpy as np\n",
        "import pandas as pd\n",
        "%matplotlib inline\n",
        "import matplotlib.pyplot as plt\n",
        "\n",
        "import warnings\n",
        "warnings.filterwarnings('ignore')\n",
        "\n",
        "import os\n",
        "import time\n",
        "\n",
        "from keras.utils.np_utils import to_categorical\n",
        "from sklearn.model_selection import train_test_split\n",
        "\n",
        "from keras.models import Sequential\n",
        "from keras.layers import Dense\n",
        "from keras.optimizers import SGD, Adam, Adagrad, RMSprop\n",
        "import keras.backend as K\n",
        "\n",
        "import re\n",
        "import random\n",
        "import string"
      ],
      "execution_count": 0,
      "outputs": [
        {
          "output_type": "stream",
          "text": [
            "Using TensorFlow backend.\n"
          ],
          "name": "stderr"
        }
      ]
    },
    {
      "cell_type": "code",
      "metadata": {
        "id": "aRLmGKlhsT5d",
        "colab_type": "code",
        "outputId": "379d19c9-9323-4243-de53-f1741083e58d",
        "colab": {
          "base_uri": "https://localhost:8080/",
          "height": 85
        }
      },
      "source": [
        "import nltk\n",
        "nltk.download('stopwords')\n",
        "from nltk.corpus import stopwords\n",
        "\n",
        "nltk.download('rslp')\n",
        "#Word Stemmer\n",
        "from nltk.stem import RSLPStemmer\n",
        "from nltk.stem.snowball import SnowballStemmer"
      ],
      "execution_count": 0,
      "outputs": [
        {
          "output_type": "stream",
          "text": [
            "[nltk_data] Downloading package stopwords to /root/nltk_data...\n",
            "[nltk_data]   Unzipping corpora/stopwords.zip.\n",
            "[nltk_data] Downloading package rslp to /root/nltk_data...\n",
            "[nltk_data]   Unzipping stemmers/rslp.zip.\n"
          ],
          "name": "stdout"
        }
      ]
    },
    {
      "cell_type": "code",
      "metadata": {
        "id": "nydt7WjzsY90",
        "colab_type": "code",
        "outputId": "ddc7074e-9c1f-4b54-a654-eed47f4697b3",
        "colab": {
          "base_uri": "https://localhost:8080/",
          "height": 102
        }
      },
      "source": [
        "#For remove accents\n",
        "!pip install unidecode\n",
        "import unidecode"
      ],
      "execution_count": 0,
      "outputs": [
        {
          "output_type": "stream",
          "text": [
            "Collecting unidecode\n",
            "\u001b[?25l  Downloading https://files.pythonhosted.org/packages/d0/42/d9edfed04228bacea2d824904cae367ee9efd05e6cce7ceaaedd0b0ad964/Unidecode-1.1.1-py2.py3-none-any.whl (238kB)\n",
            "\r\u001b[K     |█▍                              | 10kB 16.8MB/s eta 0:00:01\r\u001b[K     |██▊                             | 20kB 2.2MB/s eta 0:00:01\r\u001b[K     |████▏                           | 30kB 3.3MB/s eta 0:00:01\r\u001b[K     |█████▌                          | 40kB 2.1MB/s eta 0:00:01\r\u001b[K     |██████▉                         | 51kB 2.6MB/s eta 0:00:01\r\u001b[K     |████████▎                       | 61kB 3.1MB/s eta 0:00:01\r\u001b[K     |█████████▋                      | 71kB 2.6MB/s eta 0:00:01\r\u001b[K     |███████████                     | 81kB 2.8MB/s eta 0:00:01\r\u001b[K     |████████████▍                   | 92kB 3.2MB/s eta 0:00:01\r\u001b[K     |█████████████▊                  | 102kB 3.2MB/s eta 0:00:01\r\u001b[K     |███████████████▏                | 112kB 3.2MB/s eta 0:00:01\r\u001b[K     |████████████████▌               | 122kB 3.2MB/s eta 0:00:01\r\u001b[K     |█████████████████▉              | 133kB 3.2MB/s eta 0:00:01\r\u001b[K     |███████████████████▎            | 143kB 3.2MB/s eta 0:00:01\r\u001b[K     |████████████████████▋           | 153kB 3.2MB/s eta 0:00:01\r\u001b[K     |██████████████████████          | 163kB 3.2MB/s eta 0:00:01\r\u001b[K     |███████████████████████▍        | 174kB 3.2MB/s eta 0:00:01\r\u001b[K     |████████████████████████▊       | 184kB 3.2MB/s eta 0:00:01\r\u001b[K     |██████████████████████████▏     | 194kB 3.2MB/s eta 0:00:01\r\u001b[K     |███████████████████████████▌    | 204kB 3.2MB/s eta 0:00:01\r\u001b[K     |████████████████████████████▉   | 215kB 3.2MB/s eta 0:00:01\r\u001b[K     |██████████████████████████████▎ | 225kB 3.2MB/s eta 0:00:01\r\u001b[K     |███████████████████████████████▋| 235kB 3.2MB/s eta 0:00:01\r\u001b[K     |████████████████████████████████| 245kB 3.2MB/s \n",
            "\u001b[?25hInstalling collected packages: unidecode\n",
            "Successfully installed unidecode-1.1.1\n"
          ],
          "name": "stdout"
        }
      ]
    },
    {
      "cell_type": "code",
      "metadata": {
        "id": "EDJyYcbwsulI",
        "colab_type": "code",
        "colab": {}
      },
      "source": [
        "from urllib.request import urlretrieve\n",
        "def download(url, file):\n",
        "  if not os.path.isfile(file):\n",
        "    print(\"Download file ... \"+ file + \"...\")\n",
        "    urlretrieve(url,file)\n",
        "    print(\"Download completed . . .\")"
      ],
      "execution_count": 0,
      "outputs": []
    },
    {
      "cell_type": "code",
      "metadata": {
        "id": "SZmXPfgpsx8q",
        "colab_type": "code",
        "outputId": "ef590472-b4f3-4488-e679-c6e336caea06",
        "colab": {
          "base_uri": "https://localhost:8080/",
          "height": 136
        }
      },
      "source": [
        "download('https://meli-data-challenge.s3.amazonaws.com/train.csv.gz', 'train.csv.gz')\n",
        "download('https://meli-data-challenge.s3.amazonaws.com/test.csv', 'test.csv')\n",
        "download('https://meli-data-challenge.s3.amazonaws.com/sample_submission.csv', 'sample_submission.csv')\n",
        "print('Files downloaded . . .')"
      ],
      "execution_count": 0,
      "outputs": [
        {
          "output_type": "stream",
          "text": [
            "Download file ... train.csv.gz...\n",
            "Download completed . . .\n",
            "Download file ... test.csv...\n",
            "Download completed . . .\n",
            "Download file ... sample_submission.csv...\n",
            "Download completed . . .\n",
            "Files downloaded . . .\n"
          ],
          "name": "stdout"
        }
      ]
    },
    {
      "cell_type": "code",
      "metadata": {
        "id": "NR84kGiRs0Ma",
        "colab_type": "code",
        "colab": {}
      },
      "source": [
        ""
      ],
      "execution_count": 0,
      "outputs": []
    },
    {
      "cell_type": "markdown",
      "metadata": {
        "_uuid": "1e42e1a3-cc64-44e4-ae19-4f9ba7e6ca0c",
        "_cell_guid": "54728492-ad07-42e2-9757-661e61fa5415",
        "trusted": true,
        "id": "TqJ4B2YWsIrj",
        "colab_type": "text"
      },
      "source": [
        "### Function Plot Learning Curves"
      ]
    },
    {
      "cell_type": "code",
      "metadata": {
        "_uuid": "ce046da7-e705-40ec-856e-974601ec8d06",
        "_cell_guid": "781911b6-f429-485f-a5d5-eac7bafd7041",
        "trusted": true,
        "id": "QgshQw99sIrk",
        "colab_type": "code",
        "colab": {}
      },
      "source": [
        "def plotLearningCurves(history):\n",
        "    # list all data in history\n",
        "    print(history.history.keys())\n",
        "    # summarize history for accuracy\n",
        "    plt.figure(figsize=(12,6))\n",
        "    plt.subplot(1, 2, 1)\n",
        "    plt.plot(history.history['acc'])\n",
        "    plt.plot(history.history['val_acc'])\n",
        "    plt.title('model accuracy')\n",
        "    plt.ylabel('accuracy')\n",
        "    plt.xlabel('epoch')\n",
        "    plt.legend(['train', 'test'], loc='upper left')\n",
        "   \n",
        "    \n",
        "    # summarize history for loss\n",
        "    plt.subplot(1, 2, 2)\n",
        "    plt.plot(history.history['loss'])\n",
        "    plt.plot(history.history['val_loss'])\n",
        "    plt.title('model loss')\n",
        "    plt.ylabel('loss')\n",
        "    plt.xlabel('epoch')\n",
        "    plt.legend(['train', 'test'], loc='upper left')\n",
        "    \n",
        "    plt.tight_layout()\n",
        "    \n",
        "    plt.show()"
      ],
      "execution_count": 0,
      "outputs": []
    },
    {
      "cell_type": "markdown",
      "metadata": {
        "id": "joa65FMgsm7O",
        "colab_type": "text"
      },
      "source": [
        "### Function Indexes with zero"
      ]
    },
    {
      "cell_type": "code",
      "metadata": {
        "id": "mHA8KpwJslwO",
        "colab_type": "code",
        "colab": {}
      },
      "source": [
        "#Drop row if length title is zero\n",
        "def indexesZeroTrain(data):\n",
        "    indexes = data[data['title_nopunc'].apply(len) == 0].index\n",
        "    print(len(indexes))\n",
        "    data.drop(indexes, inplace=True)\n",
        "    #print(data['title'][indexes])\n",
        "    #data['title_nopunc'][indexes] = 'nothing'\n",
        "    return data\n",
        "\n",
        "#Set to 'nothing' title if length is zero\n",
        "def indexesZeroTest(data):\n",
        "    indexes = data[data['title_nopunc'].apply(len) == 0].index\n",
        "    print(len(indexes))\n",
        "    data['title'][indexes] = 'nothing'\n",
        "    data['title_nopunc'][indexes] = 'nothing'\n",
        "    return data"
      ],
      "execution_count": 0,
      "outputs": []
    },
    {
      "cell_type": "markdown",
      "metadata": {
        "_uuid": "84aed27e-6ebb-464f-909c-458b35acabff",
        "_cell_guid": "16ee2eae-5234-4349-8a1a-8f5e925c5732",
        "trusted": true,
        "id": "0tUpG8v6sIr7",
        "colab_type": "text"
      },
      "source": [
        "### Function Resize Dataset"
      ]
    },
    {
      "cell_type": "code",
      "metadata": {
        "_uuid": "24b7b83e-fcaa-4985-b6ee-ca962e8fa121",
        "_cell_guid": "74f119eb-8854-4f1f-be45-bbd92cc4c763",
        "trusted": true,
        "id": "Xt6BhXFcsIr8",
        "colab_type": "code",
        "colab": {}
      },
      "source": [
        "def getTrainDataset( size, language):\n",
        "    if (language == 'portuguese'):\n",
        "        testSize = size / trainPortuguese.shape[0]\n",
        "        _, X_test = train_test_split(trainPortuguese, test_size=testSize, random_state=101, stratify=trainPortuguese.category)\n",
        "        return X_test\n",
        "    elif (language == 'spanish' ):\n",
        "        testSize = size / trainSpanish.shape[0]\n",
        "        X_train, X_test = train_test_split(trainSpanish, test_size=testSize, random_state=101, stratify=trainSpanish.category)\n",
        "        return X_test\n",
        "    else:\n",
        "        testSize = size / train.shape[0]\n",
        "        X_train, X_test = train_test_split(train, test_size=testSize, random_state=101, stratify=train.category)\n",
        "        return X_test"
      ],
      "execution_count": 0,
      "outputs": []
    },
    {
      "cell_type": "markdown",
      "metadata": {
        "_uuid": "3e8b62ab-ddcf-4f60-9ff6-aa973cae0090",
        "_cell_guid": "b6b05175-66b7-46be-8c54-62d683fc9565",
        "trusted": true,
        "id": "p4zSJ73osIsA",
        "colab_type": "text"
      },
      "source": [
        "### Function Remove StopWords and Ponctuation"
      ]
    },
    {
      "cell_type": "code",
      "metadata": {
        "_uuid": "91d4aaee-8012-4209-943e-c234ed8084bd",
        "_cell_guid": "cd255421-cb64-4cf6-85c0-0a511b55b1ad",
        "trusted": true,
        "id": "a7T1eVVNsIsB",
        "colab_type": "code",
        "colab": {}
      },
      "source": [
        "#Word Stemmer\n",
        "portugueseStemmer = SnowballStemmer(\"portuguese\")\n",
        "stemmer = RSLPStemmer()\n",
        "\n",
        "#Remove Ponctuation and Numbers\n",
        "#removeChar = '0123456789' + string.punctuation\n",
        "removeChar = string.punctuation\n",
        "\n",
        "notUseful = ['kit', 'frete', 'envio', 'gratis', 'pronta', 'entrega', 'nova', 'usado', 'usada',\n",
        "             'novo', 'original', 'cm', 'mm', 'promocao', 'combo', 'kg', 'nuevo', \n",
        "             'cm', 'mini', 'oferta', 'litros', 'negro', 'set', 'par', 'promocao', 'pack', \n",
        "             'kg', 'completo', 'profissional', 'black', 'grande', 'nuevo', 'nueva', \n",
        "             'tipo', 'ml', 'metros', 'universal', 'bivolt', 'new', 'pcs', 'completa', \n",
        "             'red', 'ano', 'ii', 'branco', 'branca', 'preto', 'preta', 'azul', \n",
        "             'vermelho', 'vermelha', 'rosa', 'verde', 'amarelo']\n",
        "#stopWordsData = stopwords.words('portuguese') + list(string.ascii_lowercase) + colors + notUseful\n",
        "stopWordsData = stopwords.words('spanish') + stopwords.words('portuguese') + list(string.ascii_lowercase) + notUseful\n",
        "\n",
        "def removeStopColumn(column, language):\n",
        "    if (language == 'portuguese'):\n",
        "        stopWordsData = stopwords.words('portuguese') + list(string.ascii_lowercase)\n",
        "    elif (language == 'spanish' ):\n",
        "        stopWordsData = stopwords.words('spanish') + list(string.ascii_lowercase)\n",
        "    else:\n",
        "        stopWordsData = stopwords.words('spanish') + stopwords.words('portuguese') + list(string.ascii_lowercase)\n",
        "    \n",
        "    return column.apply(lambda line: removeStopLine(line))\n",
        "    \n",
        "\n",
        "def removeStopLine(line):\n",
        "    #Remove accents\n",
        "    text = unidecode.unidecode(line)\n",
        "    #Replace \"./-\" for espace\n",
        "    text = text.translate(str.maketrans(',./-', '    '))\n",
        "    #Remove ponctuation\n",
        "    text = text.translate(str.maketrans('', '', removeChar))\n",
        "    listWords = text.split()\n",
        "    #listWords = nlp(text)\n",
        "\n",
        "    #Remove StopWords and Numbers\n",
        "    #text = [portugueseStemmer.stem(word) for word in listWords if (word not in stopWordsData and not(word.isdigit()))]\n",
        "    #text = [word.lemma_ for word in listWords if (word.lemma_ not in stopWordsData and not(re.search('\\d+', word.lemma_)))]\n",
        "    text = [word for word in listWords if (word not in stopWordsData and not(re.search('\\d+', word)))]\n",
        "    text = ' '.join(text)\n",
        "    return text"
      ],
      "execution_count": 0,
      "outputs": []
    },
    {
      "cell_type": "code",
      "metadata": {
        "id": "fhZA8qRAWLWf",
        "colab_type": "code",
        "colab": {}
      },
      "source": [
        ""
      ],
      "execution_count": 0,
      "outputs": []
    },
    {
      "cell_type": "markdown",
      "metadata": {
        "_uuid": "b10c9e44-ba98-4a9e-b2d1-b0fdbb5b1d10",
        "_cell_guid": "cc34ec37-3975-49e9-9034-645657d88e77",
        "trusted": true,
        "id": "LAHsFcs3sIro",
        "colab_type": "text"
      },
      "source": [
        "### Read Datasets"
      ]
    },
    {
      "cell_type": "code",
      "metadata": {
        "_uuid": "0fb3d394-bc89-42c3-9128-13de5d8df9bf",
        "_cell_guid": "1887594d-b90e-449f-801c-690067015dd5",
        "trusted": true,
        "id": "mLPPCtTRsIrp",
        "colab_type": "code",
        "colab": {}
      },
      "source": [
        "train = pd.read_csv(\"train.csv.gz\")\n",
        "test = pd.read_csv(\"test.csv\")\n",
        "#sample_sub = pd.read_csv(\"sample_submission.csv\")\n",
        "\n",
        "#Convert column title to lower case\n",
        "train['title'] = train[\"title\"].map(lambda x: x.lower())"
      ],
      "execution_count": 0,
      "outputs": []
    },
    {
      "cell_type": "code",
      "metadata": {
        "_uuid": "ac80bf0c-9d3c-424b-8aa4-c8247310047c",
        "_cell_guid": "1bffef2a-7a60-4eb1-9edc-5863cc291a90",
        "trusted": true,
        "id": "0e9kWjh7sIrs",
        "colab_type": "code",
        "outputId": "d232c863-83af-42d7-ecba-1543e321caea",
        "colab": {
          "base_uri": "https://localhost:8080/",
          "height": 34
        }
      },
      "source": [
        "train.shape"
      ],
      "execution_count": 0,
      "outputs": [
        {
          "output_type": "execute_result",
          "data": {
            "text/plain": [
              "(20000000, 4)"
            ]
          },
          "metadata": {
            "tags": []
          },
          "execution_count": 8
        }
      ]
    },
    {
      "cell_type": "code",
      "metadata": {
        "id": "_vdV3oOHKbHu",
        "colab_type": "code",
        "colab": {}
      },
      "source": [
        ""
      ],
      "execution_count": 0,
      "outputs": []
    },
    {
      "cell_type": "code",
      "metadata": {
        "id": "HFiKLJcerv0G",
        "colab_type": "code",
        "colab": {}
      },
      "source": [
        ""
      ],
      "execution_count": 0,
      "outputs": []
    },
    {
      "cell_type": "markdown",
      "metadata": {
        "id": "jNIPxMa3rxRa",
        "colab_type": "text"
      },
      "source": [
        "### Split in Realiable Dataset"
      ]
    },
    {
      "cell_type": "code",
      "metadata": {
        "_uuid": "17d5da2f-713d-465c-92b2-ba2a64a509f2",
        "_cell_guid": "a44da270-1092-4755-9d1a-a33472ceaa83",
        "trusted": true,
        "id": "tfFGOqcqsIrw",
        "colab_type": "code",
        "outputId": "33fdef5c-957b-460e-bf35-3f1aa750c586",
        "colab": {
          "base_uri": "https://localhost:8080/"
        }
      },
      "source": [
        "trainReliable = train[train['label_quality'] == 'reliable']\n",
        "trainUnreliable = train[train['label_quality'] == 'unreliable']\n",
        "\n",
        "print(\"Reliable: \", trainReliable.shape, 'Unrealible: ', trainUnreliable.shape)\n",
        "trainReliable.drop('label_quality', axis=1, inplace=True)\n",
        "#trainReliable.describe()\n",
        "\n",
        "_, trainUnreliable = train_test_split(trainUnreliable, test_size=0.07, random_state=42, stratify=trainUnreliable.category)\n",
        "\n",
        "trainReliable = trainReliable.append(trainUnreliable)\n",
        "\n",
        "trainReliable.shape"
      ],
      "execution_count": 0,
      "outputs": [
        {
          "output_type": "stream",
          "text": [
            "Reliable:  (1184245, 4) Unrealible:  (18815755, 4)\n"
          ],
          "name": "stdout"
        },
        {
          "output_type": "execute_result",
          "data": {
            "text/plain": [
              "(2501348, 4)"
            ]
          },
          "metadata": {
            "tags": []
          },
          "execution_count": 9
        }
      ]
    },
    {
      "cell_type": "markdown",
      "metadata": {
        "id": "TXByTULOr38F",
        "colab_type": "text"
      },
      "source": [
        "### Train - Remove StopWords"
      ]
    },
    {
      "cell_type": "code",
      "metadata": {
        "id": "dWAuFoTNZHmI",
        "colab_type": "code",
        "outputId": "c38171b9-11a0-483e-d347-2167fe5c4fdf",
        "colab": {
          "base_uri": "https://localhost:8080/"
        }
      },
      "source": [
        "#trainData = train.head(1000000)\n",
        "init = time.time()\n",
        "\n",
        "trainReliable['title_nopunc'] = trainReliable['title'].apply(removeStopLine)\n",
        "\n",
        "print('Time to processed: ', time.time() - init)\n",
        "\n",
        "trainReliable = indexesZeroTrain(trainReliable)"
      ],
      "execution_count": 0,
      "outputs": [
        {
          "output_type": "stream",
          "text": [
            "Time to processed:  187.10828065872192\n"
          ],
          "name": "stdout"
        }
      ]
    },
    {
      "cell_type": "code",
      "metadata": {
        "id": "oFZzum7UsJKB",
        "colab_type": "code",
        "outputId": "933ec81e-0d39-4922-afbf-af4b017ae5a4",
        "colab": {
          "base_uri": "https://localhost:8080/"
        }
      },
      "source": [
        ""
      ],
      "execution_count": 0,
      "outputs": [
        {
          "output_type": "stream",
          "text": [
            "707\n"
          ],
          "name": "stdout"
        }
      ]
    },
    {
      "cell_type": "markdown",
      "metadata": {
        "id": "rr7m9oxcytAK",
        "colab_type": "text"
      },
      "source": [
        "### Test - Remove StopWords"
      ]
    },
    {
      "cell_type": "code",
      "metadata": {
        "id": "E-j9RRkPyh-d",
        "colab_type": "code",
        "colab": {}
      },
      "source": [
        "test['title'] = test[\"title\"].map(lambda x: x.lower())\n",
        "\n",
        "init = time.time()\n",
        "\n",
        "test[\"title_nopunc\"] = test['title'].apply(removeStopLine)\n",
        "\n",
        "print('Time to processed: ', time.time() - init)\n",
        "\n",
        "test = indexesZeroTest(test)\n",
        "\n",
        "test.drop('id', axis=1, inplace=True)"
      ],
      "execution_count": 0,
      "outputs": []
    },
    {
      "cell_type": "code",
      "metadata": {
        "id": "scq9TiUe0khc",
        "colab_type": "code",
        "outputId": "9816d380-63e7-4afe-c61d-20c786087613",
        "colab": {
          "base_uri": "https://localhost:8080/",
          "height": 204
        }
      },
      "source": [
        "test.head()"
      ],
      "execution_count": 0,
      "outputs": [
        {
          "output_type": "execute_result",
          "data": {
            "text/html": [
              "<div>\n",
              "<style scoped>\n",
              "    .dataframe tbody tr th:only-of-type {\n",
              "        vertical-align: middle;\n",
              "    }\n",
              "\n",
              "    .dataframe tbody tr th {\n",
              "        vertical-align: top;\n",
              "    }\n",
              "\n",
              "    .dataframe thead th {\n",
              "        text-align: right;\n",
              "    }\n",
              "</style>\n",
              "<table border=\"1\" class=\"dataframe\">\n",
              "  <thead>\n",
              "    <tr style=\"text-align: right;\">\n",
              "      <th></th>\n",
              "      <th>title</th>\n",
              "      <th>language</th>\n",
              "      <th>title_nopunc</th>\n",
              "    </tr>\n",
              "  </thead>\n",
              "  <tbody>\n",
              "    <tr>\n",
              "      <th>0</th>\n",
              "      <td>kit maternidade bolsa-mala baby/bebe vinho men...</td>\n",
              "      <td>portuguese</td>\n",
              "      <td>maternidade bolsa mala baby bebe vinho menina</td>\n",
              "    </tr>\n",
              "    <tr>\n",
              "      <th>1</th>\n",
              "      <td>trocador de fraldas fisher price feminino rosa...</td>\n",
              "      <td>portuguese</td>\n",
              "      <td>trocador fraldas fisher price feminino portatil</td>\n",
              "    </tr>\n",
              "    <tr>\n",
              "      <th>2</th>\n",
              "      <td>motor ventoinha - fiat idea / palio 1.8 - a 04...</td>\n",
              "      <td>portuguese</td>\n",
              "      <td>motor ventoinha fiat idea palio</td>\n",
              "    </tr>\n",
              "    <tr>\n",
              "      <th>3</th>\n",
              "      <td>amortecedor mola batente d dir new civic 14 - ...</td>\n",
              "      <td>portuguese</td>\n",
              "      <td>amortecedor mola batente dir civic</td>\n",
              "    </tr>\n",
              "    <tr>\n",
              "      <th>4</th>\n",
              "      <td>cadeirinha de carro bebê princesa princess 9 a...</td>\n",
              "      <td>portuguese</td>\n",
              "      <td>cadeirinha carro bebe princesa princess kgs</td>\n",
              "    </tr>\n",
              "  </tbody>\n",
              "</table>\n",
              "</div>"
            ],
            "text/plain": [
              "                                               title  ...                                     title_nopunc\n",
              "0  kit maternidade bolsa-mala baby/bebe vinho men...  ...    maternidade bolsa mala baby bebe vinho menina\n",
              "1  trocador de fraldas fisher price feminino rosa...  ...  trocador fraldas fisher price feminino portatil\n",
              "2  motor ventoinha - fiat idea / palio 1.8 - a 04...  ...                  motor ventoinha fiat idea palio\n",
              "3  amortecedor mola batente d dir new civic 14 - ...  ...               amortecedor mola batente dir civic\n",
              "4  cadeirinha de carro bebê princesa princess 9 a...  ...      cadeirinha carro bebe princesa princess kgs\n",
              "\n",
              "[5 rows x 3 columns]"
            ]
          },
          "metadata": {
            "tags": []
          },
          "execution_count": 92
        }
      ]
    },
    {
      "cell_type": "markdown",
      "metadata": {
        "id": "dFlqYq7uyx3u",
        "colab_type": "text"
      },
      "source": [
        "### Word Embeeding"
      ]
    },
    {
      "cell_type": "code",
      "metadata": {
        "id": "ge6CEkABZkCZ",
        "colab_type": "code",
        "colab": {}
      },
      "source": [
        "from keras.preprocessing.text import Tokenizer\n",
        "from keras.preprocessing.sequence import pad_sequences"
      ],
      "execution_count": 0,
      "outputs": []
    },
    {
      "cell_type": "code",
      "metadata": {
        "id": "l14jCqc5zKZ_",
        "colab_type": "code",
        "colab": {}
      },
      "source": [
        "sizeTrain = trainReliable.shape[0]\n",
        "sizeTest = test.shape[0]"
      ],
      "execution_count": 0,
      "outputs": []
    },
    {
      "cell_type": "code",
      "metadata": {
        "id": "HQCIc0O1zLI_",
        "colab_type": "code",
        "colab": {}
      },
      "source": [
        "trainReliable = trainReliable.append(test)"
      ],
      "execution_count": 0,
      "outputs": []
    },
    {
      "cell_type": "code",
      "metadata": {
        "id": "dIwoxGh9zTrd",
        "colab_type": "code",
        "colab": {}
      },
      "source": [
        ""
      ],
      "execution_count": 0,
      "outputs": []
    },
    {
      "cell_type": "code",
      "metadata": {
        "id": "_SErPDk9uJex",
        "colab_type": "code",
        "colab": {}
      },
      "source": [
        "tokenizer = Tokenizer(num_words=20000)"
      ],
      "execution_count": 0,
      "outputs": []
    },
    {
      "cell_type": "code",
      "metadata": {
        "id": "S2ogdP-oZoXA",
        "colab_type": "code",
        "outputId": "a37e8a1b-4b2c-44ea-83d4-b3aaa5f29f6e",
        "colab": {
          "base_uri": "https://localhost:8080/",
          "height": 34
        }
      },
      "source": [
        "init = time.time()\n",
        "\n",
        "tokenizer.fit_on_texts(trainReliable['title_nopunc'])\n",
        "X_train = tokenizer.texts_to_sequences(trainReliable['title_nopunc'])\n",
        "\n",
        "maxlen = 5\n",
        "\n",
        "X_train = pad_sequences(X_train, truncating='post',maxlen=maxlen)\n",
        "#X_test = pad_sequences(X_test, padding='post', maxlen=maxlen)\n",
        "\n",
        "X_train = tokenizer.sequences_to_texts(X_train)\n",
        "\n",
        "#from operator import itemgetter\n",
        "#sortedWords = sorted(tokenizer.word_counts.items(), key=itemgetter(1), reverse = True)\n",
        "\n",
        "print('Time to processed: ', int(time.time() - init), ' segundos')"
      ],
      "execution_count": 0,
      "outputs": [
        {
          "output_type": "stream",
          "text": [
            "Time to processed:  132  segundos\n"
          ],
          "name": "stdout"
        }
      ]
    },
    {
      "cell_type": "code",
      "metadata": {
        "id": "U7ep4Mg4sVP-",
        "colab_type": "code",
        "outputId": "0dc9fabf-1537-4247-9e95-b968a36ac707",
        "colab": {
          "base_uri": "https://localhost:8080/",
          "height": 68
        }
      },
      "source": [
        "vl = 2500123\n",
        "print('Vocabulary length:',len(tokenizer.word_index))\n",
        "print(trainReliable['title_nopunc'].iloc[vl])\n",
        "print(X_train[vl])"
      ],
      "execution_count": 0,
      "outputs": [
        {
          "output_type": "stream",
          "text": [
            "Vocabulary length: 275671\n",
            "filamento abs envio gratiscuotas printalot\n",
            "filamento abs envio\n"
          ],
          "name": "stdout"
        }
      ]
    },
    {
      "cell_type": "code",
      "metadata": {
        "id": "km83UblhsVYt",
        "colab_type": "code",
        "colab": {}
      },
      "source": [
        "trainReliable['title_nopunc'] = X_train"
      ],
      "execution_count": 0,
      "outputs": []
    },
    {
      "cell_type": "code",
      "metadata": {
        "id": "W1uLY-BnN-FM",
        "colab_type": "code",
        "colab": {}
      },
      "source": [
        "test = trainReliable.tail(sizeTest)"
      ],
      "execution_count": 0,
      "outputs": []
    },
    {
      "cell_type": "code",
      "metadata": {
        "id": "kwBPc8GgOkhK",
        "colab_type": "code",
        "colab": {}
      },
      "source": [
        "trainReliable = trainReliable.head(sizeTrain)"
      ],
      "execution_count": 0,
      "outputs": []
    },
    {
      "cell_type": "code",
      "metadata": {
        "id": "m--TE_3nO5QR",
        "colab_type": "code",
        "outputId": "e58ca1e0-1fbd-4a12-e746-c14deb951aa4",
        "colab": {
          "base_uri": "https://localhost:8080/",
          "height": 34
        }
      },
      "source": [
        "print('Size Train: ', trainReliable.shape , 'Size Test: ',test.shape)"
      ],
      "execution_count": 0,
      "outputs": [
        {
          "output_type": "stream",
          "text": [
            "Size Train:  (2500641, 4) Size Test:  (246955, 4)\n"
          ],
          "name": "stdout"
        }
      ]
    },
    {
      "cell_type": "code",
      "metadata": {
        "id": "zuppD7cLiDL_",
        "colab_type": "code",
        "colab": {}
      },
      "source": [
        "indexes = trainReliable[trainReliable['title_nopunc'].apply(len) == 0].index\n",
        "trainReliable['title_nopunc'][indexes] = trainReliable.loc[indexes]['title'].apply(removeStopLine)"
      ],
      "execution_count": 0,
      "outputs": []
    },
    {
      "cell_type": "code",
      "metadata": {
        "id": "OH824HHwZjw1",
        "colab_type": "code",
        "colab": {}
      },
      "source": [
        "indexes = test[test['title_nopunc'].apply(len) == 0].index\n",
        "test['title_nopunc'][indexes] = test.loc[indexes]['title'].apply(removeStopLine)"
      ],
      "execution_count": 0,
      "outputs": []
    },
    {
      "cell_type": "code",
      "metadata": {
        "id": "VFHPJFSDZj9e",
        "colab_type": "code",
        "colab": {}
      },
      "source": [
        ""
      ],
      "execution_count": 0,
      "outputs": []
    },
    {
      "cell_type": "markdown",
      "metadata": {
        "_uuid": "51aacb3c-f457-4ef6-87b0-85bf1e2ca8eb",
        "_cell_guid": "1860b9c8-d98a-4a45-bb18-ccdc82327191",
        "trusted": true,
        "id": "Ow23JwRDsIr1",
        "colab_type": "text"
      },
      "source": [
        "### Split Train by Languages"
      ]
    },
    {
      "cell_type": "code",
      "metadata": {
        "id": "FPeNSeloYpKY",
        "colab_type": "code",
        "colab": {}
      },
      "source": [
        "trainPortuguese = trainReliable[trainReliable['language'] == 'portuguese']\n",
        "trainSpanish = trainReliable[trainReliable['language'] == 'spanish']"
      ],
      "execution_count": 0,
      "outputs": []
    },
    {
      "cell_type": "code",
      "metadata": {
        "id": "pd2OJIGFX6sT",
        "colab_type": "code",
        "colab": {}
      },
      "source": [
        "i = trainPortuguese[trainPortuguese['category'] == 'PACKAGING_CONTAINERS'].index\n",
        "ii = trainPortuguese[trainPortuguese['category'] == 'FIELD_HOCKEY_STICKS'].index\n",
        "trainPortuguese.drop(i, inplace=True)\n",
        "trainPortuguese.drop(ii, inplace=True)"
      ],
      "execution_count": 0,
      "outputs": []
    },
    {
      "cell_type": "code",
      "metadata": {
        "id": "2V-oaPfYYcYC",
        "colab_type": "code",
        "colab": {}
      },
      "source": [
        "ix = trainSpanish[trainSpanish['category'] == 'CHESS_CLOCKS'].index\n",
        "trainSpanish.drop(ix, inplace=True)"
      ],
      "execution_count": 0,
      "outputs": []
    },
    {
      "cell_type": "code",
      "metadata": {
        "id": "_BnX9JoKXI-c",
        "colab_type": "code",
        "outputId": "2cc19438-8376-407c-c6a1-5c4713f8b872",
        "colab": {
          "base_uri": "https://localhost:8080/",
          "height": 119
        }
      },
      "source": [
        "trainPortuguese['category'].value_counts().tail()"
      ],
      "execution_count": 0,
      "outputs": [
        {
          "output_type": "execute_result",
          "data": {
            "text/plain": [
              "COLD_FOOD_AND_DRINK_VENDING_MACHINES    4\n",
              "BOXING_SPEED_BAGS                       4\n",
              "COFFEE_VENDING_MACHINES                 3\n",
              "MARTIAL_ARTS_FOOT_GUARDS                2\n",
              "WAKEBOARD_BOOTS                         2\n",
              "Name: category, dtype: int64"
            ]
          },
          "metadata": {
            "tags": []
          },
          "execution_count": 202
        }
      ]
    },
    {
      "cell_type": "code",
      "metadata": {
        "id": "KkNZtq7gwroR",
        "colab_type": "code",
        "colab": {}
      },
      "source": [
        ""
      ],
      "execution_count": 0,
      "outputs": []
    },
    {
      "cell_type": "markdown",
      "metadata": {
        "_uuid": "bcd285d5-0883-48eb-a338-b5f5c682c493",
        "_cell_guid": "6802ea86-4792-4ef1-bb91-a1e9950e9b2a",
        "trusted": true,
        "id": "5KaHcPJ3sIt7",
        "colab_type": "text"
      },
      "source": [
        "### Split Test by Languages"
      ]
    },
    {
      "cell_type": "code",
      "metadata": {
        "_uuid": "787a1902-6330-4d28-b785-93b9b3d3ff04",
        "_cell_guid": "23ce01e8-d9b7-4718-8a16-3e09e7a8d332",
        "trusted": true,
        "id": "Et3P5nmPsIuB",
        "colab_type": "code",
        "colab": {}
      },
      "source": [
        "testPortuguese = test[test['language'] == 'portuguese']\n",
        "testSpanish = test[test['language'] == 'spanish']"
      ],
      "execution_count": 0,
      "outputs": []
    },
    {
      "cell_type": "markdown",
      "metadata": {
        "_uuid": "66fd81a7-b5f5-4aac-95d6-7999b0582657",
        "_cell_guid": "225ffadd-bdf1-4abe-9c43-a0214034a22d",
        "trusted": true,
        "id": "CDf19vcVsIsd",
        "colab_type": "text"
      },
      "source": [
        "### Resize Dataset by defined size"
      ]
    },
    {
      "cell_type": "code",
      "metadata": {
        "_uuid": "a92d000b-6aa6-459f-b1ef-a344fb8e9bdc",
        "_cell_guid": "101afc25-75d6-48a7-9aaf-778517a49de3",
        "trusted": true,
        "id": "lwtOZ_Q_sIse",
        "colab_type": "code",
        "colab": {}
      },
      "source": [
        "sizeTrain = 150000"
      ],
      "execution_count": 0,
      "outputs": []
    },
    {
      "cell_type": "code",
      "metadata": {
        "_uuid": "5a452783-0a2e-4016-9aff-e1680447a969",
        "_cell_guid": "5911f82f-8380-495e-919d-b197e1d61a9c",
        "trusted": true,
        "id": "rtKzn6mbsIsh",
        "colab_type": "code",
        "colab": {}
      },
      "source": [
        "trainPort = getTrainDataset (sizeTrain, 'portuguese')"
      ],
      "execution_count": 0,
      "outputs": []
    },
    {
      "cell_type": "code",
      "metadata": {
        "_uuid": "750cad07-a199-4562-96b4-d56a86e17b5d",
        "_cell_guid": "5f46a1cc-dffb-47a9-9224-bed1f94347ea",
        "trusted": true,
        "id": "I_tKlhIWsIsq",
        "colab_type": "code",
        "colab": {}
      },
      "source": [
        "trainSpa = getTrainDataset (sizeTrain, 'spanish')"
      ],
      "execution_count": 0,
      "outputs": []
    },
    {
      "cell_type": "code",
      "metadata": {
        "_uuid": "4db4fad6-3eec-4c60-bec3-28535d04df2d",
        "_cell_guid": "2cb330af-99ac-4c1d-8f0d-dd101f361fd5",
        "trusted": true,
        "id": "9HShpLmxsIsz",
        "colab_type": "code",
        "outputId": "37d55713-592b-4da1-99c5-7ceb0d864356",
        "colab": {
          "base_uri": "https://localhost:8080/",
          "height": 173
        }
      },
      "source": [
        "trainPort.describe()"
      ],
      "execution_count": 0,
      "outputs": [
        {
          "output_type": "execute_result",
          "data": {
            "text/html": [
              "<div>\n",
              "<style scoped>\n",
              "    .dataframe tbody tr th:only-of-type {\n",
              "        vertical-align: middle;\n",
              "    }\n",
              "\n",
              "    .dataframe tbody tr th {\n",
              "        vertical-align: top;\n",
              "    }\n",
              "\n",
              "    .dataframe thead th {\n",
              "        text-align: right;\n",
              "    }\n",
              "</style>\n",
              "<table border=\"1\" class=\"dataframe\">\n",
              "  <thead>\n",
              "    <tr style=\"text-align: right;\">\n",
              "      <th></th>\n",
              "      <th>category</th>\n",
              "      <th>language</th>\n",
              "      <th>title</th>\n",
              "      <th>title_nopunc</th>\n",
              "    </tr>\n",
              "  </thead>\n",
              "  <tbody>\n",
              "    <tr>\n",
              "      <th>count</th>\n",
              "      <td>150000</td>\n",
              "      <td>150000</td>\n",
              "      <td>150000</td>\n",
              "      <td>150000</td>\n",
              "    </tr>\n",
              "    <tr>\n",
              "      <th>unique</th>\n",
              "      <td>1567</td>\n",
              "      <td>1</td>\n",
              "      <td>150000</td>\n",
              "      <td>137362</td>\n",
              "    </tr>\n",
              "    <tr>\n",
              "      <th>top</th>\n",
              "      <td>CAR_SEAT_COVERS</td>\n",
              "      <td>portuguese</td>\n",
              "      <td>dvd player pioneer avh-a 208 bt bluetooth usb ...</td>\n",
              "      <td>protetor borda porta mala capo</td>\n",
              "    </tr>\n",
              "    <tr>\n",
              "      <th>freq</th>\n",
              "      <td>571</td>\n",
              "      <td>150000</td>\n",
              "      <td>1</td>\n",
              "      <td>193</td>\n",
              "    </tr>\n",
              "  </tbody>\n",
              "</table>\n",
              "</div>"
            ],
            "text/plain": [
              "               category  ...                    title_nopunc\n",
              "count            150000  ...                          150000\n",
              "unique             1567  ...                          137362\n",
              "top     CAR_SEAT_COVERS  ...  protetor borda porta mala capo\n",
              "freq                571  ...                             193\n",
              "\n",
              "[4 rows x 4 columns]"
            ]
          },
          "metadata": {
            "tags": []
          },
          "execution_count": 224
        }
      ]
    },
    {
      "cell_type": "code",
      "metadata": {
        "id": "bZAxgzthUjVO",
        "colab_type": "code",
        "colab": {}
      },
      "source": [
        ""
      ],
      "execution_count": 0,
      "outputs": []
    },
    {
      "cell_type": "markdown",
      "metadata": {
        "_uuid": "8393a5a5-31f7-42f6-93eb-16dc4ab8d9c5",
        "_cell_guid": "b180c154-feac-435e-91f4-639e5c13cc3f",
        "trusted": true,
        "id": "wy0Oha-tsItG",
        "colab_type": "text"
      },
      "source": [
        "### Vectorizer"
      ]
    },
    {
      "cell_type": "code",
      "metadata": {
        "_uuid": "454d0569-cabd-4dac-a4b5-7727e5441692",
        "_cell_guid": "615cea5a-294b-46d4-84b3-0384793d6f9c",
        "trusted": true,
        "id": "y3TX6r6ssItH",
        "colab_type": "code",
        "colab": {}
      },
      "source": [
        "from sklearn.feature_extraction.text import CountVectorizer, TfidfVectorizer\n",
        "from sklearn.feature_extraction.text import TfidfTransformer"
      ],
      "execution_count": 0,
      "outputs": []
    },
    {
      "cell_type": "code",
      "metadata": {
        "_uuid": "05fa99d1-07be-4d6d-bf8f-c85106ac7cce",
        "_cell_guid": "6e385130-b0a2-4ebb-a7b1-004cdfde4946",
        "trusted": true,
        "id": "tb_SzvAzsItJ",
        "colab_type": "code",
        "colab": {}
      },
      "source": [
        "#Vectorizer unique words and transform in matrix of 0 and 1\n",
        "def createMatrixWords(listWords):\n",
        "    vectorizer = CountVectorizer(dtype=np.int8)\n",
        "    matriz = vectorizer.fit_transform(listWords)\n",
        "    print(\"Total size of unique words: {}\".format(len(vectorizer.get_feature_names())))\n",
        "    return matriz"
      ],
      "execution_count": 0,
      "outputs": []
    },
    {
      "cell_type": "code",
      "metadata": {
        "_uuid": "9b845bb9-f756-4d98-97f7-1c64b1105093",
        "_cell_guid": "4c296dcb-67d9-4dc3-aed9-6478c5ba849d",
        "trusted": true,
        "id": "UtnFhcyBsItL",
        "colab_type": "code",
        "colab": {}
      },
      "source": [
        "#Vectorizer unique words and transform in matrix of 0 and 1\n",
        "def createMatrixWordsTFIDF(listWords):\n",
        "    vectorizer = CountVectorizer(dtype=np.int8)\n",
        "    matrix = vectorizer.fit_transform(listWords)\n",
        "    tfidf_matrix = TfidfTransformer().fit_transform(matrix)\n",
        "    #tfidf_matrix = tfidf_transformer.transform(messages_bow)\n",
        "    print(\"Total size of unique words: {}\".format(len(vectorizer.get_feature_names())))\n",
        "    return tfidf_matrix"
      ],
      "execution_count": 0,
      "outputs": []
    },
    {
      "cell_type": "code",
      "metadata": {
        "_uuid": "2532b500-df6b-4a82-a52e-f14b166bc06c",
        "_cell_guid": "57dd006b-5da6-4121-9573-4abeae190d61",
        "trusted": true,
        "id": "rU2wOGEhsItP",
        "colab_type": "code",
        "colab": {}
      },
      "source": [
        "#Vectorizer \n",
        "def createMatrixWordsTFIDF_Gram(listWords):\n",
        "    vectorizer = TfidfVectorizer(ngram_range=(1,2), analyzer='word') # You can still specify n-grams here.\n",
        "    tfidf_matrix = vectorizer.fit_transform(listWords)\n",
        "    print(\"Total size of unique words: {}\".format(len(vectorizer.get_feature_names())))\n",
        "    return tfidf_matrix"
      ],
      "execution_count": 0,
      "outputs": []
    },
    {
      "cell_type": "code",
      "metadata": {
        "_uuid": "bc4c8162-8b26-44e6-9fd0-7e84e232b10f",
        "_cell_guid": "e8a2bde4-9fec-46b5-bbcc-263e4109bc53",
        "trusted": true,
        "id": "58UuI1gPsItS",
        "colab_type": "code",
        "colab": {}
      },
      "source": [
        "vectorizer = TfidfVectorizer(ngram_range=(2,2), analyzer='word') # You can still specify n-grams here.\n",
        "tfidf_matrix = vectorizer.fit_transform(trainPort['title_nopunc'].tolist())\n",
        "#print(\"Total size of unique words: {}\".format(len(vectorizer.get_feature_names())))\n",
        "\n",
        "frequencies = sum(tfidf_matrix).toarray()[0]\n",
        "x = pd.DataFrame(frequencies, index=vectorizer.get_feature_names(), columns=['frequency'])\n",
        "x.sort_values(by=['frequency'], ascending=False, inplace=True)\n",
        "len(x.sort_values(by=['frequency']))"
      ],
      "execution_count": 0,
      "outputs": []
    },
    {
      "cell_type": "code",
      "metadata": {
        "_uuid": "c7d9ffb8-e0cb-46f2-af66-4fb0570fd3fe",
        "_cell_guid": "396850b9-c1be-4860-a94d-125181c7b90e",
        "trusted": true,
        "id": "-7wUqfWvsItU",
        "colab_type": "code",
        "colab": {}
      },
      "source": [
        "word_vectorizer = CountVectorizer(ngram_range=(3,3), analyzer='word')\n",
        "sparse_matrix = word_vectorizer.fit_transform(trainPort['title_nopunc'].tolist())"
      ],
      "execution_count": 0,
      "outputs": []
    },
    {
      "cell_type": "code",
      "metadata": {
        "_uuid": "a4aeb1f2-3162-4705-8f6e-17931c990df5",
        "_cell_guid": "49f1b2ff-e9fa-4295-8f87-6a39766e652b",
        "trusted": true,
        "id": "nkApjWTxsItW",
        "colab_type": "code",
        "colab": {}
      },
      "source": [
        "len(word_vectorizer.get_feature_names())"
      ],
      "execution_count": 0,
      "outputs": []
    },
    {
      "cell_type": "code",
      "metadata": {
        "_uuid": "840957f1-afa6-48ec-875c-af8556bda172",
        "_cell_guid": "78abe3a2-73e3-45c7-9b41-33ca49afb667",
        "trusted": true,
        "id": "0jxwzZCdsItZ",
        "colab_type": "code",
        "colab": {}
      },
      "source": [
        "frequencies = sum(sparse_matrix).toarray()[0]"
      ],
      "execution_count": 0,
      "outputs": []
    },
    {
      "cell_type": "code",
      "metadata": {
        "_uuid": "5453d90d-2103-4895-bf55-bf978224ab5c",
        "_cell_guid": "ab0f331b-d52a-4c90-abec-8cea6e3a95d3",
        "trusted": true,
        "id": "JtlJTkKUsItb",
        "colab_type": "code",
        "colab": {}
      },
      "source": [
        "xi = pd.DataFrame(frequencies, index=word_vectorizer.get_feature_names(), columns=['frequency'])\n",
        "xi.sort_values(by=['frequency'], ascending=False, inplace=True)\n",
        "len(xi)"
      ],
      "execution_count": 0,
      "outputs": []
    },
    {
      "cell_type": "code",
      "metadata": {
        "_uuid": "ec15b1f3-56d1-4500-9644-51d6d4be1d8e",
        "_cell_guid": "5214aa9b-8e97-4eec-abbd-cecb512704bc",
        "trusted": true,
        "id": "s7trKnPGsItf",
        "colab_type": "code",
        "colab": {}
      },
      "source": [
        "len(xi[xi['frequency'] > 1])"
      ],
      "execution_count": 0,
      "outputs": []
    },
    {
      "cell_type": "code",
      "metadata": {
        "_uuid": "ffe5529c-c3e5-43d9-aa4d-d5340ac0f7c6",
        "_cell_guid": "d762733e-152b-46f1-87ab-a8c0097885c1",
        "trusted": true,
        "id": "q9QTbSBLsItk",
        "colab_type": "code",
        "colab": {}
      },
      "source": [
        ""
      ],
      "execution_count": 0,
      "outputs": []
    },
    {
      "cell_type": "code",
      "metadata": {
        "_uuid": "b8432007-3131-4fc9-a950-65ef4f91df87",
        "_cell_guid": "4f2bcb17-8c6d-420d-a111-f1f0c03c90a7",
        "trusted": true,
        "id": "hO7UL2z0sItn",
        "colab_type": "code",
        "colab": {}
      },
      "source": [
        "xi.tail(50)"
      ],
      "execution_count": 0,
      "outputs": []
    },
    {
      "cell_type": "code",
      "metadata": {
        "_uuid": "0fda2565-fc1a-45f0-8807-0ba00458c4fb",
        "_cell_guid": "39a57697-9406-4b87-9983-ea4c917fcf0a",
        "trusted": true,
        "id": "ASsjrPg9sItr",
        "colab_type": "code",
        "colab": {}
      },
      "source": [
        ""
      ],
      "execution_count": 0,
      "outputs": []
    },
    {
      "cell_type": "code",
      "metadata": {
        "_uuid": "040057e0-2160-4711-8ae4-22518213cdcd",
        "_cell_guid": "4d6ab10b-e5aa-489b-baa6-a7d3326281d6",
        "trusted": true,
        "id": "xjGDwq2SsItu",
        "colab_type": "code",
        "outputId": "0e7626b5-3df8-40f5-c208-11414fe547fd",
        "colab": {
          "base_uri": "https://localhost:8080/",
          "height": 34
        }
      },
      "source": [
        "matrix_Vector_Train_Port = createMatrixWordsTFIDF(trainPort['title_nopunc'].tolist())"
      ],
      "execution_count": 0,
      "outputs": [
        {
          "output_type": "stream",
          "text": [
            "Total size of unique words: 12021\n"
          ],
          "name": "stdout"
        }
      ]
    },
    {
      "cell_type": "code",
      "metadata": {
        "_uuid": "5dc2db07-ca4f-4170-bd5c-701c7e1208cb",
        "_cell_guid": "942b7fe7-8264-4e84-8b81-8d1dda1df1c1",
        "trusted": true,
        "id": "rNi3QfhrsIty",
        "colab_type": "code",
        "outputId": "93eeba09-d077-4602-fe4f-87d3a4a4126d",
        "colab": {
          "base_uri": "https://localhost:8080/",
          "height": 34
        }
      },
      "source": [
        "matrix_Vector_Train_Spa = createMatrixWordsTFIDF(trainSpa['title_nopunc'].tolist())"
      ],
      "execution_count": 0,
      "outputs": [
        {
          "output_type": "stream",
          "text": [
            "Total size of unique words: 41064\n"
          ],
          "name": "stdout"
        }
      ]
    },
    {
      "cell_type": "code",
      "metadata": {
        "_uuid": "6feabea8-1b80-4a08-803f-559e769a0ca2",
        "_cell_guid": "d71e6346-f98c-427c-8fe9-a7fc813e9ac1",
        "trusted": true,
        "id": "5RbkmDATsIt1",
        "colab_type": "code",
        "colab": {}
      },
      "source": [
        ""
      ],
      "execution_count": 0,
      "outputs": []
    },
    {
      "cell_type": "markdown",
      "metadata": {
        "_uuid": "9bff1b93-a517-4f1d-b3d8-53de4716dba4",
        "_cell_guid": "9085f8bb-5da2-4337-b9b9-1f13484b383e",
        "trusted": true,
        "id": "M_HRnHTvsIua",
        "colab_type": "text"
      },
      "source": [
        "### Vectorizer Words Train + Test"
      ]
    },
    {
      "cell_type": "code",
      "metadata": {
        "_uuid": "cd64a885-e814-4999-9ea8-f9c71c59d668",
        "_cell_guid": "fd0428e2-3c92-47f7-a8c4-a3b1dc96adf3",
        "trusted": true,
        "id": "9MzvRcXEsIua",
        "colab_type": "code",
        "colab": {}
      },
      "source": [
        "allWordsPort = trainPort['title_nopunc'].tolist() + testPortuguese['title_nopunc'].tolist()\n",
        "allWordsSpa = trainSpa['title_nopunc'].tolist() + testSpanish['title_nopunc'].tolist()\n",
        "\n",
        "#allWordsPort = trainPort['title'].tolist() + testPortuguese['title'].tolist()\n",
        "#allWordsSpa = trainSpa['title'].tolist() + testSpanish['title'].tolist()"
      ],
      "execution_count": 0,
      "outputs": []
    },
    {
      "cell_type": "code",
      "metadata": {
        "_uuid": "c9d4197c-e526-44da-b813-fc5ea5f86a7b",
        "_cell_guid": "84248e67-acce-4981-b4ae-f888e2c03e76",
        "trusted": true,
        "id": "8ZkQIeNrsIuc",
        "colab_type": "code",
        "outputId": "a7e3e291-e05d-4313-f15f-fd0e6b3362b2",
        "colab": {
          "base_uri": "https://localhost:8080/",
          "height": 34
        }
      },
      "source": [
        "matrix_Vector_All_Words_Port = createMatrixWordsTFIDF(allWordsPort)"
      ],
      "execution_count": 0,
      "outputs": [
        {
          "output_type": "stream",
          "text": [
            "Total size of unique words: 16455\n"
          ],
          "name": "stdout"
        }
      ]
    },
    {
      "cell_type": "code",
      "metadata": {
        "_uuid": "4aab5063-bcda-42b4-bdab-6541a6dd0691",
        "_cell_guid": "cfaa9330-b9f0-4434-b8b7-b7cc3c765421",
        "trusted": true,
        "id": "qJNmnHGesIuh",
        "colab_type": "code",
        "outputId": "8ac3c93c-db85-453c-da22-e05186fc80b4",
        "colab": {
          "base_uri": "https://localhost:8080/",
          "height": 34
        }
      },
      "source": [
        "matrix_Vector_All_Words_Spa = createMatrixWordsTFIDF(allWordsSpa)"
      ],
      "execution_count": 0,
      "outputs": [
        {
          "output_type": "stream",
          "text": [
            "Total size of unique words: 17406\n"
          ],
          "name": "stdout"
        }
      ]
    },
    {
      "cell_type": "code",
      "metadata": {
        "_uuid": "06872818-a411-47a2-a054-faa534b2f0b8",
        "_cell_guid": "01e18108-a024-4e90-a0fa-996a3c40960a",
        "trusted": true,
        "id": "GmrLKi0dsIuj",
        "colab_type": "code",
        "outputId": "bd3130f8-ec91-4c5f-e756-b17dfd4cb4ba",
        "colab": {
          "base_uri": "https://localhost:8080/",
          "height": 34
        }
      },
      "source": [
        "X_matrix_train_port = matrix_Vector_All_Words_Port[:trainPort.shape[0]]\n",
        "X_matrix_test_port = matrix_Vector_All_Words_Port[trainPort.shape[0]:]\n",
        "print(\"O dataset de treino portuguese tera um tamanho de {} e o dataset de test de {}\".format(X_matrix_train_port.shape, X_matrix_test_port.shape))"
      ],
      "execution_count": 0,
      "outputs": [
        {
          "output_type": "stream",
          "text": [
            "O dataset de treino portuguese tera um tamanho de (150000, 16455) e o dataset de test de (121968, 16455)\n"
          ],
          "name": "stdout"
        }
      ]
    },
    {
      "cell_type": "code",
      "metadata": {
        "_uuid": "71feb125-446b-4882-b5c1-73cb23eccf7c",
        "_cell_guid": "8a426e23-39ed-42b7-81c3-5a37b253ac19",
        "trusted": true,
        "id": "nkBPHAhtsIum",
        "colab_type": "code",
        "outputId": "a9c41b66-dc22-4334-9eab-c0e5ae851cfe",
        "colab": {
          "base_uri": "https://localhost:8080/",
          "height": 34
        }
      },
      "source": [
        "X_matrix_train_spa = matrix_Vector_All_Words_Spa[:trainSpa.shape[0]]\n",
        "X_matrix_test_spa = matrix_Vector_All_Words_Spa[trainSpa.shape[0]:]\n",
        "print(\"O dataset de treino spanish tera um tamanho de {} e o dataset de test de {}\".format(X_matrix_train_spa.shape, X_matrix_test_spa.shape))"
      ],
      "execution_count": 0,
      "outputs": [
        {
          "output_type": "stream",
          "text": [
            "O dataset de treino spanish tera um tamanho de (150000, 17406) e o dataset de test de (124987, 17406)\n"
          ],
          "name": "stdout"
        }
      ]
    },
    {
      "cell_type": "markdown",
      "metadata": {
        "_uuid": "344e12b3-7caf-4a60-93eb-ae4bff716f08",
        "_cell_guid": "66530e95-cf7e-49e6-94d9-ec2ccced5cf5",
        "trusted": true,
        "id": "XJLkz3mosIuo",
        "colab_type": "text"
      },
      "source": [
        "### Category Feature Scaling"
      ]
    },
    {
      "cell_type": "code",
      "metadata": {
        "_uuid": "96b9f37a-0b13-4c65-ac87-0f8d7b294a79",
        "_cell_guid": "71507ce0-7539-4852-8a89-06595acfff10",
        "trusted": true,
        "id": "rolY0wInsIuq",
        "colab_type": "code",
        "outputId": "bebf2664-ac8b-4662-9678-ca43f041f29b",
        "colab": {
          "base_uri": "https://localhost:8080/",
          "height": 34
        }
      },
      "source": [
        "target_names_port = trainPort['category'].unique()\n",
        "target_dict_port = {n:i for i, n in enumerate(target_names_port)}\n",
        "#len(target_names_port)\n",
        "\n",
        "target_names_spa = trainSpa['category'].unique()\n",
        "target_dict_spa = {n:i for i, n in enumerate(target_names_spa)}\n",
        "#len(target_names_spa)\n",
        "\n",
        "y_port = trainPort['category'].map(target_dict_port)\n",
        "y_spa = trainSpa['category'].map(target_dict_spa)\n",
        "\n",
        "y_cat_port = to_categorical(y_port)\n",
        "y_cat_spa = to_categorical(y_spa)\n",
        "\n",
        "print(\"Target dataset portuguese have a size: {} and the dataset spanish: {}\".format(y_cat_port.shape, y_cat_spa.shape))"
      ],
      "execution_count": 0,
      "outputs": [
        {
          "output_type": "stream",
          "text": [
            "Target dataset portuguese have a size: (150000, 1567) and the dataset spanish: (150000, 1566)\n"
          ],
          "name": "stdout"
        }
      ]
    },
    {
      "cell_type": "code",
      "metadata": {
        "id": "OYGATfA2LrWc",
        "colab_type": "code",
        "colab": {}
      },
      "source": [
        ""
      ],
      "execution_count": 0,
      "outputs": []
    },
    {
      "cell_type": "markdown",
      "metadata": {
        "id": "HfakOUKqWrgr",
        "colab_type": "text"
      },
      "source": [
        "### Word Embedding"
      ]
    },
    {
      "cell_type": "code",
      "metadata": {
        "id": "lTfkgv2Cs3u1",
        "colab_type": "code",
        "colab": {}
      },
      "source": [
        "from keras.preprocessing.text import Tokenizer\n",
        "from keras.preprocessing.sequence import pad_sequences"
      ],
      "execution_count": 0,
      "outputs": []
    },
    {
      "cell_type": "code",
      "metadata": {
        "id": "LQYnsJsKNtNy",
        "colab_type": "code",
        "colab": {}
      },
      "source": [
        "tokenizer = Tokenizer(num_words=10000)"
      ],
      "execution_count": 0,
      "outputs": []
    },
    {
      "cell_type": "code",
      "metadata": {
        "id": "piDaXMdgs6V5",
        "colab_type": "code",
        "outputId": "3f9cf237-7706-483c-ef35-37b8b31c2f74",
        "colab": {
          "base_uri": "https://localhost:8080/"
        }
      },
      "source": [
        "tokenizer.fit_on_texts(trainData['title_nopunc'])\n",
        "X_train = tokenizer.texts_to_sequences(trainData['title_nopunc'])\n",
        "\n",
        "print('Vocabulary length:',len(tokenizer.word_index))\n",
        "print(trainData['title_nopunc'].iloc[95])\n",
        "print(X_train[95])\n",
        "\n",
        "maxlen = 4\n",
        "\n",
        "X_train = pad_sequences(X_train, truncating='post',maxlen=maxlen)\n",
        "#X_test = pad_sequences(X_test, padding='post', maxlen=maxlen)"
      ],
      "execution_count": 0,
      "outputs": [
        {
          "output_type": "stream",
          "text": [
            "Vocabulary length: 55448\n",
            "cruza palabras juego mesa palabras cruzadas fichas madera\n",
            "[20, 3, 5619, 41]\n"
          ],
          "name": "stdout"
        }
      ]
    },
    {
      "cell_type": "code",
      "metadata": {
        "id": "D5DqLX0kSmI4",
        "colab_type": "code",
        "outputId": "e321c0dc-be58-41e5-dbe2-4b91b6d67cd7",
        "colab": {
          "base_uri": "https://localhost:8080/"
        }
      },
      "source": [
        "x = tokenizer.sequences_to_texts(X_train)\n",
        "#y = tokenizer.texts_to_matrix(trainData['title_nopunc'])\n",
        "x[95]"
      ],
      "execution_count": 0,
      "outputs": [
        {
          "output_type": "execute_result",
          "data": {
            "text/plain": [
              "'juego mesa fichas madera'"
            ]
          },
          "metadata": {
            "tags": []
          },
          "execution_count": 98
        }
      ]
    },
    {
      "cell_type": "code",
      "metadata": {
        "id": "1CEIn5LFTfRP",
        "colab_type": "code",
        "outputId": "38472853-4070-417b-e822-d46f1b197fa9",
        "colab": {
          "base_uri": "https://localhost:8080/"
        }
      },
      "source": [
        "vl = 10589\n",
        "print(trainData['title_nopunc'].iloc[vl])\n",
        "print(X_train[vl])\n",
        "print(x[vl])"
      ],
      "execution_count": 0,
      "outputs": [
        {
          "output_type": "stream",
          "text": [
            "flight case anvil pioneer djm\n",
            "[   0 6604  193  464]\n",
            "flight case pioneer\n"
          ],
          "name": "stdout"
        }
      ]
    },
    {
      "cell_type": "code",
      "metadata": {
        "id": "b2blCi6EVfg0",
        "colab_type": "code",
        "colab": {}
      },
      "source": [
        ""
      ],
      "execution_count": 0,
      "outputs": []
    },
    {
      "cell_type": "code",
      "metadata": {
        "id": "keCKy1mqVfqC",
        "colab_type": "code",
        "colab": {}
      },
      "source": [
        ""
      ],
      "execution_count": 0,
      "outputs": []
    },
    {
      "cell_type": "code",
      "metadata": {
        "id": "k_zUJdPWVfnZ",
        "colab_type": "code",
        "colab": {}
      },
      "source": [
        ""
      ],
      "execution_count": 0,
      "outputs": []
    },
    {
      "cell_type": "code",
      "metadata": {
        "id": "zPlYrIvsVfdP",
        "colab_type": "code",
        "colab": {}
      },
      "source": [
        ""
      ],
      "execution_count": 0,
      "outputs": []
    },
    {
      "cell_type": "code",
      "metadata": {
        "id": "2Ls8KXwvtANZ",
        "colab_type": "code",
        "outputId": "6923d261-a844-4882-d431-acc890345645",
        "colab": {
          "base_uri": "https://localhost:8080/"
        }
      },
      "source": [
        "X_train[95]"
      ],
      "execution_count": 0,
      "outputs": [
        {
          "output_type": "execute_result",
          "data": {
            "text/plain": [
              "array([0, 0, 0, 1], dtype=int32)"
            ]
          },
          "metadata": {
            "tags": []
          },
          "execution_count": 67
        }
      ]
    },
    {
      "cell_type": "code",
      "metadata": {
        "id": "ynr6wDo5w94L",
        "colab_type": "code",
        "outputId": "ae49c5fe-db89-4605-fac9-26383e1a8794",
        "colab": {
          "base_uri": "https://localhost:8080/"
        }
      },
      "source": [
        "tokenizer.word_index['mesa']"
      ],
      "execution_count": 0,
      "outputs": [
        {
          "output_type": "execute_result",
          "data": {
            "text/plain": [
              "1"
            ]
          },
          "metadata": {
            "tags": []
          },
          "execution_count": 36
        }
      ]
    },
    {
      "cell_type": "code",
      "metadata": {
        "id": "014V4eLZcjDr",
        "colab_type": "code",
        "colab": {}
      },
      "source": [
        "\n",
        "from keras.preprocessing import sequence\n",
        "from keras.models import Sequential\n",
        "from keras.layers import Dense, Embedding, Dropout, Conv1D, MaxPooling1D, Activation\n",
        "from keras.layers import LSTM\n",
        "from keras.datasets import imdb"
      ],
      "execution_count": 0,
      "outputs": []
    },
    {
      "cell_type": "code",
      "metadata": {
        "id": "KKBoJA4wQe7J",
        "colab_type": "code",
        "outputId": "acdb2e94-d1b9-4469-97e9-963be8052111",
        "colab": {
          "base_uri": "https://localhost:8080/",
          "height": 68
        }
      },
      "source": [
        "max_features = 5000\n",
        "maxlen = 5\n",
        "\n",
        "tokenizer = Tokenizer(num_words=max_features)\n",
        "tokenizer.fit_on_texts(trainPort['title_nopunc'])\n",
        "\n",
        "X_train = tokenizer.texts_to_sequences(trainPort['title_nopunc'])\n",
        "\n",
        "print('Loading data...')\n",
        "print(len(X_train), 'train sequences')\n",
        "\n",
        "X_train = sequence.pad_sequences(X_train, maxlen=maxlen)\n",
        "print('X_train shape:', X_train.shape)"
      ],
      "execution_count": 0,
      "outputs": [
        {
          "output_type": "stream",
          "text": [
            "Loading data...\n",
            "49987 train sequences\n",
            "X_train shape: (49987, 5)\n"
          ],
          "name": "stdout"
        }
      ]
    },
    {
      "cell_type": "code",
      "metadata": {
        "id": "KE-mApiDXExF",
        "colab_type": "code",
        "colab": {}
      },
      "source": [
        "#Portuguese Dataset\n",
        "X_train_port, X_test_port, y_train_port, y_test_port = train_test_split(X_train, y_cat_port, test_size=0.18, random_state=101)"
      ],
      "execution_count": 0,
      "outputs": []
    },
    {
      "cell_type": "code",
      "metadata": {
        "id": "VZ_DHiC3Z8I1",
        "colab_type": "code",
        "outputId": "224aa4ae-961e-40fe-d624-7c1e93899bbf",
        "colab": {
          "base_uri": "https://localhost:8080/",
          "height": 119
        }
      },
      "source": [
        ""
      ],
      "execution_count": 0,
      "outputs": [
        {
          "output_type": "stream",
          "text": [
            "Loading data...\n",
            "25000 train sequences\n",
            "25000 test sequences\n",
            "Pad sequences (samples x time)\n",
            "x_train shape: (25000, 400)\n",
            "x_test shape: (25000, 400)\n"
          ],
          "name": "stdout"
        }
      ]
    },
    {
      "cell_type": "code",
      "metadata": {
        "id": "zCVIVzUkj9qM",
        "colab_type": "code",
        "outputId": "1e82daef-871f-41cb-90af-98ec5952eec1",
        "colab": {
          "base_uri": "https://localhost:8080/",
          "height": 459
        }
      },
      "source": [
        "embedding_size = 32\n",
        "\n",
        "# Convolution\n",
        "kernel_size = 3\n",
        "filters = 64\n",
        "\n",
        "# LSTM\n",
        "lstm_output_size = 1024\n",
        "\n",
        "# Training\n",
        "batch_size = 32\n",
        "epochs = 10\n",
        "\n",
        "print('Build model...')\n",
        "\n",
        "model = Sequential()\n",
        "model.add(Embedding(max_features, embedding_size, input_length=maxlen))\n",
        "model.add(Dropout(0.25))\n",
        "model.add(Conv1D(filters,\n",
        "                 kernel_size,\n",
        "                 padding='valid',\n",
        "                 activation='relu',\n",
        "                 strides=1))\n",
        "model.add(MaxPooling1D())\n",
        "model.add(LSTM(lstm_output_size))\n",
        "model.add(Dense(y_train_port.shape[1]))\n",
        "model.add(Activation('softmax'))\n",
        "\n",
        "model.compile(loss='categorical_crossentropy', optimizer='adam', metrics=['accuracy'])\n",
        "\n",
        "print('Train...')\n",
        "model.fit(X_train_port, y_train_port,\n",
        "          batch_size=batch_size,\n",
        "          epochs=epochs,\n",
        "          validation_data=(X_test_port, y_test_port))\n",
        "score, acc = model.evaluate(X_test_port, y_test_port, batch_size=batch_size)\n",
        "print('Test score:', score)\n",
        "print('Test accuracy:', acc)"
      ],
      "execution_count": 0,
      "outputs": [
        {
          "output_type": "stream",
          "text": [
            "Build model...\n",
            "Train...\n",
            "Train on 40989 samples, validate on 8998 samples\n",
            "Epoch 1/10\n",
            "40989/40989 [==============================] - 32s 784us/step - loss: 6.8696 - acc: 0.0078 - val_loss: 6.2366 - val_acc: 0.0269\n",
            "Epoch 2/10\n",
            "40989/40989 [==============================] - 26s 629us/step - loss: 5.3317 - acc: 0.1153 - val_loss: 4.5068 - val_acc: 0.2492\n",
            "Epoch 3/10\n",
            "40989/40989 [==============================] - 26s 628us/step - loss: 3.8797 - acc: 0.3073 - val_loss: 3.6974 - val_acc: 0.3864\n",
            "Epoch 4/10\n",
            "40989/40989 [==============================] - 26s 628us/step - loss: 3.1670 - acc: 0.4105 - val_loss: 3.3688 - val_acc: 0.4407\n",
            "Epoch 5/10\n",
            "40989/40989 [==============================] - 26s 630us/step - loss: 2.7499 - acc: 0.4701 - val_loss: 3.1997 - val_acc: 0.4731\n",
            "Epoch 6/10\n",
            "40989/40989 [==============================] - 26s 626us/step - loss: 2.4888 - acc: 0.5092 - val_loss: 3.1310 - val_acc: 0.4830\n",
            "Epoch 7/10\n",
            "40989/40989 [==============================] - 26s 627us/step - loss: 2.2908 - acc: 0.5375 - val_loss: 3.0981 - val_acc: 0.4978\n",
            "Epoch 8/10\n",
            "40989/40989 [==============================] - 26s 627us/step - loss: 2.1320 - acc: 0.5572 - val_loss: 3.0743 - val_acc: 0.5026\n",
            "Epoch 9/10\n",
            "40989/40989 [==============================] - 26s 636us/step - loss: 1.9989 - acc: 0.5801 - val_loss: 3.0967 - val_acc: 0.5067\n",
            "Epoch 10/10\n",
            "40989/40989 [==============================] - 26s 625us/step - loss: 1.8881 - acc: 0.5971 - val_loss: 3.0949 - val_acc: 0.5127\n",
            "8998/8998 [==============================] - 1s 140us/step\n",
            "Test score: 3.0949499965853415\n",
            "Test accuracy: 0.5126694821203833\n"
          ],
          "name": "stdout"
        }
      ]
    },
    {
      "cell_type": "code",
      "metadata": {
        "id": "u2JvAn0TcOIs",
        "colab_type": "code",
        "colab": {}
      },
      "source": [
        ""
      ],
      "execution_count": 0,
      "outputs": []
    },
    {
      "cell_type": "code",
      "metadata": {
        "id": "rt6VS4iRcOZG",
        "colab_type": "code",
        "colab": {}
      },
      "source": [
        ""
      ],
      "execution_count": 0,
      "outputs": []
    },
    {
      "cell_type": "code",
      "metadata": {
        "id": "txO6kKeTQgUd",
        "colab_type": "code",
        "outputId": "d1b236b0-523f-4d98-e547-66c28b6a1b8c",
        "colab": {
          "base_uri": "https://localhost:8080/",
          "height": 629
        }
      },
      "source": [
        "print('Build model...')\n",
        "\n",
        "category_size = y_train.shape[1]\n",
        "\n",
        "model = Sequential()\n",
        "model.add(Embedding(max_features, 256))\n",
        "model.add(LSTM(256, dropout=0.2, recurrent_dropout=0.2))\n",
        "model.add(Dense(category_size, activation='softmax'))\n",
        "\n",
        "model.compile(optimizer='adam',\n",
        "                loss='categorical_crossentropy',\n",
        "                metrics=['accuracy'])\n",
        "\n",
        "# try using different optimizers and different optimizer configs\n",
        "#model.compile(loss='categorical_crossentropy', optimizer='adam', metrics=['accuracy'])\n",
        "\n",
        "print('Train...')\n",
        "model.fit(X_train_port, y_train_port, batch_size=batch_size, epochs=15, validation_split=0.18)\n",
        "\n",
        "score, acc = model.evaluate(X_test_port, y_test_port,\n",
        "                            batch_size=batch_size)\n",
        "print('Test score:', score)\n",
        "print('Test accuracy:', acc)"
      ],
      "execution_count": 0,
      "outputs": [
        {
          "output_type": "stream",
          "text": [
            "Build model...\n",
            "Train...\n",
            "Train on 13443 samples, validate on 2951 samples\n",
            "Epoch 1/15\n",
            "13443/13443 [==============================] - 11s 784us/step - loss: 7.1056 - acc: 0.0045 - val_loss: 6.7735 - val_acc: 0.0075\n",
            "Epoch 2/15\n",
            "13443/13443 [==============================] - 8s 629us/step - loss: 5.9341 - acc: 0.0590 - val_loss: 5.4712 - val_acc: 0.1427\n",
            "Epoch 3/15\n",
            "13443/13443 [==============================] - 8s 622us/step - loss: 4.0139 - acc: 0.2936 - val_loss: 4.1876 - val_acc: 0.3477\n",
            "Epoch 4/15\n",
            "13443/13443 [==============================] - 8s 621us/step - loss: 2.4742 - acc: 0.5288 - val_loss: 3.7341 - val_acc: 0.4185\n",
            "Epoch 5/15\n",
            "13443/13443 [==============================] - 8s 619us/step - loss: 1.5842 - acc: 0.6844 - val_loss: 3.5955 - val_acc: 0.4507\n",
            "Epoch 6/15\n",
            "13443/13443 [==============================] - 8s 619us/step - loss: 1.0497 - acc: 0.7930 - val_loss: 3.5373 - val_acc: 0.4741\n",
            "Epoch 7/15\n",
            "13443/13443 [==============================] - 8s 619us/step - loss: 0.7183 - acc: 0.8586 - val_loss: 3.5984 - val_acc: 0.4768\n",
            "Epoch 8/15\n",
            "13443/13443 [==============================] - 8s 619us/step - loss: 0.5151 - acc: 0.9017 - val_loss: 3.6476 - val_acc: 0.4822\n",
            "Epoch 9/15\n",
            "13443/13443 [==============================] - 8s 620us/step - loss: 0.3780 - acc: 0.9298 - val_loss: 3.6940 - val_acc: 0.4798\n",
            "Epoch 10/15\n",
            "13443/13443 [==============================] - 8s 613us/step - loss: 0.2893 - acc: 0.9486 - val_loss: 3.7710 - val_acc: 0.4778\n",
            "Epoch 11/15\n",
            "13443/13443 [==============================] - 8s 613us/step - loss: 0.2321 - acc: 0.9599 - val_loss: 3.8313 - val_acc: 0.4842\n",
            "Epoch 12/15\n",
            "13443/13443 [==============================] - 8s 612us/step - loss: 0.1856 - acc: 0.9691 - val_loss: 3.9011 - val_acc: 0.4849\n",
            "Epoch 13/15\n",
            "13443/13443 [==============================] - 8s 605us/step - loss: 0.1547 - acc: 0.9735 - val_loss: 3.9263 - val_acc: 0.4829\n",
            "Epoch 14/15\n",
            "13443/13443 [==============================] - 8s 617us/step - loss: 0.1334 - acc: 0.9769 - val_loss: 3.9599 - val_acc: 0.4846\n",
            "Epoch 15/15\n",
            "13443/13443 [==============================] - 9s 639us/step - loss: 0.1168 - acc: 0.9779 - val_loss: 4.0657 - val_acc: 0.4795\n",
            "3599/3599 [==============================] - 1s 166us/step\n",
            "Test score: 4.176858585322688\n",
            "Test accuracy: 0.4790219505832208\n"
          ],
          "name": "stdout"
        }
      ]
    },
    {
      "cell_type": "code",
      "metadata": {
        "id": "PjmqirKER5oX",
        "colab_type": "code",
        "colab": {}
      },
      "source": [
        ""
      ],
      "execution_count": 0,
      "outputs": []
    },
    {
      "cell_type": "code",
      "metadata": {
        "id": "E9UoJ15qR5wx",
        "colab_type": "code",
        "colab": {}
      },
      "source": [
        ""
      ],
      "execution_count": 0,
      "outputs": []
    },
    {
      "cell_type": "code",
      "metadata": {
        "id": "j8vyO5wEQfGi",
        "colab_type": "code",
        "colab": {}
      },
      "source": [
        ""
      ],
      "execution_count": 0,
      "outputs": []
    },
    {
      "cell_type": "code",
      "metadata": {
        "id": "EQNqAzrVQfRC",
        "colab_type": "code",
        "colab": {}
      },
      "source": [
        ""
      ],
      "execution_count": 0,
      "outputs": []
    },
    {
      "cell_type": "code",
      "metadata": {
        "id": "x4wnaRcRUjfk",
        "colab_type": "code",
        "colab": {}
      },
      "source": [
        "vocab_size = len(tokenizer.word_index) + 1"
      ],
      "execution_count": 0,
      "outputs": []
    },
    {
      "cell_type": "code",
      "metadata": {
        "id": "qzfyWbqP2yCk",
        "colab_type": "code",
        "colab": {}
      },
      "source": [
        "from keras.models import Sequential\n",
        "from keras import layers\n",
        "from keras.layers import LSTM, Dense"
      ],
      "execution_count": 0,
      "outputs": []
    },
    {
      "cell_type": "code",
      "metadata": {
        "id": "CQBdpOVcUjmt",
        "colab_type": "code",
        "colab": {}
      },
      "source": [
        "def makeModelFlatten():\n",
        "  embedding_dim = 50\n",
        "\n",
        "  model = Sequential()\n",
        "  model.add(layers.Embedding(input_dim=vocab_size, \n",
        "                            output_dim=embedding_dim, \n",
        "                            input_length=maxlen))\n",
        "  model.add(layers.Flatten())\n",
        "  model.add(layers.Dense(y_cat_port.shape[1], activation='relu'))\n",
        "  model.add(layers.Dense(y_cat_port.shape[1], activation='softmax'))\n",
        "  model.compile(optimizer='adam',\n",
        "                loss='categorical_crossentropy',\n",
        "                metrics=['accuracy'])\n",
        "  #model.summary()\n",
        "  return model\n",
        "\n",
        "\n"
      ],
      "execution_count": 0,
      "outputs": []
    },
    {
      "cell_type": "code",
      "metadata": {
        "id": "FjxplGsNyKtM",
        "colab_type": "code",
        "colab": {}
      },
      "source": [
        "#classificador = modelLSTM()\n",
        "#history = classificador.fit(X_train, y_cat_port, epochs=5, verbose=1, validation_split=0.18, batch_size=10)"
      ],
      "execution_count": 0,
      "outputs": []
    },
    {
      "cell_type": "code",
      "metadata": {
        "id": "nhuyvoUawyUm",
        "colab_type": "code",
        "outputId": "b526d8d7-c116-4fa3-8f4e-80abf4ca5615",
        "colab": {
          "base_uri": "https://localhost:8080/",
          "height": 458
        }
      },
      "source": [
        "#200\n",
        "plotLearningCurves(history)"
      ],
      "execution_count": 0,
      "outputs": [
        {
          "output_type": "stream",
          "text": [
            "dict_keys(['val_loss', 'val_acc', 'loss', 'acc'])\n"
          ],
          "name": "stdout"
        },
        {
          "output_type": "display_data",
          "data": {
            "image/png": "[encoded data removed]",
            "text/plain": [
              "<Figure size 864x432 with 2 Axes>"
            ]
          },
          "metadata": {
            "tags": []
          }
        }
      ]
    },
    {
      "cell_type": "code",
      "metadata": {
        "id": "f-DvWjIcwyfc",
        "colab_type": "code",
        "colab": {}
      },
      "source": [
        ""
      ],
      "execution_count": 0,
      "outputs": []
    },
    {
      "cell_type": "code",
      "metadata": {
        "id": "LNBDFDAdwyvk",
        "colab_type": "code",
        "colab": {}
      },
      "source": [
        "def createModelConv():\n",
        "    embedding_dim = 100\n",
        "\n",
        "    model = Sequential()\n",
        "    model.add(layers.Embedding(vocab_size, embedding_dim, input_length=maxlen))\n",
        "    model.add(layers.Conv1D(128, 5, activation='relu'))\n",
        "    model.add(layers.GlobalMaxPooling1D())\n",
        "    model.add(layers.Dense(y_cat_port.shape[1], activation='softmax'))\n",
        "    model.compile(optimizer='adam',\n",
        "                  loss='categorical_crossentropy',\n",
        "                  metrics=['accuracy'])\n",
        "    model.summary()\n",
        "    \n",
        "    return model"
      ],
      "execution_count": 0,
      "outputs": []
    },
    {
      "cell_type": "code",
      "metadata": {
        "id": "uswyLvbdUjsb",
        "colab_type": "code",
        "outputId": "4e5b02b6-d29c-4bb2-e5c1-ab452f3ea28c",
        "colab": {
          "base_uri": "https://localhost:8080/",
          "height": 425
        }
      },
      "source": [
        "clfConv = createModelConv()\n",
        "history = clfConv.fit(X_train, y_cat_port, epochs=10, verbose=1, validation_split=0.18, batch_size=10)"
      ],
      "execution_count": 0,
      "outputs": [
        {
          "output_type": "error",
          "ename": "TypeError",
          "evalue": "ignored",
          "traceback": [
            "\u001b[0;31m---------------------------------------------------------------------------\u001b[0m",
            "\u001b[0;31mTypeError\u001b[0m                                 Traceback (most recent call last)",
            "\u001b[0;32m/usr/local/lib/python3.6/dist-packages/tensorflow/python/eager/execute.py\u001b[0m in \u001b[0;36mmake_shape\u001b[0;34m(v, arg_name)\u001b[0m\n\u001b[1;32m    145\u001b[0m   \u001b[0;32mtry\u001b[0m\u001b[0;34m:\u001b[0m\u001b[0;34m\u001b[0m\u001b[0;34m\u001b[0m\u001b[0m\n\u001b[0;32m--> 146\u001b[0;31m     \u001b[0mshape\u001b[0m \u001b[0;34m=\u001b[0m \u001b[0mtensor_shape\u001b[0m\u001b[0;34m.\u001b[0m\u001b[0mas_shape\u001b[0m\u001b[0;34m(\u001b[0m\u001b[0mv\u001b[0m\u001b[0;34m)\u001b[0m\u001b[0;34m\u001b[0m\u001b[0;34m\u001b[0m\u001b[0m\n\u001b[0m\u001b[1;32m    147\u001b[0m   \u001b[0;32mexcept\u001b[0m \u001b[0mTypeError\u001b[0m \u001b[0;32mas\u001b[0m \u001b[0me\u001b[0m\u001b[0;34m:\u001b[0m\u001b[0;34m\u001b[0m\u001b[0;34m\u001b[0m\u001b[0m\n",
            "\u001b[0;32m/usr/local/lib/python3.6/dist-packages/tensorflow/python/framework/tensor_shape.py\u001b[0m in \u001b[0;36mas_shape\u001b[0;34m(shape)\u001b[0m\n\u001b[1;32m   1203\u001b[0m   \u001b[0;32melse\u001b[0m\u001b[0;34m:\u001b[0m\u001b[0;34m\u001b[0m\u001b[0;34m\u001b[0m\u001b[0m\n\u001b[0;32m-> 1204\u001b[0;31m     \u001b[0;32mreturn\u001b[0m \u001b[0mTensorShape\u001b[0m\u001b[0;34m(\u001b[0m\u001b[0mshape\u001b[0m\u001b[0;34m)\u001b[0m\u001b[0;34m\u001b[0m\u001b[0;34m\u001b[0m\u001b[0m\n\u001b[0m\u001b[1;32m   1205\u001b[0m \u001b[0;34m\u001b[0m\u001b[0m\n",
            "\u001b[0;32m/usr/local/lib/python3.6/dist-packages/tensorflow/python/framework/tensor_shape.py\u001b[0m in \u001b[0;36m__init__\u001b[0;34m(self, dims)\u001b[0m\n\u001b[1;32m    773\u001b[0m         \u001b[0;31m# Got a list of dimensions\u001b[0m\u001b[0;34m\u001b[0m\u001b[0;34m\u001b[0m\u001b[0;34m\u001b[0m\u001b[0m\n\u001b[0;32m--> 774\u001b[0;31m         \u001b[0mself\u001b[0m\u001b[0;34m.\u001b[0m\u001b[0m_dims\u001b[0m \u001b[0;34m=\u001b[0m \u001b[0;34m[\u001b[0m\u001b[0mas_dimension\u001b[0m\u001b[0;34m(\u001b[0m\u001b[0md\u001b[0m\u001b[0;34m)\u001b[0m \u001b[0;32mfor\u001b[0m \u001b[0md\u001b[0m \u001b[0;32min\u001b[0m \u001b[0mdims_iter\u001b[0m\u001b[0;34m]\u001b[0m\u001b[0;34m\u001b[0m\u001b[0;34m\u001b[0m\u001b[0m\n\u001b[0m\u001b[1;32m    775\u001b[0m \u001b[0;34m\u001b[0m\u001b[0m\n",
            "\u001b[0;32m/usr/local/lib/python3.6/dist-packages/tensorflow/python/framework/tensor_shape.py\u001b[0m in \u001b[0;36m<listcomp>\u001b[0;34m(.0)\u001b[0m\n\u001b[1;32m    773\u001b[0m         \u001b[0;31m# Got a list of dimensions\u001b[0m\u001b[0;34m\u001b[0m\u001b[0;34m\u001b[0m\u001b[0;34m\u001b[0m\u001b[0m\n\u001b[0;32m--> 774\u001b[0;31m         \u001b[0mself\u001b[0m\u001b[0;34m.\u001b[0m\u001b[0m_dims\u001b[0m \u001b[0;34m=\u001b[0m \u001b[0;34m[\u001b[0m\u001b[0mas_dimension\u001b[0m\u001b[0;34m(\u001b[0m\u001b[0md\u001b[0m\u001b[0;34m)\u001b[0m \u001b[0;32mfor\u001b[0m \u001b[0md\u001b[0m \u001b[0;32min\u001b[0m \u001b[0mdims_iter\u001b[0m\u001b[0;34m]\u001b[0m\u001b[0;34m\u001b[0m\u001b[0;34m\u001b[0m\u001b[0m\n\u001b[0m\u001b[1;32m    775\u001b[0m \u001b[0;34m\u001b[0m\u001b[0m\n",
            "\u001b[0;32m/usr/local/lib/python3.6/dist-packages/tensorflow/python/framework/tensor_shape.py\u001b[0m in \u001b[0;36mas_dimension\u001b[0;34m(value)\u001b[0m\n\u001b[1;32m    715\u001b[0m   \u001b[0;32melse\u001b[0m\u001b[0;34m:\u001b[0m\u001b[0;34m\u001b[0m\u001b[0;34m\u001b[0m\u001b[0m\n\u001b[0;32m--> 716\u001b[0;31m     \u001b[0;32mreturn\u001b[0m \u001b[0mDimension\u001b[0m\u001b[0;34m(\u001b[0m\u001b[0mvalue\u001b[0m\u001b[0;34m)\u001b[0m\u001b[0;34m\u001b[0m\u001b[0;34m\u001b[0m\u001b[0m\n\u001b[0m\u001b[1;32m    717\u001b[0m \u001b[0;34m\u001b[0m\u001b[0m\n",
            "\u001b[0;32m/usr/local/lib/python3.6/dist-packages/tensorflow/python/framework/tensor_shape.py\u001b[0m in \u001b[0;36m__init__\u001b[0;34m(self, value)\u001b[0m\n\u001b[1;32m    184\u001b[0m     \u001b[0;32melse\u001b[0m\u001b[0;34m:\u001b[0m\u001b[0;34m\u001b[0m\u001b[0;34m\u001b[0m\u001b[0m\n\u001b[0;32m--> 185\u001b[0;31m       \u001b[0mself\u001b[0m\u001b[0;34m.\u001b[0m\u001b[0m_value\u001b[0m \u001b[0;34m=\u001b[0m \u001b[0mint\u001b[0m\u001b[0;34m(\u001b[0m\u001b[0mvalue\u001b[0m\u001b[0;34m)\u001b[0m\u001b[0;34m\u001b[0m\u001b[0;34m\u001b[0m\u001b[0m\n\u001b[0m\u001b[1;32m    186\u001b[0m       if (not isinstance(value, compat.bytes_or_text_types) and\n",
            "\u001b[0;31mTypeError\u001b[0m: int() argument must be a string, a bytes-like object or a number, not 'list'",
            "\nDuring handling of the above exception, another exception occurred:\n",
            "\u001b[0;31mTypeError\u001b[0m                                 Traceback (most recent call last)",
            "\u001b[0;32m<ipython-input-49-7417a61af5a1>\u001b[0m in \u001b[0;36m<module>\u001b[0;34m()\u001b[0m\n\u001b[0;32m----> 1\u001b[0;31m \u001b[0mclfConv\u001b[0m \u001b[0;34m=\u001b[0m \u001b[0mcreateModelConv\u001b[0m\u001b[0;34m(\u001b[0m\u001b[0;34m)\u001b[0m\u001b[0;34m\u001b[0m\u001b[0;34m\u001b[0m\u001b[0m\n\u001b[0m\u001b[1;32m      2\u001b[0m \u001b[0mhistory\u001b[0m \u001b[0;34m=\u001b[0m \u001b[0mclfConv\u001b[0m\u001b[0;34m.\u001b[0m\u001b[0mfit\u001b[0m\u001b[0;34m(\u001b[0m\u001b[0mX_train\u001b[0m\u001b[0;34m,\u001b[0m \u001b[0my_cat_port\u001b[0m\u001b[0;34m,\u001b[0m \u001b[0mepochs\u001b[0m\u001b[0;34m=\u001b[0m\u001b[0;36m10\u001b[0m\u001b[0;34m,\u001b[0m \u001b[0mverbose\u001b[0m\u001b[0;34m=\u001b[0m\u001b[0;36m1\u001b[0m\u001b[0;34m,\u001b[0m \u001b[0mvalidation_split\u001b[0m\u001b[0;34m=\u001b[0m\u001b[0;36m0.18\u001b[0m\u001b[0;34m,\u001b[0m \u001b[0mbatch_size\u001b[0m\u001b[0;34m=\u001b[0m\u001b[0;36m10\u001b[0m\u001b[0;34m)\u001b[0m\u001b[0;34m\u001b[0m\u001b[0;34m\u001b[0m\u001b[0m\n",
            "\u001b[0;32m<ipython-input-48-f0e18cd09b70>\u001b[0m in \u001b[0;36mcreateModelConv\u001b[0;34m()\u001b[0m\n\u001b[1;32m      3\u001b[0m \u001b[0;34m\u001b[0m\u001b[0m\n\u001b[1;32m      4\u001b[0m     \u001b[0mmodel\u001b[0m \u001b[0;34m=\u001b[0m \u001b[0mSequential\u001b[0m\u001b[0;34m(\u001b[0m\u001b[0;34m)\u001b[0m\u001b[0;34m\u001b[0m\u001b[0;34m\u001b[0m\u001b[0m\n\u001b[0;32m----> 5\u001b[0;31m     \u001b[0mmodel\u001b[0m\u001b[0;34m.\u001b[0m\u001b[0madd\u001b[0m\u001b[0;34m(\u001b[0m\u001b[0mlayers\u001b[0m\u001b[0;34m.\u001b[0m\u001b[0mEmbedding\u001b[0m\u001b[0;34m(\u001b[0m\u001b[0mvocab_size\u001b[0m\u001b[0;34m,\u001b[0m \u001b[0membedding_dim\u001b[0m\u001b[0;34m,\u001b[0m \u001b[0minput_length\u001b[0m\u001b[0;34m=\u001b[0m\u001b[0mmaxlen\u001b[0m\u001b[0;34m)\u001b[0m\u001b[0;34m)\u001b[0m\u001b[0;34m\u001b[0m\u001b[0;34m\u001b[0m\u001b[0m\n\u001b[0m\u001b[1;32m      6\u001b[0m     \u001b[0mmodel\u001b[0m\u001b[0;34m.\u001b[0m\u001b[0madd\u001b[0m\u001b[0;34m(\u001b[0m\u001b[0mlayers\u001b[0m\u001b[0;34m.\u001b[0m\u001b[0mConv1D\u001b[0m\u001b[0;34m(\u001b[0m\u001b[0;36m128\u001b[0m\u001b[0;34m,\u001b[0m \u001b[0;36m5\u001b[0m\u001b[0;34m,\u001b[0m \u001b[0mactivation\u001b[0m\u001b[0;34m=\u001b[0m\u001b[0;34m'relu'\u001b[0m\u001b[0;34m)\u001b[0m\u001b[0;34m)\u001b[0m\u001b[0;34m\u001b[0m\u001b[0;34m\u001b[0m\u001b[0m\n\u001b[1;32m      7\u001b[0m     \u001b[0mmodel\u001b[0m\u001b[0;34m.\u001b[0m\u001b[0madd\u001b[0m\u001b[0;34m(\u001b[0m\u001b[0mlayers\u001b[0m\u001b[0;34m.\u001b[0m\u001b[0mGlobalMaxPooling1D\u001b[0m\u001b[0;34m(\u001b[0m\u001b[0;34m)\u001b[0m\u001b[0;34m)\u001b[0m\u001b[0;34m\u001b[0m\u001b[0;34m\u001b[0m\u001b[0m\n",
            "\u001b[0;32m/usr/local/lib/python3.6/dist-packages/keras/engine/sequential.py\u001b[0m in \u001b[0;36madd\u001b[0;34m(self, layer)\u001b[0m\n\u001b[1;32m    160\u001b[0m                         \u001b[0mbatch_shape\u001b[0m\u001b[0;34m=\u001b[0m\u001b[0mbatch_shape\u001b[0m\u001b[0;34m,\u001b[0m\u001b[0;34m\u001b[0m\u001b[0;34m\u001b[0m\u001b[0m\n\u001b[1;32m    161\u001b[0m                         \u001b[0mdtype\u001b[0m\u001b[0;34m=\u001b[0m\u001b[0mdtype\u001b[0m\u001b[0;34m,\u001b[0m\u001b[0;34m\u001b[0m\u001b[0;34m\u001b[0m\u001b[0m\n\u001b[0;32m--> 162\u001b[0;31m                         name=layer.name + '_input')\n\u001b[0m\u001b[1;32m    163\u001b[0m                     \u001b[0;31m# This will build the current layer\u001b[0m\u001b[0;34m\u001b[0m\u001b[0;34m\u001b[0m\u001b[0;34m\u001b[0m\u001b[0m\n\u001b[1;32m    164\u001b[0m                     \u001b[0;31m# and create the node connecting the current layer\u001b[0m\u001b[0;34m\u001b[0m\u001b[0;34m\u001b[0m\u001b[0;34m\u001b[0m\u001b[0m\n",
            "\u001b[0;32m/usr/local/lib/python3.6/dist-packages/keras/engine/input_layer.py\u001b[0m in \u001b[0;36mInput\u001b[0;34m(shape, batch_shape, name, dtype, sparse, tensor)\u001b[0m\n\u001b[1;32m    176\u001b[0m                              \u001b[0mname\u001b[0m\u001b[0;34m=\u001b[0m\u001b[0mname\u001b[0m\u001b[0;34m,\u001b[0m \u001b[0mdtype\u001b[0m\u001b[0;34m=\u001b[0m\u001b[0mdtype\u001b[0m\u001b[0;34m,\u001b[0m\u001b[0;34m\u001b[0m\u001b[0;34m\u001b[0m\u001b[0m\n\u001b[1;32m    177\u001b[0m                              \u001b[0msparse\u001b[0m\u001b[0;34m=\u001b[0m\u001b[0msparse\u001b[0m\u001b[0;34m,\u001b[0m\u001b[0;34m\u001b[0m\u001b[0;34m\u001b[0m\u001b[0m\n\u001b[0;32m--> 178\u001b[0;31m                              input_tensor=tensor)\n\u001b[0m\u001b[1;32m    179\u001b[0m     \u001b[0;31m# Return tensor including _keras_shape and _keras_history.\u001b[0m\u001b[0;34m\u001b[0m\u001b[0;34m\u001b[0m\u001b[0;34m\u001b[0m\u001b[0m\n\u001b[1;32m    180\u001b[0m     \u001b[0;31m# Note that in this case train_output and test_output are the same pointer.\u001b[0m\u001b[0;34m\u001b[0m\u001b[0;34m\u001b[0m\u001b[0;34m\u001b[0m\u001b[0m\n",
            "\u001b[0;32m/usr/local/lib/python3.6/dist-packages/keras/legacy/interfaces.py\u001b[0m in \u001b[0;36mwrapper\u001b[0;34m(*args, **kwargs)\u001b[0m\n\u001b[1;32m     89\u001b[0m                 warnings.warn('Update your `' + object_name + '` call to the ' +\n\u001b[1;32m     90\u001b[0m                               'Keras 2 API: ' + signature, stacklevel=2)\n\u001b[0;32m---> 91\u001b[0;31m             \u001b[0;32mreturn\u001b[0m \u001b[0mfunc\u001b[0m\u001b[0;34m(\u001b[0m\u001b[0;34m*\u001b[0m\u001b[0margs\u001b[0m\u001b[0;34m,\u001b[0m \u001b[0;34m**\u001b[0m\u001b[0mkwargs\u001b[0m\u001b[0;34m)\u001b[0m\u001b[0;34m\u001b[0m\u001b[0;34m\u001b[0m\u001b[0m\n\u001b[0m\u001b[1;32m     92\u001b[0m         \u001b[0mwrapper\u001b[0m\u001b[0;34m.\u001b[0m\u001b[0m_original_function\u001b[0m \u001b[0;34m=\u001b[0m \u001b[0mfunc\u001b[0m\u001b[0;34m\u001b[0m\u001b[0;34m\u001b[0m\u001b[0m\n\u001b[1;32m     93\u001b[0m         \u001b[0;32mreturn\u001b[0m \u001b[0mwrapper\u001b[0m\u001b[0;34m\u001b[0m\u001b[0;34m\u001b[0m\u001b[0m\n",
            "\u001b[0;32m/usr/local/lib/python3.6/dist-packages/keras/engine/input_layer.py\u001b[0m in \u001b[0;36m__init__\u001b[0;34m(self, input_shape, batch_size, batch_input_shape, dtype, input_tensor, sparse, name)\u001b[0m\n\u001b[1;32m     85\u001b[0m                                          \u001b[0mdtype\u001b[0m\u001b[0;34m=\u001b[0m\u001b[0mdtype\u001b[0m\u001b[0;34m,\u001b[0m\u001b[0;34m\u001b[0m\u001b[0;34m\u001b[0m\u001b[0m\n\u001b[1;32m     86\u001b[0m                                          \u001b[0msparse\u001b[0m\u001b[0;34m=\u001b[0m\u001b[0mself\u001b[0m\u001b[0;34m.\u001b[0m\u001b[0msparse\u001b[0m\u001b[0;34m,\u001b[0m\u001b[0;34m\u001b[0m\u001b[0;34m\u001b[0m\u001b[0m\n\u001b[0;32m---> 87\u001b[0;31m                                          name=self.name)\n\u001b[0m\u001b[1;32m     88\u001b[0m         \u001b[0;32melse\u001b[0m\u001b[0;34m:\u001b[0m\u001b[0;34m\u001b[0m\u001b[0;34m\u001b[0m\u001b[0m\n\u001b[1;32m     89\u001b[0m             \u001b[0mself\u001b[0m\u001b[0;34m.\u001b[0m\u001b[0mis_placeholder\u001b[0m \u001b[0;34m=\u001b[0m \u001b[0;32mFalse\u001b[0m\u001b[0;34m\u001b[0m\u001b[0;34m\u001b[0m\u001b[0m\n",
            "\u001b[0;32m/usr/local/lib/python3.6/dist-packages/keras/backend/tensorflow_backend.py\u001b[0m in \u001b[0;36mplaceholder\u001b[0;34m(shape, ndim, dtype, sparse, name)\u001b[0m\n\u001b[1;32m    539\u001b[0m         \u001b[0mx\u001b[0m \u001b[0;34m=\u001b[0m \u001b[0mtf\u001b[0m\u001b[0;34m.\u001b[0m\u001b[0msparse_placeholder\u001b[0m\u001b[0;34m(\u001b[0m\u001b[0mdtype\u001b[0m\u001b[0;34m,\u001b[0m \u001b[0mshape\u001b[0m\u001b[0;34m=\u001b[0m\u001b[0mshape\u001b[0m\u001b[0;34m,\u001b[0m \u001b[0mname\u001b[0m\u001b[0;34m=\u001b[0m\u001b[0mname\u001b[0m\u001b[0;34m)\u001b[0m\u001b[0;34m\u001b[0m\u001b[0;34m\u001b[0m\u001b[0m\n\u001b[1;32m    540\u001b[0m     \u001b[0;32melse\u001b[0m\u001b[0;34m:\u001b[0m\u001b[0;34m\u001b[0m\u001b[0;34m\u001b[0m\u001b[0m\n\u001b[0;32m--> 541\u001b[0;31m         \u001b[0mx\u001b[0m \u001b[0;34m=\u001b[0m \u001b[0mtf\u001b[0m\u001b[0;34m.\u001b[0m\u001b[0mplaceholder\u001b[0m\u001b[0;34m(\u001b[0m\u001b[0mdtype\u001b[0m\u001b[0;34m,\u001b[0m \u001b[0mshape\u001b[0m\u001b[0;34m=\u001b[0m\u001b[0mshape\u001b[0m\u001b[0;34m,\u001b[0m \u001b[0mname\u001b[0m\u001b[0;34m=\u001b[0m\u001b[0mname\u001b[0m\u001b[0;34m)\u001b[0m\u001b[0;34m\u001b[0m\u001b[0;34m\u001b[0m\u001b[0m\n\u001b[0m\u001b[1;32m    542\u001b[0m     \u001b[0mx\u001b[0m\u001b[0;34m.\u001b[0m\u001b[0m_keras_shape\u001b[0m \u001b[0;34m=\u001b[0m \u001b[0mshape\u001b[0m\u001b[0;34m\u001b[0m\u001b[0;34m\u001b[0m\u001b[0m\n\u001b[1;32m    543\u001b[0m     \u001b[0mx\u001b[0m\u001b[0;34m.\u001b[0m\u001b[0m_uses_learning_phase\u001b[0m \u001b[0;34m=\u001b[0m \u001b[0;32mFalse\u001b[0m\u001b[0;34m\u001b[0m\u001b[0;34m\u001b[0m\u001b[0m\n",
            "\u001b[0;32m/usr/local/lib/python3.6/dist-packages/tensorflow/python/ops/array_ops.py\u001b[0m in \u001b[0;36mplaceholder\u001b[0;34m(dtype, shape, name)\u001b[0m\n\u001b[1;32m   2141\u001b[0m                        \"eager execution.\")\n\u001b[1;32m   2142\u001b[0m \u001b[0;34m\u001b[0m\u001b[0m\n\u001b[0;32m-> 2143\u001b[0;31m   \u001b[0;32mreturn\u001b[0m \u001b[0mgen_array_ops\u001b[0m\u001b[0;34m.\u001b[0m\u001b[0mplaceholder\u001b[0m\u001b[0;34m(\u001b[0m\u001b[0mdtype\u001b[0m\u001b[0;34m=\u001b[0m\u001b[0mdtype\u001b[0m\u001b[0;34m,\u001b[0m \u001b[0mshape\u001b[0m\u001b[0;34m=\u001b[0m\u001b[0mshape\u001b[0m\u001b[0;34m,\u001b[0m \u001b[0mname\u001b[0m\u001b[0;34m=\u001b[0m\u001b[0mname\u001b[0m\u001b[0;34m)\u001b[0m\u001b[0;34m\u001b[0m\u001b[0;34m\u001b[0m\u001b[0m\n\u001b[0m\u001b[1;32m   2144\u001b[0m \u001b[0;34m\u001b[0m\u001b[0m\n\u001b[1;32m   2145\u001b[0m \u001b[0;34m\u001b[0m\u001b[0m\n",
            "\u001b[0;32m/usr/local/lib/python3.6/dist-packages/tensorflow/python/ops/gen_array_ops.py\u001b[0m in \u001b[0;36mplaceholder\u001b[0;34m(dtype, shape, name)\u001b[0m\n\u001b[1;32m   6258\u001b[0m   \u001b[0;32mif\u001b[0m \u001b[0mshape\u001b[0m \u001b[0;32mis\u001b[0m \u001b[0;32mNone\u001b[0m\u001b[0;34m:\u001b[0m\u001b[0;34m\u001b[0m\u001b[0;34m\u001b[0m\u001b[0m\n\u001b[1;32m   6259\u001b[0m     \u001b[0mshape\u001b[0m \u001b[0;34m=\u001b[0m \u001b[0;32mNone\u001b[0m\u001b[0;34m\u001b[0m\u001b[0;34m\u001b[0m\u001b[0m\n\u001b[0;32m-> 6260\u001b[0;31m   \u001b[0mshape\u001b[0m \u001b[0;34m=\u001b[0m \u001b[0m_execute\u001b[0m\u001b[0;34m.\u001b[0m\u001b[0mmake_shape\u001b[0m\u001b[0;34m(\u001b[0m\u001b[0mshape\u001b[0m\u001b[0;34m,\u001b[0m \u001b[0;34m\"shape\"\u001b[0m\u001b[0;34m)\u001b[0m\u001b[0;34m\u001b[0m\u001b[0;34m\u001b[0m\u001b[0m\n\u001b[0m\u001b[1;32m   6261\u001b[0m   _, _, _op = _op_def_lib._apply_op_helper(\n\u001b[1;32m   6262\u001b[0m         \"Placeholder\", dtype=dtype, shape=shape, name=name)\n",
            "\u001b[0;32m/usr/local/lib/python3.6/dist-packages/tensorflow/python/eager/execute.py\u001b[0m in \u001b[0;36mmake_shape\u001b[0;34m(v, arg_name)\u001b[0m\n\u001b[1;32m    146\u001b[0m     \u001b[0mshape\u001b[0m \u001b[0;34m=\u001b[0m \u001b[0mtensor_shape\u001b[0m\u001b[0;34m.\u001b[0m\u001b[0mas_shape\u001b[0m\u001b[0;34m(\u001b[0m\u001b[0mv\u001b[0m\u001b[0;34m)\u001b[0m\u001b[0;34m\u001b[0m\u001b[0;34m\u001b[0m\u001b[0m\n\u001b[1;32m    147\u001b[0m   \u001b[0;32mexcept\u001b[0m \u001b[0mTypeError\u001b[0m \u001b[0;32mas\u001b[0m \u001b[0me\u001b[0m\u001b[0;34m:\u001b[0m\u001b[0;34m\u001b[0m\u001b[0;34m\u001b[0m\u001b[0m\n\u001b[0;32m--> 148\u001b[0;31m     \u001b[0;32mraise\u001b[0m \u001b[0mTypeError\u001b[0m\u001b[0;34m(\u001b[0m\u001b[0;34m\"Error converting %s to a TensorShape: %s.\"\u001b[0m \u001b[0;34m%\u001b[0m \u001b[0;34m(\u001b[0m\u001b[0marg_name\u001b[0m\u001b[0;34m,\u001b[0m \u001b[0me\u001b[0m\u001b[0;34m)\u001b[0m\u001b[0;34m)\u001b[0m\u001b[0;34m\u001b[0m\u001b[0;34m\u001b[0m\u001b[0m\n\u001b[0m\u001b[1;32m    149\u001b[0m   \u001b[0;32mexcept\u001b[0m \u001b[0mValueError\u001b[0m \u001b[0;32mas\u001b[0m \u001b[0me\u001b[0m\u001b[0;34m:\u001b[0m\u001b[0;34m\u001b[0m\u001b[0;34m\u001b[0m\u001b[0m\n\u001b[1;32m    150\u001b[0m     raise ValueError(\"Error converting %s to a TensorShape: %s.\" % (arg_name,\n",
            "\u001b[0;31mTypeError\u001b[0m: Error converting shape to a TensorShape: int() argument must be a string, a bytes-like object or a number, not 'list'."
          ]
        }
      ]
    },
    {
      "cell_type": "code",
      "metadata": {
        "id": "OZZDQpVv31cL",
        "colab_type": "code",
        "outputId": "956841ee-86ce-4cc0-f77f-806438fe9c3a",
        "colab": {
          "base_uri": "https://localhost:8080/",
          "height": 458
        }
      },
      "source": [
        "plotLearningCurves(history)"
      ],
      "execution_count": 0,
      "outputs": [
        {
          "output_type": "stream",
          "text": [
            "dict_keys(['val_loss', 'val_acc', 'loss', 'acc'])\n"
          ],
          "name": "stdout"
        },
        {
          "output_type": "display_data",
          "data": {
            "image/png": "[encoded data removed]",
            "text/plain": [
              "<Figure size 864x432 with 2 Axes>"
            ]
          },
          "metadata": {
            "tags": []
          }
        }
      ]
    },
    {
      "cell_type": "code",
      "metadata": {
        "id": "Cm08zduk31pE",
        "colab_type": "code",
        "colab": {}
      },
      "source": [
        ""
      ],
      "execution_count": 0,
      "outputs": []
    },
    {
      "cell_type": "code",
      "metadata": {
        "id": "Amwm829k312Y",
        "colab_type": "code",
        "colab": {}
      },
      "source": [
        "from keras.wrappers.scikit_learn import KerasClassifier\n",
        "from sklearn.model_selection import GridSearchCV"
      ],
      "execution_count": 0,
      "outputs": []
    },
    {
      "cell_type": "code",
      "metadata": {
        "id": "FjS4yzP2_DHC",
        "colab_type": "code",
        "colab": {}
      },
      "source": [
        "def create_model(num_filters, kernel_size, vocab_size, embedding_dim, maxlen):\n",
        "    model = Sequential()\n",
        "    model.add(layers.Embedding(vocab_size, embedding_dim, input_length=maxlen))\n",
        "    model.add(layers.Conv1D(num_filters, kernel_size, activation='relu'))\n",
        "    model.add(layers.GlobalMaxPooling1D())\n",
        "    model.add(layers.Dense(y_cat_port.shape[1], activation='softmax'))\n",
        "    model.compile(optimizer='adam', loss='categorical_crossentropy', metrics=['accuracy'])\n",
        "    return model\n",
        "\n",
        "\n",
        "def createModelConv(num_filters, kernel_size, embedding_dim):\n",
        "    K.clear_session()\n",
        "\n",
        "    model = Sequential()\n",
        "    model.add(layers.Embedding(vocab_size, embedding_dim, input_length=maxlen))\n",
        "    model.add(layers.Conv1D(128, 5, activation='relu'))\n",
        "    #model.add(layers.Conv1D(num_filters, kernel_size, activation='relu'))\n",
        "    #model.add(layers.GlobalMaxPooling1D())\n",
        "    model.add(layers.Flatten())\n",
        "    #model.add(layers.Dense(10, activation='relu'))\n",
        "    #model.add(layers.Dense(1, activation='sigmoid'))\n",
        "    model.add(layers.Dense(y_cat_port.shape[1], activation='softmax'))\n",
        "    model.compile(optimizer='adam', loss='categorical_crossentropy', metrics=['accuracy'])\n",
        "    #model.summary()\n",
        "    return model\n",
        "  \n",
        "def create_model():\n",
        "    # create model\n",
        "    model = Sequential()\n",
        "    model.add(layers.Embedding(vocab_size, 100, input_length=5))\n",
        "    model.add(layers.Flatten())\n",
        "    model.add(layers.Dense(y_cat_port.shape[1], activation='softmax'))\n",
        "    model.compile(optimizer='adam', loss='categorical_crossentropy', metrics=['accuracy'])\n",
        "    #model.summary()\n",
        "    return model"
      ],
      "execution_count": 0,
      "outputs": []
    },
    {
      "cell_type": "code",
      "metadata": {
        "id": "Zbzivu8E-elD",
        "colab_type": "code",
        "colab": {}
      },
      "source": [
        "batch_size = [64]\n",
        "epochs = [7]\n",
        "num_filters = [8,24,32]\n",
        "#vocab_size = [5000]\n",
        "embedding_dim =  [200,300,500]\n",
        "#maxlen = [2,3,5]\n",
        "#optimizers = ['rmsprop', 'adam']\n",
        "#init = ['glorot_uniform', 'normal', 'uniform']\n",
        "#batches = [5, 10, 20]\n",
        "kernel_size=[7,10,15]\n"
      ],
      "execution_count": 0,
      "outputs": []
    },
    {
      "cell_type": "code",
      "metadata": {
        "id": "d0xBT-OEWjgs",
        "colab_type": "code",
        "outputId": "d6e49d81-a3a7-4271-8c95-09997bce5f61",
        "colab": {
          "base_uri": "https://localhost:8080/",
          "height": 255
        }
      },
      "source": [
        "# create model\n",
        "model = KerasClassifier(build_fn=createModelConv, verbose=1)\n",
        "\n",
        "param_grid = dict(batch_size=batch_size, epochs=epochs,num_filters=num_filters, kernel_size=kernel_size, embedding_dim=embedding_dim)\n",
        "grid = GridSearchCV(estimator=model, param_grid=param_grid, n_jobs=-1)\n",
        "grid_result = grid.fit(X_train, y_cat_port)"
      ],
      "execution_count": 0,
      "outputs": [
        {
          "output_type": "stream",
          "text": [
            "Epoch 1/7\n",
            "19993/19993 [==============================] - 2s 121us/step - loss: 7.0521 - acc: 0.0130\n",
            "Epoch 2/7\n",
            "19993/19993 [==============================] - 2s 100us/step - loss: 5.4048 - acc: 0.2154\n",
            "Epoch 3/7\n",
            "19993/19993 [==============================] - 2s 100us/step - loss: 3.0486 - acc: 0.5156\n",
            "Epoch 4/7\n",
            "19993/19993 [==============================] - 2s 98us/step - loss: 1.6919 - acc: 0.7026\n",
            "Epoch 5/7\n",
            "19993/19993 [==============================] - 2s 103us/step - loss: 0.9428 - acc: 0.8360\n",
            "Epoch 6/7\n",
            "19993/19993 [==============================] - 2s 103us/step - loss: 0.5373 - acc: 0.9087\n",
            "Epoch 7/7\n",
            "19993/19993 [==============================] - 2s 105us/step - loss: 0.3243 - acc: 0.9480\n"
          ],
          "name": "stdout"
        }
      ]
    },
    {
      "cell_type": "code",
      "metadata": {
        "id": "RF9Ok4Q0WzgP",
        "colab_type": "code",
        "colab": {}
      },
      "source": [
        ""
      ],
      "execution_count": 0,
      "outputs": []
    },
    {
      "cell_type": "code",
      "metadata": {
        "id": "NNY5TEaqZVeX",
        "colab_type": "code",
        "outputId": "59ab1dd3-2164-4afd-9612-f9e526360599",
        "colab": {
          "base_uri": "https://localhost:8080/",
          "height": 340
        }
      },
      "source": [
        "print(\"Best: %f using %s\" % (grid_result.best_score_, grid_result.best_params_))\n",
        "means = grid_result.cv_results_['mean_test_score']\n",
        "stds = grid_result.cv_results_['std_test_score']\n",
        "params = grid_result.cv_results_['params']\n",
        "for mean, stdev, param in zip(means, stds, params):\n",
        "    print(\"%f (%f) with: %r\" % (mean, stdev, param))"
      ],
      "execution_count": 0,
      "outputs": [
        {
          "output_type": "stream",
          "text": [
            "Best: 0.469914 using {'batch_size': 64, 'embedding_dim': 200, 'epochs': 7, 'kernel_size': 10, 'num_filters': 32}\n",
            "0.464212 (0.006009) with: {'batch_size': 64, 'embedding_dim': 150, 'epochs': 7, 'kernel_size': 7, 'num_filters': 8}\n",
            "0.461862 (0.005209) with: {'batch_size': 64, 'embedding_dim': 150, 'epochs': 7, 'kernel_size': 7, 'num_filters': 24}\n",
            "0.463162 (0.004936) with: {'batch_size': 64, 'embedding_dim': 150, 'epochs': 7, 'kernel_size': 7, 'num_filters': 32}\n",
            "0.463362 (0.003597) with: {'batch_size': 64, 'embedding_dim': 150, 'epochs': 7, 'kernel_size': 10, 'num_filters': 8}\n",
            "0.460161 (0.006009) with: {'batch_size': 64, 'embedding_dim': 150, 'epochs': 7, 'kernel_size': 10, 'num_filters': 24}\n",
            "0.459661 (0.004364) with: {'batch_size': 64, 'embedding_dim': 150, 'epochs': 7, 'kernel_size': 10, 'num_filters': 32}\n",
            "0.462612 (0.004369) with: {'batch_size': 64, 'embedding_dim': 150, 'epochs': 7, 'kernel_size': 15, 'num_filters': 8}\n",
            "0.462512 (0.005667) with: {'batch_size': 64, 'embedding_dim': 150, 'epochs': 7, 'kernel_size': 15, 'num_filters': 24}\n",
            "0.463612 (0.007660) with: {'batch_size': 64, 'embedding_dim': 150, 'epochs': 7, 'kernel_size': 15, 'num_filters': 32}\n",
            "0.463212 (0.004995) with: {'batch_size': 64, 'embedding_dim': 200, 'epochs': 7, 'kernel_size': 7, 'num_filters': 8}\n",
            "0.463362 (0.005546) with: {'batch_size': 64, 'embedding_dim': 200, 'epochs': 7, 'kernel_size': 7, 'num_filters': 24}\n",
            "0.466113 (0.003168) with: {'batch_size': 64, 'embedding_dim': 200, 'epochs': 7, 'kernel_size': 7, 'num_filters': 32}\n",
            "0.466813 (0.006016) with: {'batch_size': 64, 'embedding_dim': 200, 'epochs': 7, 'kernel_size': 10, 'num_filters': 8}\n",
            "0.464262 (0.004480) with: {'batch_size': 64, 'embedding_dim': 200, 'epochs': 7, 'kernel_size': 10, 'num_filters': 24}\n",
            "0.469914 (0.006347) with: {'batch_size': 64, 'embedding_dim': 200, 'epochs': 7, 'kernel_size': 10, 'num_filters': 32}\n",
            "0.463862 (0.004803) with: {'batch_size': 64, 'embedding_dim': 200, 'epochs': 7, 'kernel_size': 15, 'num_filters': 8}\n",
            "0.460611 (0.003630) with: {'batch_size': 64, 'embedding_dim': 200, 'epochs': 7, 'kernel_size': 15, 'num_filters': 24}\n",
            "0.463612 (0.006709) with: {'batch_size': 64, 'embedding_dim': 200, 'epochs': 7, 'kernel_size': 15, 'num_filters': 32}\n"
          ],
          "name": "stdout"
        }
      ]
    },
    {
      "cell_type": "code",
      "metadata": {
        "id": "5cy50cPVZVnr",
        "colab_type": "code",
        "colab": {}
      },
      "source": [
        ""
      ],
      "execution_count": 0,
      "outputs": []
    },
    {
      "cell_type": "code",
      "metadata": {
        "id": "xVOSqpkIZVu3",
        "colab_type": "code",
        "colab": {}
      },
      "source": [
        ""
      ],
      "execution_count": 0,
      "outputs": []
    },
    {
      "cell_type": "code",
      "metadata": {
        "id": "-xuYhzX1-u7F",
        "colab_type": "code",
        "colab": {}
      },
      "source": [
        ""
      ],
      "execution_count": 0,
      "outputs": []
    },
    {
      "cell_type": "markdown",
      "metadata": {
        "_uuid": "4d20dd4e-1ed4-44f0-a5eb-472397176394",
        "_cell_guid": "a2364bbf-b267-40e0-a88f-c2aaf9fdf6bb",
        "trusted": true,
        "id": "QHXjOZOTsIuu",
        "colab_type": "text"
      },
      "source": [
        "### Train Test Split"
      ]
    },
    {
      "cell_type": "code",
      "metadata": {
        "_uuid": "3699aa59-07cb-48cf-9f69-b687bcf759ca",
        "_cell_guid": "d540a384-3387-4127-9034-f6f7515a3695",
        "trusted": true,
        "id": "xqP_jSEbsIuv",
        "colab_type": "code",
        "colab": {}
      },
      "source": [
        "#Portuguese Dataset\n",
        "#X_train_port, X_test_port, y_train_port, y_test_port = train_test_split(X_matrix_train_port, y_port, test_size=0.2)"
      ],
      "execution_count": 0,
      "outputs": []
    },
    {
      "cell_type": "code",
      "metadata": {
        "_uuid": "9854ff6a-296f-4e6f-a4ad-27fb0dd1755a",
        "_cell_guid": "f80f2a71-0e43-40c7-924d-1530a9a607f7",
        "trusted": true,
        "id": "sMN4NdbDsIux",
        "colab_type": "code",
        "colab": {}
      },
      "source": [
        ""
      ],
      "execution_count": 0,
      "outputs": []
    },
    {
      "cell_type": "markdown",
      "metadata": {
        "_uuid": "ff520ba9-67ff-4033-a32d-1f036e0daa82",
        "_cell_guid": "35dc95ab-f152-448d-9230-8b0811bd8ef5",
        "trusted": true,
        "id": "LYDGD1gRsIu0",
        "colab_type": "text"
      },
      "source": [
        "### Classifiers"
      ]
    },
    {
      "cell_type": "code",
      "metadata": {
        "_uuid": "0f3b0108-4d61-470b-bddf-b1f510ae119b",
        "_cell_guid": "107282f2-4d52-4281-afc7-3e09408d7020",
        "trusted": true,
        "id": "y9XfVwv7sIu0",
        "colab_type": "code",
        "colab": {}
      },
      "source": [
        ""
      ],
      "execution_count": 0,
      "outputs": []
    },
    {
      "cell_type": "code",
      "metadata": {
        "_uuid": "0d6fbb6e-6d9e-4fcc-ba36-0d4d5caa4413",
        "_cell_guid": "18b5cc86-2870-4856-9f02-a141d83349d7",
        "trusted": true,
        "id": "UkAVedA4sIu2",
        "colab_type": "code",
        "colab": {}
      },
      "source": [
        "from sklearn.metrics import accuracy_score, log_loss\n",
        "from sklearn.neighbors import KNeighborsClassifier\n",
        "from sklearn.svm import SVC\n",
        "from sklearn.tree import DecisionTreeClassifier\n",
        "from sklearn.ensemble import RandomForestClassifier, AdaBoostClassifier, GradientBoostingClassifier\n",
        "from sklearn.naive_bayes import GaussianNB\n",
        "from sklearn.discriminant_analysis import LinearDiscriminantAnalysis, QuadraticDiscriminantAnalysis\n",
        "from sklearn.linear_model import LogisticRegression"
      ],
      "execution_count": 0,
      "outputs": []
    },
    {
      "cell_type": "code",
      "metadata": {
        "_uuid": "41462796-a893-4134-89cb-7cf4292005b7",
        "_cell_guid": "d3548bd8-96d8-4cda-bf4b-ceecb6594a70",
        "trusted": true,
        "id": "CXhFXUjVsIu4",
        "colab_type": "code",
        "colab": {}
      },
      "source": [
        "#classifier = SVC(probability=True)"
      ],
      "execution_count": 0,
      "outputs": []
    },
    {
      "cell_type": "code",
      "metadata": {
        "_uuid": "59390046-310e-47b0-bb61-6ecb6f792580",
        "_cell_guid": "d6a6dd89-6371-483e-a06c-eaef47ce2cd1",
        "trusted": true,
        "id": "ssG2LBLpsIu8",
        "colab_type": "code",
        "colab": {}
      },
      "source": [
        "#classifier.fit(X_train_port, y_train_port)"
      ],
      "execution_count": 0,
      "outputs": []
    },
    {
      "cell_type": "code",
      "metadata": {
        "_uuid": "8685be6e-4829-4b6f-9d54-fa93ad60222f",
        "_cell_guid": "297454d4-9fa8-46f4-9d5d-5d24e0195302",
        "trusted": true,
        "id": "kUOY3MBTsIu_",
        "colab_type": "code",
        "colab": {}
      },
      "source": [
        "#classifier.score(X_test_port, y_test_port)"
      ],
      "execution_count": 0,
      "outputs": []
    },
    {
      "cell_type": "markdown",
      "metadata": {
        "_uuid": "625472d9-7da0-4481-a6a1-470e9a8460be",
        "_cell_guid": "1cb452ab-8ca1-4d4b-a038-904fed7f4f63",
        "trusted": true,
        "id": "l-fFodFIsIvC",
        "colab_type": "text"
      },
      "source": [
        "### Training Model Portuguese"
      ]
    },
    {
      "cell_type": "code",
      "metadata": {
        "_uuid": "17e25d2f-60f1-4f02-854c-8f9725cb1b1c",
        "_cell_guid": "a7f00992-eb1b-486b-a096-1cfc2b7670fe",
        "trusted": true,
        "id": "HZS3leHFsIvD",
        "colab_type": "code",
        "colab": {}
      },
      "source": [
        "def createModel (inputSize, outputSize):\n",
        "    #K.clear_session()\n",
        "\n",
        "    model = Sequential()\n",
        "    model.add(Dense(outputSize, input_shape=(inputSize,), activation='softmax'))\n",
        "    #model.add(Dense(2048, activation='softmax'))\n",
        "    #model.add(Dense(outputSize, activation='softmax'))\n",
        "    model.compile(loss='categorical_crossentropy', optimizer=Adam(lr=1), metrics=['accuracy'])\n",
        "    \n",
        "    return model"
      ],
      "execution_count": 0,
      "outputs": []
    },
    {
      "cell_type": "code",
      "metadata": {
        "_uuid": "58c5504a-aa16-4f1b-9c0e-7ffa4c2c4676",
        "_cell_guid": "b92480be-bb6c-4eac-a603-c6b72f169279",
        "trusted": true,
        "id": "zY5sR7vMsIvF",
        "colab_type": "code",
        "outputId": "5ef0e6e8-a44a-4eae-f2f8-34f77031fa07",
        "colab": {
          "base_uri": "https://localhost:8080/",
          "height": 204
        }
      },
      "source": [
        "modelPort = createModel( X_matrix_train_port.shape[1], y_cat_port.shape[1])\n",
        "historyPort = modelPort.fit(X_matrix_train_port, y_cat_port, epochs=5, verbose=1, validation_split=0.18)"
      ],
      "execution_count": 0,
      "outputs": [
        {
          "output_type": "stream",
          "text": [
            "Train on 123000 samples, validate on 27000 samples\n",
            "Epoch 1/5\n",
            "123000/123000 [==============================] - 147s 1ms/step - loss: 4.5999 - acc: 0.6354 - val_loss: 4.3421 - val_acc: 0.6908\n",
            "Epoch 2/5\n",
            "123000/123000 [==============================] - 147s 1ms/step - loss: 3.4702 - acc: 0.7591 - val_loss: 4.1718 - val_acc: 0.7095\n",
            "Epoch 3/5\n",
            "123000/123000 [==============================] - 147s 1ms/step - loss: 3.1442 - acc: 0.7880 - val_loss: 4.0464 - val_acc: 0.7226\n",
            "Epoch 4/5\n",
            "123000/123000 [==============================] - 147s 1ms/step - loss: 2.9433 - acc: 0.8048 - val_loss: 3.9838 - val_acc: 0.7295\n",
            "Epoch 5/5\n",
            "123000/123000 [==============================] - 147s 1ms/step - loss: 2.8270 - acc: 0.8136 - val_loss: 3.8732 - val_acc: 0.7379\n"
          ],
          "name": "stdout"
        }
      ]
    },
    {
      "cell_type": "code",
      "metadata": {
        "id": "vAkqVtLxQTEf",
        "colab_type": "code",
        "outputId": "98e3161a-c32a-4a76-bbc8-d0f51326aff8",
        "colab": {
          "base_uri": "https://localhost:8080/",
          "height": 458
        }
      },
      "source": [
        "plotLearningCurves(historyPort)"
      ],
      "execution_count": 0,
      "outputs": [
        {
          "output_type": "stream",
          "text": [
            "dict_keys(['val_loss', 'val_acc', 'loss', 'acc'])\n"
          ],
          "name": "stdout"
        },
        {
          "output_type": "display_data",
          "data": {
            "image/png": "[encoded data removed]",
            "text/plain": [
              "<Figure size 864x432 with 2 Axes>"
            ]
          },
          "metadata": {
            "tags": []
          }
        }
      ]
    },
    {
      "cell_type": "code",
      "metadata": {
        "id": "BVc-M7_u-prR",
        "colab_type": "code",
        "outputId": "a2625b63-b9c9-48ee-e92e-37667732a5c4",
        "colab": {
          "base_uri": "https://localhost:8080/",
          "height": 458
        }
      },
      "source": [
        "plotLearningCurves(historyPort)"
      ],
      "execution_count": 0,
      "outputs": [
        {
          "output_type": "stream",
          "text": [
            "dict_keys(['val_loss', 'val_acc', 'loss', 'acc'])\n"
          ],
          "name": "stdout"
        },
        {
          "output_type": "display_data",
          "data": {
            "image/png": "[encoded data removed]",
            "text/plain": [
              "<Figure size 864x432 with 2 Axes>"
            ]
          },
          "metadata": {
            "tags": []
          }
        }
      ]
    },
    {
      "cell_type": "code",
      "metadata": {
        "_uuid": "91c77f0e-6ef7-4a87-a53a-3bfaff1a34ae",
        "_cell_guid": "8d01cf05-463f-4a71-85e8-086e42f070d1",
        "trusted": true,
        "id": "fmqfJ9WisIvN",
        "colab_type": "code",
        "colab": {}
      },
      "source": [
        ""
      ],
      "execution_count": 0,
      "outputs": []
    },
    {
      "cell_type": "code",
      "metadata": {
        "_uuid": "5badd972-095d-4b98-92a5-294356ced379",
        "_cell_guid": "769d0db9-ada7-4ab1-912c-0d20c3ae3abe",
        "trusted": true,
        "id": "F3oEUQoXsIvQ",
        "colab_type": "code",
        "colab": {}
      },
      "source": [
        ""
      ],
      "execution_count": 0,
      "outputs": []
    },
    {
      "cell_type": "code",
      "metadata": {
        "_uuid": "4e252146-a2e1-4648-bf60-1d99d2b3c96c",
        "_cell_guid": "043d5a40-ffb1-491e-80ed-a9ba5c54b4dd",
        "trusted": true,
        "id": "mIJEl_lGsIvS",
        "colab_type": "code",
        "colab": {}
      },
      "source": [
        "result_port = modelPort.predict(X_matrix_test_port)"
      ],
      "execution_count": 0,
      "outputs": []
    },
    {
      "cell_type": "code",
      "metadata": {
        "_uuid": "e03a4797-159d-488d-aee3-29271482549b",
        "_cell_guid": "165be370-4ef9-4450-9351-498ad83bfbf2",
        "trusted": true,
        "id": "Xg9JKSRrsIvU",
        "colab_type": "code",
        "colab": {}
      },
      "source": [
        "#resultTestPort = modelPort.evaluate(X_test_port, y_test_port)\n",
        "#print(\"Test accuracy: {:3.1f} %\".format(resultTestPort[1]*100))"
      ],
      "execution_count": 0,
      "outputs": []
    },
    {
      "cell_type": "code",
      "metadata": {
        "_uuid": "b14a860b-ea3d-41c9-bc9b-d192fb50af3d",
        "_cell_guid": "ac8b2b00-5c23-478a-a1a0-bcef6081f218",
        "trusted": true,
        "id": "EigJ_I1hsIvW",
        "colab_type": "code",
        "colab": {}
      },
      "source": [
        ""
      ],
      "execution_count": 0,
      "outputs": []
    },
    {
      "cell_type": "code",
      "metadata": {
        "_uuid": "f62b0340-2b84-4f55-9464-55bfe2078f73",
        "_cell_guid": "1422a377-ed60-401b-9f40-176d27773ad9",
        "trusted": true,
        "id": "OaYLcVLIsIvX",
        "colab_type": "code",
        "outputId": "6d49a097-8175-4d84-fe1e-d38a1f03d9ea",
        "colab": {
          "base_uri": "https://localhost:8080/",
          "height": 238
        }
      },
      "source": [
        "modelSpa = createModel( X_matrix_train_spa.shape[1], y_cat_spa.shape[1])\n",
        "historySpa = modelSpa.fit(X_matrix_train_spa, y_cat_spa, epochs=6, verbose=1, validation_split=0.18)"
      ],
      "execution_count": 0,
      "outputs": [
        {
          "output_type": "stream",
          "text": [
            "Train on 123000 samples, validate on 27000 samples\n",
            "Epoch 1/6\n",
            "123000/123000 [==============================] - 156s 1ms/step - loss: 4.6818 - acc: 0.6254 - val_loss: 4.3834 - val_acc: 0.6856\n",
            "Epoch 2/6\n",
            "123000/123000 [==============================] - 156s 1ms/step - loss: 3.4946 - acc: 0.7553 - val_loss: 4.2756 - val_acc: 0.7019\n",
            "Epoch 3/6\n",
            "123000/123000 [==============================] - 155s 1ms/step - loss: 3.1238 - acc: 0.7876 - val_loss: 4.1316 - val_acc: 0.7160\n",
            "Epoch 4/6\n",
            "123000/123000 [==============================] - 156s 1ms/step - loss: 2.9115 - acc: 0.8058 - val_loss: 4.0897 - val_acc: 0.7220\n",
            "Epoch 5/6\n",
            "123000/123000 [==============================] - 156s 1ms/step - loss: 2.7816 - acc: 0.8165 - val_loss: 4.0059 - val_acc: 0.7285\n",
            "Epoch 6/6\n",
            "123000/123000 [==============================] - 155s 1ms/step - loss: 2.6746 - acc: 0.8250 - val_loss: 3.9527 - val_acc: 0.7334\n"
          ],
          "name": "stdout"
        }
      ]
    },
    {
      "cell_type": "code",
      "metadata": {
        "_uuid": "328d0023-4cc2-49fd-8830-2f48d4a69e47",
        "_cell_guid": "e60e064d-0c0b-4453-a9d1-ff1fa0c741d3",
        "trusted": true,
        "id": "GCVC4S_GsIvZ",
        "colab_type": "code",
        "outputId": "ab257b08-c141-4a9b-bfdf-9a7256ddb1c8",
        "colab": {
          "base_uri": "https://localhost:8080/",
          "height": 458
        }
      },
      "source": [
        "plotLearningCurves(historySpa)"
      ],
      "execution_count": 0,
      "outputs": [
        {
          "output_type": "stream",
          "text": [
            "dict_keys(['val_loss', 'val_acc', 'loss', 'acc'])\n"
          ],
          "name": "stdout"
        },
        {
          "output_type": "display_data",
          "data": {
            "image/png": "[encoded data removed]",
            "text/plain": [
              "<Figure size 864x432 with 2 Axes>"
            ]
          },
          "metadata": {
            "tags": []
          }
        }
      ]
    },
    {
      "cell_type": "code",
      "metadata": {
        "_uuid": "99ed3acf-9ce7-4569-b491-999bad1c98c8",
        "_cell_guid": "53c60f6d-74d5-4f71-9861-07143a01959b",
        "trusted": true,
        "id": "O61QRTnCsIvb",
        "colab_type": "code",
        "colab": {}
      },
      "source": [
        "result_spa = modelSpa.predict(X_matrix_test_spa)"
      ],
      "execution_count": 0,
      "outputs": []
    },
    {
      "cell_type": "markdown",
      "metadata": {
        "_uuid": "34c3d150-66ff-4cb1-8f40-4582cb0460eb",
        "_cell_guid": "0d4dab66-803b-4c6c-b215-5b73d6075605",
        "trusted": true,
        "id": "JyMtta8EsIvc",
        "colab_type": "text"
      },
      "source": [
        "## Dropout"
      ]
    },
    {
      "cell_type": "code",
      "metadata": {
        "_uuid": "287d35cd-38db-4108-a4f8-07865bd29757",
        "_cell_guid": "613bd7e9-1315-4606-a10b-892519ab8e61",
        "trusted": true,
        "id": "8bMF8yCpsIvc",
        "colab_type": "code",
        "colab": {}
      },
      "source": [
        "from keras.layers import Dropout"
      ],
      "execution_count": 0,
      "outputs": []
    },
    {
      "cell_type": "code",
      "metadata": {
        "id": "sZUAnx8U_DkC",
        "colab_type": "code",
        "colab": {}
      },
      "source": [
        "matrix_Vector_Train_Port"
      ],
      "execution_count": 0,
      "outputs": []
    },
    {
      "cell_type": "code",
      "metadata": {
        "_uuid": "3628069f-1c3c-4a10-a8f0-a334e2159d09",
        "_cell_guid": "f8849d17-472c-4194-b1ee-772fd8953520",
        "trusted": true,
        "id": "OFEoPCeZsIve",
        "colab_type": "code",
        "colab": {}
      },
      "source": [
        "classifier = Sequential()\n",
        "classifier.add(Dense(2048, activation = 'relu', input_dim=matrix_Vector_Train_Port.shape[1]))\n",
        "classifier.add(Dropout(rate = 0.1))\n",
        "classifier.add(Dense(2048, activation = 'relu'))\n",
        "classifier.add(Dropout(rate = 0.1))\n",
        "classifier.add(Dense(y_cat_port.shape[1], activation = 'softmax'))\n",
        "classifier.compile(optimizer= 'adam', loss = 'categorical_crossentropy',metrics = ['accuracy'])"
      ],
      "execution_count": 0,
      "outputs": []
    },
    {
      "cell_type": "code",
      "metadata": {
        "_uuid": "5d476f45-0f3b-4097-9da1-12e1884f08cf",
        "_cell_guid": "c4c1cb9d-fa0f-4ab7-8720-fe70472f2b81",
        "trusted": true,
        "id": "lL119WQ7sIvi",
        "colab_type": "code",
        "outputId": "d6fab7b5-5003-4551-fc88-448efdb3c726",
        "colab": {
          "base_uri": "https://localhost:8080/",
          "height": 204
        }
      },
      "source": [
        "historyDropout = classifier.fit(matrix_Vector_Train_Port, y_cat_port, epochs=5, verbose=1, validation_split=0.18)"
      ],
      "execution_count": 0,
      "outputs": [
        {
          "output_type": "stream",
          "text": [
            "Train on 16394 samples, validate on 3599 samples\n",
            "Epoch 1/5\n",
            "16394/16394 [==============================] - 25s 2ms/step - loss: 6.3032 - acc: 0.1197 - val_loss: 4.6061 - val_acc: 0.3362\n",
            "Epoch 2/5\n",
            "16394/16394 [==============================] - 24s 1ms/step - loss: 2.6180 - acc: 0.5733 - val_loss: 3.0064 - val_acc: 0.5585\n",
            "Epoch 3/5\n",
            "16394/16394 [==============================] - 24s 1ms/step - loss: 0.7406 - acc: 0.8645 - val_loss: 2.9847 - val_acc: 0.5860\n",
            "Epoch 4/5\n",
            "16394/16394 [==============================] - 24s 1ms/step - loss: 0.2995 - acc: 0.9456 - val_loss: 3.1046 - val_acc: 0.5854\n",
            "Epoch 5/5\n",
            "16394/16394 [==============================] - 24s 1ms/step - loss: 0.1931 - acc: 0.9671 - val_loss: 3.0732 - val_acc: 0.5946\n"
          ],
          "name": "stdout"
        }
      ]
    },
    {
      "cell_type": "code",
      "metadata": {
        "_uuid": "d166d75e-dbb9-43dc-b302-429a37926d28",
        "_cell_guid": "6d2462d9-c30b-4c5e-9696-77697aa8063e",
        "trusted": true,
        "id": "D5ADZu_osIvk",
        "colab_type": "code",
        "outputId": "7641b5b7-b859-4d84-a1ec-bb820e2d7527",
        "colab": {
          "base_uri": "https://localhost:8080/",
          "height": 458
        }
      },
      "source": [
        "plotLearningCurves(historyDropout)"
      ],
      "execution_count": 0,
      "outputs": [
        {
          "output_type": "stream",
          "text": [
            "dict_keys(['val_loss', 'val_acc', 'loss', 'acc'])\n"
          ],
          "name": "stdout"
        },
        {
          "output_type": "display_data",
          "data": {
            "image/png": "[encoded data removed]",
            "text/plain": [
              "<Figure size 864x432 with 2 Axes>"
            ]
          },
          "metadata": {
            "tags": []
          }
        }
      ]
    },
    {
      "cell_type": "markdown",
      "metadata": {
        "_uuid": "3a6e1ff1-a6e9-4d09-88a7-bb909cf2fe56",
        "_cell_guid": "ae1a56a2-93e3-4e98-bc56-ae4aefb9d9f7",
        "trusted": true,
        "id": "B5MDx-jYsIvl",
        "colab_type": "text"
      },
      "source": [
        "## Making Results"
      ]
    },
    {
      "cell_type": "code",
      "metadata": {
        "_uuid": "500c0a30-c3ca-450a-a39f-4374aa6e2687",
        "_cell_guid": "cce77c33-420d-4e2c-b30c-55e3e1be224d",
        "trusted": true,
        "id": "6wMzrzLwsIvm",
        "colab_type": "code",
        "colab": {}
      },
      "source": [
        "#result_port = modelPort.predict(X_matrix_test_port)"
      ],
      "execution_count": 0,
      "outputs": []
    },
    {
      "cell_type": "code",
      "metadata": {
        "_uuid": "2efaaecf-a405-431f-96ab-023257a7ea28",
        "_cell_guid": "9251290b-abf1-4ebf-8725-7556f6d615b1",
        "trusted": true,
        "id": "wKM3uO09sIvo",
        "colab_type": "code",
        "colab": {}
      },
      "source": [
        "#result_spa = modelSpa.predict(X_matrix_test_spa)"
      ],
      "execution_count": 0,
      "outputs": []
    },
    {
      "cell_type": "code",
      "metadata": {
        "_uuid": "03d6f770-3de0-4b21-a71f-15a7d93f6135",
        "_cell_guid": "8e9081fd-e176-4c4e-8138-e2ba3f79e174",
        "trusted": true,
        "id": "F3G5rWo6sIvr",
        "colab_type": "code",
        "outputId": "cdf8cea5-08d1-42f7-c12a-052f5d7ec1ed",
        "colab": {
          "base_uri": "https://localhost:8080/",
          "height": 34
        }
      },
      "source": [
        "result_port.shape"
      ],
      "execution_count": 0,
      "outputs": [
        {
          "output_type": "execute_result",
          "data": {
            "text/plain": [
              "(121968, 1567)"
            ]
          },
          "metadata": {
            "tags": []
          },
          "execution_count": 238
        }
      ]
    },
    {
      "cell_type": "code",
      "metadata": {
        "_uuid": "2912df4b-d8cd-4bcc-bd1e-3fdf52f175e4",
        "_cell_guid": "88c0953e-486d-40d2-8294-d633fa6b1b28",
        "trusted": true,
        "id": "M5h7a8xgsIvs",
        "colab_type": "code",
        "colab": {}
      },
      "source": [
        "result_test_port = np.argmax(result_port, axis=1)\n",
        "result_test_spa = np.argmax(result_spa, axis=1)"
      ],
      "execution_count": 0,
      "outputs": []
    },
    {
      "cell_type": "code",
      "metadata": {
        "_uuid": "62674013-cbca-4f64-a88f-b433f022e4d8",
        "_cell_guid": "0826731c-1526-498b-9d52-4229281df218",
        "trusted": true,
        "id": "PyQyiGvPsIvu",
        "colab_type": "code",
        "colab": {}
      },
      "source": [
        "testPortuguese['category'] = result_test_port\n",
        "testSpanish['category'] = result_test_spa"
      ],
      "execution_count": 0,
      "outputs": []
    },
    {
      "cell_type": "code",
      "metadata": {
        "_uuid": "1cacbfb1-4f70-4434-94c5-c2d1828bc8c2",
        "_cell_guid": "ddf56cef-d5e2-42e4-ae22-974f9516c166",
        "trusted": true,
        "id": "7D7tFPQXsIvw",
        "colab_type": "code",
        "colab": {}
      },
      "source": [
        "target_dict_port_inv = dict(map(reversed, target_dict_port.items()))\n",
        "testPortuguese['category'] = testPortuguese['category'].map(target_dict_port_inv)"
      ],
      "execution_count": 0,
      "outputs": []
    },
    {
      "cell_type": "code",
      "metadata": {
        "_uuid": "ab34e84b-d74d-4528-8644-2113bcc983e0",
        "_cell_guid": "db2d8dfb-a088-451e-b8d4-8093a6db3f92",
        "trusted": true,
        "id": "ZjvFFYlssIvx",
        "colab_type": "code",
        "colab": {}
      },
      "source": [
        "target_dict_spa_inv = dict(map(reversed, target_dict_spa.items()))\n",
        "testSpanish['category'] = testSpanish['category'].map(target_dict_spa_inv)"
      ],
      "execution_count": 0,
      "outputs": []
    },
    {
      "cell_type": "code",
      "metadata": {
        "_uuid": "cbb52008-9093-4d51-b8ed-2d835b8b0fda",
        "_cell_guid": "deb72796-e471-4e42-841e-3e7e47faae45",
        "trusted": true,
        "id": "xit_if24sIv3",
        "colab_type": "code",
        "outputId": "b07cb48f-f24c-4133-c7dc-133dfe7bc351",
        "colab": {
          "base_uri": "https://localhost:8080/",
          "height": 204
        }
      },
      "source": [
        "testPortuguese.head()"
      ],
      "execution_count": 0,
      "outputs": [
        {
          "output_type": "execute_result",
          "data": {
            "text/html": [
              "<div>\n",
              "<style scoped>\n",
              "    .dataframe tbody tr th:only-of-type {\n",
              "        vertical-align: middle;\n",
              "    }\n",
              "\n",
              "    .dataframe tbody tr th {\n",
              "        vertical-align: top;\n",
              "    }\n",
              "\n",
              "    .dataframe thead th {\n",
              "        text-align: right;\n",
              "    }\n",
              "</style>\n",
              "<table border=\"1\" class=\"dataframe\">\n",
              "  <thead>\n",
              "    <tr style=\"text-align: right;\">\n",
              "      <th></th>\n",
              "      <th>category</th>\n",
              "      <th>language</th>\n",
              "      <th>title</th>\n",
              "      <th>title_nopunc</th>\n",
              "    </tr>\n",
              "  </thead>\n",
              "  <tbody>\n",
              "    <tr>\n",
              "      <th>0</th>\n",
              "      <td>DIAPER_BAGS</td>\n",
              "      <td>portuguese</td>\n",
              "      <td>kit maternidade bolsa-mala baby/bebe vinho men...</td>\n",
              "      <td>maternidade bolsa mala baby bebe</td>\n",
              "    </tr>\n",
              "    <tr>\n",
              "      <th>1</th>\n",
              "      <td>TOY_TRAINS</td>\n",
              "      <td>portuguese</td>\n",
              "      <td>trocador de fraldas fisher price feminino rosa...</td>\n",
              "      <td>trocador fraldas fisher price feminino</td>\n",
              "    </tr>\n",
              "    <tr>\n",
              "      <th>2</th>\n",
              "      <td>ENGINE_COOLING_FAN_MOTORS</td>\n",
              "      <td>portuguese</td>\n",
              "      <td>motor ventoinha - fiat idea / palio 1.8 - a 04...</td>\n",
              "      <td>motor ventoinha fiat idea palio</td>\n",
              "    </tr>\n",
              "    <tr>\n",
              "      <th>3</th>\n",
              "      <td>AUTOMOTIVE_SHOCK_ABSORBER_BUMP_STOPS</td>\n",
              "      <td>portuguese</td>\n",
              "      <td>amortecedor mola batente d dir new civic 14 - ...</td>\n",
              "      <td>amortecedor mola batente dir civic</td>\n",
              "    </tr>\n",
              "    <tr>\n",
              "      <th>4</th>\n",
              "      <td>BABY_CAR_SEATS</td>\n",
              "      <td>portuguese</td>\n",
              "      <td>cadeirinha de carro bebê princesa princess 9 a...</td>\n",
              "      <td>cadeirinha carro bebe princesa princess</td>\n",
              "    </tr>\n",
              "  </tbody>\n",
              "</table>\n",
              "</div>"
            ],
            "text/plain": [
              "                               category  ...                             title_nopunc\n",
              "0                           DIAPER_BAGS  ...         maternidade bolsa mala baby bebe\n",
              "1                            TOY_TRAINS  ...   trocador fraldas fisher price feminino\n",
              "2             ENGINE_COOLING_FAN_MOTORS  ...          motor ventoinha fiat idea palio\n",
              "3  AUTOMOTIVE_SHOCK_ABSORBER_BUMP_STOPS  ...       amortecedor mola batente dir civic\n",
              "4                        BABY_CAR_SEATS  ...  cadeirinha carro bebe princesa princess\n",
              "\n",
              "[5 rows x 4 columns]"
            ]
          },
          "metadata": {
            "tags": []
          },
          "execution_count": 243
        }
      ]
    },
    {
      "cell_type": "code",
      "metadata": {
        "_uuid": "2925bcf5-cba2-4d14-b032-d3df923c2f19",
        "_cell_guid": "ac89cae4-1787-44ee-a2f2-28648fc5ebe8",
        "trusted": true,
        "id": "W_NomSQ_sIwA",
        "colab_type": "code",
        "colab": {}
      },
      "source": [
        "submission = testPortuguese[['category']]"
      ],
      "execution_count": 0,
      "outputs": []
    },
    {
      "cell_type": "code",
      "metadata": {
        "_uuid": "693328a0-c47b-43f3-a561-13610194211d",
        "_cell_guid": "5d2742c5-bcc3-4aab-8bc2-d5e5342934b9",
        "trusted": true,
        "id": "raqmHSTksIwB",
        "colab_type": "code",
        "colab": {}
      },
      "source": [
        "submission = submission.append(testSpanish[['category']])"
      ],
      "execution_count": 0,
      "outputs": []
    },
    {
      "cell_type": "code",
      "metadata": {
        "_uuid": "25e9491a-7431-4d75-b541-90ea97c90504",
        "_cell_guid": "9b6c555e-a412-484c-b8d2-710698520595",
        "trusted": true,
        "id": "fKSv7UKCsIwD",
        "colab_type": "code",
        "colab": {}
      },
      "source": [
        "submission['id'] = submission.index"
      ],
      "execution_count": 0,
      "outputs": []
    },
    {
      "cell_type": "code",
      "metadata": {
        "id": "5r3ivAfnwTiy",
        "colab_type": "code",
        "colab": {}
      },
      "source": [
        "submission1 = submission[['id','category']]"
      ],
      "execution_count": 0,
      "outputs": []
    },
    {
      "cell_type": "code",
      "metadata": {
        "id": "seibg5UPxC0a",
        "colab_type": "code",
        "outputId": "23414ae4-415a-4068-b57e-6fd8d22bb21c",
        "colab": {
          "base_uri": "https://localhost:8080/",
          "height": 204
        }
      },
      "source": [
        "submission1.head()"
      ],
      "execution_count": 0,
      "outputs": [
        {
          "output_type": "execute_result",
          "data": {
            "text/html": [
              "<div>\n",
              "<style scoped>\n",
              "    .dataframe tbody tr th:only-of-type {\n",
              "        vertical-align: middle;\n",
              "    }\n",
              "\n",
              "    .dataframe tbody tr th {\n",
              "        vertical-align: top;\n",
              "    }\n",
              "\n",
              "    .dataframe thead th {\n",
              "        text-align: right;\n",
              "    }\n",
              "</style>\n",
              "<table border=\"1\" class=\"dataframe\">\n",
              "  <thead>\n",
              "    <tr style=\"text-align: right;\">\n",
              "      <th></th>\n",
              "      <th>id</th>\n",
              "      <th>category</th>\n",
              "    </tr>\n",
              "  </thead>\n",
              "  <tbody>\n",
              "    <tr>\n",
              "      <th>0</th>\n",
              "      <td>0</td>\n",
              "      <td>DIAPER_BAGS</td>\n",
              "    </tr>\n",
              "    <tr>\n",
              "      <th>1</th>\n",
              "      <td>1</td>\n",
              "      <td>TOY_TRAINS</td>\n",
              "    </tr>\n",
              "    <tr>\n",
              "      <th>2</th>\n",
              "      <td>2</td>\n",
              "      <td>ENGINE_COOLING_FAN_MOTORS</td>\n",
              "    </tr>\n",
              "    <tr>\n",
              "      <th>3</th>\n",
              "      <td>3</td>\n",
              "      <td>AUTOMOTIVE_SHOCK_ABSORBER_BUMP_STOPS</td>\n",
              "    </tr>\n",
              "    <tr>\n",
              "      <th>4</th>\n",
              "      <td>4</td>\n",
              "      <td>BABY_CAR_SEATS</td>\n",
              "    </tr>\n",
              "  </tbody>\n",
              "</table>\n",
              "</div>"
            ],
            "text/plain": [
              "   id                              category\n",
              "0   0                           DIAPER_BAGS\n",
              "1   1                            TOY_TRAINS\n",
              "2   2             ENGINE_COOLING_FAN_MOTORS\n",
              "3   3  AUTOMOTIVE_SHOCK_ABSORBER_BUMP_STOPS\n",
              "4   4                        BABY_CAR_SEATS"
            ]
          },
          "metadata": {
            "tags": []
          },
          "execution_count": 282
        }
      ]
    },
    {
      "cell_type": "code",
      "metadata": {
        "_uuid": "b79d2202-ea4c-4290-9574-78fa90c99006",
        "_cell_guid": "f64b9f79-6ee7-43ba-b43a-88342e2c048a",
        "trusted": true,
        "id": "O5ZK4rT6sIwI",
        "colab_type": "code",
        "colab": {}
      },
      "source": [
        "submission1.to_csv('submission.csv', index=False)"
      ],
      "execution_count": 0,
      "outputs": []
    },
    {
      "cell_type": "code",
      "metadata": {
        "id": "czJoDOumwGxp",
        "colab_type": "code",
        "colab": {}
      },
      "source": [
        ""
      ],
      "execution_count": 0,
      "outputs": []
    },
    {
      "cell_type": "code",
      "metadata": {
        "id": "nw-yijbpuFXS",
        "colab_type": "code",
        "colab": {}
      },
      "source": [
        ""
      ],
      "execution_count": 0,
      "outputs": []
    },
    {
      "cell_type": "code",
      "metadata": {
        "id": "9t6h-qgJuFfu",
        "colab_type": "code",
        "outputId": "17a5100b-9594-464f-fec4-20a642047730",
        "colab": {
          "base_uri": "https://localhost:8080/",
          "height": 408
        }
      },
      "source": [
        "for dirname, _, filenames in os.walk('/content'):\n",
        "    for filename in filenames:\n",
        "        print(os.path.join(dirname, filename))"
      ],
      "execution_count": 0,
      "outputs": [
        {
          "output_type": "stream",
          "text": [
            "/content/submission_wordEmbbeding_1_29-09.csv\n",
            "/content/test.csv\n",
            "/content/submission_wordEmbbeding_1_29_09.csv\n",
            "/content/train.csv.gz\n",
            "/content/sample_submission.csv\n",
            "/content/submission.csv\n",
            "/content/.config/active_config\n",
            "/content/.config/gce\n",
            "/content/.config/.last_update_check.json\n",
            "/content/.config/config_sentinel\n",
            "/content/.config/.metricsUUID\n",
            "/content/.config/configurations/config_default\n",
            "/content/.config/logs/2019.08.27/16.17.00.530950.log\n",
            "/content/.config/logs/2019.08.27/16.17.22.686467.log\n",
            "/content/.config/logs/2019.08.27/16.17.21.663235.log\n",
            "/content/.config/logs/2019.08.27/16.17.17.407104.log\n",
            "/content/.config/logs/2019.08.27/16.17.07.367707.log\n",
            "/content/sample_data/anscombe.json\n",
            "/content/sample_data/README.md\n",
            "/content/sample_data/california_housing_test.csv\n",
            "/content/sample_data/california_housing_train.csv\n",
            "/content/sample_data/mnist_train_small.csv\n",
            "/content/sample_data/mnist_test.csv\n"
          ],
          "name": "stdout"
        }
      ]
    },
    {
      "cell_type": "code",
      "metadata": {
        "id": "F9XmQYTBuHl8",
        "colab_type": "code",
        "colab": {}
      },
      "source": [
        "os.chdir(r'/content')"
      ],
      "execution_count": 0,
      "outputs": []
    },
    {
      "cell_type": "code",
      "metadata": {
        "id": "utK8nzFquSTW",
        "colab_type": "code",
        "colab": {}
      },
      "source": [
        "#files.download('submission.csv')"
      ],
      "execution_count": 0,
      "outputs": []
    },
    {
      "cell_type": "code",
      "metadata": {
        "id": "l29XDLAvt-gP",
        "colab_type": "code",
        "outputId": "c27d3342-f349-469b-b1a5-0a7441f2fdcb",
        "colab": {
          "base_uri": "https://localhost:8080/",
          "height": 34
        }
      },
      "source": [
        "# Install the PyDrive wrapper & import libraries.\n",
        "# This only needs to be done once in a notebook.\n",
        "!pip install -U -q PyDrive\n",
        "from pydrive.auth import GoogleAuth\n",
        "from pydrive.drive import GoogleDrive\n",
        "from google.colab import auth\n",
        "from oauth2client.client import GoogleCredentials\n",
        "\n",
        "# Authenticate and create the PyDrive client.\n",
        "# This only needs to be done once in a notebook.\n",
        "auth.authenticate_user()\n",
        "gauth = GoogleAuth()\n",
        "gauth.credentials = GoogleCredentials.get_application_default()\n",
        "drive = GoogleDrive(gauth)\n",
        "\n",
        "# Create & upload a file.\n",
        "uploaded = drive.CreateFile({'title': 'submission.csv'})\n",
        "uploaded.SetContentFile('submission.csv')\n",
        "uploaded.Upload()\n",
        "print('Uploaded file with ID {}'.format(uploaded.get('id')))"
      ],
      "execution_count": 0,
      "outputs": [
        {
          "output_type": "stream",
          "text": [
            "Uploaded file with ID 1YOe1tAgBKbhv7PA1EnYD-N_-Qik_J3fz\n"
          ],
          "name": "stdout"
        }
      ]
    },
    {
      "cell_type": "code",
      "metadata": {
        "id": "bH_c_BUKvfdb",
        "colab_type": "code",
        "colab": {}
      },
      "source": [
        ""
      ],
      "execution_count": 0,
      "outputs": []
    }
  ]
}