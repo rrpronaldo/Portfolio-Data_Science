{
  "nbformat": 4,
  "nbformat_minor": 0,
  "metadata": {
    "kernelspec": {
      "name": "python3",
      "display_name": "Python 3"
    },
    "language_info": {
      "pygments_lexer": "ipython3",
      "nbconvert_exporter": "python",
      "version": "3.6.4",
      "file_extension": ".py",
      "codemirror_mode": {
        "name": "ipython",
        "version": 3
      },
      "name": "python",
      "mimetype": "text/x-python"
    },
    "colab": {
      "name": "Mercado Livre Vs 1.ipynb",
      "provenance": [],
      "collapsed_sections": [
        "TqJ4B2YWsIrj",
        "joa65FMgsm7O",
        "0tUpG8v6sIr7",
        "Ow23JwRDsIr1",
        "5KaHcPJ3sIt7",
        "wy0Oha-tsItG",
        "M_HRnHTvsIua",
        "XJLkz3mosIuo",
        "HfakOUKqWrgr",
        "QHXjOZOTsIuu",
        "LYDGD1gRsIu0",
        "l-fFodFIsIvC",
        "JyMtta8EsIvc"
      ]
    },
    "accelerator": "GPU"
  },
  "cells": [
    {
      "cell_type": "markdown",
      "metadata": {
        "_uuid": "3899989b-de8c-44fd-895a-315807250870",
        "_cell_guid": "94f63819-9b6a-4edf-9bb7-6730b4196082",
        "trusted": true,
        "id": "2MnyezABsIrd",
        "colab_type": "text"
      },
      "source": [
        "### About Mercado Livre\n",
        "\n",
        "  O Mercado Livre é um dos maiores market place e fintech da América Latina. Uma empresa pioneira no comércio eletrônico, baseada em uma plataforma onde os usuários compram, vendem, anunciam, enviam, financiam e pagam bens e serviços através da Internet.\n",
        "\n",
        "### The Challenge\n",
        "\n",
        "  No MercadoLivre existem milhões de publicações de produtos e serviços. Ter dados estruturados descrevendo cada uma é um fator-chave para fornecer a melhor experiência ao cliente, facilitando a pesquisa e descoberta de produtos, melhorando as recomendações, fornecendo planilhas de dados técnicos integrais, estimativas de tamanhos de pacotes, entre outros.\n",
        "  É por isso que é vital garantir que cada publicação esteja adequadamente classificada (se é um celular, um refrigerador, uma televisão, etc.). No entanto, dada a variedade de produtos e as milhares de categorias disponíveis, escolher a categoria certa pode ser uma tarefa difícil.\n",
        "\n",
        "### The project\n",
        "  O projeto consiste em classificar o produto conforme a categoria, isso a partir do título do anúncio o qual é forcecido pelo anunciante/vendedor.\n",
        "  "
      ]
    },
    {
      "cell_type": "markdown",
      "metadata": {
        "id": "BFRz9pJ6bEZu",
        "colab_type": "text"
      },
      "source": [
        "### Data Used\n",
        "\n",
        "  O arquivo de treinamento corresponde a 20 milhões de publicações, contendo quatro colunas com as seguintes informações:\n",
        "  - **Title**: O título da publicação;\n",
        "  - **Language**: O idioma do título, pode ser português e espanhol;\n",
        "  - **Label quality**: Pode ser confiável ou não confiável. As linhas confiáveis foram revisadas pela equipe do Mercado livre. As linhas marcadas como não confiáveis não foram revisadas, o que significa que a categoria foi escolhida pelo vendedor e, portanto, deve ser esperada uma taxa mais alta de erros de rotulagem.\n",
        "  - **Category (variable target)**: A categoria da publicação. O conjunto de categorias serve para os dois idiomas.\n",
        "\n",
        "\n",
        "  O arquivo de teste possui 246955 publicações com as colunas de title, language e id, que referencia a publicação no momento da submissão no portal do desafio. "
      ]
    },
    {
      "cell_type": "markdown",
      "metadata": {
        "id": "76jHUy3CiDiH",
        "colab_type": "text"
      },
      "source": [
        "### Preprocessing\n",
        "\n",
        "A primeira coisa que faremos é pré-processar os dados do título para que sejam mais fáceis de lidar e prontos para a extração de recursos e o treinamento dos classificadores.\n",
        "\n",
        "Para começar, vamos fazer o download do arquivos e converter em Dataframes.\n",
        "\n",
        "Em seguida, para o pré-processamento, iremos:\n",
        "  - Converter a coluna title para lowercase;\n",
        "  - Segmentar cada title em palavras usando um segmentador NTLK;\n",
        "  - Remover palavras que são inúteis ao classificador;\n",
        "  - Tokenizar os títulos usando um tokenizer NLTK;\n",
        "  - \n",
        "\n",
        "\n",
        "Vamos criar algumas funções para realizar tudo isso."
      ]
    },
    {
      "cell_type": "markdown",
      "metadata": {
        "id": "nE7m4lNac0l8",
        "colab_type": "text"
      },
      "source": [
        "First import a lot of librarys."
      ]
    },
    {
      "cell_type": "code",
      "metadata": {
        "_uuid": "8988e0f5-4195-48d8-92c6-c6a9a7b4dc10",
        "_cell_guid": "a7368d5c-03dd-40c0-91a7-2b99f3c6b601",
        "trusted": true,
        "id": "sUUw6pQKsIrf",
        "colab_type": "code",
        "outputId": "ec95ca52-6b05-49c9-a75f-857f1e55444b",
        "colab": {
          "base_uri": "https://localhost:8080/",
          "height": 0
        }
      },
      "source": [
        "import numpy as np\n",
        "import pandas as pd\n",
        "%matplotlib inline\n",
        "import matplotlib.pyplot as plt\n",
        "import seaborn as sns\n",
        "\n",
        "import warnings\n",
        "warnings.filterwarnings('ignore')\n",
        "\n",
        "import os\n",
        "import time\n",
        "\n",
        "from keras.utils.np_utils import to_categorical\n",
        "from sklearn.model_selection import train_test_split\n",
        "\n",
        "from keras.models import Sequential\n",
        "from keras.layers import Dense\n",
        "from keras.optimizers import SGD, Adam, Adagrad, RMSprop\n",
        "import keras.backend as K\n",
        "\n",
        "import re\n",
        "import random\n",
        "import string"
      ],
      "execution_count": 1,
      "outputs": [
        {
          "output_type": "stream",
          "text": [
            "Using TensorFlow backend.\n"
          ],
          "name": "stderr"
        }
      ]
    },
    {
      "cell_type": "code",
      "metadata": {
        "id": "aRLmGKlhsT5d",
        "colab_type": "code",
        "outputId": "dfc3324a-b967-4e73-be0d-e0cc9db68670",
        "colab": {
          "base_uri": "https://localhost:8080/",
          "height": 0
        }
      },
      "source": [
        "import nltk\n",
        "nltk.download('stopwords')\n",
        "from nltk.corpus import stopwords\n",
        "\n",
        "nltk.download('rslp')\n",
        "#Word Stemmer\n",
        "from nltk.stem import RSLPStemmer\n",
        "from nltk.stem.snowball import SnowballStemmer"
      ],
      "execution_count": 2,
      "outputs": [
        {
          "output_type": "stream",
          "text": [
            "[nltk_data] Downloading package stopwords to /root/nltk_data...\n",
            "[nltk_data]   Unzipping corpora/stopwords.zip.\n",
            "[nltk_data] Downloading package rslp to /root/nltk_data...\n",
            "[nltk_data]   Unzipping stemmers/rslp.zip.\n"
          ],
          "name": "stdout"
        }
      ]
    },
    {
      "cell_type": "code",
      "metadata": {
        "id": "nydt7WjzsY90",
        "colab_type": "code",
        "outputId": "a3c10512-c8e8-413b-a34f-eb7b429cb3b6",
        "colab": {
          "base_uri": "https://localhost:8080/",
          "height": 0
        }
      },
      "source": [
        "#For remove accents\n",
        "!pip install unidecode\n",
        "import unidecode"
      ],
      "execution_count": 3,
      "outputs": [
        {
          "output_type": "stream",
          "text": [
            "Collecting unidecode\n",
            "\u001b[?25l  Downloading https://files.pythonhosted.org/packages/d0/42/d9edfed04228bacea2d824904cae367ee9efd05e6cce7ceaaedd0b0ad964/Unidecode-1.1.1-py2.py3-none-any.whl (238kB)\n",
            "\r\u001b[K     |█▍                              | 10kB 17.2MB/s eta 0:00:01\r\u001b[K     |██▊                             | 20kB 4.1MB/s eta 0:00:01\r\u001b[K     |████▏                           | 30kB 5.9MB/s eta 0:00:01\r\u001b[K     |█████▌                          | 40kB 3.9MB/s eta 0:00:01\r\u001b[K     |██████▉                         | 51kB 4.8MB/s eta 0:00:01\r\u001b[K     |████████▎                       | 61kB 5.6MB/s eta 0:00:01\r\u001b[K     |█████████▋                      | 71kB 6.4MB/s eta 0:00:01\r\u001b[K     |███████████                     | 81kB 7.2MB/s eta 0:00:01\r\u001b[K     |████████████▍                   | 92kB 8.0MB/s eta 0:00:01\r\u001b[K     |█████████████▊                  | 102kB 6.4MB/s eta 0:00:01\r\u001b[K     |███████████████▏                | 112kB 6.4MB/s eta 0:00:01\r\u001b[K     |████████████████▌               | 122kB 6.4MB/s eta 0:00:01\r\u001b[K     |█████████████████▉              | 133kB 6.4MB/s eta 0:00:01\r\u001b[K     |███████████████████▎            | 143kB 6.4MB/s eta 0:00:01\r\u001b[K     |████████████████████▋           | 153kB 6.4MB/s eta 0:00:01\r\u001b[K     |██████████████████████          | 163kB 6.4MB/s eta 0:00:01\r\u001b[K     |███████████████████████▍        | 174kB 6.4MB/s eta 0:00:01\r\u001b[K     |████████████████████████▊       | 184kB 6.4MB/s eta 0:00:01\r\u001b[K     |██████████████████████████▏     | 194kB 6.4MB/s eta 0:00:01\r\u001b[K     |███████████████████████████▌    | 204kB 6.4MB/s eta 0:00:01\r\u001b[K     |████████████████████████████▉   | 215kB 6.4MB/s eta 0:00:01\r\u001b[K     |██████████████████████████████▎ | 225kB 6.4MB/s eta 0:00:01\r\u001b[K     |███████████████████████████████▋| 235kB 6.4MB/s eta 0:00:01\r\u001b[K     |████████████████████████████████| 245kB 6.4MB/s \n",
            "\u001b[?25hInstalling collected packages: unidecode\n",
            "Successfully installed unidecode-1.1.1\n"
          ],
          "name": "stdout"
        }
      ]
    },
    {
      "cell_type": "markdown",
      "metadata": {
        "id": "H1ePhkXQdGIz",
        "colab_type": "text"
      },
      "source": [
        "### Download Dataset from Oficial Page\n",
        "\n",
        "Em virtude do tamanho do Dataset de treino e test, irei efetuar o download direto da página oficial do desafio."
      ]
    },
    {
      "cell_type": "code",
      "metadata": {
        "id": "EDJyYcbwsulI",
        "colab_type": "code",
        "colab": {}
      },
      "source": [
        "from urllib.request import urlretrieve\n",
        "def download(url, file):\n",
        "  if not os.path.isfile(file):\n",
        "    print(\"Download file ... \"+ file + \"...\")\n",
        "    urlretrieve(url,file)\n",
        "    print(\"Download completed . . .\")"
      ],
      "execution_count": 0,
      "outputs": []
    },
    {
      "cell_type": "code",
      "metadata": {
        "id": "SZmXPfgpsx8q",
        "colab_type": "code",
        "outputId": "b5a4a32a-3ffc-49b1-ba77-efb6b46fe935",
        "colab": {
          "base_uri": "https://localhost:8080/",
          "height": 0
        }
      },
      "source": [
        "download('https://meli-data-challenge.s3.amazonaws.com/train.csv.gz', 'train.csv.gz')\n",
        "download('https://meli-data-challenge.s3.amazonaws.com/test.csv', 'test.csv')\n",
        "download('https://meli-data-challenge.s3.amazonaws.com/sample_submission.csv', 'sample_submission.csv')\n",
        "print('Files downloaded . . .')"
      ],
      "execution_count": 5,
      "outputs": [
        {
          "output_type": "stream",
          "text": [
            "Download file ... train.csv.gz...\n",
            "Download completed . . .\n",
            "Download file ... test.csv...\n",
            "Download completed . . .\n",
            "Download file ... sample_submission.csv...\n",
            "Download completed . . .\n",
            "Files downloaded . . .\n"
          ],
          "name": "stdout"
        }
      ]
    },
    {
      "cell_type": "markdown",
      "metadata": {
        "_uuid": "b10c9e44-ba98-4a9e-b2d1-b0fdbb5b1d10",
        "_cell_guid": "cc34ec37-3975-49e9-9034-645657d88e77",
        "trusted": true,
        "id": "LAHsFcs3sIro",
        "colab_type": "text"
      },
      "source": [
        "### Read Datasets\n",
        "\n",
        "Leitura dos arquivos e conversão da coluna título para lower case."
      ]
    },
    {
      "cell_type": "code",
      "metadata": {
        "_uuid": "0fb3d394-bc89-42c3-9128-13de5d8df9bf",
        "_cell_guid": "1887594d-b90e-449f-801c-690067015dd5",
        "trusted": true,
        "id": "mLPPCtTRsIrp",
        "colab_type": "code",
        "colab": {}
      },
      "source": [
        "train = pd.read_csv(\"train.csv.gz\")\n",
        "test = pd.read_csv(\"test.csv\")\n",
        "#sample_sub = pd.read_csv(\"sample_submission.csv\")\n",
        "\n",
        "#Convert column title to lower case in both datasets\n",
        "train['title'] = train[\"title\"].map(lambda x: x.lower())\n",
        "\n",
        "test['title'] = test[\"title\"].map(lambda x: x.lower())"
      ],
      "execution_count": 0,
      "outputs": []
    },
    {
      "cell_type": "code",
      "metadata": {
        "_uuid": "ac80bf0c-9d3c-424b-8aa4-c8247310047c",
        "_cell_guid": "1bffef2a-7a60-4eb1-9edc-5863cc291a90",
        "trusted": true,
        "id": "0e9kWjh7sIrs",
        "colab_type": "code",
        "outputId": "91fcf293-6837-462a-9eb9-52494c1c5fd1",
        "colab": {
          "base_uri": "https://localhost:8080/",
          "height": 34
        }
      },
      "source": [
        "train.shape"
      ],
      "execution_count": 7,
      "outputs": [
        {
          "output_type": "execute_result",
          "data": {
            "text/plain": [
              "(20000000, 4)"
            ]
          },
          "metadata": {
            "tags": []
          },
          "execution_count": 7
        }
      ]
    },
    {
      "cell_type": "code",
      "metadata": {
        "id": "ESSGvfaf4aCz",
        "colab_type": "code",
        "colab": {
          "base_uri": "https://localhost:8080/",
          "height": 204
        },
        "outputId": "9a2f4d61-d808-476e-f7da-4adf4fd66651"
      },
      "source": [
        "train.head()"
      ],
      "execution_count": 8,
      "outputs": [
        {
          "output_type": "execute_result",
          "data": {
            "text/html": [
              "<div>\n",
              "<style scoped>\n",
              "    .dataframe tbody tr th:only-of-type {\n",
              "        vertical-align: middle;\n",
              "    }\n",
              "\n",
              "    .dataframe tbody tr th {\n",
              "        vertical-align: top;\n",
              "    }\n",
              "\n",
              "    .dataframe thead th {\n",
              "        text-align: right;\n",
              "    }\n",
              "</style>\n",
              "<table border=\"1\" class=\"dataframe\">\n",
              "  <thead>\n",
              "    <tr style=\"text-align: right;\">\n",
              "      <th></th>\n",
              "      <th>title</th>\n",
              "      <th>label_quality</th>\n",
              "      <th>language</th>\n",
              "      <th>category</th>\n",
              "    </tr>\n",
              "  </thead>\n",
              "  <tbody>\n",
              "    <tr>\n",
              "      <th>0</th>\n",
              "      <td>hidrolavadora lavor one 120 bar 1700w  bomba a...</td>\n",
              "      <td>unreliable</td>\n",
              "      <td>spanish</td>\n",
              "      <td>ELECTRIC_PRESSURE_WASHERS</td>\n",
              "    </tr>\n",
              "    <tr>\n",
              "      <th>1</th>\n",
              "      <td>placa de sonido - behringer umc22</td>\n",
              "      <td>unreliable</td>\n",
              "      <td>spanish</td>\n",
              "      <td>SOUND_CARDS</td>\n",
              "    </tr>\n",
              "    <tr>\n",
              "      <th>2</th>\n",
              "      <td>maquina de lavar electrolux 12 kilos</td>\n",
              "      <td>unreliable</td>\n",
              "      <td>portuguese</td>\n",
              "      <td>WASHING_MACHINES</td>\n",
              "    </tr>\n",
              "    <tr>\n",
              "      <th>3</th>\n",
              "      <td>par disco de freio diant vent gol 8v 08/ frema...</td>\n",
              "      <td>unreliable</td>\n",
              "      <td>portuguese</td>\n",
              "      <td>VEHICLE_BRAKE_DISCS</td>\n",
              "    </tr>\n",
              "    <tr>\n",
              "      <th>4</th>\n",
              "      <td>flashes led pestañas luminoso falso pestañas p...</td>\n",
              "      <td>unreliable</td>\n",
              "      <td>spanish</td>\n",
              "      <td>FALSE_EYELASHES</td>\n",
              "    </tr>\n",
              "  </tbody>\n",
              "</table>\n",
              "</div>"
            ],
            "text/plain": [
              "                                               title  ...                   category\n",
              "0  hidrolavadora lavor one 120 bar 1700w  bomba a...  ...  ELECTRIC_PRESSURE_WASHERS\n",
              "1                  placa de sonido - behringer umc22  ...                SOUND_CARDS\n",
              "2               maquina de lavar electrolux 12 kilos  ...           WASHING_MACHINES\n",
              "3  par disco de freio diant vent gol 8v 08/ frema...  ...        VEHICLE_BRAKE_DISCS\n",
              "4  flashes led pestañas luminoso falso pestañas p...  ...            FALSE_EYELASHES\n",
              "\n",
              "[5 rows x 4 columns]"
            ]
          },
          "metadata": {
            "tags": []
          },
          "execution_count": 8
        }
      ]
    },
    {
      "cell_type": "code",
      "metadata": {
        "id": "_vdV3oOHKbHu",
        "colab_type": "code",
        "colab": {
          "base_uri": "https://localhost:8080/",
          "height": 34
        },
        "outputId": "153c34a3-98a8-4310-9d65-ec8cd3d316e6"
      },
      "source": [
        "test.shape"
      ],
      "execution_count": 9,
      "outputs": [
        {
          "output_type": "execute_result",
          "data": {
            "text/plain": [
              "(246955, 3)"
            ]
          },
          "metadata": {
            "tags": []
          },
          "execution_count": 9
        }
      ]
    },
    {
      "cell_type": "code",
      "metadata": {
        "id": "rRpCbzvv4dQP",
        "colab_type": "code",
        "colab": {
          "base_uri": "https://localhost:8080/",
          "height": 204
        },
        "outputId": "9fe0dcfb-a822-42cd-98e4-389e650a66a4"
      },
      "source": [
        "test.head()"
      ],
      "execution_count": 10,
      "outputs": [
        {
          "output_type": "execute_result",
          "data": {
            "text/html": [
              "<div>\n",
              "<style scoped>\n",
              "    .dataframe tbody tr th:only-of-type {\n",
              "        vertical-align: middle;\n",
              "    }\n",
              "\n",
              "    .dataframe tbody tr th {\n",
              "        vertical-align: top;\n",
              "    }\n",
              "\n",
              "    .dataframe thead th {\n",
              "        text-align: right;\n",
              "    }\n",
              "</style>\n",
              "<table border=\"1\" class=\"dataframe\">\n",
              "  <thead>\n",
              "    <tr style=\"text-align: right;\">\n",
              "      <th></th>\n",
              "      <th>id</th>\n",
              "      <th>title</th>\n",
              "      <th>language</th>\n",
              "    </tr>\n",
              "  </thead>\n",
              "  <tbody>\n",
              "    <tr>\n",
              "      <th>0</th>\n",
              "      <td>0</td>\n",
              "      <td>kit maternidade bolsa-mala baby/bebe vinho men...</td>\n",
              "      <td>portuguese</td>\n",
              "    </tr>\n",
              "    <tr>\n",
              "      <th>1</th>\n",
              "      <td>1</td>\n",
              "      <td>trocador de fraldas fisher price feminino rosa...</td>\n",
              "      <td>portuguese</td>\n",
              "    </tr>\n",
              "    <tr>\n",
              "      <th>2</th>\n",
              "      <td>2</td>\n",
              "      <td>motor ventoinha - fiat idea / palio 1.8 - a 04...</td>\n",
              "      <td>portuguese</td>\n",
              "    </tr>\n",
              "    <tr>\n",
              "      <th>3</th>\n",
              "      <td>3</td>\n",
              "      <td>amortecedor mola batente d dir new civic 14 - ...</td>\n",
              "      <td>portuguese</td>\n",
              "    </tr>\n",
              "    <tr>\n",
              "      <th>4</th>\n",
              "      <td>4</td>\n",
              "      <td>cadeirinha de carro bebê princesa princess 9 a...</td>\n",
              "      <td>portuguese</td>\n",
              "    </tr>\n",
              "  </tbody>\n",
              "</table>\n",
              "</div>"
            ],
            "text/plain": [
              "   id                                              title    language\n",
              "0   0  kit maternidade bolsa-mala baby/bebe vinho men...  portuguese\n",
              "1   1  trocador de fraldas fisher price feminino rosa...  portuguese\n",
              "2   2  motor ventoinha - fiat idea / palio 1.8 - a 04...  portuguese\n",
              "3   3  amortecedor mola batente d dir new civic 14 - ...  portuguese\n",
              "4   4  cadeirinha de carro bebê princesa princess 9 a...  portuguese"
            ]
          },
          "metadata": {
            "tags": []
          },
          "execution_count": 10
        }
      ]
    },
    {
      "cell_type": "markdown",
      "metadata": {
        "id": "xmNfNDSCBEjd",
        "colab_type": "text"
      },
      "source": [
        "A partir desse ponto temos ideia do tamanho do conjunto de dados e os desafios que enfrentaremos para o treinamento. "
      ]
    },
    {
      "cell_type": "markdown",
      "metadata": {
        "_uuid": "3e8b62ab-ddcf-4f60-9ff6-aa973cae0090",
        "_cell_guid": "b6b05175-66b7-46be-8c54-62d683fc9565",
        "trusted": true,
        "id": "p4zSJ73osIsA",
        "colab_type": "text"
      },
      "source": [
        "### Modelagem de Dados\n",
        "\n",
        "\n",
        "Analisando o gráfico a seguir, percebe-se que o tamanho do título obedece uma distribuição Gaussiana. A modelagem parte do pressuposto que o título com até 5 palavras contém informação suficiente para classificar corretamente a publicação. Dessa forma, o título possui palavras que não são úteis na classificação e precisam ser removidas. Isso ajuda no tempo de treinamento e na acurácia do modelo. \n",
        "\n"
      ]
    },
    {
      "cell_type": "code",
      "metadata": {
        "id": "eCHh6BWPBqZ0",
        "colab_type": "code",
        "colab": {
          "base_uri": "https://localhost:8080/",
          "height": 362
        },
        "outputId": "a21c94be-2bc7-4616-d92d-1fe06d977065"
      },
      "source": [
        "wordsCount = train.head(5000)['title'].apply(lambda li: len(li.split()))\n",
        "\n",
        "fig, ax = plt.subplots(figsize=(10,5))\n",
        "sns.distplot(wordsCount)\n",
        "plt.xlabel('Count of Words')"
      ],
      "execution_count": 51,
      "outputs": [
        {
          "output_type": "execute_result",
          "data": {
            "text/plain": [
              "Text(0.5, 0, 'Count of Words')"
            ]
          },
          "metadata": {
            "tags": []
          },
          "execution_count": 51
        },
        {
          "output_type": "display_data",
          "data": {
            "image/png": "[encoded data removed]",
            "text/plain": [
              "<Figure size 720x360 with 1 Axes>"
            ]
          },
          "metadata": {
            "tags": []
          }
        }
      ]
    },
    {
      "cell_type": "markdown",
      "metadata": {
        "id": "V7c1-rELBj4l",
        "colab_type": "text"
      },
      "source": [
        "### Function Remove StopWords and Ponctuation\n",
        "\n",
        "  Esta função efetua o tratamento das palavras que compõem o título, a fim de evitar palavras de mesmo sentido duplicadas, e remoção daquelas que não são uteis para a classificação. Foram excluídos alguns termos chave que são recorrentes em produtos de diversas categorias como \"frete grátis\" e adjetivos, além de palavras que contém digitos, pontuação e Stop Words. \n",
        "   Nesse processo foram utilizadas algumas técnicas (Word Stemmer e Lemmatization com as bibliotecas NLTK e Spacy) para manter apenas o núcleo principal do título do anúncio e reduzir o ruído existente, porém não representaram melhora significativa na performance do classificador, por isso estão comentadas as linhas."
      ]
    },
    {
      "cell_type": "code",
      "metadata": {
        "_uuid": "91d4aaee-8012-4209-943e-c234ed8084bd",
        "_cell_guid": "cd255421-cb64-4cf6-85c0-0a511b55b1ad",
        "trusted": true,
        "id": "a7T1eVVNsIsB",
        "colab_type": "code",
        "colab": {}
      },
      "source": [
        "#Word Stemmer\n",
        "#portugueseStemmer = SnowballStemmer(\"portuguese\")\n",
        "#stemmer = RSLPStemmer()\n",
        "\n",
        "#Remove Ponctuation and Numbers\n",
        "removeChar = string.punctuation\n",
        "\n",
        "notUseful = ['kit', 'frete', 'envio', 'gratis', 'pronta', 'entrega', 'nova', \n",
        "             'usado', 'usada','novo', 'original', 'cm', 'mm', 'promocao', \n",
        "             'combo', 'kg', 'nuevo', 'cm', 'mini', 'oferta', 'litros', 'negro',\n",
        "             'set', 'par', 'promocao', 'pack', 'kg', 'completo', 'profissional',\n",
        "             'black', 'grande', 'nuevo', 'nueva', 'tipo', 'ml', 'metros', \n",
        "             'universal', 'bivolt', 'new', 'pcs', 'completa', 'red', 'ano', \n",
        "             'ii', 'branco', 'branca', 'preto', 'preta', 'azul', 'vermelho', \n",
        "             'vermelha', 'rosa', 'verde', 'amarelo']\n",
        "\n",
        "stopWordsData = stopwords.words('spanish') + stopwords.words('portuguese') + list(string.ascii_lowercase) + notUseful\n",
        "\n",
        "\n",
        "def removeStopLine(line):\n",
        "    #Remove accents\n",
        "    text = unidecode.unidecode(line)\n",
        "    #Replace \"./-\" for espace\n",
        "    text = text.translate(str.maketrans(',./-', '    '))\n",
        "    #Remove ponctuation\n",
        "    text = text.translate(str.maketrans('', '', removeChar))\n",
        "    listWords = text.split()\n",
        "    #listWords = nlp(text)\n",
        "\n",
        "    #Remove StopWords and Numbers\n",
        "    #text = [portugueseStemmer.stem(word) for word in listWords if (word not in stopWordsData and not(word.isdigit()))]\n",
        "    #text = [word.lemma_ for word in listWords if (word.lemma_ not in stopWordsData and not(re.search('\\d+', word.lemma_)))]\n",
        "    text = [word for word in listWords if (word not in stopWordsData and not(re.search('\\d+', word)))]\n",
        "    text = ' '.join(text)\n",
        "    return text"
      ],
      "execution_count": 0,
      "outputs": []
    },
    {
      "cell_type": "markdown",
      "metadata": {
        "id": "joa65FMgsm7O",
        "colab_type": "text"
      },
      "source": [
        "Após a remoção de StopWords verifica se a coluna de título ficou vazia e insere um dado para identificar."
      ]
    },
    {
      "cell_type": "code",
      "metadata": {
        "id": "mHA8KpwJslwO",
        "colab_type": "code",
        "colab": {}
      },
      "source": [
        "#Drop row if length title is zero\n",
        "def indexesZeroTrain(data):\n",
        "    indexes = data[data['title_nopunc'].apply(len) == 0].index\n",
        "    print(len(indexes))\n",
        "    data.drop(indexes, inplace=True)\n",
        "    #print(data['title'][indexes])\n",
        "    #data['title_nopunc'][indexes] = 'nothing'\n",
        "    return data\n",
        "\n",
        "#Set to 'nothing' title if length is zero\n",
        "def indexesZeroTest(data):\n",
        "    indexes = data[data['title_nopunc'].apply(len) == 0].index\n",
        "    print(len(indexes))\n",
        "    data['title'][indexes] = 'nothing'\n",
        "    data['title_nopunc'][indexes] = 'nothing'\n",
        "    return data"
      ],
      "execution_count": 0,
      "outputs": []
    },
    {
      "cell_type": "markdown",
      "metadata": {
        "id": "jNIPxMa3rxRa",
        "colab_type": "text"
      },
      "source": [
        "### Split in Realiable Dataset\n",
        "\n",
        "Divisão do dataset de treino com base nos dados verificados. Além de todos os dados verificados são utilizados outra parcela de dados não verificados, pois nem todas as categorias possuem dados verificados."
      ]
    },
    {
      "cell_type": "code",
      "metadata": {
        "_uuid": "17d5da2f-713d-465c-92b2-ba2a64a509f2",
        "_cell_guid": "a44da270-1092-4755-9d1a-a33472ceaa83",
        "trusted": true,
        "id": "tfFGOqcqsIrw",
        "colab_type": "code",
        "outputId": "7718ac96-7324-4eee-92f1-d9430bf5522d",
        "colab": {
          "base_uri": "https://localhost:8080/",
          "height": 51
        }
      },
      "source": [
        "trainReliable = train[train['label_quality'] == 'reliable']\n",
        "trainUnreliable = train[train['label_quality'] == 'unreliable']\n",
        "\n",
        "print(\"Reliable: \", trainReliable.shape, 'Unrealible: ', trainUnreliable.shape)\n",
        "trainReliable.drop('label_quality', axis=1, inplace=True)\n",
        "#trainReliable.describe()\n",
        "\n",
        "_, trainUnreliable = train_test_split(trainUnreliable, test_size=0.07, random_state=42, stratify=trainUnreliable.category)\n",
        "\n",
        "trainReliable = trainReliable.append(trainUnreliable)\n",
        "\n",
        "trainReliable.shape"
      ],
      "execution_count": 14,
      "outputs": [
        {
          "output_type": "stream",
          "text": [
            "Reliable:  (1184245, 4) Unrealible:  (18815755, 4)\n"
          ],
          "name": "stdout"
        },
        {
          "output_type": "execute_result",
          "data": {
            "text/plain": [
              "(2501348, 4)"
            ]
          },
          "metadata": {
            "tags": []
          },
          "execution_count": 14
        }
      ]
    },
    {
      "cell_type": "markdown",
      "metadata": {
        "id": "TXByTULOr38F",
        "colab_type": "text"
      },
      "source": [
        "### Train - Remove StopWords\n",
        "\n",
        "Cria uma nova coluna no dataset de treino com a feature título sem as StopWords."
      ]
    },
    {
      "cell_type": "code",
      "metadata": {
        "id": "dWAuFoTNZHmI",
        "colab_type": "code",
        "outputId": "b7f1266a-5fe3-49f4-dcdd-26341c1bb1ee",
        "colab": {
          "base_uri": "https://localhost:8080/",
          "height": 51
        }
      },
      "source": [
        "#trainData = train.head(1000000)\n",
        "init = time.time()\n",
        "\n",
        "trainReliable['title_nopunc'] = trainReliable['title'].apply(removeStopLine)\n",
        "\n",
        "print('Time to processed: ', time.time() - init)\n",
        "\n",
        "trainReliable = indexesZeroTrain(trainReliable)"
      ],
      "execution_count": 15,
      "outputs": [
        {
          "output_type": "stream",
          "text": [
            "Time to processed:  193.4474275112152\n",
            "717\n"
          ],
          "name": "stdout"
        }
      ]
    },
    {
      "cell_type": "code",
      "metadata": {
        "id": "oFZzum7UsJKB",
        "colab_type": "code",
        "outputId": "57635a9d-0c02-4f09-9328-5a30ed4fb60c",
        "colab": {
          "base_uri": "https://localhost:8080/",
          "height": 204
        }
      },
      "source": [
        "trainReliable.head()"
      ],
      "execution_count": 18,
      "outputs": [
        {
          "output_type": "execute_result",
          "data": {
            "text/html": [
              "<div>\n",
              "<style scoped>\n",
              "    .dataframe tbody tr th:only-of-type {\n",
              "        vertical-align: middle;\n",
              "    }\n",
              "\n",
              "    .dataframe tbody tr th {\n",
              "        vertical-align: top;\n",
              "    }\n",
              "\n",
              "    .dataframe thead th {\n",
              "        text-align: right;\n",
              "    }\n",
              "</style>\n",
              "<table border=\"1\" class=\"dataframe\">\n",
              "  <thead>\n",
              "    <tr style=\"text-align: right;\">\n",
              "      <th></th>\n",
              "      <th>category</th>\n",
              "      <th>label_quality</th>\n",
              "      <th>language</th>\n",
              "      <th>title</th>\n",
              "      <th>title_nopunc</th>\n",
              "    </tr>\n",
              "  </thead>\n",
              "  <tbody>\n",
              "    <tr>\n",
              "      <th>16</th>\n",
              "      <td>AIR_COMPRESSORS</td>\n",
              "      <td>NaN</td>\n",
              "      <td>portuguese</td>\n",
              "      <td>projeto unidade hidraulica 3000 psi</td>\n",
              "      <td>projeto unidade hidraulica psi</td>\n",
              "    </tr>\n",
              "    <tr>\n",
              "      <th>25</th>\n",
              "      <td>CARPETS</td>\n",
              "      <td>NaN</td>\n",
              "      <td>portuguese</td>\n",
              "      <td>tapete capacho 120x60 churrasqueira + frete gr...</td>\n",
              "      <td>tapete capacho churrasqueira</td>\n",
              "    </tr>\n",
              "    <tr>\n",
              "      <th>57</th>\n",
              "      <td>T_SHIRTS</td>\n",
              "      <td>NaN</td>\n",
              "      <td>portuguese</td>\n",
              "      <td>camiseta raglan crepúsculo jealous baby look</td>\n",
              "      <td>camiseta raglan crepusculo jealous baby look</td>\n",
              "    </tr>\n",
              "    <tr>\n",
              "      <th>82</th>\n",
              "      <td>DVD_RECORDERS</td>\n",
              "      <td>NaN</td>\n",
              "      <td>portuguese</td>\n",
              "      <td>unidade de dvd gravador com defeito apenas par...</td>\n",
              "      <td>unidade dvd gravador defeito apenas pecas</td>\n",
              "    </tr>\n",
              "    <tr>\n",
              "      <th>99</th>\n",
              "      <td>DESKTOP_COMPUTER_COOLERS_AND_FANS</td>\n",
              "      <td>NaN</td>\n",
              "      <td>portuguese</td>\n",
              "      <td>fan  dell r320 / r420 0hr6c0 - 24h</td>\n",
              "      <td>fan dell</td>\n",
              "    </tr>\n",
              "  </tbody>\n",
              "</table>\n",
              "</div>"
            ],
            "text/plain": [
              "                             category  ...                                  title_nopunc\n",
              "16                    AIR_COMPRESSORS  ...                projeto unidade hidraulica psi\n",
              "25                            CARPETS  ...                  tapete capacho churrasqueira\n",
              "57                           T_SHIRTS  ...  camiseta raglan crepusculo jealous baby look\n",
              "82                      DVD_RECORDERS  ...     unidade dvd gravador defeito apenas pecas\n",
              "99  DESKTOP_COMPUTER_COOLERS_AND_FANS  ...                                      fan dell\n",
              "\n",
              "[5 rows x 5 columns]"
            ]
          },
          "metadata": {
            "tags": []
          },
          "execution_count": 18
        }
      ]
    },
    {
      "cell_type": "markdown",
      "metadata": {
        "id": "rr7m9oxcytAK",
        "colab_type": "text"
      },
      "source": [
        "### Test - Remove StopWords\n",
        "\n",
        "Executa o mesmo processo aplicado ao dados de treino para remoção de StopWords. Além disso, remove a coluna id para auxiliar na concatenação dos dataframes. "
      ]
    },
    {
      "cell_type": "code",
      "metadata": {
        "id": "E-j9RRkPyh-d",
        "colab_type": "code",
        "colab": {
          "base_uri": "https://localhost:8080/",
          "height": 51
        },
        "outputId": "0282206b-36ff-4191-879a-84cb0055dce1"
      },
      "source": [
        "init = time.time()\n",
        "\n",
        "test[\"title_nopunc\"] = test['title'].apply(removeStopLine)\n",
        "\n",
        "print('Time to processed: ', time.time() - init)\n",
        "\n",
        "test = indexesZeroTest(test)\n",
        "\n",
        "test.drop('id', axis=1, inplace=True)"
      ],
      "execution_count": 16,
      "outputs": [
        {
          "output_type": "stream",
          "text": [
            "Time to processed:  19.048086643218994\n",
            "24\n"
          ],
          "name": "stdout"
        }
      ]
    },
    {
      "cell_type": "code",
      "metadata": {
        "id": "scq9TiUe0khc",
        "colab_type": "code",
        "outputId": "9609eb3e-a552-4c21-8d53-34e90385aa89",
        "colab": {
          "base_uri": "https://localhost:8080/",
          "height": 204
        }
      },
      "source": [
        "test.head()"
      ],
      "execution_count": 17,
      "outputs": [
        {
          "output_type": "execute_result",
          "data": {
            "text/html": [
              "<div>\n",
              "<style scoped>\n",
              "    .dataframe tbody tr th:only-of-type {\n",
              "        vertical-align: middle;\n",
              "    }\n",
              "\n",
              "    .dataframe tbody tr th {\n",
              "        vertical-align: top;\n",
              "    }\n",
              "\n",
              "    .dataframe thead th {\n",
              "        text-align: right;\n",
              "    }\n",
              "</style>\n",
              "<table border=\"1\" class=\"dataframe\">\n",
              "  <thead>\n",
              "    <tr style=\"text-align: right;\">\n",
              "      <th></th>\n",
              "      <th>title</th>\n",
              "      <th>language</th>\n",
              "      <th>title_nopunc</th>\n",
              "    </tr>\n",
              "  </thead>\n",
              "  <tbody>\n",
              "    <tr>\n",
              "      <th>0</th>\n",
              "      <td>kit maternidade bolsa-mala baby/bebe vinho men...</td>\n",
              "      <td>portuguese</td>\n",
              "      <td>maternidade bolsa mala baby bebe vinho menina</td>\n",
              "    </tr>\n",
              "    <tr>\n",
              "      <th>1</th>\n",
              "      <td>trocador de fraldas fisher price feminino rosa...</td>\n",
              "      <td>portuguese</td>\n",
              "      <td>trocador fraldas fisher price feminino portatil</td>\n",
              "    </tr>\n",
              "    <tr>\n",
              "      <th>2</th>\n",
              "      <td>motor ventoinha - fiat idea / palio 1.8 - a 04...</td>\n",
              "      <td>portuguese</td>\n",
              "      <td>motor ventoinha fiat idea palio</td>\n",
              "    </tr>\n",
              "    <tr>\n",
              "      <th>3</th>\n",
              "      <td>amortecedor mola batente d dir new civic 14 - ...</td>\n",
              "      <td>portuguese</td>\n",
              "      <td>amortecedor mola batente dir civic</td>\n",
              "    </tr>\n",
              "    <tr>\n",
              "      <th>4</th>\n",
              "      <td>cadeirinha de carro bebê princesa princess 9 a...</td>\n",
              "      <td>portuguese</td>\n",
              "      <td>cadeirinha carro bebe princesa princess kgs</td>\n",
              "    </tr>\n",
              "  </tbody>\n",
              "</table>\n",
              "</div>"
            ],
            "text/plain": [
              "                                               title  ...                                     title_nopunc\n",
              "0  kit maternidade bolsa-mala baby/bebe vinho men...  ...    maternidade bolsa mala baby bebe vinho menina\n",
              "1  trocador de fraldas fisher price feminino rosa...  ...  trocador fraldas fisher price feminino portatil\n",
              "2  motor ventoinha - fiat idea / palio 1.8 - a 04...  ...                  motor ventoinha fiat idea palio\n",
              "3  amortecedor mola batente d dir new civic 14 - ...  ...               amortecedor mola batente dir civic\n",
              "4  cadeirinha de carro bebê princesa princess 9 a...  ...      cadeirinha carro bebe princesa princess kgs\n",
              "\n",
              "[5 rows x 3 columns]"
            ]
          },
          "metadata": {
            "tags": []
          },
          "execution_count": 17
        }
      ]
    },
    {
      "cell_type": "markdown",
      "metadata": {
        "id": "dFlqYq7uyx3u",
        "colab_type": "text"
      },
      "source": [
        "### Word Embeeding\n",
        "\n",
        "  - A sequência a seguir concatena os dataframes de treino e test a fim de que o algoritmo de treinamento esteva familiarizado com o conteúdo do dataset de test. \n",
        "  - Define o tamanho do vocabulário com as palavras mais importantes, classificadas pelo Keras Tokenizer\n",
        "  - Verifica se alguma linha ficou vazia e adiciona o title tratado para não perder aquele registro."
      ]
    },
    {
      "cell_type": "code",
      "metadata": {
        "id": "ge6CEkABZkCZ",
        "colab_type": "code",
        "colab": {}
      },
      "source": [
        "from keras.preprocessing.text import Tokenizer\n",
        "from keras.preprocessing.sequence import pad_sequences"
      ],
      "execution_count": 0,
      "outputs": []
    },
    {
      "cell_type": "code",
      "metadata": {
        "id": "l14jCqc5zKZ_",
        "colab_type": "code",
        "colab": {}
      },
      "source": [
        "sizeTrain = trainReliable.shape[0]\n",
        "sizeTest = test.shape[0]"
      ],
      "execution_count": 0,
      "outputs": []
    },
    {
      "cell_type": "code",
      "metadata": {
        "id": "HQCIc0O1zLI_",
        "colab_type": "code",
        "colab": {}
      },
      "source": [
        "trainReliable = trainReliable.append(test)"
      ],
      "execution_count": 0,
      "outputs": []
    },
    {
      "cell_type": "code",
      "metadata": {
        "id": "S2ogdP-oZoXA",
        "colab_type": "code",
        "outputId": "edc6d703-2a0a-48ce-fcad-196f3fb5b0db",
        "colab": {
          "base_uri": "https://localhost:8080/",
          "height": 34
        }
      },
      "source": [
        "tokenizer = Tokenizer(num_words=20000)\n",
        "\n",
        "init = time.time()\n",
        "\n",
        "tokenizer.fit_on_texts(trainReliable['title_nopunc'])\n",
        "X_train = tokenizer.texts_to_sequences(trainReliable['title_nopunc'])\n",
        "\n",
        "#maxlen = 5\n",
        "\n",
        "#X_train = pad_sequences(X_train, truncating='post',maxlen=maxlen)\n",
        "#X_test = pad_sequences(X_test, padding='post', maxlen=maxlen)\n",
        "\n",
        "X_train = tokenizer.sequences_to_texts(X_train)\n",
        "\n",
        "#from operator import itemgetter\n",
        "#sortedWords = sorted(tokenizer.word_counts.items(), key=itemgetter(1), reverse = True)\n",
        "\n",
        "print('Processing time Tokenizer: ', int(time.time() - init), ' segundos')"
      ],
      "execution_count": 22,
      "outputs": [
        {
          "output_type": "stream",
          "text": [
            "Time to processed Tokenizer:  88  segundos\n"
          ],
          "name": "stdout"
        }
      ]
    },
    {
      "cell_type": "code",
      "metadata": {
        "id": "U7ep4Mg4sVP-",
        "colab_type": "code",
        "outputId": "f9726f72-7547-4575-a624-aa51eaf36c45",
        "colab": {
          "base_uri": "https://localhost:8080/",
          "height": 51
        }
      },
      "source": [
        "vl = 1586930\n",
        "print('Example before: ', trainReliable['title_nopunc'].iloc[vl])\n",
        "print('After: ',X_train[vl])"
      ],
      "execution_count": 25,
      "outputs": [
        {
          "output_type": "stream",
          "text": [
            "Example before:  engranaje tercera arbol primario volkano motomel\n",
            "After:  engranaje tercera arbol primario motomel\n"
          ],
          "name": "stdout"
        }
      ]
    },
    {
      "cell_type": "markdown",
      "metadata": {
        "id": "IIYdvQnx7Cv1",
        "colab_type": "text"
      },
      "source": [
        "A partir desse ponto os dataset estão com as palavras mais importante e serão convertidos na matriz para treinamento. "
      ]
    },
    {
      "cell_type": "code",
      "metadata": {
        "id": "km83UblhsVYt",
        "colab_type": "code",
        "colab": {
          "base_uri": "https://localhost:8080/",
          "height": 34
        },
        "outputId": "12d10e85-59ca-4b68-acb4-3e2c4aa94ceb"
      },
      "source": [
        "trainReliable['title_nopunc'] = X_train\n",
        "test = trainReliable.tail(sizeTest)\n",
        "trainReliable = trainReliable.head(sizeTrain)\n",
        "\n",
        "print('Size Train: ', trainReliable.shape , 'Size Test: ',test.shape)"
      ],
      "execution_count": 26,
      "outputs": [
        {
          "output_type": "stream",
          "text": [
            "Size Train:  (2500631, 5) Size Test:  (246955, 5)\n"
          ],
          "name": "stdout"
        }
      ]
    },
    {
      "cell_type": "code",
      "metadata": {
        "id": "W1uLY-BnN-FM",
        "colab_type": "code",
        "colab": {}
      },
      "source": [
        "indexes = trainReliable[trainReliable['title_nopunc'].apply(len) == 0].index\n",
        "trainReliable['title_nopunc'][indexes] = trainReliable.loc[indexes]['title'].apply(removeStopLine)\n",
        "\n",
        "indexes = test[test['title_nopunc'].apply(len) == 0].index\n",
        "test['title_nopunc'][indexes] = test.loc[indexes]['title'].apply(removeStopLine)"
      ],
      "execution_count": 0,
      "outputs": []
    },
    {
      "cell_type": "markdown",
      "metadata": {
        "_uuid": "51aacb3c-f457-4ef6-87b0-85bf1e2ca8eb",
        "_cell_guid": "1860b9c8-d98a-4a45-bb18-ccdc82327191",
        "trusted": true,
        "id": "Ow23JwRDsIr1",
        "colab_type": "text"
      },
      "source": [
        "### Split Datasets by Languages\n",
        "\n",
        "  - As duas linguages não possuem tanta semelhança, assim serão treinadas separamente o que garante uma melhor performance do algoritmo. "
      ]
    },
    {
      "cell_type": "code",
      "metadata": {
        "_uuid": "24b7b83e-fcaa-4985-b6ee-ca962e8fa121",
        "_cell_guid": "74f119eb-8854-4f1f-be45-bbd92cc4c763",
        "trusted": true,
        "id": "Xt6BhXFcsIr8",
        "colab_type": "code",
        "colab": {}
      },
      "source": [
        ""
      ],
      "execution_count": 0,
      "outputs": []
    },
    {
      "cell_type": "code",
      "metadata": {
        "id": "FPeNSeloYpKY",
        "colab_type": "code",
        "colab": {}
      },
      "source": [
        "trainPortuguese = trainReliable[trainReliable['language'] == 'portuguese']\n",
        "trainSpanish = trainReliable[trainReliable['language'] == 'spanish']"
      ],
      "execution_count": 0,
      "outputs": []
    },
    {
      "cell_type": "code",
      "metadata": {
        "id": "pd2OJIGFX6sT",
        "colab_type": "code",
        "colab": {}
      },
      "source": [
        "i = trainPortuguese[trainPortuguese['category'] == 'PACKAGING_CONTAINERS'].index\n",
        "ii = trainPortuguese[trainPortuguese['category'] == 'FIELD_HOCKEY_STICKS'].index\n",
        "trainPortuguese.drop(i, inplace=True)\n",
        "trainPortuguese.drop(ii, inplace=True)"
      ],
      "execution_count": 0,
      "outputs": []
    },
    {
      "cell_type": "code",
      "metadata": {
        "id": "2V-oaPfYYcYC",
        "colab_type": "code",
        "colab": {}
      },
      "source": [
        "ix = trainSpanish[trainSpanish['category'] == 'CHESS_CLOCKS'].index\n",
        "trainSpanish.drop(ix, inplace=True)"
      ],
      "execution_count": 0,
      "outputs": []
    },
    {
      "cell_type": "code",
      "metadata": {
        "id": "_BnX9JoKXI-c",
        "colab_type": "code",
        "outputId": "a12bdf47-3950-4646-b0ec-57f73cc1cea1",
        "colab": {
          "base_uri": "https://localhost:8080/",
          "height": 119
        }
      },
      "source": [
        "trainPortuguese['category'].value_counts().tail()"
      ],
      "execution_count": 31,
      "outputs": [
        {
          "output_type": "execute_result",
          "data": {
            "text/plain": [
              "POOL_PAINTS                 4\n",
              "BOXING_SPEED_BAGS           4\n",
              "COFFEE_VENDING_MACHINES     3\n",
              "WAKEBOARD_BOOTS             2\n",
              "MARTIAL_ARTS_FOOT_GUARDS    2\n",
              "Name: category, dtype: int64"
            ]
          },
          "metadata": {
            "tags": []
          },
          "execution_count": 31
        }
      ]
    },
    {
      "cell_type": "code",
      "metadata": {
        "id": "KkNZtq7gwroR",
        "colab_type": "code",
        "colab": {}
      },
      "source": [
        ""
      ],
      "execution_count": 0,
      "outputs": []
    },
    {
      "cell_type": "code",
      "metadata": {
        "_uuid": "787a1902-6330-4d28-b785-93b9b3d3ff04",
        "_cell_guid": "23ce01e8-d9b7-4718-8a16-3e09e7a8d332",
        "trusted": true,
        "id": "Et3P5nmPsIuB",
        "colab_type": "code",
        "colab": {}
      },
      "source": [
        "testPortuguese = test[test['language'] == 'portuguese']\n",
        "testSpanish = test[test['language'] == 'spanish']"
      ],
      "execution_count": 0,
      "outputs": []
    },
    {
      "cell_type": "markdown",
      "metadata": {
        "_uuid": "66fd81a7-b5f5-4aac-95d6-7999b0582657",
        "_cell_guid": "225ffadd-bdf1-4abe-9c43-a0214034a22d",
        "trusted": true,
        "id": "CDf19vcVsIsd",
        "colab_type": "text"
      },
      "source": [
        "### Resize Dataset by defined size\n",
        "\n",
        "  - Como o conjunto de treino é muito grande, a função retorna um dataframe menor utilizando Sklean train_test_split com o parâmetro Stratify para manter a proporção de categorias nos dados de treino. "
      ]
    },
    {
      "cell_type": "code",
      "metadata": {
        "id": "UO_GV6Ni8bdT",
        "colab_type": "code",
        "colab": {}
      },
      "source": [
        "def resizeDataset( size, language):\n",
        "    if (language == 'portuguese'):\n",
        "        testSize = size / trainPortuguese.shape[0]\n",
        "        _, X_test = train_test_split(trainPortuguese, test_size=testSize, random_state=101, stratify=trainPortuguese.category)\n",
        "        return X_test\n",
        "    elif (language == 'spanish' ):\n",
        "        testSize = size / trainSpanish.shape[0]\n",
        "        _, X_test = train_test_split(trainSpanish, test_size=testSize, random_state=101, stratify=trainSpanish.category)\n",
        "        return X_test\n",
        "    else:\n",
        "        testSize = size / train.shape[0]\n",
        "        _, X_test = train_test_split(train, test_size=testSize, random_state=101, stratify=train.category)\n",
        "        return X_test"
      ],
      "execution_count": 0,
      "outputs": []
    },
    {
      "cell_type": "code",
      "metadata": {
        "_uuid": "a92d000b-6aa6-459f-b1ef-a344fb8e9bdc",
        "_cell_guid": "101afc25-75d6-48a7-9aaf-778517a49de3",
        "trusted": true,
        "id": "lwtOZ_Q_sIse",
        "colab_type": "code",
        "colab": {}
      },
      "source": [
        "sizeTrain = 250000"
      ],
      "execution_count": 0,
      "outputs": []
    },
    {
      "cell_type": "code",
      "metadata": {
        "_uuid": "5a452783-0a2e-4016-9aff-e1680447a969",
        "_cell_guid": "5911f82f-8380-495e-919d-b197e1d61a9c",
        "trusted": true,
        "id": "rtKzn6mbsIsh",
        "colab_type": "code",
        "colab": {}
      },
      "source": [
        "trainPort = resizeDataset(sizeTrain, 'portuguese')"
      ],
      "execution_count": 0,
      "outputs": []
    },
    {
      "cell_type": "code",
      "metadata": {
        "_uuid": "750cad07-a199-4562-96b4-d56a86e17b5d",
        "_cell_guid": "5f46a1cc-dffb-47a9-9224-bed1f94347ea",
        "trusted": true,
        "id": "I_tKlhIWsIsq",
        "colab_type": "code",
        "colab": {}
      },
      "source": [
        "trainSpa = resizeDataset(sizeTrain, 'spanish')"
      ],
      "execution_count": 0,
      "outputs": []
    },
    {
      "cell_type": "code",
      "metadata": {
        "_uuid": "4db4fad6-3eec-4c60-bec3-28535d04df2d",
        "_cell_guid": "2cb330af-99ac-4c1d-8f0d-dd101f361fd5",
        "trusted": true,
        "id": "9HShpLmxsIsz",
        "colab_type": "code",
        "outputId": "254acd6c-ef6c-4348-a5c1-edcd40579ebf",
        "colab": {
          "base_uri": "https://localhost:8080/",
          "height": 173
        }
      },
      "source": [
        "trainPort.describe()"
      ],
      "execution_count": 36,
      "outputs": [
        {
          "output_type": "execute_result",
          "data": {
            "text/html": [
              "<div>\n",
              "<style scoped>\n",
              "    .dataframe tbody tr th:only-of-type {\n",
              "        vertical-align: middle;\n",
              "    }\n",
              "\n",
              "    .dataframe tbody tr th {\n",
              "        vertical-align: top;\n",
              "    }\n",
              "\n",
              "    .dataframe thead th {\n",
              "        text-align: right;\n",
              "    }\n",
              "</style>\n",
              "<table border=\"1\" class=\"dataframe\">\n",
              "  <thead>\n",
              "    <tr style=\"text-align: right;\">\n",
              "      <th></th>\n",
              "      <th>category</th>\n",
              "      <th>label_quality</th>\n",
              "      <th>language</th>\n",
              "      <th>title</th>\n",
              "      <th>title_nopunc</th>\n",
              "    </tr>\n",
              "  </thead>\n",
              "  <tbody>\n",
              "    <tr>\n",
              "      <th>count</th>\n",
              "      <td>250000</td>\n",
              "      <td>121034</td>\n",
              "      <td>250000</td>\n",
              "      <td>250000</td>\n",
              "      <td>250000</td>\n",
              "    </tr>\n",
              "    <tr>\n",
              "      <th>unique</th>\n",
              "      <td>1571</td>\n",
              "      <td>1</td>\n",
              "      <td>1</td>\n",
              "      <td>249999</td>\n",
              "      <td>230131</td>\n",
              "    </tr>\n",
              "    <tr>\n",
              "      <th>top</th>\n",
              "      <td>CAR_SEAT_COVERS</td>\n",
              "      <td>unreliable</td>\n",
              "      <td>portuguese</td>\n",
              "      <td>imac apple mndy2ll/a 21.5 4k/i5-3.0/8gb/1tb (2...</td>\n",
              "      <td>tampa distribuidor smp</td>\n",
              "    </tr>\n",
              "    <tr>\n",
              "      <th>freq</th>\n",
              "      <td>952</td>\n",
              "      <td>121034</td>\n",
              "      <td>250000</td>\n",
              "      <td>2</td>\n",
              "      <td>76</td>\n",
              "    </tr>\n",
              "  </tbody>\n",
              "</table>\n",
              "</div>"
            ],
            "text/plain": [
              "               category  ...            title_nopunc\n",
              "count            250000  ...                  250000\n",
              "unique             1571  ...                  230131\n",
              "top     CAR_SEAT_COVERS  ...  tampa distribuidor smp\n",
              "freq                952  ...                      76\n",
              "\n",
              "[4 rows x 5 columns]"
            ]
          },
          "metadata": {
            "tags": []
          },
          "execution_count": 36
        }
      ]
    },
    {
      "cell_type": "code",
      "metadata": {
        "id": "bZAxgzthUjVO",
        "colab_type": "code",
        "colab": {}
      },
      "source": [
        ""
      ],
      "execution_count": 0,
      "outputs": []
    },
    {
      "cell_type": "markdown",
      "metadata": {
        "_uuid": "8393a5a5-31f7-42f6-93eb-16dc4ab8d9c5",
        "_cell_guid": "b180c154-feac-435e-91f4-639e5c13cc3f",
        "trusted": true,
        "id": "wy0Oha-tsItG",
        "colab_type": "text"
      },
      "source": [
        "### Vectorizer\n",
        "\n",
        "  - As seguintes funções retornam uma matriz de recursos TF-IDF a partir do Dataframe"
      ]
    },
    {
      "cell_type": "code",
      "metadata": {
        "_uuid": "454d0569-cabd-4dac-a4b5-7727e5441692",
        "_cell_guid": "615cea5a-294b-46d4-84b3-0384793d6f9c",
        "trusted": true,
        "id": "y3TX6r6ssItH",
        "colab_type": "code",
        "colab": {}
      },
      "source": [
        "from sklearn.feature_extraction.text import CountVectorizer, TfidfVectorizer\n",
        "from sklearn.feature_extraction.text import TfidfTransformer"
      ],
      "execution_count": 0,
      "outputs": []
    },
    {
      "cell_type": "code",
      "metadata": {
        "_uuid": "05fa99d1-07be-4d6d-bf8f-c85106ac7cce",
        "_cell_guid": "6e385130-b0a2-4ebb-a7b1-004cdfde4946",
        "trusted": true,
        "id": "tb_SzvAzsItJ",
        "colab_type": "code",
        "colab": {}
      },
      "source": [
        "#Vectorizer unique words and transform in matrix of 0 and 1\n",
        "def createMatrixWords(listWords):\n",
        "    vectorizer = CountVectorizer(dtype=np.int8)\n",
        "    matriz = vectorizer.fit_transform(listWords)\n",
        "    print(\"Total size of unique words: {}\".format(len(vectorizer.get_feature_names())))\n",
        "    return matriz"
      ],
      "execution_count": 0,
      "outputs": []
    },
    {
      "cell_type": "code",
      "metadata": {
        "_uuid": "9b845bb9-f756-4d98-97f7-1c64b1105093",
        "_cell_guid": "4c296dcb-67d9-4dc3-aed9-6478c5ba849d",
        "trusted": true,
        "id": "UtnFhcyBsItL",
        "colab_type": "code",
        "colab": {}
      },
      "source": [
        "#Vectorizer unique words and transform in matrix of 0 and 1\n",
        "def createMatrixWordsTFIDF(listWords):\n",
        "    vectorizer = CountVectorizer(dtype=np.int8)\n",
        "    matrix = vectorizer.fit_transform(listWords)\n",
        "    tfidf_matrix = TfidfTransformer().fit_transform(matrix)\n",
        "    #tfidf_matrix = tfidf_transformer.transform(messages_bow)\n",
        "    print(\"Total size of unique words: {}\".format(len(vectorizer.get_feature_names())))\n",
        "    return tfidf_matrix"
      ],
      "execution_count": 0,
      "outputs": []
    },
    {
      "cell_type": "code",
      "metadata": {
        "_uuid": "2532b500-df6b-4a82-a52e-f14b166bc06c",
        "_cell_guid": "57dd006b-5da6-4121-9573-4abeae190d61",
        "trusted": true,
        "id": "rU2wOGEhsItP",
        "colab_type": "code",
        "colab": {}
      },
      "source": [
        "#Vectorizer \n",
        "def createMatrixWordsTFIDF_Gram(listWords):\n",
        "    vectorizer = TfidfVectorizer(ngram_range=(1,2), analyzer='word') # You can still specify n-grams here.\n",
        "    tfidf_matrix = vectorizer.fit_transform(listWords)\n",
        "    print(\"Total size of unique words: {}\".format(len(vectorizer.get_feature_names())))\n",
        "    return tfidf_matrix"
      ],
      "execution_count": 0,
      "outputs": []
    },
    {
      "cell_type": "code",
      "metadata": {
        "_uuid": "bc4c8162-8b26-44e6-9fd0-7e84e232b10f",
        "_cell_guid": "e8a2bde4-9fec-46b5-bbcc-263e4109bc53",
        "trusted": true,
        "id": "58UuI1gPsItS",
        "colab_type": "code",
        "colab": {}
      },
      "source": [
        "vectorizer = TfidfVectorizer(ngram_range=(2,2), analyzer='word') # You can still specify n-grams here.\n",
        "tfidf_matrix = vectorizer.fit_transform(trainPort['title_nopunc'].tolist())\n",
        "#print(\"Total size of unique words: {}\".format(len(vectorizer.get_feature_names())))\n",
        "\n",
        "frequencies = sum(tfidf_matrix).toarray()[0]\n",
        "x = pd.DataFrame(frequencies, index=vectorizer.get_feature_names(), columns=['frequency'])\n",
        "x.sort_values(by=['frequency'], ascending=False, inplace=True)\n",
        "len(x.sort_values(by=['frequency']))"
      ],
      "execution_count": 0,
      "outputs": []
    },
    {
      "cell_type": "code",
      "metadata": {
        "_uuid": "c7d9ffb8-e0cb-46f2-af66-4fb0570fd3fe",
        "_cell_guid": "396850b9-c1be-4860-a94d-125181c7b90e",
        "trusted": true,
        "id": "-7wUqfWvsItU",
        "colab_type": "code",
        "colab": {}
      },
      "source": [
        "word_vectorizer = CountVectorizer(ngram_range=(3,3), analyzer='word')\n",
        "sparse_matrix = word_vectorizer.fit_transform(trainPort['title_nopunc'].tolist())"
      ],
      "execution_count": 0,
      "outputs": []
    },
    {
      "cell_type": "code",
      "metadata": {
        "_uuid": "a4aeb1f2-3162-4705-8f6e-17931c990df5",
        "_cell_guid": "49f1b2ff-e9fa-4295-8f87-6a39766e652b",
        "trusted": true,
        "id": "nkApjWTxsItW",
        "colab_type": "code",
        "colab": {}
      },
      "source": [
        "len(word_vectorizer.get_feature_names())"
      ],
      "execution_count": 0,
      "outputs": []
    },
    {
      "cell_type": "code",
      "metadata": {
        "_uuid": "840957f1-afa6-48ec-875c-af8556bda172",
        "_cell_guid": "78abe3a2-73e3-45c7-9b41-33ca49afb667",
        "trusted": true,
        "id": "0jxwzZCdsItZ",
        "colab_type": "code",
        "colab": {}
      },
      "source": [
        "frequencies = sum(sparse_matrix).toarray()[0]"
      ],
      "execution_count": 0,
      "outputs": []
    },
    {
      "cell_type": "code",
      "metadata": {
        "_uuid": "5453d90d-2103-4895-bf55-bf978224ab5c",
        "_cell_guid": "ab0f331b-d52a-4c90-abec-8cea6e3a95d3",
        "trusted": true,
        "id": "JtlJTkKUsItb",
        "colab_type": "code",
        "colab": {}
      },
      "source": [
        "xi = pd.DataFrame(frequencies, index=word_vectorizer.get_feature_names(), columns=['frequency'])\n",
        "xi.sort_values(by=['frequency'], ascending=False, inplace=True)\n",
        "len(xi)"
      ],
      "execution_count": 0,
      "outputs": []
    },
    {
      "cell_type": "code",
      "metadata": {
        "_uuid": "ec15b1f3-56d1-4500-9644-51d6d4be1d8e",
        "_cell_guid": "5214aa9b-8e97-4eec-abbd-cecb512704bc",
        "trusted": true,
        "id": "s7trKnPGsItf",
        "colab_type": "code",
        "colab": {}
      },
      "source": [
        "len(xi[xi['frequency'] > 1])"
      ],
      "execution_count": 0,
      "outputs": []
    },
    {
      "cell_type": "code",
      "metadata": {
        "_uuid": "ffe5529c-c3e5-43d9-aa4d-d5340ac0f7c6",
        "_cell_guid": "d762733e-152b-46f1-87ab-a8c0097885c1",
        "trusted": true,
        "id": "q9QTbSBLsItk",
        "colab_type": "code",
        "colab": {}
      },
      "source": [
        ""
      ],
      "execution_count": 0,
      "outputs": []
    },
    {
      "cell_type": "code",
      "metadata": {
        "_uuid": "b8432007-3131-4fc9-a950-65ef4f91df87",
        "_cell_guid": "4f2bcb17-8c6d-420d-a111-f1f0c03c90a7",
        "trusted": true,
        "id": "hO7UL2z0sItn",
        "colab_type": "code",
        "colab": {}
      },
      "source": [
        "xi.tail(50)"
      ],
      "execution_count": 0,
      "outputs": []
    },
    {
      "cell_type": "code",
      "metadata": {
        "_uuid": "0fda2565-fc1a-45f0-8807-0ba00458c4fb",
        "_cell_guid": "39a57697-9406-4b87-9983-ea4c917fcf0a",
        "trusted": true,
        "id": "ASsjrPg9sItr",
        "colab_type": "code",
        "colab": {}
      },
      "source": [
        ""
      ],
      "execution_count": 0,
      "outputs": []
    },
    {
      "cell_type": "code",
      "metadata": {
        "_uuid": "040057e0-2160-4711-8ae4-22518213cdcd",
        "_cell_guid": "4d6ab10b-e5aa-489b-baa6-a7d3326281d6",
        "trusted": true,
        "id": "xjGDwq2SsItu",
        "colab_type": "code",
        "outputId": "b0ef17ab-f697-49b0-926f-6ac9935237a3",
        "colab": {
          "base_uri": "https://localhost:8080/",
          "height": 34
        }
      },
      "source": [
        "matrix_Vector_Train_Port = createMatrixWordsTFIDF(trainPort['title_nopunc'].tolist())"
      ],
      "execution_count": 41,
      "outputs": [
        {
          "output_type": "stream",
          "text": [
            "Total size of unique words: 16637\n"
          ],
          "name": "stdout"
        }
      ]
    },
    {
      "cell_type": "code",
      "metadata": {
        "_uuid": "5dc2db07-ca4f-4170-bd5c-701c7e1208cb",
        "_cell_guid": "942b7fe7-8264-4e84-8b81-8d1dda1df1c1",
        "trusted": true,
        "id": "rNi3QfhrsIty",
        "colab_type": "code",
        "outputId": "f678f743-b1b4-483a-cd6b-50ec37652b31",
        "colab": {
          "base_uri": "https://localhost:8080/",
          "height": 34
        }
      },
      "source": [
        "matrix_Vector_Train_Spa = createMatrixWordsTFIDF(trainSpa['title_nopunc'].tolist())"
      ],
      "execution_count": 42,
      "outputs": [
        {
          "output_type": "stream",
          "text": [
            "Total size of unique words: 17578\n"
          ],
          "name": "stdout"
        }
      ]
    },
    {
      "cell_type": "code",
      "metadata": {
        "_uuid": "6feabea8-1b80-4a08-803f-559e769a0ca2",
        "_cell_guid": "d71e6346-f98c-427c-8fe9-a7fc813e9ac1",
        "trusted": true,
        "id": "5RbkmDATsIt1",
        "colab_type": "code",
        "colab": {}
      },
      "source": [
        ""
      ],
      "execution_count": 0,
      "outputs": []
    },
    {
      "cell_type": "markdown",
      "metadata": {
        "_uuid": "9bff1b93-a517-4f1d-b3d8-53de4716dba4",
        "_cell_guid": "9085f8bb-5da2-4337-b9b9-1f13484b383e",
        "trusted": true,
        "id": "M_HRnHTvsIua",
        "colab_type": "text"
      },
      "source": [
        "#### Vectorizer Dataframe Train + Test\n",
        "\n",
        "  - A partir deste ponto os dados estão prontos para serem treinados, com as matrizes de treino de test devidamente geradas. "
      ]
    },
    {
      "cell_type": "code",
      "metadata": {
        "_uuid": "cd64a885-e814-4999-9ea8-f9c71c59d668",
        "_cell_guid": "fd0428e2-3c92-47f7-a8c4-a3b1dc96adf3",
        "trusted": true,
        "id": "9MzvRcXEsIua",
        "colab_type": "code",
        "colab": {}
      },
      "source": [
        "allWordsPort = trainPort['title_nopunc'].tolist() + testPortuguese['title_nopunc'].tolist()\n",
        "allWordsSpa = trainSpa['title_nopunc'].tolist() + testSpanish['title_nopunc'].tolist()\n",
        "\n",
        "#allWordsPort = trainPort['title'].tolist() + testPortuguese['title'].tolist()\n",
        "#allWordsSpa = trainSpa['title'].tolist() + testSpanish['title'].tolist()"
      ],
      "execution_count": 0,
      "outputs": []
    },
    {
      "cell_type": "code",
      "metadata": {
        "_uuid": "c9d4197c-e526-44da-b813-fc5ea5f86a7b",
        "_cell_guid": "84248e67-acce-4981-b4ae-f888e2c03e76",
        "trusted": true,
        "id": "8ZkQIeNrsIuc",
        "colab_type": "code",
        "outputId": "08146c70-d449-4f83-b57f-330408d04730",
        "colab": {
          "base_uri": "https://localhost:8080/",
          "height": 34
        }
      },
      "source": [
        "matrix_Vector_All_Words_Port = createMatrixWordsTFIDF(allWordsPort)"
      ],
      "execution_count": 44,
      "outputs": [
        {
          "output_type": "stream",
          "text": [
            "Total size of unique words: 17061\n"
          ],
          "name": "stdout"
        }
      ]
    },
    {
      "cell_type": "code",
      "metadata": {
        "_uuid": "4aab5063-bcda-42b4-bdab-6541a6dd0691",
        "_cell_guid": "cfaa9330-b9f0-4434-b8b7-b7cc3c765421",
        "trusted": true,
        "id": "qJNmnHGesIuh",
        "colab_type": "code",
        "outputId": "6756d0af-35cd-4694-f7bc-c372e0d2c27a",
        "colab": {
          "base_uri": "https://localhost:8080/",
          "height": 34
        }
      },
      "source": [
        "matrix_Vector_All_Words_Spa = createMatrixWordsTFIDF(allWordsSpa)"
      ],
      "execution_count": 45,
      "outputs": [
        {
          "output_type": "stream",
          "text": [
            "Total size of unique words: 18211\n"
          ],
          "name": "stdout"
        }
      ]
    },
    {
      "cell_type": "code",
      "metadata": {
        "_uuid": "06872818-a411-47a2-a054-faa534b2f0b8",
        "_cell_guid": "01e18108-a024-4e90-a0fa-996a3c40960a",
        "trusted": true,
        "id": "GmrLKi0dsIuj",
        "colab_type": "code",
        "outputId": "01ca0f12-829a-4ccf-8928-aff9ddf9d28c",
        "colab": {
          "base_uri": "https://localhost:8080/",
          "height": 34
        }
      },
      "source": [
        "X_matrix_train_port = matrix_Vector_All_Words_Port[:trainPort.shape[0]]\n",
        "X_matrix_test_port = matrix_Vector_All_Words_Port[trainPort.shape[0]:]\n",
        "print(\"O dataset de treino portuguese tera um tamanho de {} e o dataset de test de {}\".format(X_matrix_train_port.shape, X_matrix_test_port.shape))"
      ],
      "execution_count": 46,
      "outputs": [
        {
          "output_type": "stream",
          "text": [
            "O dataset de treino portuguese tera um tamanho de (250000, 17061) e o dataset de test de (121968, 17061)\n"
          ],
          "name": "stdout"
        }
      ]
    },
    {
      "cell_type": "code",
      "metadata": {
        "_uuid": "71feb125-446b-4882-b5c1-73cb23eccf7c",
        "_cell_guid": "8a426e23-39ed-42b7-81c3-5a37b253ac19",
        "trusted": true,
        "id": "nkBPHAhtsIum",
        "colab_type": "code",
        "outputId": "08ebe188-6790-4e11-f1ae-8d09b24a1a20",
        "colab": {
          "base_uri": "https://localhost:8080/",
          "height": 34
        }
      },
      "source": [
        "X_matrix_train_spa = matrix_Vector_All_Words_Spa[:trainSpa.shape[0]]\n",
        "X_matrix_test_spa = matrix_Vector_All_Words_Spa[trainSpa.shape[0]:]\n",
        "print(\"O dataset de treino spanish tera um tamanho de {} e o dataset de test de {}\".format(X_matrix_train_spa.shape, X_matrix_test_spa.shape))"
      ],
      "execution_count": 47,
      "outputs": [
        {
          "output_type": "stream",
          "text": [
            "O dataset de treino spanish tera um tamanho de (250000, 18211) e o dataset de test de (124987, 18211)\n"
          ],
          "name": "stdout"
        }
      ]
    },
    {
      "cell_type": "markdown",
      "metadata": {
        "_uuid": "344e12b3-7caf-4a60-93eb-ae4bff716f08",
        "_cell_guid": "66530e95-cf7e-49e6-94d9-ec2ccced5cf5",
        "trusted": true,
        "id": "XJLkz3mosIuo",
        "colab_type": "text"
      },
      "source": [
        "### Category Feature Scaling\n",
        "\n",
        "  - Utilizando a biblioteca Keras to_categorical para converter a target variable em uma matriz binária."
      ]
    },
    {
      "cell_type": "code",
      "metadata": {
        "_uuid": "96b9f37a-0b13-4c65-ac87-0f8d7b294a79",
        "_cell_guid": "71507ce0-7539-4852-8a89-06595acfff10",
        "trusted": true,
        "id": "rolY0wInsIuq",
        "colab_type": "code",
        "outputId": "cbff6aec-0fce-4689-fca9-0e7e7cba71fd",
        "colab": {
          "base_uri": "https://localhost:8080/",
          "height": 34
        }
      },
      "source": [
        "target_names_port = trainPort['category'].unique()\n",
        "target_dict_port = {n:i for i, n in enumerate(target_names_port)}\n",
        "#len(target_names_port)\n",
        "\n",
        "target_names_spa = trainSpa['category'].unique()\n",
        "target_dict_spa = {n:i for i, n in enumerate(target_names_spa)}\n",
        "#len(target_names_spa)\n",
        "\n",
        "y_port = trainPort['category'].map(target_dict_port)\n",
        "y_spa = trainSpa['category'].map(target_dict_spa)\n",
        "\n",
        "y_cat_port = to_categorical(y_port)\n",
        "y_cat_spa = to_categorical(y_spa)\n",
        "\n",
        "print(\"Target dataset portuguese have a size: {} and the dataset spanish: {}\".format(y_cat_port.shape, y_cat_spa.shape))"
      ],
      "execution_count": 48,
      "outputs": [
        {
          "output_type": "stream",
          "text": [
            "Target dataset portuguese have a size: (250000, 1571) and the dataset spanish: (250000, 1570)\n"
          ],
          "name": "stdout"
        }
      ]
    },
    {
      "cell_type": "code",
      "metadata": {
        "id": "OYGATfA2LrWc",
        "colab_type": "code",
        "colab": {}
      },
      "source": [
        ""
      ],
      "execution_count": 0,
      "outputs": []
    },
    {
      "cell_type": "code",
      "metadata": {
        "id": "DVxsG6kg9olP",
        "colab_type": "code",
        "colab": {}
      },
      "source": [
        ""
      ],
      "execution_count": 0,
      "outputs": []
    },
    {
      "cell_type": "markdown",
      "metadata": {
        "id": "oYezPw0G9o_F",
        "colab_type": "text"
      },
      "source": [
        "### Training\n",
        "\n",
        "  - Function Plot Learning Curves: used for plot Learning Curves and improve the performance of algorithms\n",
        "  - "
      ]
    },
    {
      "cell_type": "code",
      "metadata": {
        "_uuid": "ce046da7-e705-40ec-856e-974601ec8d06",
        "_cell_guid": "781911b6-f429-485f-a5d5-eac7bafd7041",
        "trusted": true,
        "id": "QgshQw99sIrk",
        "colab_type": "code",
        "colab": {}
      },
      "source": [
        "def plotLearningCurves(history):\n",
        "    # list all data in history\n",
        "    print(history.history.keys())\n",
        "    # summarize history for accuracy\n",
        "    plt.figure(figsize=(10,5))\n",
        "    plt.subplot(1, 2, 1)\n",
        "    plt.plot(history.history['acc'])\n",
        "    plt.plot(history.history['val_acc'])\n",
        "    plt.title('model accuracy')\n",
        "    plt.ylabel('accuracy')\n",
        "    plt.xlabel('epoch')\n",
        "    plt.legend(['train', 'test'], loc='upper left')\n",
        "   \n",
        "    \n",
        "    # summarize history for loss\n",
        "    plt.subplot(1, 2, 2)\n",
        "    plt.plot(history.history['loss'])\n",
        "    plt.plot(history.history['val_loss'])\n",
        "    plt.title('model loss')\n",
        "    plt.ylabel('loss')\n",
        "    plt.xlabel('epoch')\n",
        "    plt.legend(['train', 'test'], loc='upper left')\n",
        "    \n",
        "    plt.tight_layout()\n",
        "    \n",
        "    plt.show()"
      ],
      "execution_count": 0,
      "outputs": []
    },
    {
      "cell_type": "markdown",
      "metadata": {
        "_uuid": "625472d9-7da0-4481-a6a1-470e9a8460be",
        "_cell_guid": "1cb452ab-8ca1-4d4b-a038-904fed7f4f63",
        "trusted": true,
        "id": "l-fFodFIsIvC",
        "colab_type": "text"
      },
      "source": [
        "## Training Models\n",
        "\n",
        "  - Função para criar o modelo de rede neural.\n",
        "  - Treinamento dos modelo de cada linguagem.\n",
        "  - Geração das previsões para submissão."
      ]
    },
    {
      "cell_type": "code",
      "metadata": {
        "_uuid": "17e25d2f-60f1-4f02-854c-8f9725cb1b1c",
        "_cell_guid": "a7f00992-eb1b-486b-a096-1cfc2b7670fe",
        "trusted": true,
        "id": "HZS3leHFsIvD",
        "colab_type": "code",
        "colab": {}
      },
      "source": [
        "def createModel (inputSize, outputSize):\n",
        "    #K.clear_session()\n",
        "\n",
        "    model = Sequential()\n",
        "    model.add(Dense(outputSize, input_shape=(inputSize,), activation='softmax'))\n",
        "    #model.add(Dense(2048, activation='softmax'))\n",
        "    #model.add(Dense(outputSize, activation='softmax'))\n",
        "    model.compile(loss='categorical_crossentropy', optimizer=Adam(lr=1), metrics=['accuracy'])\n",
        "    \n",
        "    return model"
      ],
      "execution_count": 0,
      "outputs": []
    },
    {
      "cell_type": "markdown",
      "metadata": {
        "id": "EuTKJXQR_2FK",
        "colab_type": "text"
      },
      "source": [
        "**Model Portuguese**"
      ]
    },
    {
      "cell_type": "code",
      "metadata": {
        "_uuid": "58c5504a-aa16-4f1b-9c0e-7ffa4c2c4676",
        "_cell_guid": "b92480be-bb6c-4eac-a603-c6b72f169279",
        "trusted": true,
        "id": "zY5sR7vMsIvF",
        "colab_type": "code",
        "outputId": "5b5d0feb-56d9-410f-f6b3-62b49ae9b3a9",
        "colab": {
          "base_uri": "https://localhost:8080/",
          "height": 204
        }
      },
      "source": [
        "modelPort = createModel( X_matrix_train_port.shape[1], y_cat_port.shape[1])\n",
        "historyPort = modelPort.fit(X_matrix_train_port, y_cat_port, epochs=5, verbose=1, validation_split=0.18)"
      ],
      "execution_count": 51,
      "outputs": [
        {
          "output_type": "stream",
          "text": [
            "Train on 205000 samples, validate on 45000 samples\n",
            "Epoch 1/5\n",
            "205000/205000 [==============================] - 238s 1ms/step - loss: 4.4834 - acc: 0.6625 - val_loss: 4.1115 - val_acc: 0.7157\n",
            "Epoch 2/5\n",
            "205000/205000 [==============================] - 237s 1ms/step - loss: 3.5264 - acc: 0.7623 - val_loss: 3.9522 - val_acc: 0.7329\n",
            "Epoch 3/5\n",
            "205000/205000 [==============================] - 236s 1ms/step - loss: 3.2618 - acc: 0.7845 - val_loss: 3.8303 - val_acc: 0.7443\n",
            "Epoch 4/5\n",
            "205000/205000 [==============================] - 235s 1ms/step - loss: 3.1034 - acc: 0.7973 - val_loss: 3.7449 - val_acc: 0.7520\n",
            "Epoch 5/5\n",
            "205000/205000 [==============================] - 236s 1ms/step - loss: 2.9859 - acc: 0.8064 - val_loss: 3.7286 - val_acc: 0.7546\n"
          ],
          "name": "stdout"
        }
      ]
    },
    {
      "cell_type": "code",
      "metadata": {
        "id": "vAkqVtLxQTEf",
        "colab_type": "code",
        "outputId": "752ede33-50c7-4d25-c3e4-f4068002bb35",
        "colab": {
          "base_uri": "https://localhost:8080/",
          "height": 386
        }
      },
      "source": [
        "plotLearningCurves(historyPort)"
      ],
      "execution_count": 54,
      "outputs": [
        {
          "output_type": "stream",
          "text": [
            "dict_keys(['val_loss', 'val_acc', 'loss', 'acc'])\n"
          ],
          "name": "stdout"
        },
        {
          "output_type": "display_data",
          "data": {
            "image/png": "[encoded data removed]",
            "text/plain": [
              "<Figure size 720x360 with 2 Axes>"
            ]
          },
          "metadata": {
            "tags": []
          }
        }
      ]
    },
    {
      "cell_type": "markdown",
      "metadata": {
        "id": "GczOc9XwDwPX",
        "colab_type": "text"
      },
      "source": [
        "Predict test dataframe"
      ]
    },
    {
      "cell_type": "code",
      "metadata": {
        "_uuid": "4e252146-a2e1-4648-bf60-1d99d2b3c96c",
        "_cell_guid": "043d5a40-ffb1-491e-80ed-a9ba5c54b4dd",
        "trusted": true,
        "id": "mIJEl_lGsIvS",
        "colab_type": "code",
        "colab": {}
      },
      "source": [
        "result_port = modelPort.predict(X_matrix_test_port)"
      ],
      "execution_count": 0,
      "outputs": []
    },
    {
      "cell_type": "markdown",
      "metadata": {
        "id": "HgJATaW9_wYx",
        "colab_type": "text"
      },
      "source": [
        "**Model Spanish**"
      ]
    },
    {
      "cell_type": "code",
      "metadata": {
        "_uuid": "f62b0340-2b84-4f55-9464-55bfe2078f73",
        "_cell_guid": "1422a377-ed60-401b-9f40-176d27773ad9",
        "trusted": true,
        "id": "OaYLcVLIsIvX",
        "colab_type": "code",
        "outputId": "4b65c5fa-39fb-413a-c61d-a4491c430bbb",
        "colab": {
          "base_uri": "https://localhost:8080/",
          "height": 204
        }
      },
      "source": [
        "modelSpa = createModel( X_matrix_train_spa.shape[1], y_cat_spa.shape[1])\n",
        "historySpa = modelSpa.fit(X_matrix_train_spa, y_cat_spa, epochs=5, verbose=1, validation_split=0.18)"
      ],
      "execution_count": 56,
      "outputs": [
        {
          "output_type": "stream",
          "text": [
            "Train on 205000 samples, validate on 45000 samples\n",
            "Epoch 1/5\n",
            "205000/205000 [==============================] - 249s 1ms/step - loss: 4.5640 - acc: 0.6531 - val_loss: 4.1626 - val_acc: 0.7093\n",
            "Epoch 2/5\n",
            "205000/205000 [==============================] - 248s 1ms/step - loss: 3.5830 - acc: 0.7570 - val_loss: 3.9947 - val_acc: 0.7287\n",
            "Epoch 3/5\n",
            "205000/205000 [==============================] - 248s 1ms/step - loss: 3.2599 - acc: 0.7833 - val_loss: 3.8936 - val_acc: 0.7384\n",
            "Epoch 4/5\n",
            "205000/205000 [==============================] - 248s 1ms/step - loss: 3.0836 - acc: 0.7970 - val_loss: 3.8401 - val_acc: 0.7419\n",
            "Epoch 5/5\n",
            "205000/205000 [==============================] - 248s 1ms/step - loss: 2.9489 - acc: 0.8078 - val_loss: 3.7836 - val_acc: 0.7487\n"
          ],
          "name": "stdout"
        }
      ]
    },
    {
      "cell_type": "code",
      "metadata": {
        "_uuid": "328d0023-4cc2-49fd-8830-2f48d4a69e47",
        "_cell_guid": "e60e064d-0c0b-4453-a9d1-ff1fa0c741d3",
        "trusted": true,
        "id": "GCVC4S_GsIvZ",
        "colab_type": "code",
        "outputId": "fcdbefea-cc5b-49d5-ea15-807a060771c8",
        "colab": {
          "base_uri": "https://localhost:8080/",
          "height": 386
        }
      },
      "source": [
        "plotLearningCurves(historySpa)"
      ],
      "execution_count": 57,
      "outputs": [
        {
          "output_type": "stream",
          "text": [
            "dict_keys(['val_loss', 'val_acc', 'loss', 'acc'])\n"
          ],
          "name": "stdout"
        },
        {
          "output_type": "display_data",
          "data": {
            "image/png": "[encoded data removed]",
            "text/plain": [
              "<Figure size 720x360 with 2 Axes>"
            ]
          },
          "metadata": {
            "tags": []
          }
        }
      ]
    },
    {
      "cell_type": "code",
      "metadata": {
        "_uuid": "99ed3acf-9ce7-4569-b491-999bad1c98c8",
        "_cell_guid": "53c60f6d-74d5-4f71-9861-07143a01959b",
        "trusted": true,
        "id": "O61QRTnCsIvb",
        "colab_type": "code",
        "colab": {}
      },
      "source": [
        "result_spa = modelSpa.predict(X_matrix_test_spa)"
      ],
      "execution_count": 0,
      "outputs": []
    },
    {
      "cell_type": "markdown",
      "metadata": {
        "_uuid": "3a6e1ff1-a6e9-4d09-88a7-bb909cf2fe56",
        "_cell_guid": "ae1a56a2-93e3-4e98-bc56-ae4aefb9d9f7",
        "trusted": true,
        "id": "B5MDx-jYsIvl",
        "colab_type": "text"
      },
      "source": [
        "### Making Results\n",
        "  - A matriz de previsões geradas será convertida em um array de códigos e então mapeadas para os nomes da categoria. Então serão vinculadas com o id da publicação e gerado o arquivo de submissão csv utilizado no desafio. "
      ]
    },
    {
      "cell_type": "code",
      "metadata": {
        "_uuid": "2912df4b-d8cd-4bcc-bd1e-3fdf52f175e4",
        "_cell_guid": "88c0953e-486d-40d2-8294-d633fa6b1b28",
        "trusted": true,
        "id": "M5h7a8xgsIvs",
        "colab_type": "code",
        "colab": {}
      },
      "source": [
        "result_test_port = np.argmax(result_port, axis=1)\n",
        "result_test_spa = np.argmax(result_spa, axis=1)"
      ],
      "execution_count": 0,
      "outputs": []
    },
    {
      "cell_type": "code",
      "metadata": {
        "_uuid": "62674013-cbca-4f64-a88f-b433f022e4d8",
        "_cell_guid": "0826731c-1526-498b-9d52-4229281df218",
        "trusted": true,
        "id": "PyQyiGvPsIvu",
        "colab_type": "code",
        "colab": {}
      },
      "source": [
        "testPortuguese['category'] = result_test_port\n",
        "testSpanish['category'] = result_test_spa"
      ],
      "execution_count": 0,
      "outputs": []
    },
    {
      "cell_type": "code",
      "metadata": {
        "_uuid": "1cacbfb1-4f70-4434-94c5-c2d1828bc8c2",
        "_cell_guid": "ddf56cef-d5e2-42e4-ae22-974f9516c166",
        "trusted": true,
        "id": "7D7tFPQXsIvw",
        "colab_type": "code",
        "colab": {}
      },
      "source": [
        "target_dict_port_inv = dict(map(reversed, target_dict_port.items()))\n",
        "testPortuguese['category'] = testPortuguese['category'].map(target_dict_port_inv)"
      ],
      "execution_count": 0,
      "outputs": []
    },
    {
      "cell_type": "code",
      "metadata": {
        "_uuid": "ab34e84b-d74d-4528-8644-2113bcc983e0",
        "_cell_guid": "db2d8dfb-a088-451e-b8d4-8093a6db3f92",
        "trusted": true,
        "id": "ZjvFFYlssIvx",
        "colab_type": "code",
        "colab": {}
      },
      "source": [
        "target_dict_spa_inv = dict(map(reversed, target_dict_spa.items()))\n",
        "testSpanish['category'] = testSpanish['category'].map(target_dict_spa_inv)"
      ],
      "execution_count": 0,
      "outputs": []
    },
    {
      "cell_type": "code",
      "metadata": {
        "_uuid": "2925bcf5-cba2-4d14-b032-d3df923c2f19",
        "_cell_guid": "ac89cae4-1787-44ee-a2f2-28648fc5ebe8",
        "trusted": true,
        "id": "W_NomSQ_sIwA",
        "colab_type": "code",
        "colab": {
          "base_uri": "https://localhost:8080/",
          "height": 204
        },
        "outputId": "7fbc870b-cbf3-4e08-8e5c-d54f869f7eab"
      },
      "source": [
        "submission = testPortuguese[['category']]\n",
        "submission = submission.append(testSpanish[['category']])\n",
        "submission['id'] = submission.index\n",
        "submission1 = submission[['id','category']]\n",
        "submission1.head()\n"
      ],
      "execution_count": 64,
      "outputs": [
        {
          "output_type": "execute_result",
          "data": {
            "text/html": [
              "<div>\n",
              "<style scoped>\n",
              "    .dataframe tbody tr th:only-of-type {\n",
              "        vertical-align: middle;\n",
              "    }\n",
              "\n",
              "    .dataframe tbody tr th {\n",
              "        vertical-align: top;\n",
              "    }\n",
              "\n",
              "    .dataframe thead th {\n",
              "        text-align: right;\n",
              "    }\n",
              "</style>\n",
              "<table border=\"1\" class=\"dataframe\">\n",
              "  <thead>\n",
              "    <tr style=\"text-align: right;\">\n",
              "      <th></th>\n",
              "      <th>id</th>\n",
              "      <th>category</th>\n",
              "    </tr>\n",
              "  </thead>\n",
              "  <tbody>\n",
              "    <tr>\n",
              "      <th>0</th>\n",
              "      <td>0</td>\n",
              "      <td>DIAPER_BAGS</td>\n",
              "    </tr>\n",
              "    <tr>\n",
              "      <th>1</th>\n",
              "      <td>1</td>\n",
              "      <td>BABY_DIAPERS</td>\n",
              "    </tr>\n",
              "    <tr>\n",
              "      <th>2</th>\n",
              "      <td>2</td>\n",
              "      <td>STARTERS</td>\n",
              "    </tr>\n",
              "    <tr>\n",
              "      <th>3</th>\n",
              "      <td>3</td>\n",
              "      <td>AUTOMOTIVE_SHOCK_ABSORBER_BUMP_STOPS</td>\n",
              "    </tr>\n",
              "    <tr>\n",
              "      <th>4</th>\n",
              "      <td>4</td>\n",
              "      <td>BABY_CAR_SEATS</td>\n",
              "    </tr>\n",
              "  </tbody>\n",
              "</table>\n",
              "</div>"
            ],
            "text/plain": [
              "   id                              category\n",
              "0   0                           DIAPER_BAGS\n",
              "1   1                          BABY_DIAPERS\n",
              "2   2                              STARTERS\n",
              "3   3  AUTOMOTIVE_SHOCK_ABSORBER_BUMP_STOPS\n",
              "4   4                        BABY_CAR_SEATS"
            ]
          },
          "metadata": {
            "tags": []
          },
          "execution_count": 64
        }
      ]
    },
    {
      "cell_type": "code",
      "metadata": {
        "_uuid": "b79d2202-ea4c-4290-9574-78fa90c99006",
        "_cell_guid": "f64b9f79-6ee7-43ba-b43a-88342e2c048a",
        "trusted": true,
        "id": "O5ZK4rT6sIwI",
        "colab_type": "code",
        "colab": {}
      },
      "source": [
        "submission1.to_csv('submission.csv', index=False)"
      ],
      "execution_count": 0,
      "outputs": []
    },
    {
      "cell_type": "code",
      "metadata": {
        "id": "9t6h-qgJuFfu",
        "colab_type": "code",
        "colab": {}
      },
      "source": [
        "#for dirname, _, filenames in os.walk('/content'):\n",
        "#    for filename in filenames:\n",
        "#        print(os.path.join(dirname, filename))"
      ],
      "execution_count": 0,
      "outputs": []
    },
    {
      "cell_type": "markdown",
      "metadata": {
        "id": "3nvBPD3IJZhc",
        "colab_type": "text"
      },
      "source": [
        "Como a execução foi realizada no Google Colab é necessário fazer o download do arquivo."
      ]
    },
    {
      "cell_type": "code",
      "metadata": {
        "id": "utK8nzFquSTW",
        "colab_type": "code",
        "colab": {}
      },
      "source": [
        "from google.colab import files\n",
        "\n",
        "os.chdir(r'/content')\n",
        "\n",
        "files.download('submission.csv')"
      ],
      "execution_count": 0,
      "outputs": []
    }
  ]
}